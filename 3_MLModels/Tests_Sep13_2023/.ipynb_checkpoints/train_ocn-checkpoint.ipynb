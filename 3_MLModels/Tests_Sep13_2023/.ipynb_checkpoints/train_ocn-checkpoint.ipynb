{
 "cells": [
  {
   "cell_type": "code",
   "execution_count": 1,
   "id": "3c99eff4-125a-49ef-afaf-558b0df7144d",
   "metadata": {},
   "outputs": [
    {
     "name": "stderr",
     "output_type": "stream",
     "text": [
      "2023-09-13 02:08:16.589048: I tensorflow/stream_executor/platform/default/dso_loader.cc:49] Successfully opened dynamic library libcudart.so.10.1\n",
      "/glade/work/jhayron/conda-envs/cnn_wr/lib/python3.9/site-packages/tqdm/auto.py:22: TqdmWarning: IProgress not found. Please update jupyter and ipywidgets. See https://ipywidgets.readthedocs.io/en/stable/user_install.html\n",
      "  from .autonotebook import tqdm as notebook_tqdm\n"
     ]
    }
   ],
   "source": [
    "import numpy as np\n",
    "import xarray as xr\n",
    "import pandas as pd\n",
    "import copy\n",
    "from datetime import datetime, timedelta\n",
    "from keras.utils import to_categorical\n",
    "# import visualkeras\n",
    "# import tensorflow as tf\n",
    "from sklearn.metrics import balanced_accuracy_score\n",
    "import optuna\n",
    "from optuna.samplers import TPESampler\n",
    "import keras\n",
    "from keras.callbacks import ModelCheckpoint\n",
    "from sklearn.utils.class_weight import compute_class_weight\n",
    "import sys\n",
    "import os\n",
    "import joblib\n",
    "import matplotlib.pyplot as plt\n",
    "from sklearn.preprocessing import MinMaxScaler"
   ]
  },
  {
   "cell_type": "code",
   "execution_count": 2,
   "id": "dc3de435-d5d1-4c9f-a3ae-8cb02b3823d9",
   "metadata": {},
   "outputs": [],
   "source": [
    "sys.path.append(\"/glade/u/home/jhayron/WR_Predictability/3_MLModels/\")\n",
    "from model_builders_v2 import *"
   ]
  },
  {
   "cell_type": "markdown",
   "id": "af3c43fd-d289-4bab-b0e0-7a67ddcc3861",
   "metadata": {
    "tags": []
   },
   "source": [
    "## Helper functions"
   ]
  },
  {
   "cell_type": "code",
   "execution_count": 3,
   "id": "d65e0089-54e7-4056-9265-2504ea04161d",
   "metadata": {},
   "outputs": [],
   "source": [
    "\n",
    "def create_tf_datasets(input_data, output_data):\n",
    "    # Convert xarray dataset to numpy array for TensorFlow Dataset\n",
    "    input_images = input_data.transpose('time', 'lat', 'lon','channel').values\n",
    "    output_one_hot = output_data.values\n",
    "\n",
    "    # Create TensorFlow Datasets\n",
    "    input_dataset = tf.data.Dataset.from_tensor_slices(input_images)\n",
    "    output_dataset = tf.data.Dataset.from_tensor_slices(output_one_hot)\n",
    "\n",
    "    # Combine input and output datasets into a joint dataset\n",
    "    joint_dataset = tf.data.Dataset.zip((input_dataset, output_dataset))\n",
    "\n",
    "    return (input_images,output_one_hot)\n",
    "\n",
    "def create_datasets(input_anoms, var_name, df_shifts, week_out):\n",
    "# Assuming you have the xarray.Dataset 'input_data' and the pandas.Series 'output_data'\n",
    "    input_data = copy.deepcopy(input_anoms[var_name])\n",
    "\n",
    "    array_temp = input_data.data\n",
    "    array_temp[np.isfinite(array_temp)==False]=0\n",
    "    input_data.data = array_temp\n",
    "\n",
    "#     input_data = (input_data - input_data.mean('time')) / (input_data.std('time'))\n",
    "    \n",
    "#     input_data[np.isfinite(array_temp)==False] = 0\n",
    "    \n",
    "    # Reshape the data to add a new dimension\n",
    "    values_reshaped = input_data.values.reshape(input_data.shape[0], input_data.shape[1], input_data.shape[2], 1)\n",
    "\n",
    "    # Create a new xarray.DataArray with the reshaped data and the original coordinates\n",
    "    input_data = xr.DataArray(values_reshaped, coords=input_data.coords, dims=('time', 'lat', 'lon', 'channel'))\n",
    "    output_data = copy.deepcopy(df_shifts[f'week{week_out}']).dropna()\n",
    "\n",
    "    # Step 1: Create a common date index that includes all dates in both the input and output data\n",
    "    common_dates = np.intersect1d(input_data['time'].values, output_data.index)\n",
    "\n",
    "    # Step 2: Reindex the input xarray dataset and the output DataFrame to the common date index\n",
    "    input_data = input_data.sel(time=common_dates)\n",
    "    output_data = output_data.loc[common_dates]\n",
    "\n",
    "    # Step 3: One-hot encode the output DataFrame using to_categorical\n",
    "    num_classes = len(output_data.unique())  # Number of classes (number of weeks in this case)\n",
    "    output_data_encoded = to_categorical(output_data, num_classes=num_classes)\n",
    "    output_data_encoded = pd.DataFrame(output_data_encoded,index=output_data.index)\n",
    "\n",
    "    # Step 4: Create masks for training, validation, and testing periods\n",
    "    train_mask = (output_data.index >= '1980-01-01') & (output_data.index <= '2010-12-31')\n",
    "    val_mask = (output_data.index >= '2011-01-01') & (output_data.index <= '2015-12-31')\n",
    "    test_mask = (output_data.index >= '2016-01-01') & (output_data.index <= '2020-12-31')\n",
    "\n",
    "    # Step 5: Split the input xarray dataset and the output DataFrame into subsets\n",
    "    input_train = input_data.sel(time=train_mask)\n",
    "    input_val = input_data.sel(time=val_mask)\n",
    "    input_test = input_data.sel(time=test_mask)\n",
    "\n",
    "    output_train = output_data_encoded.loc[train_mask]\n",
    "    output_val = output_data_encoded.loc[val_mask]\n",
    "    output_test = output_data_encoded.loc[test_mask]\n",
    "\n",
    "    train_joint_dataset = create_tf_datasets(input_train, output_train)\n",
    "    val_joint_dataset = create_tf_datasets(input_val, output_val)\n",
    "    test_joint_dataset = create_tf_datasets(input_test, output_test)\n",
    "\n",
    "    # buffer_size = train_joint_dataset.cardinality()\n",
    "    # train_joint_dataset = train_joint_dataset.shuffle(buffer_size)\n",
    "    return train_joint_dataset, val_joint_dataset, test_joint_dataset\n",
    "\n",
    "def get_output_from_dataset(dataset):\n",
    "    output_array = []\n",
    "    for input_data, output_data in dataset.as_numpy_iterator():\n",
    "        output_array.append(output_data)\n",
    "\n",
    "    # Convert the list of NumPy arrays into a single NumPy array\n",
    "    output_array = np.array(output_array)\n",
    "    return output_array\n",
    "\n",
    "def balanced_accuracy(y_true, y_pred):\n",
    "    y_true = tf.argmax(y_true, axis=1)\n",
    "    y_pred = tf.argmax(y_pred, axis=1)\n",
    "    return tf.py_function(balanced_accuracy_score, (y_true, y_pred), tf.float32)\n",
    "\n",
    "def logging_callback(study, frozen_trial):\n",
    "    previous_best_value = study.user_attrs.get(\"previous_best_value\", None)\n",
    "    if previous_best_value != study.best_value:\n",
    "        study.set_user_attr(\"previous_best_value\", study.best_value)\n",
    "        print(\n",
    "            \"Trial {} finished with best value: {} and parameters: {}. \".format(\n",
    "            frozen_trial.number,\n",
    "            frozen_trial.value,\n",
    "            frozen_trial.params,\n",
    "            )\n",
    "        )"
   ]
  },
  {
   "cell_type": "code",
   "execution_count": 4,
   "id": "a26d5758-dfcf-475f-ab31-1b2e14c0c40a",
   "metadata": {},
   "outputs": [],
   "source": [
    "def create_datasets_multichannel(input_data, df_shifts, week_out):\n",
    "# Assuming you have the xarray.Dataset 'input_data' and the pandas.Series 'output_data'\n",
    "\n",
    "    # Create a new xarray.DataArray with the reshaped data and the original coordinates\n",
    "    output_data = copy.deepcopy(df_shifts[f'week{week_out}']).dropna()\n",
    "\n",
    "    # Step 1: Create a common date index that includes all dates in both the input and output data\n",
    "    common_dates = np.intersect1d(input_data['time'].values, output_data.index)\n",
    "\n",
    "    # Step 2: Reindex the input xarray dataset and the output DataFrame to the common date index\n",
    "    input_data = input_data.sel(time=common_dates)\n",
    "    output_data = output_data.loc[common_dates]\n",
    "\n",
    "    # Step 3: One-hot encode the output DataFrame using to_categorical\n",
    "    num_classes = len(output_data.unique())  # Number of classes (number of weeks in this case)\n",
    "    output_data_encoded = to_categorical(output_data, num_classes=num_classes)\n",
    "    output_data_encoded = pd.DataFrame(output_data_encoded,index=output_data.index)\n",
    "\n",
    "    # Step 4: Create masks for training, validation, and testing periods\n",
    "    train_mask = (output_data.index >= '1980-01-01') & (output_data.index <= '2010-12-31')\n",
    "    val_mask = (output_data.index >= '2011-01-01') & (output_data.index <= '2015-12-31')\n",
    "    test_mask = (output_data.index >= '2016-01-01') & (output_data.index <= '2020-12-31')\n",
    "\n",
    "    # Step 5: Split the input xarray dataset and the output DataFrame into subsets\n",
    "    input_train = input_data.sel(time=train_mask)\n",
    "    input_val = input_data.sel(time=val_mask)\n",
    "    input_test = input_data.sel(time=test_mask)\n",
    "\n",
    "    output_train = output_data_encoded.loc[train_mask]\n",
    "    output_val = output_data_encoded.loc[val_mask]\n",
    "    output_test = output_data_encoded.loc[test_mask]\n",
    "\n",
    "    train_joint_dataset = create_tf_datasets(input_train, output_train)\n",
    "    val_joint_dataset = create_tf_datasets(input_val, output_val)\n",
    "    test_joint_dataset = create_tf_datasets(input_test, output_test)\n",
    "\n",
    "    return train_joint_dataset, val_joint_dataset, test_joint_dataset"
   ]
  },
  {
   "cell_type": "code",
   "execution_count": 5,
   "id": "3c0ddb5b-ddc0-4a0e-8c68-9f1946d2b371",
   "metadata": {},
   "outputs": [],
   "source": [
    "def normalize_data_with_scaling(data, start_year, end_year):\n",
    "    # Define a normalization function\n",
    "    def normalize_pixel(pixel):\n",
    "        return (pixel - min_value) / (max_value - min_value)\n",
    "\n",
    "    # Create an empty DataArray to store the scaling parameters (min and max) for each pixel and channel\n",
    "    scaling_params = xr.DataArray(np.nan, dims=(\"lat\", \"lon\", \"channel\", \"parameter\"), \n",
    "                                  coords={\"lat\": data.lat, \"lon\": data.lon, \n",
    "                                          \"channel\": data.channel, \"parameter\": [\"min\", \"max\"]})\n",
    "\n",
    "    # Normalize the data using the MinMaxScalers and scaling parameters\n",
    "    normalized_data = data.copy()\n",
    "\n",
    "    # Initialize a dictionary to store MinMaxScalers for each pixel and channel\n",
    "    for channel in data.channel:\n",
    "        data_channel = data.sel(channel=channel)\n",
    "        years_for_scaling = data_channel.sel(time=slice(f\"{start_year}-01-01\", f\"{end_year}-12-31\"))\n",
    "        # Define the min and max values for normalization\n",
    "        min_value = years_for_scaling.min(dim='time')\n",
    "        max_value = years_for_scaling.max(dim='time')\n",
    "        \n",
    "        # Apply the normalization function to each pixel along the 'time' dimension\n",
    "        normalized_data_channel = normalize_pixel(data_channel).values\n",
    "        normalized_data_channel[np.isfinite(normalized_data_channel)==False]=0\n",
    "        normalized_data.loc[dict(channel=channel)] = normalized_data_channel\n",
    "        \n",
    "    return normalized_data"
   ]
  },
  {
   "cell_type": "code",
   "execution_count": 6,
   "id": "c479563a-1e9e-4926-b735-a3ea74f46c68",
   "metadata": {},
   "outputs": [
    {
     "name": "stdout",
     "output_type": "stream",
     "text": [
      "Num GPUs Available:  4\n"
     ]
    },
    {
     "name": "stderr",
     "output_type": "stream",
     "text": [
      "2023-09-13 02:08:22.753173: I tensorflow/compiler/jit/xla_cpu_device.cc:41] Not creating XLA devices, tf_xla_enable_xla_devices not set\n",
      "2023-09-13 02:08:22.754597: I tensorflow/stream_executor/platform/default/dso_loader.cc:49] Successfully opened dynamic library libcuda.so.1\n",
      "2023-09-13 02:08:22.790065: I tensorflow/core/common_runtime/gpu/gpu_device.cc:1720] Found device 0 with properties: \n",
      "pciBusID: 0000:3d:00.0 name: Tesla V100-SXM2-32GB computeCapability: 7.0\n",
      "coreClock: 1.53GHz coreCount: 80 deviceMemorySize: 31.75GiB deviceMemoryBandwidth: 836.37GiB/s\n",
      "2023-09-13 02:08:22.790588: I tensorflow/core/common_runtime/gpu/gpu_device.cc:1720] Found device 1 with properties: \n",
      "pciBusID: 0000:3e:00.0 name: Tesla V100-SXM2-32GB computeCapability: 7.0\n",
      "coreClock: 1.53GHz coreCount: 80 deviceMemorySize: 31.75GiB deviceMemoryBandwidth: 836.37GiB/s\n",
      "2023-09-13 02:08:22.791077: I tensorflow/core/common_runtime/gpu/gpu_device.cc:1720] Found device 2 with properties: \n",
      "pciBusID: 0000:1a:00.0 name: Tesla V100-SXM2-32GB computeCapability: 7.0\n",
      "coreClock: 1.53GHz coreCount: 80 deviceMemorySize: 31.75GiB deviceMemoryBandwidth: 836.37GiB/s\n",
      "2023-09-13 02:08:22.791609: I tensorflow/core/common_runtime/gpu/gpu_device.cc:1720] Found device 3 with properties: \n",
      "pciBusID: 0000:1b:00.0 name: Tesla V100-SXM2-32GB computeCapability: 7.0\n",
      "coreClock: 1.53GHz coreCount: 80 deviceMemorySize: 31.75GiB deviceMemoryBandwidth: 836.37GiB/s\n",
      "2023-09-13 02:08:22.791647: I tensorflow/stream_executor/platform/default/dso_loader.cc:49] Successfully opened dynamic library libcudart.so.10.1\n",
      "2023-09-13 02:08:22.794438: I tensorflow/stream_executor/platform/default/dso_loader.cc:49] Successfully opened dynamic library libcublas.so.10\n",
      "2023-09-13 02:08:22.794502: I tensorflow/stream_executor/platform/default/dso_loader.cc:49] Successfully opened dynamic library libcublasLt.so.10\n",
      "2023-09-13 02:08:22.796900: I tensorflow/stream_executor/platform/default/dso_loader.cc:49] Successfully opened dynamic library libcufft.so.10\n",
      "2023-09-13 02:08:22.797333: I tensorflow/stream_executor/platform/default/dso_loader.cc:49] Successfully opened dynamic library libcurand.so.10\n",
      "2023-09-13 02:08:22.799895: I tensorflow/stream_executor/platform/default/dso_loader.cc:49] Successfully opened dynamic library libcusolver.so.10\n",
      "2023-09-13 02:08:22.801224: I tensorflow/stream_executor/platform/default/dso_loader.cc:49] Successfully opened dynamic library libcusparse.so.10\n",
      "2023-09-13 02:08:22.806046: I tensorflow/stream_executor/platform/default/dso_loader.cc:49] Successfully opened dynamic library libcudnn.so.7\n",
      "2023-09-13 02:08:22.847771: I tensorflow/core/common_runtime/gpu/gpu_device.cc:1862] Adding visible gpu devices: 0, 1, 2, 3\n"
     ]
    }
   ],
   "source": [
    "import warnings\n",
    "warnings.filterwarnings(\"ignore\", category=UserWarning)\n",
    "\n",
    "## GLOBAL SEED ##    \n",
    "np.random.seed(42)\n",
    "tf.random.set_seed(42)\n",
    "\n",
    "print(\"Num GPUs Available: \", len(tf.config.list_physical_devices('GPU')))"
   ]
  },
  {
   "cell_type": "markdown",
   "id": "5989471a-eaaa-43c5-8f51-599709071288",
   "metadata": {},
   "source": [
    "# Training"
   ]
  },
  {
   "cell_type": "markdown",
   "id": "79725cbe-16a5-4c77-aea7-fc723a9c3933",
   "metadata": {},
   "source": [
    "# ocean"
   ]
  },
  {
   "cell_type": "markdown",
   "id": "ebafd86b-e251-4679-84d1-00e6525bac7f",
   "metadata": {},
   "source": [
    "IC_SODA.nc   OHC100_SODA.nc  OHC50_SODA.nc   SD_ERA5.nc      SST_SODA.nc       STL_7cm_ERA5.nc   SWVL_28cm_ERA5.nc  U10_ERA5.nc\n",
    "IT_SODA.nc   OHC200_SODA.nc  OHC700_SODA.nc  SSH_SODA.nc     STL_1m_ERA5.nc    STL_full_ERA5.nc  SWVL_7cm_ERA5.nc   U200_ERA5.nc\n",
    "MLD_SODA.nc  OHC300_SODA.nc  OLR_ERA5.nc     SST_OISSTv2.nc  STL_28cm_ERA5.nc  SWVL_1m_ERA5.nc   SWVL_full_ERA5.nc  Z500_ERA5.ncm"
   ]
  },
  {
   "cell_type": "code",
   "execution_count": 7,
   "id": "aabae911-a169-45d6-bf3d-68fbbbf2fd47",
   "metadata": {},
   "outputs": [],
   "source": [
    "name_var = 'ocn'"
   ]
  },
  {
   "cell_type": "code",
   "execution_count": 8,
   "id": "ef18836c-dbba-4bcc-92ad-d2020305d8c5",
   "metadata": {},
   "outputs": [],
   "source": [
    "path_models = f'/glade/work/jhayron/Data4Predictability/models/CNN_Sep13_2023/test_{name_var}/'\n",
    "try:\n",
    "    os.mkdir(path_models)\n",
    "except:\n",
    "    pass"
   ]
  },
  {
   "cell_type": "code",
   "execution_count": 9,
   "id": "5ed38455-b2cc-4d52-94ed-8d69edb6b6fd",
   "metadata": {},
   "outputs": [],
   "source": [
    "normalized_data = xr.open_dataset(f'/glade/scratch/jhayron/Data4Predictability/FinalTrainingDataArrays/{name_var}.nc')"
   ]
  },
  {
   "cell_type": "code",
   "execution_count": 10,
   "id": "fe369097-9835-46bc-8b01-11a025074142",
   "metadata": {},
   "outputs": [],
   "source": [
    "normalized_data = normalized_data.__xarray_dataarray_variable__"
   ]
  },
  {
   "cell_type": "code",
   "execution_count": 11,
   "id": "f7a84b1b-e712-42a2-a823-ac0d24541586",
   "metadata": {},
   "outputs": [],
   "source": [
    "wr_series = pd.read_csv('/glade/work/jhayron/Data4Predictability/WR_Series_20230824.csv',\\\n",
    "                index_col=0,names=['week0'],skiprows=1,parse_dates=True)\n",
    "for wk in range(2,10):\n",
    "    series_temp = copy.deepcopy(wr_series[\"week0\"])\n",
    "    series_temp.index = series_temp.index - timedelta(weeks = wk-1)\n",
    "    series_temp.name = f'week{wk-1}'\n",
    "    if wk==2:\n",
    "        df_shifts = pd.concat([pd.DataFrame(wr_series[\"week0\"]),pd.DataFrame(series_temp)],axis=1)  \n",
    "    else:\n",
    "        df_shifts = pd.concat([df_shifts,pd.DataFrame(series_temp)],axis=1)"
   ]
  },
  {
   "cell_type": "code",
   "execution_count": null,
   "id": "0e7d2342-bfb3-4673-a55b-94048052e294",
   "metadata": {},
   "outputs": [],
   "source": [
    "list_acc = []\n",
    "list_balanced_acc = []\n",
    "\n",
    "for week_out in range(0,9):\n",
    "    week_out_str = f'week{week_out}'\n",
    "    \n",
    "    train_joint_dataset, val_joint_dataset, test_joint_dataset = \\\n",
    "        create_datasets_multichannel(normalized_data, df_shifts, week_out)\n",
    "    index_random = np.arange(len(train_joint_dataset[0]))\n",
    "    np.random.shuffle(index_random)\n",
    "    \n",
    "    dict_params = {'model_base':'densenet',\n",
    "                   'type_pooling':'avg',\n",
    "                   'do':0.3,\n",
    "                   'md':16,\n",
    "                   'activation':'LeakyReLU',\n",
    "                   'weighted_loss':True,\n",
    "                   'bs':16,\n",
    "                   'lr':0.001,\n",
    "                   'input_shape':train_joint_dataset[0].shape[1:]}\n",
    "    # with strategy.scope():\n",
    "    model = build_predesigned_model(dict_params['model_base'],\n",
    "                                    dict_params['type_pooling'],\n",
    "                                    dict_params['do'],\n",
    "                                    dict_params['md'],\n",
    "                                    dict_params['activation'],\n",
    "                                    dict_params['input_shape'])\n",
    "\n",
    "    model.compile(loss=keras.losses.categorical_crossentropy, \n",
    "                  optimizer=keras.optimizers.Adam(lr=dict_params['lr']),\n",
    "                  metrics=[balanced_accuracy,'accuracy'])  \n",
    "\n",
    "    epochs = 100\n",
    "    early_stopping_patience = 10\n",
    "\n",
    "    # Create the EarlyStopping callback\n",
    "    early_stopping_callback = tf.keras.callbacks.EarlyStopping(\n",
    "        monitor='val_loss',  # Metric to monitor\n",
    "        patience=early_stopping_patience,  # Number of epochs with no improvement\n",
    "        restore_best_weights=True  # Restore the weights of the best model\n",
    "    )\n",
    "\n",
    "    # Train the model with early stopping\n",
    "    try:\n",
    "        os.mkdir(f'{path_models}{name_var}')\n",
    "    except: pass\n",
    "\n",
    "    filepath = f'{path_models}{name_var}/model_{week_out_str}_v0.h5'\n",
    "    checkpoint = ModelCheckpoint(filepath, monitor='val_loss', verbose=0, save_best_only=True, \n",
    "                                 mode='auto',save_weights_only=False)\n",
    "\n",
    "    if dict_params['weighted_loss']==True:\n",
    "\n",
    "        y_train = copy.deepcopy(train_joint_dataset[1])\n",
    "        y_train_integers = np.argmax(y_train, axis=1)\n",
    "        class_weights = compute_class_weight(class_weight='balanced',classes=np.unique(y_train_integers),\n",
    "                                             y = y_train_integers)\n",
    "        d_class_weights = dict(enumerate(class_weights))\n",
    "\n",
    "        history = model.fit(\n",
    "            train_joint_dataset[0][index_random],\n",
    "            train_joint_dataset[1][index_random],\n",
    "            batch_size=dict_params['bs'],\n",
    "            validation_data=val_joint_dataset,\n",
    "            class_weight = d_class_weights,\n",
    "            epochs=epochs,\n",
    "            callbacks=[checkpoint,early_stopping_callback],\n",
    "            verbose=0\n",
    "        )\n",
    "    else:\n",
    "        history = model.fit(\n",
    "            train_joint_dataset[0][index_random],\n",
    "            train_joint_dataset[1][index_random],\n",
    "            batch_size=dict_params['bs'],\n",
    "            validation_data=val_joint_dataset,\n",
    "            epochs=epochs,\n",
    "            callbacks=[checkpoint,early_stopping_callback],\n",
    "            verbose=0\n",
    "        )\n",
    "\n",
    "    val_loss, val_balanced_accuracy, val_accuracy = model.evaluate(val_joint_dataset[0],val_joint_dataset[1],\n",
    "                                                                      verbose=0)\n",
    "    test_loss, test_balanced_accuracy, test_accuracy = model.evaluate(test_joint_dataset[0],test_joint_dataset[1],\n",
    "                                                                      verbose=0)\n",
    "    # test_loss, test_balanced_accuracy, test_accuracy = model.evaluate(test_joint_dataset)\n",
    "    print(f'**week: {week_out}**')\n",
    "    print('test_balanced_accuracy',test_balanced_accuracy)\n",
    "    print('test_accuracy',test_accuracy)\n",
    "    print('val_balanced_accuracy',val_balanced_accuracy)\n",
    "    print('val_accuracy',val_accuracy)\n",
    "    list_acc.append(test_accuracy)\n",
    "    list_balanced_acc.append(test_balanced_accuracy)\n",
    "    np.save(f'acc_{name_var}.npy',list_acc)\n",
    "    np.save(f'balanced_acc_{name_var}.npy',list_balanced_acc)\n",
    "    # aaa"
   ]
  },
  {
   "cell_type": "code",
   "execution_count": null,
   "id": "457a4a9a-1cf8-4f73-bf2e-0c2f61698278",
   "metadata": {},
   "outputs": [],
   "source": [
    "np.save(f'acc_{name_var}.npy',list_acc)\n",
    "np.save(f'balanced_acc_{name_var}.npy',list_balanced_acc)"
   ]
  },
  {
   "cell_type": "code",
   "execution_count": null,
   "id": "da2cabef-256b-409b-94f2-e0fe76cdd086",
   "metadata": {},
   "outputs": [],
   "source": []
  },
  {
   "cell_type": "code",
   "execution_count": null,
   "id": "281bd903-ad34-4aa9-b6d5-f7eee5243b93",
   "metadata": {},
   "outputs": [],
   "source": []
  },
  {
   "cell_type": "code",
   "execution_count": null,
   "id": "183111ff-5234-4f48-88a2-28382f14146c",
   "metadata": {},
   "outputs": [],
   "source": []
  },
  {
   "cell_type": "code",
   "execution_count": null,
   "id": "62bb9a5e-2dfa-46e0-82e9-e671e525ce15",
   "metadata": {},
   "outputs": [],
   "source": []
  },
  {
   "cell_type": "code",
   "execution_count": null,
   "id": "e41c22ca-b478-479e-8f97-b216e7bc3d08",
   "metadata": {},
   "outputs": [],
   "source": []
  },
  {
   "cell_type": "code",
   "execution_count": 19,
   "id": "2782af6c-b9bc-4201-ba9e-c737da286ecf",
   "metadata": {},
   "outputs": [
    {
     "name": "stdout",
     "output_type": "stream",
     "text": [
      "**iteration: 1**\n",
      "test_balanced_accuracy 0.23006628453731537\n",
      "test_accuracy 0.26877471804618835\n",
      "val_balanced_accuracy 0.22328199446201324\n",
      "val_accuracy 0.2509578466415405\n",
      "**iteration: 2**\n",
      "test_balanced_accuracy 0.21250002086162567\n",
      "test_accuracy 0.1818181872367859\n",
      "val_balanced_accuracy 0.2296682894229889\n",
      "val_accuracy 0.270114928483963\n",
      "**iteration: 3**\n",
      "test_balanced_accuracy 0.20625002682209015\n",
      "test_accuracy 0.1818181872367859\n",
      "val_balanced_accuracy 0.23088236153125763\n",
      "val_accuracy 0.2509578466415405\n",
      "AVERAGE RESULTS (acc,balanced_acc): \n",
      "0.2108036975065867 0.21627211074034372\n"
     ]
    }
   ],
   "source": [
    "list_acc = []\n",
    "list_balanced_acc = []\n",
    "for train_i in [1,2,3]:\n",
    "    dict_params = {'model_base':'densenet',\n",
    "                   'type_pooling':'avg',\n",
    "                   'do':0.5,\n",
    "                   'md':8,\n",
    "                   'activation':'LeakyReLU',\n",
    "                   'weighted_loss':True,\n",
    "                   'bs':32,\n",
    "                   'lr':0.001,\n",
    "                   'input_shape':train_joint_dataset[0].shape[1:]}\n",
    "    # with strategy.scope():\n",
    "    model = build_predesigned_model(dict_params['model_base'],\n",
    "                                    dict_params['type_pooling'],\n",
    "                                    dict_params['do'],\n",
    "                                    dict_params['md'],\n",
    "                                    dict_params['activation'],\n",
    "                                    dict_params['input_shape'])\n",
    "\n",
    "    model.compile(loss=keras.losses.categorical_crossentropy, \n",
    "                  optimizer=keras.optimizers.Adam(lr=dict_params['lr']),\n",
    "                  metrics=[balanced_accuracy,'accuracy'])  \n",
    "\n",
    "    epochs = 100\n",
    "    early_stopping_patience = 10\n",
    "\n",
    "    # Create the EarlyStopping callback\n",
    "    early_stopping_callback = tf.keras.callbacks.EarlyStopping(\n",
    "        monitor='val_loss',  # Metric to monitor\n",
    "        patience=early_stopping_patience,  # Number of epochs with no improvement\n",
    "        restore_best_weights=True  # Restore the weights of the best model\n",
    "    )\n",
    "\n",
    "    # Train the model with early stopping\n",
    "    try:\n",
    "        os.mkdir(f'{path_models}{name_var}')\n",
    "    except: pass\n",
    "\n",
    "    filepath = f'{path_models}{name_var}/model_{week_out_str}_v0.h5'\n",
    "    checkpoint = ModelCheckpoint(filepath, monitor='val_loss', verbose=0, save_best_only=True, \n",
    "                                 mode='auto',save_weights_only=False)\n",
    "\n",
    "\n",
    "    if dict_params['weighted_loss']==True:\n",
    "\n",
    "        y_train = copy.deepcopy(train_joint_dataset[1])\n",
    "        y_train_integers = np.argmax(y_train, axis=1)\n",
    "        class_weights = compute_class_weight(class_weight='balanced',classes=np.unique(y_train_integers),\n",
    "                                             y = y_train_integers)\n",
    "        d_class_weights = dict(enumerate(class_weights))\n",
    "\n",
    "        history = model.fit(\n",
    "            train_joint_dataset[0][index_random],\n",
    "            train_joint_dataset[1][index_random],\n",
    "            batch_size=dict_params['bs'],\n",
    "            validation_data=val_joint_dataset,\n",
    "            class_weight = d_class_weights,\n",
    "            epochs=epochs,\n",
    "            callbacks=[checkpoint,early_stopping_callback],\n",
    "            verbose=0\n",
    "        )\n",
    "    else:\n",
    "        history = model.fit(\n",
    "            train_joint_dataset[0][index_random],\n",
    "            train_joint_dataset[1][index_random],\n",
    "            batch_size=dict_params['bs'],\n",
    "            validation_data=val_joint_dataset,\n",
    "            epochs=epochs,\n",
    "            callbacks=[checkpoint,early_stopping_callback],\n",
    "            verbose=0\n",
    "        )\n",
    "\n",
    "    ### test_loss, test_balanced_accuracy, test_accuracy = model.evaluate(test_joint_dataset.batch(len(test_joint_dataset)/5))\n",
    "    test_loss, test_balanced_accuracy, test_accuracy = model.evaluate(test_joint_dataset[0],test_joint_dataset[1],\n",
    "                                                                      verbose=0)\n",
    "    # test_loss, test_balanced_accuracy, test_accuracy = model.evaluate(test_joint_dataset)\n",
    "    val_balanced_accuracy = np.max(history.history['val_balanced_accuracy'])\n",
    "    val_accuracy = np.max(history.history['val_accuracy'])\n",
    "    print(f'**iteration: {train_i}**')\n",
    "    print('test_balanced_accuracy',test_balanced_accuracy)\n",
    "    print('test_accuracy',test_accuracy)\n",
    "    print('val_balanced_accuracy',val_balanced_accuracy)\n",
    "    print('val_accuracy',val_accuracy)\n",
    "    list_acc.append(test_accuracy)\n",
    "    list_balanced_acc.append(test_balanced_accuracy)\n",
    "print(\"AVERAGE RESULTS (acc,balanced_acc): \")\n",
    "print(np.mean(list_acc),np.mean(list_balanced_acc))"
   ]
  },
  {
   "cell_type": "code",
   "execution_count": 20,
   "id": "5df85d5f-c160-4d5d-bd59-b90a2eb48ae0",
   "metadata": {},
   "outputs": [
    {
     "data": {
      "text/plain": [
       "[<matplotlib.lines.Line2D at 0x2b726aca9cd0>]"
      ]
     },
     "execution_count": 20,
     "metadata": {},
     "output_type": "execute_result"
    },
    {
     "data": {
      "image/png": "[encoded data removed]",
      "text/plain": [
       "<Figure size 640x480 with 1 Axes>"
      ]
     },
     "metadata": {},
     "output_type": "display_data"
    }
   ],
   "source": [
    "plt.plot(np.sum(test_joint_dataset[1],axis=0)/ np.sum(test_joint_dataset[1]))"
   ]
  },
  {
   "cell_type": "code",
   "execution_count": 21,
   "id": "3d0d8ee6-d71b-4b9c-ab30-d8958d64c1c3",
   "metadata": {},
   "outputs": [
    {
     "data": {
      "text/plain": [
       "[<matplotlib.lines.Line2D at 0x2b729e4aabb0>]"
      ]
     },
     "execution_count": 21,
     "metadata": {},
     "output_type": "execute_result"
    },
    {
     "data": {
      "image/png": "[encoded data removed]",
      "text/plain": [
       "<Figure size 640x480 with 1 Axes>"
      ]
     },
     "metadata": {},
     "output_type": "display_data"
    }
   ],
   "source": [
    "predictions = model.predict(test_joint_dataset[0])\n",
    "plt.plot(np.mean(predictions,axis=0))"
   ]
  },
  {
   "cell_type": "code",
   "execution_count": null,
   "id": "6afb64e0-d1b1-42bd-a9dd-1aa1b3978354",
   "metadata": {},
   "outputs": [],
   "source": []
  },
  {
   "cell_type": "code",
   "execution_count": null,
   "id": "b67fffa3-8074-4f88-b500-7015b6a37aaa",
   "metadata": {},
   "outputs": [],
   "source": []
  },
  {
   "cell_type": "code",
   "execution_count": null,
   "id": "a42576e1-1e2f-47c3-a7a0-777db0367d89",
   "metadata": {},
   "outputs": [],
   "source": []
  },
  {
   "cell_type": "code",
   "execution_count": null,
   "id": "70eee17d-85c3-4887-9d9f-7185372f272f",
   "metadata": {},
   "outputs": [],
   "source": []
  },
  {
   "cell_type": "code",
   "execution_count": null,
   "id": "869fb618-d9ce-4482-a26b-76b8e4e82e3d",
   "metadata": {},
   "outputs": [],
   "source": []
  },
  {
   "cell_type": "code",
   "execution_count": null,
   "id": "cdb24c5c-64bb-4d7f-b0b0-cd279afd9a11",
   "metadata": {},
   "outputs": [],
   "source": []
  },
  {
   "cell_type": "code",
   "execution_count": 10,
   "id": "8c391756-54ad-44e0-b050-174f4eb78ae5",
   "metadata": {},
   "outputs": [],
   "source": [
    "# resnet50 - 0.2325156182050705\n"
   ]
  },
  {
   "cell_type": "code",
   "execution_count": 11,
   "id": "d8bf919c-5224-4c8f-ac83-dc22b89f664b",
   "metadata": {},
   "outputs": [
    {
     "name": "stdout",
     "output_type": "stream",
     "text": [
      "16/16 [==============================] - 5s 227ms/step - loss: 1.6092 - balanced_accuracy: 0.2063 - accuracy: 0.1779\n",
      "test_balanced_accuracy 0.20625002682209015\n",
      "test_accuracy 0.17786560952663422\n",
      "val_balanced_accuracy 0.21481484174728394\n",
      "val_accuracy 0.24137930572032928\n"
     ]
    }
   ],
   "source": [
    "# test_loss, test_balanced_accuracy, test_accuracy = model.evaluate(test_joint_dataset.batch(len(test_joint_dataset)/5))\n",
    "test_loss, test_balanced_accuracy, test_accuracy = model.evaluate(test_joint_dataset[0],test_joint_dataset[1])\n",
    "# test_loss, test_balanced_accuracy, test_accuracy = model.evaluate(test_joint_dataset)\n",
    "val_balanced_accuracy = np.max(history.history['val_balanced_accuracy'])\n",
    "val_accuracy = np.max(history.history['val_accuracy'])\n",
    "\n",
    "print('test_balanced_accuracy',test_balanced_accuracy)\n",
    "print('test_accuracy',test_accuracy)\n",
    "print('val_balanced_accuracy',val_balanced_accuracy)\n",
    "print('val_accuracy',val_accuracy)"
   ]
  },
  {
   "cell_type": "code",
   "execution_count": 25,
   "id": "095b0e94-3ff1-4004-beb8-344e98fe9518",
   "metadata": {},
   "outputs": [
    {
     "data": {
      "text/plain": [
       "<BatchDataset shapes: ((None, 240, 720, 1), (None, 5)), types: (tf.float64, tf.float32)>"
      ]
     },
     "execution_count": 25,
     "metadata": {},
     "output_type": "execute_result"
    }
   ],
   "source": [
    "train_joint_dataset.batch(dict_params['bs'])"
   ]
  },
  {
   "cell_type": "code",
   "execution_count": 48,
   "id": "68b3706d-f0cc-4723-a583-96816f9ac116",
   "metadata": {},
   "outputs": [
    {
     "data": {
      "text/plain": [
       "(240, 720, 1)"
      ]
     },
     "execution_count": 48,
     "metadata": {},
     "output_type": "execute_result"
    }
   ],
   "source": [
    "input_data.numpy().shape"
   ]
  },
  {
   "cell_type": "code",
   "execution_count": 14,
   "id": "efddc2da-f954-435a-a897-a390613c4dcf",
   "metadata": {},
   "outputs": [],
   "source": [
    "# Assuming your dataset is called 'test_dataset'\n",
    "all_input_data = []\n",
    "all_output_data = []\n",
    "\n",
    "for input_data, output_data in test_joint_dataset:\n",
    "    all_input_data.append(input_data.numpy())  # Convert the Tensor to a NumPy array\n",
    "    all_output_data.append(output_data.numpy())\n",
    "# Convert the list of NumPy arrays to a single NumPy array\n",
    "all_input_data_np = np.array(all_input_data)\n",
    "all_output_data_np = np.array(all_output_data)"
   ]
  },
  {
   "cell_type": "code",
   "execution_count": 13,
   "id": "b505078b-c6f5-43e5-8308-c8178ce5d34e",
   "metadata": {},
   "outputs": [
    {
     "data": {
      "text/plain": [
       "array([[0.19588202, 0.20458117, 0.19893521, 0.19674964, 0.20385192],\n",
       "       [0.19588204, 0.2045812 , 0.19893523, 0.19674964, 0.20385194],\n",
       "       [0.19588202, 0.20458117, 0.19893521, 0.19674964, 0.20385192],\n",
       "       ...,\n",
       "       [0.19588202, 0.20458117, 0.19893521, 0.19674964, 0.20385192],\n",
       "       [0.19588202, 0.20458117, 0.19893521, 0.19674964, 0.20385192],\n",
       "       [0.19588202, 0.20458117, 0.19893521, 0.19674964, 0.20385192]],\n",
       "      dtype=float32)"
      ]
     },
     "execution_count": 13,
     "metadata": {},
     "output_type": "execute_result"
    }
   ],
   "source": [
    "model.predict(all_input_data_np)"
   ]
  },
  {
   "cell_type": "code",
   "execution_count": 19,
   "id": "656b6803-db3a-4595-a82f-08424284da10",
   "metadata": {},
   "outputs": [
    {
     "data": {
      "text/plain": [
       "array([[[1.46623502],\n",
       "        [1.48863234],\n",
       "        [1.5077076 ],\n",
       "        ...,\n",
       "        [1.38798114],\n",
       "        [1.41586549],\n",
       "        [1.44197845]],\n",
       "\n",
       "       [[1.54025296],\n",
       "        [1.55970751],\n",
       "        [1.57487297],\n",
       "        ...,\n",
       "        [1.46626309],\n",
       "        [1.49324022],\n",
       "        [1.51785905]],\n",
       "\n",
       "       [[1.60578687],\n",
       "        [1.62109075],\n",
       "        [1.63273157],\n",
       "        ...,\n",
       "        [1.54104955],\n",
       "        [1.565385  ],\n",
       "        [1.58693654]],\n",
       "\n",
       "       ...,\n",
       "\n",
       "       [[0.67280749],\n",
       "        [0.6718265 ],\n",
       "        [0.67083733],\n",
       "        ...,\n",
       "        [0.67573343],\n",
       "        [0.67476368],\n",
       "        [0.67378126]],\n",
       "\n",
       "       [[0.64225224],\n",
       "        [0.64167656],\n",
       "        [0.64109503],\n",
       "        ...,\n",
       "        [0.64397349],\n",
       "        [0.64339685],\n",
       "        [0.64282955]],\n",
       "\n",
       "       [[0.61313806],\n",
       "        [0.61294637],\n",
       "        [0.61276231],\n",
       "        ...,\n",
       "        [0.61369119],\n",
       "        [0.61350686],\n",
       "        [0.61332178]]])"
      ]
     },
     "execution_count": 19,
     "metadata": {},
     "output_type": "execute_result"
    }
   ],
   "source": [
    "all_input_data_np[0]"
   ]
  },
  {
   "cell_type": "code",
   "execution_count": 15,
   "id": "6deb8419-b1ff-4450-99ff-0a5caf3cfa8c",
   "metadata": {},
   "outputs": [
    {
     "data": {
      "text/plain": [
       "array([[0., 0., 1., 0., 0.],\n",
       "       [0., 0., 1., 0., 0.],\n",
       "       [0., 1., 0., 0., 0.],\n",
       "       ...,\n",
       "       [0., 0., 0., 1., 0.],\n",
       "       [0., 0., 0., 1., 0.],\n",
       "       [0., 0., 0., 1., 0.]], dtype=float32)"
      ]
     },
     "execution_count": 15,
     "metadata": {},
     "output_type": "execute_result"
    }
   ],
   "source": [
    "all_output_data_np"
   ]
  },
  {
   "cell_type": "code",
   "execution_count": null,
   "id": "9d83f700-d5da-4f43-9e8a-ae4545d0e5bc",
   "metadata": {},
   "outputs": [],
   "source": []
  },
  {
   "cell_type": "code",
   "execution_count": 65,
   "id": "bc974a40-f1bf-4e81-9996-7f9883a814fc",
   "metadata": {},
   "outputs": [
    {
     "data": {
      "text/plain": [
       "(522, 240, 720, 1)"
      ]
     },
     "execution_count": 65,
     "metadata": {},
     "output_type": "execute_result"
    }
   ],
   "source": [
    "all_input_data_np.shape"
   ]
  },
  {
   "cell_type": "code",
   "execution_count": 36,
   "id": "656278a0-e335-4fb7-a199-b5946f958427",
   "metadata": {},
   "outputs": [
    {
     "data": {
      "text/plain": [
       "0"
      ]
     },
     "execution_count": 36,
     "metadata": {},
     "output_type": "execute_result"
    }
   ],
   "source": [
    "len(np.where(np.isfinite(input_data.numpy()[:,:,0])==False)[0])"
   ]
  },
  {
   "cell_type": "code",
   "execution_count": 38,
   "id": "97f059e3-dcbd-4f64-a397-af9725418692",
   "metadata": {},
   "outputs": [
    {
     "data": {
      "text/plain": [
       "array([0., 1., 0., 0., 0.], dtype=float32)"
      ]
     },
     "execution_count": 38,
     "metadata": {},
     "output_type": "execute_result"
    }
   ],
   "source": [
    "output_data.numpy()"
   ]
  },
  {
   "cell_type": "code",
   "execution_count": 57,
   "id": "bb56418d-0a94-4074-9aac-4d3c3c9d02b3",
   "metadata": {},
   "outputs": [
    {
     "data": {
      "text/plain": [
       "<bound method DatasetV2.cardinality of <ShuffleDataset shapes: ((240, 720, 1), (5,)), types: (tf.float64, tf.float32)>>"
      ]
     },
     "execution_count": 57,
     "metadata": {},
     "output_type": "execute_result"
    }
   ],
   "source": [
    "train_joint_dataset.cardinality"
   ]
  },
  {
   "cell_type": "code",
   "execution_count": null,
   "id": "cba80a65-e44c-4c4e-8275-202b869bd710",
   "metadata": {},
   "outputs": [],
   "source": []
  },
  {
   "cell_type": "code",
   "execution_count": null,
   "id": "54aced26-0955-4c2d-b8a4-f710c000be0c",
   "metadata": {},
   "outputs": [],
   "source": []
  },
  {
   "cell_type": "code",
   "execution_count": null,
   "id": "4a7cc92f-e35d-43b3-8d03-4033331c86f2",
   "metadata": {},
   "outputs": [],
   "source": [
    "path_models = '/glade/work/jhayron/Data4Predictability/models/CNN_Aug17_2023/v0/'\n",
    "optimizer_direction = 'maximize'\n",
    "number_of_random_points = 30  # random searches to start opt process\n",
    "maximum_time = 0.12*60*60  # seconds"
   ]
  },
  {
   "cell_type": "code",
   "execution_count": null,
   "id": "42a4aa61-337c-4b44-ab96-4e969c916e2a",
   "metadata": {},
   "outputs": [],
   "source": [
    ",name_var,week_out_str"
   ]
  },
  {
   "cell_type": "code",
   "execution_count": null,
   "id": "443b3cdc-cd5a-4238-8ee7-a0d0662a0a1a",
   "metadata": {},
   "outputs": [],
   "source": []
  },
  {
   "cell_type": "code",
   "execution_count": null,
   "id": "b73cd7a5-3665-4ca3-b8b0-f640a3ad5f6f",
   "metadata": {},
   "outputs": [],
   "source": []
  },
  {
   "cell_type": "code",
   "execution_count": null,
   "id": "7f24ba5b-8323-418e-9dd2-0c3afb6f6ad5",
   "metadata": {},
   "outputs": [],
   "source": [
    "class Objective(object):\n",
    "    def __init__(self, train_joint_dataset, val_joint_dataset, test_joint_dataset,\n",
    "                 path_models, variable, week):\n",
    "        self.train_joint_dataset = train_joint_dataset\n",
    "        self.val_joint_dataset = val_joint_dataset\n",
    "        self.test_joint_dataset = test_joint_dataset\n",
    "        self.path_models = path_models\n",
    "        self.variable = variable\n",
    "        self.week = week\n",
    " \n",
    "    def __call__(self, trial):    \n",
    "        keras.backend.clear_session()\n",
    "        \n",
    "        model_base = trial.suggest_categorical('model_base',['vanilla','resnet50','resnet101',\\\n",
    "                                                             'inception','xception','densenet'])\n",
    "        ks = trial.suggest_categorical('ks',[3,5,7,9,11])\n",
    "        ps = trial.suggest_categorical('ps',[2,4,6,8])\n",
    "        type_pooling = trial.suggest_categorical('type_pooling',[None, 'avg','max'])\n",
    "        stc = trial.suggest_categorical('stc',[1,2,3,4])\n",
    "        stp = trial.suggest_categorical('stp',[1,2,3,4])\n",
    "        do = trial.suggest_categorical('do',[0.3,0.4,0.5])\n",
    "        md = trial.suggest_categorical('md',[2,4,8,16])\n",
    "        nfilters = trial.suggest_categorical('nfilters',[4,8,16,32])\n",
    "        activation = trial.suggest_categorical('activation',['LeakyReLU','ReLU'])\n",
    "        weighted_loss = trial.suggest_categorical('weighted_loss',[True,False])\n",
    "        \n",
    "        dict_params = {'model_base':model_base,\n",
    "                       'ks':ks,\n",
    "                       'ps':ps,\n",
    "                       'type_pooling':type_pooling,\n",
    "                       'stc':stc,\n",
    "                       'stp':stp,\n",
    "                       'do':do,\n",
    "                       'md':md,\n",
    "                       'nfilters':nfilters,\n",
    "                       'activation':activation,\n",
    "                       'weighted_loss':weighted_loss}\n",
    "        print(dict_params)                                      \n",
    "        # instantiate and compile model\n",
    "        if dict_params['model_base']=='vanilla':\n",
    "            model = build_vanilla_cnn(dict_params['ks'],\n",
    "                                      dict_params['ps'],\n",
    "                                      dict_params['type_pooling'],\n",
    "                                      dict_params['stc'],\n",
    "                                      dict_params['stp'],\n",
    "                                      dict_params['do'],\n",
    "                                      dict_params['md'],\n",
    "                                      dict_params['nfilters'],\n",
    "                                      dict_params['activation'])\n",
    "        elif dict_params['model_base']=='resnet50':\n",
    "            model = build_resnet50_model(dict_params['type_pooling'],\n",
    "                                         dict_params['do'],\n",
    "                                         dict_params['md'],\n",
    "                                         dict_params['activation'])\n",
    "        elif dict_params['model_base']=='resnet101':\n",
    "            model = build_resnet101_model(dict_params['type_pooling'],\n",
    "                                         dict_params['do'],\n",
    "                                         dict_params['md'],\n",
    "                                         dict_params['activation'])\n",
    "        elif dict_params['model_base']=='inception':\n",
    "            model = build_inception_model(dict_params['type_pooling'],\n",
    "                                         dict_params['do'],\n",
    "                                         dict_params['md'],\n",
    "                                         dict_params['activation'])\n",
    "        elif dict_params['model_base']=='xception':\n",
    "            model = build_xception_model(dict_params['type_pooling'],\n",
    "                                         dict_params['do'],\n",
    "                                         dict_params['md'],\n",
    "                                         dict_params['activation'])\n",
    "        elif dict_params['model_base']=='densenet':\n",
    "            model = build_densenet_model(dict_params['type_pooling'],\n",
    "                                         dict_params['do'],\n",
    "                                         dict_params['md'],\n",
    "                                         dict_params['activation'])\n",
    "            \n",
    "        model.compile(loss=keras.losses.categorical_crossentropy, \n",
    "                optimizer=keras.optimizers.Adam(lr=0.0001),metrics=[balanced_accuracy,'accuracy'])\n",
    "        \n",
    "        epochs = 100\n",
    "        early_stopping_patience = 5\n",
    "\n",
    "        # Create the EarlyStopping callback\n",
    "        early_stopping_callback = tf.keras.callbacks.EarlyStopping(\n",
    "            monitor='val_balanced_accuracy',  # Metric to monitor\n",
    "            patience=early_stopping_patience,  # Number of epochs with no improvement\n",
    "            restore_best_weights=True  # Restore the weights of the best model\n",
    "        )\n",
    "\n",
    "        # Train the model with early stopping\n",
    "        try:\n",
    "            os.mkdir(f'{self.path_models}{self.variable}')\n",
    "        except: pass\n",
    "    \n",
    "        filepath = f'{self.path_models}{self.variable}/model_{self.week}_v0.h5'\n",
    "        checkpoint = ModelCheckpoint(filepath, monitor='val_loss', verbose=0, save_best_only=True, \n",
    "                                     mode='auto',save_weights_only=False)\n",
    "        \n",
    "        if dict_params['weighted_loss']==True:\n",
    "            \n",
    "            y_train = get_output_from_dataset(self.train_joint_dataset)\n",
    "            y_train_integers = np.argmax(y_train, axis=1)\n",
    "            class_weights = compute_class_weight(class_weight='balanced',classes=np.unique(y_train_integers),\n",
    "                                                 y = y_train_integers)\n",
    "            d_class_weights = dict(enumerate(class_weights))\n",
    "            \n",
    "            history = model.fit(\n",
    "                self.train_joint_dataset.batch(32),\n",
    "                validation_data=self.val_joint_dataset.batch(32),\n",
    "                class_weight = d_class_weights,\n",
    "                epochs=epochs,\n",
    "                callbacks=[checkpoint,early_stopping_callback],\n",
    "                verbose=0\n",
    "            )\n",
    "        else:\n",
    "            history = model.fit(\n",
    "                self.train_joint_dataset.batch(32),\n",
    "                validation_data=self.val_joint_dataset.batch(32),\n",
    "                epochs=epochs,\n",
    "                callbacks=[checkpoint,early_stopping_callback],\n",
    "                verbose=0\n",
    "            )\n",
    "        \n",
    "        test_loss, test_balanced_accuracy, test_accuracy = model.evaluate(self.test_joint_dataset.batch(32))\n",
    "        val_balanced_accuracy = np.max(history.history['val_balanced_accuracy'])\n",
    "        val_accuracy = np.max(history.history['val_accuracy'])\n",
    "        \n",
    "        trial.set_user_attr('test_balanced_accuracy',test_balanced_accuracy)\n",
    "        trial.set_user_attr('test_accuracy',test_accuracy)\n",
    "        trial.set_user_attr('val_balanced_accuracy',val_balanced_accuracy)\n",
    "        trial.set_user_attr('val_accuracy',val_accuracy)\n",
    "        \n",
    "        return val_balanced_accuracy\n",
    "    \n",
    "    \n",
    "# Get variable and origin from command-line arguments\n",
    "name_var = sys.argv[1]\n",
    "week_out = sys.argv[2]\n",
    "path_weekly_anoms = '/glade/scratch/jhayron/Data4Predictability/WeeklyAnoms/'\n",
    "input_anoms = xr.open_dataset(f'{path_weekly_anoms}{name_var}.nc')\n",
    "var_name = list(input_anoms.data_vars.keys())[0]\n",
    "week_out_str = f'week{week_out}'\n",
    "\n",
    "wr_series = pd.read_csv('/glade/work/jhayron/Data4Predictability/WR_Series.csv',\\\n",
    "                index_col=0,names=['week0'],skiprows=1,parse_dates=True)\n",
    "for wk in range(2,10):\n",
    "    series_temp = copy.deepcopy(wr_series[\"week0\"])\n",
    "    series_temp.index = series_temp.index - timedelta(weeks = wk-1)\n",
    "    series_temp.name = f'week{wk-1}'\n",
    "    if wk==2:\n",
    "        df_shifts = pd.concat([pd.DataFrame(wr_series[\"week0\"]),pd.DataFrame(series_temp)],axis=1)  \n",
    "    else:\n",
    "        df_shifts = pd.concat([df_shifts,pd.DataFrame(series_temp)],axis=1)\n",
    "        \n",
    "train_joint_dataset, val_joint_dataset, test_joint_dataset = \\\n",
    "    create_datasets(input_anoms, var_name, df_shifts, week_out)\n",
    "path_models = '/glade/work/jhayron/Data4Predictability/models/CNN/v0/'\n",
    "optimizer_direction = 'maximize'\n",
    "number_of_random_points = 30  # random searches to start opt process\n",
    "maximum_time = 0.12*60*60  # seconds\n",
    "objective = Objective(train_joint_dataset,val_joint_dataset,test_joint_dataset,\n",
    "                      path_models,name_var,week_out_str)\n",
    "    \n",
    "results_directory = f'/glade/work/jhayron/Data4Predictability/models/CNN/results_optuna/{week_out_str}/'\n",
    "try:\n",
    "    os.mkdir(results_directory)\n",
    "except:\n",
    "    pass\n",
    "\n",
    "study_name = f'study_{name_var}_{week_out_str}_v0'\n",
    "storage_name = f'sqlite:///{study_name}.db'\n",
    "\n",
    "\n",
    "optuna.logging.set_verbosity(optuna.logging.WARNING)\n",
    "study = optuna.create_study(direction=optimizer_direction,\n",
    "        sampler=TPESampler(n_startup_trials=number_of_random_points),\n",
    "        study_name=study_name, storage=storage_name,load_if_exists=True)\n",
    "\n",
    "study.optimize(objective, timeout=maximum_time, gc_after_trial=True,callbacks=[logging_callback],)\n",
    "\n",
    "# save results\n",
    "df_results = study.trials_dataframe()\n",
    "df_results.to_pickle(results_directory + f'df_optuna_results_{name_var}_v0.pkl')\n",
    "df_results.to_csv(results_directory + f'df_optuna_results_{name_var}_v0.csv')\n",
    "#save study\n",
    "joblib.dump(study, results_directory + f'optuna_study_{name_var}_v0.pkl')"
   ]
  }
 ],
 "metadata": {
  "kernelspec": {
   "display_name": "Python [conda env:cnn_wr]",
   "language": "python",
   "name": "conda-env-cnn_wr-py"
  },
  "language_info": {
   "codemirror_mode": {
    "name": "ipython",
    "version": 3
   },
   "file_extension": ".py",
   "mimetype": "text/x-python",
   "name": "python",
   "nbconvert_exporter": "python",
   "pygments_lexer": "ipython3",
   "version": "3.9.15"
  }
 },
 "nbformat": 4,
 "nbformat_minor": 5
}
