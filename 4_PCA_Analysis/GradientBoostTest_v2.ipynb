{
 "cells": [
  {
   "cell_type": "code",
   "execution_count": 1,
   "id": "c7c3a39d-23a6-46d4-a4d2-72d44483acb1",
   "metadata": {},
   "outputs": [
    {
     "name": "stderr",
     "output_type": "stream",
     "text": [
      "2023-10-17 14:07:55.389371: I tensorflow/stream_executor/platform/default/dso_loader.cc:49] Successfully opened dynamic library libcudart.so.10.1\n",
      "/glade/work/jhayron/conda-envs/cnn_wr/lib/python3.9/site-packages/tqdm/auto.py:22: TqdmWarning: IProgress not found. Please update jupyter and ipywidgets. See https://ipywidgets.readthedocs.io/en/stable/user_install.html\n",
      "  from .autonotebook import tqdm as notebook_tqdm\n"
     ]
    }
   ],
   "source": [
    "import numpy as np\n",
    "import xarray as xr\n",
    "import pandas as pd\n",
    "import copy\n",
    "from datetime import datetime, timedelta\n",
    "from keras.utils import to_categorical\n",
    "# import visualkeras\n",
    "# import tensorflow as tf\n",
    "from sklearn.metrics import balanced_accuracy_score\n",
    "import optuna\n",
    "from optuna.samplers import TPESampler\n",
    "import keras\n",
    "from keras.callbacks import ModelCheckpoint\n",
    "from sklearn.utils.class_weight import compute_class_weight\n",
    "import sys\n",
    "import os\n",
    "import joblib\n",
    "import matplotlib.pyplot as plt\n",
    "from sklearn.preprocessing import MinMaxScaler\n",
    "import glob \n",
    "\n",
    "sys.path.append(\"/glade/u/home/jhayron/WR_Predictability/3_MLModels/\")\n",
    "from model_builders_v2 import *\n",
    "from sklearn import datasets, ensemble\n",
    "from sklearn.model_selection import RandomizedSearchCV"
   ]
  },
  {
   "cell_type": "markdown",
   "id": "59f43428-0c28-4c4e-a6df-9822076b2fe3",
   "metadata": {},
   "source": [
    "# Load outputs"
   ]
  },
  {
   "cell_type": "code",
   "execution_count": 2,
   "id": "fbffb696-6f6c-44bc-87a0-2a1864eeb3e5",
   "metadata": {},
   "outputs": [],
   "source": [
    "week_out=0\n",
    "week_out_str = f'week{week_out}'\n",
    "\n",
    "wr_series = pd.read_csv('/glade/work/jhayron/Data4Predictability/WR_Series_20230824.csv',\\\n",
    "                index_col=0,names=['week0'],skiprows=1,parse_dates=True)\n",
    "for wk in range(2,10):\n",
    "    series_temp = copy.deepcopy(wr_series[\"week0\"])\n",
    "    series_temp.index = series_temp.index - timedelta(weeks = wk-1)\n",
    "    series_temp.name = f'week{wk-1}'\n",
    "    if wk==2:\n",
    "        df_shifts = pd.concat([pd.DataFrame(wr_series[\"week0\"]),pd.DataFrame(series_temp)],axis=1)  \n",
    "    else:\n",
    "        df_shifts = pd.concat([df_shifts,pd.DataFrame(series_temp)],axis=1)"
   ]
  },
  {
   "cell_type": "markdown",
   "id": "a1bbdec5-2d20-42a4-9808-c150b065c906",
   "metadata": {},
   "source": [
    "# Load inputs"
   ]
  },
  {
   "cell_type": "code",
   "execution_count": 9,
   "id": "20197fc5-4426-4ab7-8e86-da7cec24bd06",
   "metadata": {},
   "outputs": [],
   "source": [
    "list_folders = np.sort(glob.glob('/glade/u/home/jhayron/WR_Predictability/4_PCA_Analysis/figures_2/*/'))"
   ]
  },
  {
   "cell_type": "code",
   "execution_count": 10,
   "id": "bb22def8-a75e-4deb-a1f6-2c6f652bf1bc",
   "metadata": {},
   "outputs": [],
   "source": [
    "list_vars = [list_folders[i].split('/')[-2] for i in range(len(list_folders))]"
   ]
  },
  {
   "cell_type": "code",
   "execution_count": 11,
   "id": "41f2b61c-5347-4168-acef-d9bd6a87d4ec",
   "metadata": {},
   "outputs": [
    {
     "data": {
      "text/plain": [
       "['IC_SODA',\n",
       " 'IT_SODA',\n",
       " 'MLD_SODA',\n",
       " 'OHC100_SODA',\n",
       " 'OHC200_SODA',\n",
       " 'OHC300_SODA',\n",
       " 'OHC50_SODA',\n",
       " 'OHC700_SODA',\n",
       " 'OLR_ERA5',\n",
       " 'SD_ERA5',\n",
       " 'SSH_SODA',\n",
       " 'SST_OISSTv2',\n",
       " 'SST_SODA',\n",
       " 'STL_1m_ERA5',\n",
       " 'STL_28cm_ERA5',\n",
       " 'STL_7cm_ERA5',\n",
       " 'STL_full_ERA5',\n",
       " 'SWVL_1m_ERA5',\n",
       " 'SWVL_28cm_ERA5',\n",
       " 'SWVL_7cm_ERA5',\n",
       " 'SWVL_full_ERA5',\n",
       " 'U10_ERA5',\n",
       " 'U200_ERA5',\n",
       " 'Z500_ERA5']"
      ]
     },
     "execution_count": 11,
     "metadata": {},
     "output_type": "execute_result"
    }
   ],
   "source": [
    "list_vars"
   ]
  },
  {
   "cell_type": "code",
   "execution_count": 12,
   "id": "d975f9b7-165f-433f-98c7-54f684008d41",
   "metadata": {},
   "outputs": [],
   "source": [
    "indices_atmosphere = np.array([8,21,22,23])"
   ]
  },
  {
   "cell_type": "code",
   "execution_count": 13,
   "id": "6dd92acd-528c-4455-a07f-fab23c637788",
   "metadata": {},
   "outputs": [],
   "source": [
    "dic_inputs = {}\n",
    "for ivar in indices_atmosphere:\n",
    "    dic_inputs[list_vars[ivar]] = pd.read_csv(f'{list_folders[ivar]}PC_{list_vars[ivar]}.csv',index_col=0,parse_dates=True)"
   ]
  },
  {
   "cell_type": "code",
   "execution_count": 14,
   "id": "fc64e3f5-bb5c-4886-8081-b6b46bf7f862",
   "metadata": {},
   "outputs": [],
   "source": [
    "# Create an empty DataFrame to store the combined data\n",
    "combined_df = pd.DataFrame()\n",
    "\n",
    "# Loop through the dictionary and concatenate the dataframes\n",
    "for key, data in dic_inputs.items():\n",
    "    # Convert the dictionary for the current key into a DataFrame\n",
    "    df = pd.DataFrame(data)\n",
    "    # Concatenate the current DataFrame with the combined DataFrame\n",
    "    combined_df = pd.concat([combined_df, df], axis=1)"
   ]
  },
  {
   "cell_type": "code",
   "execution_count": 15,
   "id": "1bc8cf1e-5616-48d2-b7ce-8a90e1035101",
   "metadata": {},
   "outputs": [
    {
     "data": {
      "text/plain": [
       "{'OLR_ERA5':                    0         1         2         3         4         5  \\\n",
       " 1981-01-05 -1.260979 -0.117326 -1.237642  1.996850 -1.867071  1.527498   \n",
       " 1981-01-08 -1.297153  0.106218 -2.044141  1.851592 -2.221492  1.766507   \n",
       " 1981-01-12 -0.976288  0.376949 -1.989342  1.557745 -2.734780  1.866513   \n",
       " 1981-01-15 -0.506496  0.347117 -1.996729  0.642193 -2.406635  1.755482   \n",
       " 1981-01-19 -0.459188  0.158189 -2.371535  0.347430 -1.742322  1.278521   \n",
       " ...              ...       ...       ...       ...       ...       ...   \n",
       " 2020-11-12  0.158695 -0.239138  0.590168  0.948768 -0.268944 -0.276295   \n",
       " 2020-11-16  1.152207 -0.682926 -0.226729  1.314718 -1.074993 -0.659972   \n",
       " 2020-11-19  1.496329 -1.092549  0.036611  1.696998 -1.809858 -0.838369   \n",
       " 2020-11-23  0.271343 -1.498994  1.265712  1.828534 -1.732527 -0.665667   \n",
       " 2020-11-26 -0.309994 -1.628059  1.228279  1.919033 -1.113822 -0.072148   \n",
       " \n",
       "                    6         7         8         9        10        11  \n",
       " 1981-01-05 -0.130955  0.025602 -0.087992  0.593783 -0.066748 -2.144194  \n",
       " 1981-01-08 -0.751673 -0.743016 -0.193506  0.261329 -1.234976 -1.718334  \n",
       " 1981-01-12 -1.166665 -1.312191 -0.861160  0.643051 -1.371811 -1.629305  \n",
       " 1981-01-15 -1.178779 -1.076546 -1.230921  1.285469 -0.679029 -1.302094  \n",
       " 1981-01-19 -0.901889 -1.003597 -1.372280  1.547836 -0.491125 -0.123080  \n",
       " ...              ...       ...       ...       ...       ...       ...  \n",
       " 2020-11-12  1.130304 -1.643485  0.066103  0.150927 -0.055682  0.673545  \n",
       " 2020-11-16  1.212453 -2.072696 -0.692550  0.262889 -0.562751  0.671747  \n",
       " 2020-11-19  0.962084 -1.951294 -1.030403 -0.714029 -0.500718 -0.143723  \n",
       " 2020-11-23  0.134591 -1.503357 -0.222179 -1.576151 -1.326768 -0.238249  \n",
       " 2020-11-26 -0.438899 -1.152723 -0.230323 -1.508793 -1.827543 -0.360945  \n",
       " \n",
       " [4164 rows x 12 columns],\n",
       " 'U10_ERA5':                    0         1         2         3         4         5  \\\n",
       " 1981-01-05 -0.821105 -1.505114  0.297708  1.604755 -0.843778  1.121945   \n",
       " 1981-01-08 -0.762007 -1.436676  0.084572  1.703159 -0.540934  0.930758   \n",
       " 1981-01-12 -0.717216 -1.467330 -0.300721  1.314217 -0.418378  0.662415   \n",
       " 1981-01-15 -0.707692 -1.382266 -0.652266  0.991234 -0.276391  0.498591   \n",
       " 1981-01-19 -0.708867 -0.832775 -1.775681  0.734321  0.106785  0.309737   \n",
       " ...              ...       ...       ...       ...       ...       ...   \n",
       " 2020-11-12 -0.599699 -0.904945  1.548080  1.530066 -0.123563 -0.908147   \n",
       " 2020-11-16 -0.585193 -0.690063  1.426797  1.863375  0.181903 -0.490914   \n",
       " 2020-11-19 -0.586891 -0.738992  1.597686  1.957592  0.520111 -0.044827   \n",
       " 2020-11-23 -0.628450 -1.077077  2.750270  1.614760  0.822487  0.170609   \n",
       " 2020-11-26 -0.650943 -1.252266  2.942911  1.131600  0.618659 -0.122246   \n",
       " \n",
       "                    6         7         8         9        10        11  \n",
       " 1981-01-05 -2.169030  2.118493  0.475247 -1.214366  0.687066 -0.422399  \n",
       " 1981-01-08 -2.301293  1.898632  0.135630 -0.957038  1.196359 -0.354667  \n",
       " 1981-01-12 -2.354668  0.941615 -0.394515 -0.750937  2.127329 -1.104007  \n",
       " 1981-01-15 -2.000560 -0.457030  0.335931 -0.792094  2.360397 -1.931818  \n",
       " 1981-01-19 -1.539260 -1.557194  0.629861 -0.729245  1.745666 -1.314693  \n",
       " ...              ...       ...       ...       ...       ...       ...  \n",
       " 2020-11-12  0.042550 -0.110058  1.084348 -1.594199  0.097994  0.941944  \n",
       " 2020-11-16 -0.008118 -0.625147  1.296366 -0.845647 -1.370360  0.995367  \n",
       " 2020-11-19 -0.359287 -0.592346  1.499353 -0.175460 -1.052176  0.055672  \n",
       " 2020-11-23 -0.625855 -0.483324  1.449054 -0.131113  0.755923 -0.494767  \n",
       " 2020-11-26 -0.662775 -1.033200  1.293535 -0.486139  1.798536 -0.863278  \n",
       " \n",
       " [4164 rows x 12 columns],\n",
       " 'U200_ERA5':                    0         1         2         3         4         5  \\\n",
       " 1981-01-05  0.646501 -1.978342 -1.125650 -0.968346 -1.469605  0.732570   \n",
       " 1981-01-08  0.733892 -2.077755 -1.036312 -0.833524 -1.268175  0.489865   \n",
       " 1981-01-12  1.373393 -1.752409 -0.409099 -1.040390 -1.849430  0.163828   \n",
       " 1981-01-15  1.457678 -1.715844 -0.337790 -1.086089 -1.718122 -0.063284   \n",
       " 1981-01-19  0.797038 -1.881739 -0.958668 -0.854004 -1.707830 -0.103108   \n",
       " ...              ...       ...       ...       ...       ...       ...   \n",
       " 2020-11-12 -1.591366 -0.724687  0.283776  1.768316  0.081391  1.391614   \n",
       " 2020-11-16 -1.441257 -0.515883 -0.866715  0.577640 -0.428548  2.935933   \n",
       " 2020-11-19 -1.411545 -0.171435 -0.512098  0.246987 -0.959255  2.923307   \n",
       " 2020-11-23 -1.704999 -0.873041  0.442481  0.217196 -1.332951  1.655917   \n",
       " 2020-11-26 -1.682693 -1.631463  0.527422  0.055024 -1.237092  0.873176   \n",
       " \n",
       "                    6         7         8         9        10        11  \n",
       " 1981-01-05  1.480303 -0.649998  0.464138  0.887913 -0.600091  1.024063  \n",
       " 1981-01-08  1.968818 -0.794568  0.335488  0.771426  0.322917  0.587489  \n",
       " 1981-01-12  2.415756 -0.447325  0.279518  0.895907  1.075236 -0.460291  \n",
       " 1981-01-15  1.590883 -0.173995  0.731795  1.229006  1.042987 -0.634845  \n",
       " 1981-01-19  0.784664 -0.618458  0.323922  1.827124  0.495543  0.384126  \n",
       " ...              ...       ...       ...       ...       ...       ...  \n",
       " 2020-11-12  0.474076  1.637544 -0.170440  1.557737 -0.376098 -1.195155  \n",
       " 2020-11-16 -0.157782  1.450270 -0.137187  1.950783  0.279200 -0.229443  \n",
       " 2020-11-19  0.234834  0.875627  0.471786  1.529331 -0.730667 -0.716725  \n",
       " 2020-11-23  1.135246 -0.346765  1.256988  1.120681 -1.791392 -0.216643  \n",
       " 2020-11-26  1.061412 -1.576384  1.044052  1.194576 -1.138133  0.271617  \n",
       " \n",
       " [4164 rows x 12 columns],\n",
       " 'Z500_ERA5':                    0         1         2         3         4         5  \\\n",
       " 1981-01-05 -0.905692 -0.902679 -1.665042 -1.655939 -1.190646 -0.493129   \n",
       " 1981-01-08 -0.749250 -1.102583 -1.908221 -1.501605 -1.296634 -0.785008   \n",
       " 1981-01-12 -0.322160 -1.236606 -1.357821 -1.947412 -1.444869 -1.086685   \n",
       " 1981-01-15 -0.244844 -1.278643 -0.927806 -1.422149 -1.966918 -0.461856   \n",
       " 1981-01-19 -0.390816 -1.621176 -1.243067 -0.828214 -2.299622 -0.232902   \n",
       " ...              ...       ...       ...       ...       ...       ...   \n",
       " 2020-11-12  1.378893 -1.507421  1.522768 -0.069098  0.264769  1.127778   \n",
       " 2020-11-16  0.985279 -1.306840  0.328958 -0.164646  0.672777 -0.198080   \n",
       " 2020-11-19  1.125927 -0.981477  0.754502  0.017186  1.637977 -1.375055   \n",
       " 2020-11-23  1.192724 -0.934577  1.363982  0.103445  1.199002 -1.027358   \n",
       " 2020-11-26  1.105929 -1.020836  0.635108  0.248153 -0.482487 -0.419913   \n",
       " \n",
       "                    6         7         8         9        10        11  \n",
       " 1981-01-05  1.094780 -0.704175  1.753318  1.578312 -1.528162  0.114087  \n",
       " 1981-01-08  1.580506 -1.325815  1.173684  1.533873 -2.018312  0.025120  \n",
       " 1981-01-12  1.583932 -2.048016  0.147003  1.910041 -1.683015 -0.205043  \n",
       " 1981-01-15  1.010708 -1.633225  0.212113  1.826976 -0.843378 -0.290285  \n",
       " 1981-01-19  0.076310 -1.145227  0.499239  1.147283  0.154731 -0.634785  \n",
       " ...              ...       ...       ...       ...       ...       ...  \n",
       " 2020-11-12 -0.911738 -0.969050 -2.088603 -0.755119  0.948676  0.020025  \n",
       " 2020-11-16 -1.243688 -1.334834  0.258515  0.121935  0.436500 -0.015713  \n",
       " 2020-11-19 -0.872282 -1.015814  0.631854  0.701828 -0.624144  0.187256  \n",
       " 2020-11-23  0.175604 -0.923719 -0.490765  0.559546 -1.915539  0.114987  \n",
       " 2020-11-26  0.325209 -1.234401 -0.286030  0.500216 -2.418276  0.070890  \n",
       " \n",
       " [4164 rows x 12 columns]}"
      ]
     },
     "execution_count": 15,
     "metadata": {},
     "output_type": "execute_result"
    }
   ],
   "source": [
    "dic_inputs"
   ]
  },
  {
   "cell_type": "markdown",
   "id": "799ca361-19dd-4467-861b-d5f74d65795a",
   "metadata": {},
   "source": [
    "# Train model"
   ]
  },
  {
   "cell_type": "code",
   "execution_count": 16,
   "id": "8338d33c-cada-4e47-ac27-6b5e29280295",
   "metadata": {},
   "outputs": [],
   "source": [
    "fully_combined_df = pd.concat([combined_df,df_shifts[week_out_str]],axis=1)\n",
    "fully_combined_df = fully_combined_df.dropna()\n",
    "\n",
    "X_train = fully_combined_df['1980':'2015'].iloc[:,:-1].values\n",
    "y_train = fully_combined_df['1980':'2015'].iloc[:,-1].values\n",
    "\n",
    "# X_val = fully_combined_df['2011':'2015'].iloc[:,:-1].values\n",
    "# y_val = fully_combined_df['2011':'2015'].iloc[:,-1].values\n",
    "\n",
    "X_test = fully_combined_df['2016':'2020'].iloc[:,:-1].values\n",
    "y_test = fully_combined_df['2016':'2020'].iloc[:,-1].values"
   ]
  },
  {
   "cell_type": "code",
   "execution_count": 17,
   "id": "8f31ee8c-1e93-44f7-9785-e12e3aac4d70",
   "metadata": {},
   "outputs": [],
   "source": [
    "# clf = ensemble.GradientBoostingClassifier()\n",
    "# clf.fit(X_train, y_train)\n",
    "\n",
    "# acc_train = clf.score(X_train, y_train)\n",
    "# acc_val = clf.score(X_val, y_val)\n",
    "# acc_test = clf.score(X_test, y_test)\n",
    "# print(\"Accuracy train: {:.4f}\".format(acc_train))\n",
    "# print(\"Accuracy val: {:.4f}\".format(acc_val))\n",
    "# print(\"Accuracy test: {:.4f}\".format(acc_test))"
   ]
  },
  {
   "cell_type": "markdown",
   "id": "6d152775-10dc-4652-b2bb-b0940e5953b9",
   "metadata": {},
   "source": [
    "# optimize parameters for week 3"
   ]
  },
  {
   "cell_type": "code",
   "execution_count": 18,
   "id": "ff17857b-9469-4d21-b6a7-8d92f405db68",
   "metadata": {},
   "outputs": [],
   "source": [
    "param_grid = {\n",
    "    'n_estimators': [100, 200, 300],\n",
    "    'learning_rate': [0.01, 0.1, 0.2],\n",
    "    'max_depth': [3, 4, 5, 6, 7],\n",
    "    'min_samples_split': [2, 3, 4, 5],\n",
    "    'min_samples_leaf': [1, 2, 3, 4],\n",
    "    'subsample': [0.8, 0.9, 1.0],\n",
    "    'max_features': ['sqrt', 'log2', None],\n",
    "    'random_state': [42],  # Set to a specific value for reproducibility\n",
    "    'criterion': ['friedman_mse', 'squared_error'],  # Splitting criterion\n",
    "    'min_impurity_decrease': [0.0, 0.1, 0.2],  # Minimum impurity decrease for split\n",
    "    'min_weight_fraction_leaf': [0.0, 0.1, 0.2],  # Minimum weighted fraction for leaf\n",
    "}"
   ]
  },
  {
   "cell_type": "code",
   "execution_count": 21,
   "id": "1fe5fcd1-0c99-4a92-8576-65fd05522700",
   "metadata": {
    "tags": []
   },
   "outputs": [],
   "source": [
    "# Create the GradientBoostingClassifier\n",
    "clf = ensemble.GradientBoostingClassifier()\n",
    "\n",
    "# Create the Grid Search object\n",
    "grid_search = RandomizedSearchCV(clf, param_grid, cv=5, scoring='accuracy', \n",
    "                                 n_jobs=18,n_iter=100,return_train_score=True)\n",
    "\n",
    "# Fit the model with training data\n",
    "grid_search.fit(X_train, y_train)\n",
    "\n",
    "# Get the best parameters and best estimator\n",
    "best_params = grid_search.best_params_\n",
    "best_clf = grid_search.best_estimator_\n",
    "best_score = grid_search.best_score_"
   ]
  },
  {
   "cell_type": "code",
   "execution_count": 22,
   "id": "b2febed0-ce1c-4cdd-99ac-70185cdbbcda",
   "metadata": {},
   "outputs": [
    {
     "name": "stdout",
     "output_type": "stream",
     "text": [
      "Accuracy train: 0.7533\n",
      "Accuracy test: 0.5410\n"
     ]
    }
   ],
   "source": [
    "acc_train = best_clf.score(X_train, y_train)\n",
    "# acc_val = best_clf.score(X_val, y_val)\n",
    "acc_test = best_clf.score(X_test, y_test)\n",
    "print(\"Accuracy train: {:.4f}\".format(acc_train))\n",
    "# print(\"Accuracy val: {:.4f}\".format(acc_val))\n",
    "print(\"Accuracy test: {:.4f}\".format(acc_test))"
   ]
  },
  {
   "cell_type": "markdown",
   "id": "691f29f7-ee42-4fd7-9c8b-ea5d87b1ef2b",
   "metadata": {},
   "source": [
    "# Iterate atmosphere, land, ocean"
   ]
  },
  {
   "cell_type": "code",
   "execution_count": 35,
   "id": "8a87a8a2-b94f-4522-a2bb-b62a84024d92",
   "metadata": {},
   "outputs": [
    {
     "name": "stdout",
     "output_type": "stream",
     "text": [
      "0 IC_SODA\n",
      "1 IT_SODA\n",
      "2 MLD_SODA\n",
      "3 OHC100_SODA\n",
      "4 OHC200_SODA\n",
      "5 OHC300_SODA\n",
      "6 OHC50_SODA\n",
      "7 OHC700_SODA\n",
      "8 OLR_ERA5\n",
      "9 SD_ERA5\n",
      "10 SSH_SODA\n",
      "11 SST_OISSTv2\n",
      "12 SST_SODA\n",
      "13 STL_1m_ERA5\n",
      "14 STL_28cm_ERA5\n",
      "15 STL_7cm_ERA5\n",
      "16 STL_full_ERA5\n",
      "17 SWVL_1m_ERA5\n",
      "18 SWVL_28cm_ERA5\n",
      "19 SWVL_7cm_ERA5\n",
      "20 SWVL_full_ERA5\n",
      "21 U10_ERA5\n",
      "22 U200_ERA5\n",
      "23 Z500_ERA5\n"
     ]
    }
   ],
   "source": [
    "for ivar,var in enumerate(list_vars):\n",
    "    print(ivar,var)"
   ]
  },
  {
   "cell_type": "code",
   "execution_count": 36,
   "id": "13f29dd2-b4f0-4206-a9c9-311d6506458b",
   "metadata": {},
   "outputs": [],
   "source": [
    "indices_atmosphere = np.array([8,21,22,23])\n",
    "indices_land = np.array([9,13,16,17,20])\n",
    "indices_ocean = np.array([0,1,2,4,6,10,12])"
   ]
  },
  {
   "cell_type": "code",
   "execution_count": null,
   "id": "4ef76b4c-237e-4c61-9c9d-c590c20cf259",
   "metadata": {
    "tags": []
   },
   "outputs": [
    {
     "name": "stdout",
     "output_type": "stream",
     "text": [
      "dict_keys(['OLR_ERA5', 'U10_ERA5', 'U200_ERA5', 'Z500_ERA5'])\n",
      "1\n",
      "0.3417255401682814\n",
      "0.3411764705882353\n",
      "2\n",
      "0.25657140715477017\n",
      "0.2421259842519685\n",
      "3\n",
      "0.23932087776174504\n",
      "0.17786561264822134\n",
      "4\n",
      "0.2428881434701947\n",
      "0.21825396825396826\n",
      "5\n",
      "0.24314749920356798\n",
      "0.2549800796812749\n",
      "6\n",
      "0.24972883833367687\n",
      "0.226\n",
      "7\n",
      "0.240142420778442\n",
      "0.1746987951807229\n",
      "8\n",
      "0.24014204598691977\n",
      "0.17540322580645162\n",
      "dict_keys(['IC_SODA', 'IT_SODA', 'MLD_SODA', 'OHC200_SODA', 'OHC50_SODA', 'SSH_SODA', 'SST_SODA'])\n",
      "1\n",
      "0.25163990030545513\n",
      "0.31176470588235294\n",
      "2\n",
      "0.239320877761745\n",
      "0.17716535433070865\n",
      "3\n",
      "0.23932087776174504\n",
      "0.17786561264822134\n",
      "4\n",
      "0.23959485036448475\n",
      "0.1765873015873016\n",
      "5\n",
      "0.23959485036448475\n",
      "0.17729083665338646\n",
      "6\n",
      "0.23986844817570224\n",
      "0.176\n",
      "7\n",
      "0.240142420778442\n",
      "0.1746987951807229\n",
      "8\n",
      "0.24014204598691977\n",
      "0.17540322580645162\n",
      "dict_keys(['SD_ERA5', 'STL_1m_ERA5', 'STL_full_ERA5', 'SWVL_1m_ERA5', 'SWVL_full_ERA5'])\n",
      "1\n",
      "0.26259130858459984\n",
      "0.22941176470588234\n",
      "2\n",
      "0.2532796132151491\n",
      "0.23818897637795275\n",
      "3\n"
     ]
    }
   ],
   "source": [
    "for component in ['atm','ocn','lnd']:\n",
    "    if component=='atm':\n",
    "        dic_inputs = {}\n",
    "        for ivar in indices_atmosphere:\n",
    "            dic_inputs[list_vars[ivar]] = pd.read_csv(f'{list_folders[ivar]}PC_{list_vars[ivar]}.csv',index_col=0,parse_dates=True)\n",
    "    elif component =='ocn':\n",
    "        dic_inputs = {}\n",
    "        for ivar in indices_ocean:\n",
    "            dic_inputs[list_vars[ivar]] = pd.read_csv(f'{list_folders[ivar]}PC_{list_vars[ivar]}.csv',index_col=0,parse_dates=True)\n",
    "    elif component =='lnd':\n",
    "        dic_inputs = {}\n",
    "        for ivar in indices_land:\n",
    "            dic_inputs[list_vars[ivar]] = pd.read_csv(f'{list_folders[ivar]}PC_{list_vars[ivar]}.csv',index_col=0,parse_dates=True)\n",
    "    print(dic_inputs.keys())\n",
    "    # Create an empty DataFrame to store the combined data\n",
    "    combined_df = pd.DataFrame()\n",
    "\n",
    "    # Loop through the dictionary and concatenate the dataframes\n",
    "    for key, data in dic_inputs.items():\n",
    "        # Convert the dictionary for the current key into a DataFrame\n",
    "        df = pd.DataFrame(data)\n",
    "        # Concatenate the current DataFrame with the combined DataFrame\n",
    "        combined_df = pd.concat([combined_df, df], axis=1)\n",
    "    \n",
    "    scores_test = []\n",
    "    scores_val = []\n",
    "    \n",
    "    for week_out in np.arange(1,9):\n",
    "        print(week_out)\n",
    "        week_out_str = f'week{week_out}'\n",
    "        fully_combined_df = pd.concat([combined_df,df_shifts[week_out_str]],axis=1)\n",
    "        fully_combined_df = fully_combined_df.dropna()\n",
    "\n",
    "        X_train = fully_combined_df['1980':'2015'].iloc[:,:-1].values\n",
    "        y_train = fully_combined_df['1980':'2015'].iloc[:,-1].values\n",
    "\n",
    "        X_test = fully_combined_df['2016':'2020'].iloc[:,:-1].values\n",
    "        y_test = fully_combined_df['2016':'2020'].iloc[:,-1].values\n",
    "        \n",
    "        param_grid = {\n",
    "            'n_estimators': [100, 200, 300],\n",
    "            'learning_rate': [0.01, 0.1, 0.2],\n",
    "            'max_depth': [3, 4, 5, 6, 7],\n",
    "            'min_samples_split': [2, 3, 4, 5],\n",
    "            'min_samples_leaf': [1, 2, 3, 4],\n",
    "            'subsample': [0.5, 0.7, 0.9, 1],\n",
    "            'max_features': ['sqrt', 'log2', None],\n",
    "            'random_state': [42],  # Set to a specific value for reproducibility\n",
    "            'criterion': ['friedman_mse', 'squared_error'],  # Splitting criterion\n",
    "            'min_impurity_decrease': [0.0, 0.1, 0.2],  # Minimum impurity decrease for split\n",
    "            'min_weight_fraction_leaf': [0.0, 0.1, 0.2],  # Minimum weighted fraction for leaf\n",
    "        }\n",
    "        # Create the GradientBoostingClassifier\n",
    "        clf = ensemble.GradientBoostingClassifier()\n",
    "\n",
    "        # Create the Grid Search object\n",
    "        grid_search = RandomizedSearchCV(clf, param_grid, cv=5, scoring='accuracy', n_jobs=18,n_iter=100,return_train_score=True)\n",
    "\n",
    "        # Fit the model with training data\n",
    "        grid_search.fit(X_train, y_train)\n",
    "        np.save(f'results/{component}_cv_results',grid_search.cv_results_)\n",
    "        # Get the best parameters and best estimator\n",
    "        best_params = grid_search.best_params_\n",
    "        best_clf = grid_search.best_estimator_\n",
    "        best_score = grid_search.best_score_\n",
    "        \n",
    "        scores_test.append(best_clf.score(X_test, y_test))\n",
    "        scores_val.append(best_score)\n",
    "        results = pd.DataFrame(np.array([best_clf.predict(X_test),y_test]).T,\n",
    "                     index=fully_combined_df['2016':'2020'].index,\n",
    "                     columns=['y_predicted','y_test'])\n",
    "        \n",
    "        np.save(f'results/{component}_scores_test',np.array(scores_test))\n",
    "        np.save(f'results/{component}_scores_val',np.array(scores_val))\n",
    "        print(best_score)\n",
    "        print(scores_test[-1])\n",
    "        results.to_csv(f'results/results_{component}_{week_out_str}.csv')"
   ]
  },
  {
   "cell_type": "code",
   "execution_count": null,
   "id": "2ff5af9c-06e2-4fd8-9af0-a045a73f7adb",
   "metadata": {},
   "outputs": [],
   "source": []
  }
 ],
 "metadata": {
  "kernelspec": {
   "display_name": "Python [conda env:cnn_wr]",
   "language": "python",
   "name": "conda-env-cnn_wr-py"
  },
  "language_info": {
   "codemirror_mode": {
    "name": "ipython",
    "version": 3
   },
   "file_extension": ".py",
   "mimetype": "text/x-python",
   "name": "python",
   "nbconvert_exporter": "python",
   "pygments_lexer": "ipython3",
   "version": "3.9.15"
  }
 },
 "nbformat": 4,
 "nbformat_minor": 5
}
