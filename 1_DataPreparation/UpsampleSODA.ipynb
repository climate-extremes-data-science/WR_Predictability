{
 "cells": [
  {
   "cell_type": "code",
   "execution_count": 1,
   "id": "c0fee796-29be-4c44-8604-a0d098101b1a",
   "metadata": {},
   "outputs": [],
   "source": [
    "import numpy as np\n",
    "import pandas as pd\n",
    "import xarray as xr\n",
    "import matplotlib.pyplot as plt\n",
    "import glob\n",
    "import datetime as dt\n",
    "import os\n",
    "import gc\n",
    "from multiprocessing import Pool"
   ]
  },
  {
   "cell_type": "code",
   "execution_count": 2,
   "id": "a7088e44-b8a1-4ae5-b728-6a3ab75d53bb",
   "metadata": {},
   "outputs": [],
   "source": [
    "def get_list_of_files_soda_original(path_files, origin, var,year=None):\n",
    "    path_var = f'{path_files}{origin}/{var}/'\n",
    "    if year == None:\n",
    "        return np.sort(glob.glob(f'{path_var}*.nc'))\n",
    "    else:\n",
    "        return np.hstack([np.sort(glob.glob(f'{path_var}{var}_{year-1}*.nc')),\n",
    "                         np.sort(glob.glob(f'{path_var}{var}_{year}*.nc')),\n",
    "                         np.sort(glob.glob(f'{path_var}{var}_{year+1}*.nc'))])"
   ]
  },
  {
   "cell_type": "code",
   "execution_count": 3,
   "id": "355ecf73-9398-4b08-860c-899f01224916",
   "metadata": {},
   "outputs": [],
   "source": [
    "path_files = '/glade/work/jhayron/Data4Predictability/'\n",
    "path_outputs = '/glade/work/jhayron/Data4Predictability/SODA_Daily/'\n",
    "vars_soda = ['MLD', 'MLP', 'OHC100', 'OHC200', 'OHC300', 'OHC50', 'OHC700', 'SSH', 'SST', 'IC', 'IT']\n",
    "origins = ['SODA', 'SODA', 'SODA', 'SODA', 'SODA', 'SODA', 'SODA', 'SODA', 'SODA', 'SODA_Ice', 'SODA_Ice']"
   ]
  },
  {
   "cell_type": "code",
   "execution_count": 4,
   "id": "e7d4cdc0-4eee-421a-a181-ce8cd00ee882",
   "metadata": {},
   "outputs": [],
   "source": [
    "# for ivar in range(2,len(vars_soda)):\n",
    "#     print(vars_soda[ivar])\n",
    "#     print(dt.datetime.now())\n",
    "#     for year in range(1980,2021):\n",
    "#         if year%10==0:\n",
    "#             print(year)\n",
    "#         list_of_files = get_list_of_files_soda_original(path_files,origins[ivar],vars_soda[ivar],year)\n",
    "\n",
    "#         dataset_full_original = xr.open_mfdataset(list_of_files)\n",
    "#         dataset_daily = dataset_full_original.resample(time='1D').interpolate('linear')\n",
    "\n",
    "#         var_nc = list(dataset_daily.variables)[-2]\n",
    "#         values = dataset_daily[var_nc].values\n",
    "#         if 'OHC' in vars_soda[ivar]:\n",
    "#             values[values==0] = np.nan\n",
    "#             values[values<=0] = np.nan\n",
    "#         dataset_daily[var_nc].values = values\n",
    "#         dataset_daily = dataset_daily.sel(time=dataset_daily.time.dt.year.isin([year]))\n",
    "#         del(dataset_full_original)\n",
    "#         gc.collect()\n",
    "#         for date in dataset_daily.time:\n",
    "#             ds_temp = dataset_daily.sel(time=date)\n",
    "#             if os.path.exists(path_outputs+f'{vars_soda[ivar]}/') == False:\n",
    "#                 os.mkdir(path_outputs+f'{vars_soda[ivar]}/')\n",
    "#             str_date = str(date.values)[:10].replace('-','_')\n",
    "#             ds_temp.to_netcdf(f'{path_outputs}{vars_soda[ivar]}/{vars_soda[ivar]}_Daily_05Deg_{str_date}.nc')\n",
    "#             del(ds_temp)\n",
    "#             gc.collect()\n",
    "#         del(dataset_daily)\n",
    "#         gc.collect()\n",
    "        "
   ]
  },
  {
   "cell_type": "markdown",
   "id": "cf6b0133-796d-42b9-911b-696b7377a43d",
   "metadata": {},
   "source": [
    "# Multiprocessing version"
   ]
  },
  {
   "cell_type": "code",
   "execution_count": 5,
   "id": "7161c38e-5a62-40e2-b52b-0c42d4b756c5",
   "metadata": {},
   "outputs": [],
   "source": [
    "def upsample_variable(ivar):\n",
    "    print(vars_soda[ivar])\n",
    "    # print(dt.datetime.now())\n",
    "    for year in range(1980,2021):\n",
    "        # if year%10==0:\n",
    "        #     print(year)\n",
    "        list_of_files = get_list_of_files_soda_original(path_files,origins[ivar],vars_soda[ivar],year)\n",
    "\n",
    "        dataset_full_original = xr.open_mfdataset(list_of_files)\n",
    "        dataset_daily = dataset_full_original.resample(time='1D').interpolate('linear')\n",
    "\n",
    "        var_nc = list(dataset_daily.variables)[-2]\n",
    "        values = dataset_daily[var_nc].values\n",
    "        if 'OHC' in vars_soda[ivar]:\n",
    "            values[values==0] = np.nan\n",
    "            values[values<=0] = np.nan\n",
    "        dataset_daily[var_nc].values = values\n",
    "        dataset_daily = dataset_daily.sel(time=dataset_daily.time.dt.year.isin([year]))\n",
    "        del(dataset_full_original)\n",
    "        gc.collect()\n",
    "        for date in dataset_daily.time:\n",
    "            ds_temp = dataset_daily.sel(time=date)\n",
    "            if os.path.exists(path_outputs+f'{vars_soda[ivar]}/') == False:\n",
    "                os.mkdir(path_outputs+f'{vars_soda[ivar]}/')\n",
    "            str_date = str(date.values)[:10]#.replace('-','_')\n",
    "            ds_temp.to_netcdf(f'{path_outputs}{vars_soda[ivar]}/{vars_soda[ivar]}_Daily_05Deg_{str_date}.nc')\n",
    "            del(ds_temp)\n",
    "            gc.collect()\n",
    "        del(dataset_daily)\n",
    "        gc.collect()\n",
    "        "
   ]
  },
  {
   "cell_type": "code",
   "execution_count": null,
   "id": "a0dde9f2-0b33-4f81-b31a-cb0464f939a8",
   "metadata": {},
   "outputs": [
    {
     "name": "stdout",
     "output_type": "stream",
     "text": [
      "MLPMLDOHC200OHC100OHC300OHC50OHC700SSHSSTICIT\n",
      "\n",
      "\n",
      "\n",
      "\n",
      "\n",
      "\n",
      "\n",
      "\n",
      "\n",
      "\n"
     ]
    }
   ],
   "source": [
    "with Pool(11) as p:\n",
    "    print(p.map(upsample_variable, np.arange(0,len(vars_soda)).tolist()))"
   ]
  },
  {
   "cell_type": "code",
   "execution_count": null,
   "id": "2148a643-e7d2-4d4e-8f52-b8bba80770b1",
   "metadata": {},
   "outputs": [],
   "source": []
  }
 ],
 "metadata": {
  "kernelspec": {
   "display_name": "Python [conda env:weather_regimes]",
   "language": "python",
   "name": "conda-env-weather_regimes-py"
  },
  "language_info": {
   "codemirror_mode": {
    "name": "ipython",
    "version": 3
   },
   "file_extension": ".py",
   "mimetype": "text/x-python",
   "name": "python",
   "nbconvert_exporter": "python",
   "pygments_lexer": "ipython3",
   "version": "3.9.13"
  }
 },
 "nbformat": 4,
 "nbformat_minor": 5
}
