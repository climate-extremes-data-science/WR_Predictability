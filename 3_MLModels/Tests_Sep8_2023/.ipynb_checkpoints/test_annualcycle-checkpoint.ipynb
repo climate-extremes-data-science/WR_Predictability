{
 "cells": [
  {
   "cell_type": "code",
   "execution_count": 1,
   "id": "3c99eff4-125a-49ef-afaf-558b0df7144d",
   "metadata": {},
   "outputs": [
    {
     "name": "stderr",
     "output_type": "stream",
     "text": [
      "2023-09-08 14:23:58.932605: I tensorflow/stream_executor/platform/default/dso_loader.cc:49] Successfully opened dynamic library libcudart.so.10.1\n",
      "/glade/work/jhayron/conda-envs/cnn_wr/lib/python3.9/site-packages/tqdm/auto.py:22: TqdmWarning: IProgress not found. Please update jupyter and ipywidgets. See https://ipywidgets.readthedocs.io/en/stable/user_install.html\n",
      "  from .autonotebook import tqdm as notebook_tqdm\n"
     ]
    }
   ],
   "source": [
    "import numpy as np\n",
    "import xarray as xr\n",
    "import pandas as pd\n",
    "import copy\n",
    "from datetime import datetime, timedelta\n",
    "from keras.utils import to_categorical\n",
    "# import visual keras\n",
    "# import tensorflow as tf\n",
    "from sklearn.metrics import balanced_accuracy_score\n",
    "import optuna\n",
    "from optuna.samplers import TPESampler\n",
    "import keras\n",
    "from keras.callbacks import ModelCheckpoint\n",
    "from sklearn.utils.class_weight import compute_class_weight\n",
    "import sys\n",
    "import os\n",
    "import joblib\n",
    "import matplotlib.pyplot as plt"
   ]
  },
  {
   "cell_type": "code",
   "execution_count": 2,
   "id": "dc3de435-d5d1-4c9f-a3ae-8cb02b3823d9",
   "metadata": {},
   "outputs": [],
   "source": [
    "sys.path.append(\"/glade/u/home/jhayron/WR_Predictability/3_MLModels/\")\n",
    "from model_builders_v2 import *"
   ]
  },
  {
   "cell_type": "markdown",
   "id": "af3c43fd-d289-4bab-b0e0-7a67ddcc3861",
   "metadata": {
    "tags": []
   },
   "source": [
    "## Helper functions"
   ]
  },
  {
   "cell_type": "code",
   "execution_count": 3,
   "id": "d65e0089-54e7-4056-9265-2504ea04161d",
   "metadata": {},
   "outputs": [],
   "source": [
    "# def create_tf_datasets(input_data, output_data):\n",
    "#     # Convert xarray dataset to numpy array for TensorFlow Dataset\n",
    "#     input_images = input_data.transpose('time', 'lat', 'lon','channel').values\n",
    "#     output_one_hot = output_data.values\n",
    "\n",
    "#     # Create TensorFlow Datasets\n",
    "#     input_dataset = tf.data.Dataset.from_tensor_slices(input_images)\n",
    "#     output_dataset = tf.data.Dataset.from_tensor_slices(output_one_hot)\n",
    "\n",
    "#     # Combine input and output datasets into a joint dataset\n",
    "#     joint_dataset = tf.data.Dataset.zip((input_dataset, output_dataset))\n",
    "\n",
    "#     return joint_dataset\n",
    "def create_tf_datasets(input_data, output_data):\n",
    "    # Convert xarray dataset to numpy array for TensorFlow Dataset\n",
    "    input_images = input_data.transpose('time', 'lat', 'lon','channel').values\n",
    "    output_one_hot = output_data.values\n",
    "\n",
    "    # Create TensorFlow Datasets\n",
    "    input_dataset = tf.data.Dataset.from_tensor_slices(input_images)\n",
    "    output_dataset = tf.data.Dataset.from_tensor_slices(output_one_hot)\n",
    "\n",
    "    # Combine input and output datasets into a joint dataset\n",
    "    joint_dataset = tf.data.Dataset.zip((input_dataset, output_dataset))\n",
    "\n",
    "    return (input_images,output_one_hot)\n",
    "\n",
    "def create_datasets(input_anoms, var_name, df_shifts, week_out):\n",
    "# Assuming you have the xarray.Dataset 'input_data' and the pandas.Series 'output_data'\n",
    "    input_data = copy.deepcopy(input_anoms[var_name])\n",
    "\n",
    "    array_temp = input_data.data\n",
    "    array_temp[np.isfinite(array_temp)==False]=0\n",
    "    input_data.data = array_temp\n",
    "\n",
    "#     input_data = (input_data - input_data.mean('time')) / (input_data.std('time'))\n",
    "    \n",
    "#     input_data[np.isfinite(array_temp)==False] = 0\n",
    "    \n",
    "    # Reshape the data to add a new dimension\n",
    "    values_reshaped = input_data.values.reshape(input_data.shape[0], input_data.shape[1], input_data.shape[2], 1)\n",
    "\n",
    "    # Create a new xarray.DataArray with the reshaped data and the original coordinates\n",
    "    input_data = xr.DataArray(values_reshaped, coords=input_data.coords, dims=('time', 'lat', 'lon', 'channel'))\n",
    "    output_data = copy.deepcopy(df_shifts[f'week{week_out}']).dropna()\n",
    "\n",
    "    # Step 1: Create a common date index that includes all dates in both the input and output data\n",
    "    common_dates = np.intersect1d(input_data['time'].values, output_data.index)\n",
    "\n",
    "    # Step 2: Reindex the input xarray dataset and the output DataFrame to the common date index\n",
    "    input_data = input_data.sel(time=common_dates)\n",
    "    output_data = output_data.loc[common_dates]\n",
    "\n",
    "    # Step 3: One-hot encode the output DataFrame using to_categorical\n",
    "    num_classes = len(output_data.unique())  # Number of classes (number of weeks in this case)\n",
    "    output_data_encoded = to_categorical(output_data, num_classes=num_classes)\n",
    "    output_data_encoded = pd.DataFrame(output_data_encoded,index=output_data.index)\n",
    "\n",
    "    # Step 4: Create masks for training, validation, and testing periods\n",
    "    train_mask = (output_data.index >= '1980-01-01') & (output_data.index <= '2010-12-31')\n",
    "    val_mask = (output_data.index >= '2011-01-01') & (output_data.index <= '2015-12-31')\n",
    "    test_mask = (output_data.index >= '2016-01-01') & (output_data.index <= '2020-12-31')\n",
    "\n",
    "    # Step 5: Split the input xarray dataset and the output DataFrame into subsets\n",
    "    input_train = input_data.sel(time=train_mask)\n",
    "    input_val = input_data.sel(time=val_mask)\n",
    "    input_test = input_data.sel(time=test_mask)\n",
    "\n",
    "    output_train = output_data_encoded.loc[train_mask]\n",
    "    output_val = output_data_encoded.loc[val_mask]\n",
    "    output_test = output_data_encoded.loc[test_mask]\n",
    "\n",
    "    train_joint_dataset = create_tf_datasets(input_train, output_train)\n",
    "    val_joint_dataset = create_tf_datasets(input_val, output_val)\n",
    "    test_joint_dataset = create_tf_datasets(input_test, output_test)\n",
    "\n",
    "    # buffer_size = train_joint_dataset.cardinality()\n",
    "    # train_joint_dataset = train_joint_dataset.shuffle(buffer_size)\n",
    "    return train_joint_dataset, val_joint_dataset, test_joint_dataset\n",
    "\n",
    "def get_output_from_dataset(dataset):\n",
    "    output_array = []\n",
    "    for input_data, output_data in dataset.as_numpy_iterator():\n",
    "        output_array.append(output_data)\n",
    "\n",
    "    # Convert the list of NumPy arrays into a single NumPy array\n",
    "    output_array = np.array(output_array)\n",
    "    return output_array\n",
    "\n",
    "def balanced_accuracy(y_true, y_pred):\n",
    "    y_true = tf.argmax(y_true, axis=1)\n",
    "    y_pred = tf.argmax(y_pred, axis=1)\n",
    "    return tf.py_function(balanced_accuracy_score, (y_true, y_pred), tf.float32)\n",
    "\n",
    "def logging_callback(study, frozen_trial):\n",
    "    previous_best_value = study.user_attrs.get(\"previous_best_value\", None)\n",
    "    if previous_best_value != study.best_value:\n",
    "        study.set_user_attr(\"previous_best_value\", study.best_value)\n",
    "        print(\n",
    "            \"Trial {} finished with best value: {} and parameters: {}. \".format(\n",
    "            frozen_trial.number,\n",
    "            frozen_trial.value,\n",
    "            frozen_trial.params,\n",
    "            )\n",
    "        )"
   ]
  },
  {
   "cell_type": "code",
   "execution_count": 4,
   "id": "a26d5758-dfcf-475f-ab31-1b2e14c0c40a",
   "metadata": {},
   "outputs": [],
   "source": [
    "def create_datasets_multichannel(input_data, df_shifts, week_out):\n",
    "# Assuming you have the xarray.Dataset 'input_data' and the pandas.Series 'output_data'\n",
    "\n",
    "    # Create a new xarray.DataArray with the reshaped data and the original coordinates\n",
    "    output_data = copy.deepcopy(df_shifts[f'week{week_out}']).dropna()\n",
    "\n",
    "    # Step 1: Create a common date index that includes all dates in both the input and output data\n",
    "    common_dates = np.intersect1d(input_data['time'].values, output_data.index)\n",
    "\n",
    "    # Step 2: Reindex the input xarray dataset and the output DataFrame to the common date index\n",
    "    input_data = input_data.sel(time=common_dates)\n",
    "    output_data = output_data.loc[common_dates]\n",
    "\n",
    "    # Step 3: One-hot encode the output DataFrame using to_categorical\n",
    "    num_classes = len(output_data.unique())  # Number of classes (number of weeks in this case)\n",
    "    output_data_encoded = to_categorical(output_data, num_classes=num_classes)\n",
    "    output_data_encoded = pd.DataFrame(output_data_encoded,index=output_data.index)\n",
    "\n",
    "    # Step 4: Create masks for training, validation, and testing periods\n",
    "    train_mask = (output_data.index >= '1980-01-01') & (output_data.index <= '2010-12-31')\n",
    "    val_mask = (output_data.index >= '2011-01-01') & (output_data.index <= '2015-12-31')\n",
    "    test_mask = (output_data.index >= '2016-01-01') & (output_data.index <= '2020-12-31')\n",
    "\n",
    "    # Step 5: Split the input xarray dataset and the output DataFrame into subsets\n",
    "    input_train = input_data.sel(time=train_mask)\n",
    "    input_val = input_data.sel(time=val_mask)\n",
    "    input_test = input_data.sel(time=test_mask)\n",
    "\n",
    "    output_train = output_data_encoded.loc[train_mask]\n",
    "    output_val = output_data_encoded.loc[val_mask]\n",
    "    output_test = output_data_encoded.loc[test_mask]\n",
    "\n",
    "    train_joint_dataset = create_tf_datasets(input_train, output_train)\n",
    "    val_joint_dataset = create_tf_datasets(input_val, output_val)\n",
    "    test_joint_dataset = create_tf_datasets(input_test, output_test)\n",
    "\n",
    "    return train_joint_dataset, val_joint_dataset, test_joint_dataset"
   ]
  },
  {
   "cell_type": "markdown",
   "id": "5989471a-eaaa-43c5-8f51-599709071288",
   "metadata": {},
   "source": [
    "# Training"
   ]
  },
  {
   "cell_type": "code",
   "execution_count": 5,
   "id": "c479563a-1e9e-4926-b735-a3ea74f46c68",
   "metadata": {},
   "outputs": [
    {
     "name": "stdout",
     "output_type": "stream",
     "text": [
      "Num GPUs Available:  1\n"
     ]
    },
    {
     "name": "stderr",
     "output_type": "stream",
     "text": [
      "2023-09-08 14:24:11.541740: I tensorflow/compiler/jit/xla_cpu_device.cc:41] Not creating XLA devices, tf_xla_enable_xla_devices not set\n",
      "2023-09-08 14:24:11.543219: I tensorflow/stream_executor/platform/default/dso_loader.cc:49] Successfully opened dynamic library libcuda.so.1\n",
      "2023-09-08 14:24:11.607867: I tensorflow/core/common_runtime/gpu/gpu_device.cc:1720] Found device 0 with properties: \n",
      "pciBusID: 0000:3d:00.0 name: Tesla V100-SXM2-32GB computeCapability: 7.0\n",
      "coreClock: 1.53GHz coreCount: 80 deviceMemorySize: 31.75GiB deviceMemoryBandwidth: 836.37GiB/s\n",
      "2023-09-08 14:24:11.607912: I tensorflow/stream_executor/platform/default/dso_loader.cc:49] Successfully opened dynamic library libcudart.so.10.1\n",
      "2023-09-08 14:24:11.716022: I tensorflow/stream_executor/platform/default/dso_loader.cc:49] Successfully opened dynamic library libcublas.so.10\n",
      "2023-09-08 14:24:11.716078: I tensorflow/stream_executor/platform/default/dso_loader.cc:49] Successfully opened dynamic library libcublasLt.so.10\n",
      "2023-09-08 14:24:11.718492: I tensorflow/stream_executor/platform/default/dso_loader.cc:49] Successfully opened dynamic library libcufft.so.10\n",
      "2023-09-08 14:24:11.839232: I tensorflow/stream_executor/platform/default/dso_loader.cc:49] Successfully opened dynamic library libcurand.so.10\n",
      "2023-09-08 14:24:11.887519: I tensorflow/stream_executor/platform/default/dso_loader.cc:49] Successfully opened dynamic library libcusolver.so.10\n",
      "2023-09-08 14:24:11.959971: I tensorflow/stream_executor/platform/default/dso_loader.cc:49] Successfully opened dynamic library libcusparse.so.10\n",
      "2023-09-08 14:24:12.015568: I tensorflow/stream_executor/platform/default/dso_loader.cc:49] Successfully opened dynamic library libcudnn.so.7\n",
      "2023-09-08 14:24:12.016703: I tensorflow/core/common_runtime/gpu/gpu_device.cc:1862] Adding visible gpu devices: 0\n"
     ]
    }
   ],
   "source": [
    "import warnings\n",
    "warnings.filterwarnings(\"ignore\", category=UserWarning)\n",
    "\n",
    "## GLOBAL SEED ##    \n",
    "np.random.seed(42)\n",
    "tf.random.set_seed(42)\n",
    "\n",
    "print(\"Num GPUs Available: \", len(tf.config.list_physical_devices('GPU')))"
   ]
  },
  {
   "cell_type": "markdown",
   "id": "ebafd86b-e251-4679-84d1-00e6525bac7f",
   "metadata": {},
   "source": [
    "IC_SODA.nc   OHC100_SODA.nc  OHC50_SODA.nc   SD_ERA5.nc      SST_SODA.nc       STL_7cm_ERA5.nc   SWVL_28cm_ERA5.nc  U10_ERA5.nc\n",
    "IT_SODA.nc   OHC200_SODA.nc  OHC700_SODA.nc  SSH_SODA.nc     STL_1m_ERA5.nc    STL_full_ERA5.nc  SWVL_7cm_ERA5.nc   U200_ERA5.nc\n",
    "MLD_SODA.nc  OHC300_SODA.nc  OLR_ERA5.nc     SST_OISSTv2.nc  STL_28cm_ERA5.nc  SWVL_1m_ERA5.nc   SWVL_full_ERA5.nc  Z500_ERA5.ncm"
   ]
  },
  {
   "cell_type": "code",
   "execution_count": 83,
   "id": "1c5d8577-3dbe-4062-9a39-f63fc66ef446",
   "metadata": {},
   "outputs": [],
   "source": [
    "names_vars = ['Z500_ERA5']\n",
    "\n",
    "path_weekly_anoms = '/glade/scratch/jhayron/Data4Predictability/WeeklyAnoms_DetrendedStd/'\n",
    "# path_weekly_anoms = '/glade/scratch/jhayron/Data4Predictability/WeeklyAnoms_Std_withTrends/'\n",
    "\n",
    "list_input_anoms = []\n",
    "\n",
    "var_names = []\n",
    "for name_var in names_vars:\n",
    "    list_input_anoms.append(xr.open_dataset(f'{path_weekly_anoms}{name_var}.nc'))\n",
    "    var_names.append(list(list_input_anoms[-1].data_vars.keys())[0])\n",
    "    \n",
    "full_input_array = np.zeros((list_input_anoms[0][var_names[0]].values.shape[0],240,720,len(list_input_anoms)))\n",
    "\n",
    "for ichannel in range(len(list_input_anoms)):\n",
    "    full_input_array[:,:,:,ichannel] = list_input_anoms[ichannel][var_names[ichannel]].values\n",
    "    \n",
    "full_input_array[np.isfinite(full_input_array)==False]=0\n",
    "\n",
    "time = pd.to_datetime(list_input_anoms[0][var_names[0]].time.values)\n",
    "angles = (time.day_of_year - 1) / 365 * 2 * np.pi\n",
    "cyclical_series = np.sin(angles)\n",
    "\n",
    "array_cyclical = np.ones(full_input_array.shape)\n",
    "\n",
    "for i in range(array_cyclical.shape[1]):\n",
    "    for j in range(array_cyclical.shape[2]):\n",
    "        array_cyclical[:,i,j,0] = cyclical_series\n",
    "\n",
    "full_input_array = np.stack([full_input_array,array_cyclical],axis=-1)\n",
    "full_input_array = full_input_array[:,:,:,0,:]\n",
    "\n",
    "da_input = xr.DataArray(\n",
    "    data=full_input_array,\n",
    "    dims=[\"time\",\"lat\", \"lon\",\"channel\"],\n",
    "    coords=dict(\n",
    "        time=([\"time\"], list_input_anoms[0][var_names[0]].time.values),\n",
    "        lat=([\"lat\"], list_input_anoms[0][var_names[0]].lat.values),\n",
    "        lon=([\"lon\"], list_input_anoms[0][var_names[0]].lon.values),\n",
    "        channel=([\"channel\"], np.arange(full_input_array.shape[-1])),\n",
    "    )\n",
    ")\n"
   ]
  },
  {
   "cell_type": "code",
   "execution_count": 84,
   "id": "3c9a1306-aa91-4167-8863-1cca8a8d6433",
   "metadata": {},
   "outputs": [],
   "source": [
    "del(full_input_array)\n",
    "del(list_input_anoms)\n",
    "del(var_names)\n",
    "del(array_cyclical)"
   ]
  },
  {
   "cell_type": "code",
   "execution_count": 8,
   "id": "2f0ad9e2-7748-43e0-ab72-b268ca1431af",
   "metadata": {},
   "outputs": [],
   "source": [
    "# da_input = da_input.sel(lon=slice(180,330))"
   ]
  },
  {
   "cell_type": "code",
   "execution_count": 85,
   "id": "8631423b-e5df-45bf-acc6-5c355a750e4a",
   "metadata": {},
   "outputs": [
    {
     "name": "stderr",
     "output_type": "stream",
     "text": [
      "2023-09-08 14:55:17.245240: I tensorflow/core/platform/cpu_feature_guard.cc:142] This TensorFlow binary is optimized with oneAPI Deep Neural Network Library (oneDNN) to use the following CPU instructions in performance-critical operations:  SSE4.1 SSE4.2 AVX AVX2 AVX512F FMA\n",
      "To enable them in other operations, rebuild TensorFlow with the appropriate compiler flags.\n",
      "2023-09-08 14:55:17.245372: I tensorflow/compiler/jit/xla_gpu_device.cc:99] Not creating XLA devices, tf_xla_enable_xla_devices not set\n",
      "2023-09-08 14:55:17.246153: I tensorflow/core/common_runtime/gpu/gpu_device.cc:1720] Found device 0 with properties: \n",
      "pciBusID: 0000:3d:00.0 name: Tesla V100-SXM2-32GB computeCapability: 7.0\n",
      "coreClock: 1.53GHz coreCount: 80 deviceMemorySize: 31.75GiB deviceMemoryBandwidth: 836.37GiB/s\n",
      "2023-09-08 14:55:17.246231: I tensorflow/stream_executor/platform/default/dso_loader.cc:49] Successfully opened dynamic library libcudart.so.10.1\n",
      "2023-09-08 14:55:17.246263: I tensorflow/stream_executor/platform/default/dso_loader.cc:49] Successfully opened dynamic library libcublas.so.10\n",
      "2023-09-08 14:55:17.246276: I tensorflow/stream_executor/platform/default/dso_loader.cc:49] Successfully opened dynamic library libcublasLt.so.10\n",
      "2023-09-08 14:55:17.246289: I tensorflow/stream_executor/platform/default/dso_loader.cc:49] Successfully opened dynamic library libcufft.so.10\n",
      "2023-09-08 14:55:17.246301: I tensorflow/stream_executor/platform/default/dso_loader.cc:49] Successfully opened dynamic library libcurand.so.10\n",
      "2023-09-08 14:55:17.246314: I tensorflow/stream_executor/platform/default/dso_loader.cc:49] Successfully opened dynamic library libcusolver.so.10\n",
      "2023-09-08 14:55:17.246326: I tensorflow/stream_executor/platform/default/dso_loader.cc:49] Successfully opened dynamic library libcusparse.so.10\n",
      "2023-09-08 14:55:17.246339: I tensorflow/stream_executor/platform/default/dso_loader.cc:49] Successfully opened dynamic library libcudnn.so.7\n",
      "2023-09-08 14:55:17.247333: I tensorflow/core/common_runtime/gpu/gpu_device.cc:1862] Adding visible gpu devices: 0\n",
      "2023-09-08 14:55:17.247376: I tensorflow/stream_executor/platform/default/dso_loader.cc:49] Successfully opened dynamic library libcudart.so.10.1\n",
      "2023-09-08 14:55:17.853802: I tensorflow/core/common_runtime/gpu/gpu_device.cc:1261] Device interconnect StreamExecutor with strength 1 edge matrix:\n",
      "2023-09-08 14:55:17.853841: I tensorflow/core/common_runtime/gpu/gpu_device.cc:1267]      0 \n",
      "2023-09-08 14:55:17.853854: I tensorflow/core/common_runtime/gpu/gpu_device.cc:1280] 0:   N \n",
      "2023-09-08 14:55:17.855625: I tensorflow/core/common_runtime/gpu/gpu_device.cc:1406] Created TensorFlow device (/job:localhost/replica:0/task:0/device:GPU:0 with 30132 MB memory) -> physical GPU (device: 0, name: Tesla V100-SXM2-32GB, pci bus id: 0000:3d:00.0, compute capability: 7.0)\n"
     ]
    }
   ],
   "source": [
    "week_out=3\n",
    "week_out_str = f'week{week_out}'\n",
    "\n",
    "wr_series = pd.read_csv('/glade/work/jhayron/Data4Predictability/WR_Series_20230824.csv',\\\n",
    "                index_col=0,names=['week0'],skiprows=1,parse_dates=True)\n",
    "for wk in range(2,10):\n",
    "    series_temp = copy.deepcopy(wr_series[\"week0\"])\n",
    "    series_temp.index = series_temp.index - timedelta(weeks = wk-1)\n",
    "    series_temp.name = f'week{wk-1}'\n",
    "    if wk==2:\n",
    "        df_shifts = pd.concat([pd.DataFrame(wr_series[\"week0\"]),pd.DataFrame(series_temp)],axis=1)  \n",
    "    else:\n",
    "        df_shifts = pd.concat([df_shifts,pd.DataFrame(series_temp)],axis=1)\n",
    "        \n",
    "train_joint_dataset, val_joint_dataset, test_joint_dataset = \\\n",
    "    create_datasets_multichannel(da_input, df_shifts, week_out)\n",
    "del(da_input)"
   ]
  },
  {
   "cell_type": "code",
   "execution_count": 93,
   "id": "ef18836c-dbba-4bcc-92ad-d2020305d8c5",
   "metadata": {},
   "outputs": [],
   "source": [
    "path_models = '/glade/work/jhayron/Data4Predictability/models/CNN_Aug29_2023/test_cycle/'"
   ]
  },
  {
   "cell_type": "code",
   "execution_count": 94,
   "id": "0ccf8707-29ed-4304-adae-d960993e4741",
   "metadata": {},
   "outputs": [],
   "source": [
    "index_random = np.arange(len(train_joint_dataset[0]))\n",
    "np.random.shuffle(index_random)"
   ]
  },
  {
   "cell_type": "code",
   "execution_count": null,
   "id": "840767ba-4a79-48e6-93f2-837353b931a6",
   "metadata": {
    "tags": []
   },
   "outputs": [
    {
     "name": "stderr",
     "output_type": "stream",
     "text": [
      "2023-09-08 14:56:58.835646: I tensorflow/compiler/mlir/mlir_graph_optimization_pass.cc:116] None of the MLIR optimization passes are enabled (registered 2)\n",
      "2023-09-08 14:56:58.836161: I tensorflow/core/platform/profile_utils/cpu_utils.cc:112] CPU Frequency: 2300000000 Hz\n"
     ]
    },
    {
     "name": "stdout",
     "output_type": "stream",
     "text": [
      "Epoch 1/100\n"
     ]
    },
    {
     "name": "stderr",
     "output_type": "stream",
     "text": [
      "2023-09-08 14:57:12.769192: I tensorflow/stream_executor/platform/default/dso_loader.cc:49] Successfully opened dynamic library libcublas.so.10\n",
      "2023-09-08 14:57:13.040700: I tensorflow/stream_executor/platform/default/dso_loader.cc:49] Successfully opened dynamic library libcudnn.so.7\n"
     ]
    },
    {
     "name": "stdout",
     "output_type": "stream",
     "text": [
      "98/98 [==============================] - 84s 670ms/step - loss: 1.8730 - balanced_accuracy: 0.1909 - accuracy: 0.1759 - val_loss: 1.6096 - val_balanced_accuracy: 0.2036 - val_accuracy: 0.2261\n",
      "Epoch 2/100\n",
      "35/98 [=========>....................] - ETA: 35s - loss: 1.6571 - balanced_accuracy: 0.1960 - accuracy: 0.2136"
     ]
    }
   ],
   "source": [
    "## Parameters\n",
    "\n",
    "dict_params = {'model_base':'densenet',\n",
    "               'type_pooling':'avg',\n",
    "               'do':0.5,\n",
    "               'md':8,\n",
    "               'activation':'LeakyReLU',\n",
    "               'weighted_loss':True,\n",
    "               'bs':32,\n",
    "               'lr':0.001,\n",
    "               'input_shape':train_joint_dataset[0].shape[1:]}\n",
    "\n",
    "# with strategy.scope():\n",
    "model = build_predesigned_model(dict_params['model_base'],\n",
    "                                dict_params['type_pooling'],\n",
    "                                dict_params['do'],\n",
    "                                dict_params['md'],\n",
    "                                dict_params['activation'],\n",
    "                                dict_params['input_shape'])\n",
    "\n",
    "model.compile(loss=keras.losses.categorical_crossentropy, \n",
    "              optimizer=keras.optimizers.Adam(lr=dict_params['lr']),\n",
    "              metrics=[balanced_accuracy,'accuracy'])  \n",
    "\n",
    "epochs = 100\n",
    "early_stopping_patience = 5\n",
    "\n",
    "# Create the EarlyStopping callback\n",
    "early_stopping_callback = tf.keras.callbacks.EarlyStopping(\n",
    "    monitor='val_balanced_accuracy',  # Metric to monitor\n",
    "    patience=early_stopping_patience,  # Number of epochs with no improvement\n",
    "    restore_best_weights=True  # Restore the weights of the best model\n",
    ")\n",
    "\n",
    "# Train the model with early stopping\n",
    "try:\n",
    "    os.mkdir(f'{path_models}{name_var}')\n",
    "except: pass\n",
    "\n",
    "filepath = f'{path_models}{name_var}/model_{week_out_str}_v0.h5'\n",
    "checkpoint = ModelCheckpoint(filepath, monitor='val_loss', verbose=0, save_best_only=True, \n",
    "                             mode='auto',save_weights_only=False)\n",
    "\n",
    "if dict_params['weighted_loss']==True:\n",
    "\n",
    "    y_train = copy.deepcopy(train_joint_dataset[1])\n",
    "    y_train_integers = np.argmax(y_train, axis=1)\n",
    "    class_weights = compute_class_weight(class_weight='balanced',classes=np.unique(y_train_integers),\n",
    "                                         y = y_train_integers)\n",
    "    d_class_weights = dict(enumerate(class_weights))\n",
    "\n",
    "    history = model.fit(\n",
    "        train_joint_dataset[0][index_random],\n",
    "        train_joint_dataset[1][index_random],\n",
    "        batch_size=dict_params['bs'],\n",
    "        validation_data=val_joint_dataset,\n",
    "        class_weight = d_class_weights,\n",
    "        epochs=epochs,\n",
    "        callbacks=[checkpoint,early_stopping_callback],\n",
    "        verbose=1\n",
    "    )\n",
    "else:\n",
    "    history = model.fit(\n",
    "        train_joint_dataset[0][index_random],\n",
    "        train_joint_dataset[1][index_random],\n",
    "        batch_size=dict_params['bs'],\n",
    "        validation_data=val_joint_dataset,\n",
    "        epochs=epochs,\n",
    "        callbacks=[checkpoint,early_stopping_callback],\n",
    "        verbose=1\n",
    "    )"
   ]
  },
  {
   "cell_type": "code",
   "execution_count": 12,
   "id": "8c391756-54ad-44e0-b050-174f4eb78ae5",
   "metadata": {},
   "outputs": [],
   "source": [
    "# resnet50 - 0.3789 (original code, without including dropout layer)\n",
    "# resnet50 - 0.5317357778549194 (including dropout and dense layers at the end)\n",
    "# resnet50 - 0.69705730676651 (limited region)\n",
    "# densenet - 0.7609886527061462 (limited region)\n",
    "### For week3\n",
    "\n",
    "#densenet full-region - 0.2059614062309265"
   ]
  },
  {
   "cell_type": "code",
   "execution_count": 13,
   "id": "216a9c1f-7f89-4653-9cf8-793e044d2ae6",
   "metadata": {},
   "outputs": [
    {
     "name": "stdout",
     "output_type": "stream",
     "text": [
      "16/16 [==============================] - 2s 148ms/step - loss: 1.6287 - balanced_accuracy: 0.2547 - accuracy: 0.2352\n",
      "test_balanced_accuracy 0.2547225058078766\n",
      "test_accuracy 0.23517785966396332\n",
      "val_balanced_accuracy 0.2524555027484894\n",
      "val_accuracy 0.2260536402463913\n"
     ]
    }
   ],
   "source": [
    "### test_loss, test_balanced_accuracy, test_accuracy = model.evaluate(test_joint_dataset.batch(len(test_joint_dataset)/5))\n",
    "test_loss, test_balanced_accuracy, test_accuracy = model.evaluate(test_joint_dataset[0],test_joint_dataset[1])\n",
    "# test_loss, test_balanced_accuracy, test_accuracy = model.evaluate(test_joint_dataset)\n",
    "val_balanced_accuracy = np.max(history.history['val_balanced_accuracy'])\n",
    "val_accuracy = np.max(history.history['val_accuracy'])\n",
    "\n",
    "print('test_balanced_accuracy',test_balanced_accuracy)\n",
    "print('test_accuracy',test_accuracy)\n",
    "print('val_balanced_accuracy',val_balanced_accuracy)\n",
    "print('val_accuracy',val_accuracy)\n",
    "\n"
   ]
  },
  {
   "cell_type": "code",
   "execution_count": null,
   "id": "76acf5cf-8499-483f-908d-41d69fa08d7e",
   "metadata": {},
   "outputs": [],
   "source": []
  },
  {
   "cell_type": "code",
   "execution_count": 29,
   "id": "ad2c21ab-922d-43ef-a41c-1b99a4c751d7",
   "metadata": {},
   "outputs": [
    {
     "name": "stdout",
     "output_type": "stream",
     "text": [
      "16/16 [==============================] - 4s 83ms/step - loss: 1.2554 - balanced_accuracy: 0.6240 - accuracy: 0.7246\n",
      "test_balanced_accuracy 0.624019205570221\n",
      "test_accuracy 0.724609375\n",
      "val_balanced_accuracy 0.7117378115653992\n",
      "val_accuracy 0.7681992053985596\n"
     ]
    }
   ],
   "source": [
    "# test_loss, test_balanced_accuracy, test_accuracy = model.evaluate(test_joint_dataset.batch(len(test_joint_dataset)/5))\n",
    "test_loss, test_balanced_accuracy, test_accuracy = model.evaluate(test_joint_dataset[0],test_joint_dataset[1])\n",
    "# test_loss, test_balanced_accuracy, test_accuracy = model.evaluate(test_joint_dataset)\n",
    "val_balanced_accuracy = np.max(history.history['val_balanced_accuracy'])\n",
    "val_accuracy = np.max(history.history['val_accuracy'])\n",
    "\n",
    "print('test_balanced_accuracy',test_balanced_accuracy)\n",
    "print('test_accuracy',test_accuracy)\n",
    "print('val_balanced_accuracy',val_balanced_accuracy)\n",
    "print('val_accuracy',val_accuracy)"
   ]
  },
  {
   "cell_type": "markdown",
   "id": "f9d207b3-a6e4-4005-a09d-4842191b3260",
   "metadata": {},
   "source": [
    "# evaluation"
   ]
  },
  {
   "cell_type": "code",
   "execution_count": 14,
   "id": "59893b33-6444-4298-8188-bc48e170d63c",
   "metadata": {},
   "outputs": [
    {
     "data": {
      "text/plain": [
       "[<matplotlib.lines.Line2D at 0x2abb53195880>]"
      ]
     },
     "execution_count": 14,
     "metadata": {},
     "output_type": "execute_result"
    },
    {
     "data": {
      "image/png": "[encoded data removed]",
      "text/plain": [
       "<Figure size 640x480 with 1 Axes>"
      ]
     },
     "metadata": {},
     "output_type": "display_data"
    }
   ],
   "source": [
    "plt.plot(np.sum(test_joint_dataset[1],axis=0)/ np.sum(test_joint_dataset[1]))"
   ]
  },
  {
   "cell_type": "code",
   "execution_count": 15,
   "id": "97dd9c80-dd79-4252-b775-5a197c63a368",
   "metadata": {},
   "outputs": [],
   "source": [
    "predictions = model.predict(test_joint_dataset[0])"
   ]
  },
  {
   "cell_type": "code",
   "execution_count": 16,
   "id": "62c5e37c-d742-46e4-9ffc-6f5ca0020b13",
   "metadata": {},
   "outputs": [
    {
     "data": {
      "text/plain": [
       "[<matplotlib.lines.Line2D at 0x2aba3bd1bac0>]"
      ]
     },
     "execution_count": 16,
     "metadata": {},
     "output_type": "execute_result"
    },
    {
     "data": {
      "image/png": "[encoded data removed]",
      "text/plain": [
       "<Figure size 640x480 with 1 Axes>"
      ]
     },
     "metadata": {},
     "output_type": "display_data"
    }
   ],
   "source": [
    "plt.plot(np.mean(predictions,axis=0))"
   ]
  },
  {
   "cell_type": "code",
   "execution_count": null,
   "id": "40c8c1c0-6695-44fe-bbc1-d596d836380e",
   "metadata": {},
   "outputs": [],
   "source": []
  },
  {
   "cell_type": "code",
   "execution_count": null,
   "id": "fb857fa7-7afd-4a11-9c0b-1763d798b883",
   "metadata": {},
   "outputs": [],
   "source": []
  }
 ],
 "metadata": {
  "kernelspec": {
   "display_name": "Python [conda env:cnn_wr]",
   "language": "python",
   "name": "conda-env-cnn_wr-py"
  },
  "language_info": {
   "codemirror_mode": {
    "name": "ipython",
    "version": 3
   },
   "file_extension": ".py",
   "mimetype": "text/x-python",
   "name": "python",
   "nbconvert_exporter": "python",
   "pygments_lexer": "ipython3",
   "version": "3.9.15"
  }
 },
 "nbformat": 4,
 "nbformat_minor": 5
}
