{
 "cells": [
  {
   "cell_type": "code",
   "execution_count": 1,
   "id": "3c99eff4-125a-49ef-afaf-558b0df7144d",
   "metadata": {},
   "outputs": [
    {
     "name": "stderr",
     "output_type": "stream",
     "text": [
      "2023-09-12 15:32:26.501391: I tensorflow/stream_executor/platform/default/dso_loader.cc:49] Successfully opened dynamic library libcudart.so.10.1\n",
      "/glade/work/jhayron/conda-envs/cnn_wr/lib/python3.9/site-packages/tqdm/auto.py:22: TqdmWarning: IProgress not found. Please update jupyter and ipywidgets. See https://ipywidgets.readthedocs.io/en/stable/user_install.html\n",
      "  from .autonotebook import tqdm as notebook_tqdm\n"
     ]
    }
   ],
   "source": [
    "import numpy as np\n",
    "import xarray as xr\n",
    "import pandas as pd\n",
    "import copy\n",
    "from datetime import datetime, timedelta\n",
    "from keras.utils import to_categorical\n",
    "# import visualkeras\n",
    "# import tensorflow as tf\n",
    "from sklearn.metrics import balanced_accuracy_score\n",
    "import optuna\n",
    "from optuna.samplers import TPESampler\n",
    "import keras\n",
    "from keras.callbacks import ModelCheckpoint\n",
    "from sklearn.utils.class_weight import compute_class_weight\n",
    "import sys\n",
    "import os\n",
    "import joblib\n",
    "import matplotlib.pyplot as plt\n",
    "from sklearn.preprocessing import MinMaxScaler"
   ]
  },
  {
   "cell_type": "code",
   "execution_count": 2,
   "id": "dc3de435-d5d1-4c9f-a3ae-8cb02b3823d9",
   "metadata": {},
   "outputs": [],
   "source": [
    "sys.path.append(\"/glade/u/home/jhayron/WR_Predictability/3_MLModels/\")\n",
    "from model_builders_v2 import *"
   ]
  },
  {
   "cell_type": "markdown",
   "id": "af3c43fd-d289-4bab-b0e0-7a67ddcc3861",
   "metadata": {
    "tags": []
   },
   "source": [
    "## Helper functions"
   ]
  },
  {
   "cell_type": "code",
   "execution_count": 3,
   "id": "d65e0089-54e7-4056-9265-2504ea04161d",
   "metadata": {},
   "outputs": [],
   "source": [
    "# def create_tf_datasets(input_data, output_data):\n",
    "#     # Convert xarray dataset to numpy array for TensorFlow Dataset\n",
    "#     input_images = input_data.transpose('time', 'lat', 'lon','channel').values\n",
    "#     output_one_hot = output_data.values\n",
    "\n",
    "#     # Create TensorFlow Datasets\n",
    "#     input_dataset = tf.data.Dataset.from_tensor_slices(input_images)\n",
    "#     output_dataset = tf.data.Dataset.from_tensor_slices(output_one_hot)\n",
    "\n",
    "#     # Combine input and output datasets into a joint dataset\n",
    "#     joint_dataset = tf.data.Dataset.zip((input_dataset, output_dataset))\n",
    "\n",
    "#     return joint_dataset\n",
    "def create_tf_datasets(input_data, output_data):\n",
    "    # Convert xarray dataset to numpy array for TensorFlow Dataset\n",
    "    input_images = input_data.transpose('time', 'lat', 'lon','channel').values\n",
    "    output_one_hot = output_data.values\n",
    "\n",
    "    # Create TensorFlow Datasets\n",
    "    input_dataset = tf.data.Dataset.from_tensor_slices(input_images)\n",
    "    output_dataset = tf.data.Dataset.from_tensor_slices(output_one_hot)\n",
    "\n",
    "    # Combine input and output datasets into a joint dataset\n",
    "    joint_dataset = tf.data.Dataset.zip((input_dataset, output_dataset))\n",
    "\n",
    "    return (input_images,output_one_hot)\n",
    "\n",
    "def create_datasets(input_anoms, var_name, df_shifts, week_out):\n",
    "# Assuming you have the xarray.Dataset 'input_data' and the pandas.Series 'output_data'\n",
    "    input_data = copy.deepcopy(input_anoms[var_name])\n",
    "\n",
    "    array_temp = input_data.data\n",
    "    array_temp[np.isfinite(array_temp)==False]=0\n",
    "    input_data.data = array_temp\n",
    "\n",
    "#     input_data = (input_data - input_data.mean('time')) / (input_data.std('time'))\n",
    "    \n",
    "#     input_data[np.isfinite(array_temp)==False] = 0\n",
    "    \n",
    "    # Reshape the data to add a new dimension\n",
    "    values_reshaped = input_data.values.reshape(input_data.shape[0], input_data.shape[1], input_data.shape[2], 1)\n",
    "\n",
    "    # Create a new xarray.DataArray with the reshaped data and the original coordinates\n",
    "    input_data = xr.DataArray(values_reshaped, coords=input_data.coords, dims=('time', 'lat', 'lon', 'channel'))\n",
    "    output_data = copy.deepcopy(df_shifts[f'week{week_out}']).dropna()\n",
    "\n",
    "    # Step 1: Create a common date index that includes all dates in both the input and output data\n",
    "    common_dates = np.intersect1d(input_data['time'].values, output_data.index)\n",
    "\n",
    "    # Step 2: Reindex the input xarray dataset and the output DataFrame to the common date index\n",
    "    input_data = input_data.sel(time=common_dates)\n",
    "    output_data = output_data.loc[common_dates]\n",
    "\n",
    "    # Step 3: One-hot encode the output DataFrame using to_categorical\n",
    "    num_classes = len(output_data.unique())  # Number of classes (number of weeks in this case)\n",
    "    output_data_encoded = to_categorical(output_data, num_classes=num_classes)\n",
    "    output_data_encoded = pd.DataFrame(output_data_encoded,index=output_data.index)\n",
    "\n",
    "    # Step 4: Create masks for training, validation, and testing periods\n",
    "    train_mask = (output_data.index >= '1980-01-01') & (output_data.index <= '2010-12-31')\n",
    "    val_mask = (output_data.index >= '2011-01-01') & (output_data.index <= '2015-12-31')\n",
    "    test_mask = (output_data.index >= '2016-01-01') & (output_data.index <= '2020-12-31')\n",
    "\n",
    "    # Step 5: Split the input xarray dataset and the output DataFrame into subsets\n",
    "    input_train = input_data.sel(time=train_mask)\n",
    "    input_val = input_data.sel(time=val_mask)\n",
    "    input_test = input_data.sel(time=test_mask)\n",
    "\n",
    "    output_train = output_data_encoded.loc[train_mask]\n",
    "    output_val = output_data_encoded.loc[val_mask]\n",
    "    output_test = output_data_encoded.loc[test_mask]\n",
    "\n",
    "    train_joint_dataset = create_tf_datasets(input_train, output_train)\n",
    "    val_joint_dataset = create_tf_datasets(input_val, output_val)\n",
    "    test_joint_dataset = create_tf_datasets(input_test, output_test)\n",
    "\n",
    "    # buffer_size = train_joint_dataset.cardinality()\n",
    "    # train_joint_dataset = train_joint_dataset.shuffle(buffer_size)\n",
    "    return train_joint_dataset, val_joint_dataset, test_joint_dataset\n",
    "\n",
    "def get_output_from_dataset(dataset):\n",
    "    output_array = []\n",
    "    for input_data, output_data in dataset.as_numpy_iterator():\n",
    "        output_array.append(output_data)\n",
    "\n",
    "    # Convert the list of NumPy arrays into a single NumPy array\n",
    "    output_array = np.array(output_array)\n",
    "    return output_array\n",
    "\n",
    "def balanced_accuracy(y_true, y_pred):\n",
    "    y_true = tf.argmax(y_true, axis=1)\n",
    "    y_pred = tf.argmax(y_pred, axis=1)\n",
    "    return tf.py_function(balanced_accuracy_score, (y_true, y_pred), tf.float32)\n",
    "\n",
    "def logging_callback(study, frozen_trial):\n",
    "    previous_best_value = study.user_attrs.get(\"previous_best_value\", None)\n",
    "    if previous_best_value != study.best_value:\n",
    "        study.set_user_attr(\"previous_best_value\", study.best_value)\n",
    "        print(\n",
    "            \"Trial {} finished with best value: {} and parameters: {}. \".format(\n",
    "            frozen_trial.number,\n",
    "            frozen_trial.value,\n",
    "            frozen_trial.params,\n",
    "            )\n",
    "        )"
   ]
  },
  {
   "cell_type": "code",
   "execution_count": 4,
   "id": "a26d5758-dfcf-475f-ab31-1b2e14c0c40a",
   "metadata": {},
   "outputs": [],
   "source": [
    "def create_datasets_multichannel(input_data, df_shifts, week_out):\n",
    "# Assuming you have the xarray.Dataset 'input_data' and the pandas.Series 'output_data'\n",
    "\n",
    "    # Create a new xarray.DataArray with the reshaped data and the original coordinates\n",
    "    output_data = copy.deepcopy(df_shifts[f'week{week_out}']).dropna()\n",
    "\n",
    "    # Step 1: Create a common date index that includes all dates in both the input and output data\n",
    "    common_dates = np.intersect1d(input_data['time'].values, output_data.index)\n",
    "\n",
    "    # Step 2: Reindex the input xarray dataset and the output DataFrame to the common date index\n",
    "    input_data = input_data.sel(time=common_dates)\n",
    "    output_data = output_data.loc[common_dates]\n",
    "\n",
    "    # Step 3: One-hot encode the output DataFrame using to_categorical\n",
    "    num_classes = len(output_data.unique())  # Number of classes (number of weeks in this case)\n",
    "    output_data_encoded = to_categorical(output_data, num_classes=num_classes)\n",
    "    output_data_encoded = pd.DataFrame(output_data_encoded,index=output_data.index)\n",
    "\n",
    "    # Step 4: Create masks for training, validation, and testing periods\n",
    "    train_mask = (output_data.index >= '1980-01-01') & (output_data.index <= '2010-12-31')\n",
    "    val_mask = (output_data.index >= '2011-01-01') & (output_data.index <= '2015-12-31')\n",
    "    test_mask = (output_data.index >= '2016-01-01') & (output_data.index <= '2020-12-31')\n",
    "\n",
    "    # Step 5: Split the input xarray dataset and the output DataFrame into subsets\n",
    "    input_train = input_data.sel(time=train_mask)\n",
    "    input_val = input_data.sel(time=val_mask)\n",
    "    input_test = input_data.sel(time=test_mask)\n",
    "\n",
    "    output_train = output_data_encoded.loc[train_mask]\n",
    "    output_val = output_data_encoded.loc[val_mask]\n",
    "    output_test = output_data_encoded.loc[test_mask]\n",
    "\n",
    "    train_joint_dataset = create_tf_datasets(input_train, output_train)\n",
    "    val_joint_dataset = create_tf_datasets(input_val, output_val)\n",
    "    test_joint_dataset = create_tf_datasets(input_test, output_test)\n",
    "\n",
    "    return train_joint_dataset, val_joint_dataset, test_joint_dataset"
   ]
  },
  {
   "cell_type": "code",
   "execution_count": 5,
   "id": "3c0ddb5b-ddc0-4a0e-8c68-9f1946d2b371",
   "metadata": {},
   "outputs": [],
   "source": [
    "def normalize_data_with_scaling(data, start_year, end_year):\n",
    "    # Create an empty DataArray to store the scaling parameters (min and max) for each pixel and channel\n",
    "    scaling_params = xr.DataArray(np.nan, dims=(\"lat\", \"lon\", \"channel\", \"parameter\"), \n",
    "                                  coords={\"lat\": data.lat, \"lon\": data.lon, \n",
    "                                          \"channel\": data.channel, \"parameter\": [\"min\", \"max\"]})\n",
    "\n",
    "    # Normalize the data using the MinMaxScalers and scaling parameters\n",
    "    normalized_data = data.copy()\n",
    "\n",
    "    # Initialize a dictionary to store MinMaxScalers for each pixel and channel\n",
    "    scalers = {}\n",
    "\n",
    "    for lat in data.lat:\n",
    "        for lon in data.lon:\n",
    "            for channel in data.channel:\n",
    "                # Select data for the specified years\n",
    "                pixel_channel = data.sel(lat=lat, lon=lon, channel=channel, \n",
    "                                         time=slice(f\"{start_year}-01-01\", f\"{end_year}-12-31\")).values\n",
    "\n",
    "                # Compute min and max values for the selected years\n",
    "                min_value = np.nanmin(pixel_channel)\n",
    "                max_value = np.nanmax(pixel_channel)\n",
    "                scaling_params.loc[lat, lon, channel, \"min\"] = min_value\n",
    "                scaling_params.loc[lat, lon, channel, \"max\"] = max_value\n",
    "\n",
    "                # Create a MinMaxScaler for this pixel and channel using the computed parameters\n",
    "                scaler = MinMaxScaler(feature_range=(0, 1))\n",
    "                scaler.fit(pixel_channel.reshape(-1, 1))\n",
    "                scalers[(float(lat.values), float(lon.values), int(channel.values))] = scaler\n",
    "\n",
    "                # Normalize the entire data for this pixel and channel\n",
    "                normalized_data.loc[dict(lat=lat, lon=lon, channel=channel)].data = scaler.transform(data.sel(lat=lat, lon=lon, channel=channel).values.reshape(-1, 1)).flatten()\n",
    "\n",
    "    return normalized_data, scaling_params, scalers"
   ]
  },
  {
   "cell_type": "code",
   "execution_count": 6,
   "id": "ba4c12a7-8f30-4933-8e7e-d23281d10151",
   "metadata": {},
   "outputs": [],
   "source": [
    "def normalize_data_with_scaling(data, start_year, end_year):\n",
    "    # Select the subset of years from the dataset\n",
    "    years_for_scaling = data.sel(time=slice(f\"{start_year}-01-01\", f\"{end_year}-12-31\"))\n",
    "\n",
    "    # Create an empty DataArray to store the scaling parameters (min and max) for each channel\n",
    "    scaling_params = xr.DataArray(np.nan, dims=(\"channel\", \"parameter\"), coords={\"channel\": data.channel, \"parameter\": [\"min\", \"max\"]})\n",
    "\n",
    "    # Compute min and max for each channel within the selected years\n",
    "    scalers = []  # Initialize a list to store MinMaxScalers\n",
    "    for channel in data.channel:\n",
    "        data_channel = years_for_scaling.sel(channel=channel).values\n",
    "        scaler = MinMaxScaler()\n",
    "        scaler.fit(data_channel.reshape(-1, 1))\n",
    "        scalers.append(scaler)\n",
    "\n",
    "    # Normalize the entire dataset using the fitted scalers\n",
    "    normalized_data_values = data.copy(deep=True).values  # Make a copy to keep the original data intact\n",
    "\n",
    "    for channel in data.channel:\n",
    "        data_channel = data.sel(channel=channel).values\n",
    "        data_channel_normalized = scalers[int(channel)].transform(data_channel.reshape(-1, 1)).reshape(data_channel.shape)\n",
    "        # print(data_channel_normalized[0])\n",
    "        # print(normalized_data.loc[dict(channel=channel)].data[0])\n",
    "        # aaa\n",
    "        normalized_data_values[:,:,:,channel] = data_channel_normalized\n",
    "    normalized_data = data.copy()\n",
    "    normalized_data.values = normalized_data_values\n",
    "    return normalized_data"
   ]
  },
  {
   "cell_type": "markdown",
   "id": "5989471a-eaaa-43c5-8f51-599709071288",
   "metadata": {},
   "source": [
    "# Training"
   ]
  },
  {
   "cell_type": "code",
   "execution_count": 7,
   "id": "c479563a-1e9e-4926-b735-a3ea74f46c68",
   "metadata": {},
   "outputs": [
    {
     "name": "stdout",
     "output_type": "stream",
     "text": [
      "Num GPUs Available:  1\n"
     ]
    },
    {
     "name": "stderr",
     "output_type": "stream",
     "text": [
      "2023-09-12 15:32:33.833582: I tensorflow/compiler/jit/xla_cpu_device.cc:41] Not creating XLA devices, tf_xla_enable_xla_devices not set\n",
      "2023-09-12 15:32:33.835009: I tensorflow/stream_executor/platform/default/dso_loader.cc:49] Successfully opened dynamic library libcuda.so.1\n",
      "2023-09-12 15:32:33.914962: I tensorflow/core/common_runtime/gpu/gpu_device.cc:1720] Found device 0 with properties: \n",
      "pciBusID: 0000:b3:00.0 name: Tesla V100-SXM2-32GB computeCapability: 7.0\n",
      "coreClock: 1.53GHz coreCount: 80 deviceMemorySize: 31.75GiB deviceMemoryBandwidth: 836.37GiB/s\n",
      "2023-09-12 15:32:33.915014: I tensorflow/stream_executor/platform/default/dso_loader.cc:49] Successfully opened dynamic library libcudart.so.10.1\n",
      "2023-09-12 15:32:33.920214: I tensorflow/stream_executor/platform/default/dso_loader.cc:49] Successfully opened dynamic library libcublas.so.10\n",
      "2023-09-12 15:32:33.920284: I tensorflow/stream_executor/platform/default/dso_loader.cc:49] Successfully opened dynamic library libcublasLt.so.10\n",
      "2023-09-12 15:32:34.002208: I tensorflow/stream_executor/platform/default/dso_loader.cc:49] Successfully opened dynamic library libcufft.so.10\n",
      "2023-09-12 15:32:34.089464: I tensorflow/stream_executor/platform/default/dso_loader.cc:49] Successfully opened dynamic library libcura"
     ]
    }
   ],
   "source": [
    "import warnings\n",
    "warnings.filterwarnings(\"ignore\", category=UserWarning)\n",
    "\n",
    "## GLOBAL SEED ##    \n",
    "np.random.seed(42)\n",
    "tf.random.set_seed(42)\n",
    "\n",
    "print(\"Num GPUs Available: \", len(tf.config.list_physical_devices('GPU')))"
   ]
  },
  {
   "cell_type": "markdown",
   "id": "ebafd86b-e251-4679-84d1-00e6525bac7f",
   "metadata": {},
   "source": [
    "IC_SODA.nc   OHC100_SODA.nc  OHC50_SODA.nc   SD_ERA5.nc      SST_SODA.nc       STL_7cm_ERA5.nc   SWVL_28cm_ERA5.nc  U10_ERA5.nc\n",
    "IT_SODA.nc   OHC200_SODA.nc  OHC700_SODA.nc  SSH_SODA.nc     STL_1m_ERA5.nc    STL_full_ERA5.nc  SWVL_7cm_ERA5.nc   U200_ERA5.nc\n",
    "MLD_SODA.nc  OHC300_SODA.nc  OLR_ERA5.nc     SST_OISSTv2.nc  STL_28cm_ERA5.nc  SWVL_1m_ERA5.nc   SWVL_full_ERA5.nc  Z500_ERA5.ncm"
   ]
  },
  {
   "cell_type": "code",
   "execution_count": 8,
   "id": "ef18836c-dbba-4bcc-92ad-d2020305d8c5",
   "metadata": {},
   "outputs": [
    {
     "name": "stderr",
     "output_type": "stream",
     "text": [
      "nd.so.10\n",
      "2023-09-12 15:32:34.251997: I tensorflow/stream_executor/platform/default/dso_loader.cc:49] Successfully opened dynamic library libcusolver.so.10\n",
      "2023-09-12 15:32:34.401136: I tensorflow/stream_executor/platform/default/dso_loader.cc:49] Successfully opened dynamic library libcusparse.so.10\n",
      "2023-09-12 15:32:34.410048: I tensorflow/stream_executor/platform/default/dso_loader.cc:49] Successfully opened dynamic library libcudnn.so.7\n",
      "2023-09-12 15:32:34.411284: I tensorflow/core/common_runtime/gpu/gpu_device.cc:1862] Adding visible gpu devices: 0\n"
     ]
    }
   ],
   "source": [
    "path_models = '/glade/work/jhayron/Data4Predictability/models/CNN_Sep11_2023/test_bal_accuracy/'"
   ]
  },
  {
   "cell_type": "code",
   "execution_count": 9,
   "id": "1c5d8577-3dbe-4062-9a39-f63fc66ef446",
   "metadata": {},
   "outputs": [],
   "source": [
    "## array_anoms\n",
    "names_vars = ['Z500_ERA5','OLR_ERA5','U200_ERA5','U10_ERA5']\n",
    "\n",
    "path_weekly_anoms = '/glade/scratch/jhayron/Data4Predictability/WeeklyAnoms_DetrendedStd/'\n",
    "# path_weekly_anoms = '/glade/scratch/jhayron/Data4Predictability/WeeklyAnoms_Std_withTrends/'\n",
    "\n",
    "list_input_anoms = []\n",
    "\n",
    "var_names = []\n",
    "for name_var in names_vars:\n",
    "    list_input_anoms.append(xr.open_dataset(f'{path_weekly_anoms}{name_var}.nc'))\n",
    "    var_names.append(list(list_input_anoms[-1].data_vars.keys())[0])\n",
    "    \n",
    "full_input_array = np.zeros((list_input_anoms[0][var_names[0]].values.shape[0],240,720,len(list_input_anoms)))\n",
    "\n",
    "for ichannel in range(len(list_input_anoms)):\n",
    "    full_input_array[:,:,:,ichannel] = list_input_anoms[ichannel][var_names[ichannel]].values\n",
    "    \n",
    "#     aaaaaa\n",
    "full_input_array[np.isfinite(full_input_array)==False]=0\n",
    "\n",
    "del(list_input_anoms)"
   ]
  },
  {
   "cell_type": "code",
   "execution_count": 10,
   "id": "ab614fde-c2e2-49e6-b181-fc1c31b7d137",
   "metadata": {},
   "outputs": [],
   "source": [
    "## array_mean\n",
    "names_vars = ['Z500_ERA5','OLR_ERA5','U200_ERA5','U10_ERA5']\n",
    "\n",
    "path_weekly_mean = '/glade/scratch/jhayron/Data4Predictability/WeeklyDatasets/'\n",
    "# path_weekly_anoms = '/glade/scratch/jhayron/Data4Predictability/WeeklyAnoms_Std_withTrends/'\n",
    "\n",
    "list_input_mean = []\n",
    "\n",
    "var_names = []\n",
    "for name_var in names_vars:\n",
    "    list_input_mean.append(xr.open_dataset(f'{path_weekly_mean}{name_var}.nc'))\n",
    "    var_names.append(list(list_input_mean[-1].data_vars.keys())[0])\n",
    "    \n",
    "full_input_array_mean = np.zeros((list_input_mean[0][var_names[0]].values.shape[0],240,720,len(list_input_mean)))\n",
    "\n",
    "for ichannel in range(len(list_input_mean)):\n",
    "    full_input_array_mean[:,:,:,ichannel] = list_input_mean[ichannel][var_names[ichannel]].values\n",
    "    \n",
    "#     aaaaaa\n",
    "full_input_array_mean[np.isfinite(full_input_array_mean)==False]=0\n"
   ]
  },
  {
   "cell_type": "code",
   "execution_count": 11,
   "id": "150b36f3-47ac-411a-8798-57ae0b846f7f",
   "metadata": {},
   "outputs": [],
   "source": [
    "merged_array = np.concatenate((full_input_array, full_input_array_mean), axis=-1)"
   ]
  },
  {
   "cell_type": "code",
   "execution_count": 12,
   "id": "09f4595a-dd26-4772-a707-1e68983df3d0",
   "metadata": {},
   "outputs": [],
   "source": [
    "del(full_input_array)\n",
    "del(full_input_array_mean)"
   ]
  },
  {
   "cell_type": "code",
   "execution_count": 13,
   "id": "0e7d2342-bfb3-4673-a55b-94048052e294",
   "metadata": {},
   "outputs": [
    {
     "name": "stderr",
     "output_type": "stream",
     "text": [
      "2023-09-12 15:36:53.571390: I tensorflow/core/platform/cpu_feature_guard.cc:142] This TensorFlow binary is optimized with oneAPI Deep Neural Network Library (oneDNN) to use the following CPU instructions in performance-critical operations:  SSE4.1 SSE4.2 AVX AVX2 AVX512F FMA\n",
      "To enable them in other operations, rebuild TensorFlow with the appropriate compiler flags.\n",
      "2023-09-12 15:36:53.578955: I tensorflow/compiler/jit/xla_gpu_device.cc:99] Not creating XLA devices, tf_xla_enable_xla_devices not set\n",
      "2023-09-12 15:36:53.666037: I tensorflow/core/common_runtime/gpu/gpu_device.cc:1720] Found device 0 with properties: \n",
      "pciBusID: 0000:b3:00.0 name: Tesla V100-SXM2-32GB computeCapability: 7.0\n",
      "coreClock: 1.53GHz coreCount: 80 deviceMemorySize: 31.75GiB deviceMemoryBandwidth: 836.37GiB/s\n",
      "2023-09-12 15:36:53.980298: I tensorflow/stream_executor/platform/default/dso_loader.cc:49] Successfully opened dynamic library libcudart.so.10.1\n",
      "2023-09-12 15:36:54.256986: I tensorflow/stream_executor/platform/default/dso_loader.cc:49] Successfully opened dynamic library libcublas.so.10\n",
      "2023-09-12 15:36:54.275684: I tensorflow/stream_executor/platform/default/dso_loader.cc:49] Successfully opened dynamic library libcublasLt.so.10\n",
      "2023-09-12 15:36:54.288072: I tensorflow/stream_executor/platform/default/dso_loader.cc:49] Successfully opened dynamic library libcufft.so.10\n",
      "2023-09-12 15:36:54.299752: I tensorflow/stream_executor/platform/default/dso_loader.cc:49] Successfully opened dynamic library libcurand.so.10\n",
      "2023-09-12 15:36:54.300002: I tensorflow/stream_executor/platform/default/dso_loader.cc:49] Successfully opened dynamic library libcusolver.so.10\n",
      "2023-09-12 15:36:54.314496: I tensorflow/stream_executor/platform/default/dso_loader.cc:49] Successfully opened dynamic library libcusparse.so.10\n",
      "2023-09-12 15:36:54.341396: I tensorflow/stream_executor/platform/default/dso_loader.cc:49] Successfully opened dynamic library libcudnn.so.7\n",
      "2023-09-12 15:36:54.342619: I tensorflow/core/common_runtime/gpu/gpu_device.cc:1862] Adding visible gpu devices: 0\n",
      "2023-09-12 15:36:54.342670: I tensorflow/stream_executor/platform/default/dso_loader.cc:49] Successfully opened dynamic library libcudart.so.10.1\n",
      "2023-09-12 15:36:55.105952: I tensorflow/core/common_runtime/gpu/gpu_device.cc:1261] Device interconnect StreamExecutor with strength 1 edge matrix:\n",
      "2023-09-12 15:36:55.105991: I tensorflow/core/common_runtime/gpu/gpu_device.cc:1267]      0 \n",
      "2023-09-12 15:36:55.106005: I tensorflow/core/common_runtime/gpu/gpu_device.cc:1280] 0:   N \n",
      "2023-09-12 15:36:55.108219: I tensorflow/core/common_runtime/gpu/gpu_device.cc:1406] Created TensorFlow device (/job:localhost/replica:0/task:0/device:GPU:0 with 30132 MB memory) -> physical GPU (device: 0, name: Tesla V100-SXM2-32GB, pci bus id: 0000:b3:00.0, compute capability: 7.0)\n"
     ]
    }
   ],
   "source": [
    "\n",
    "da_input = xr.DataArray(\n",
    "    data=merged_array,\n",
    "    dims=[\"time\",\"lat\", \"lon\",\"channel\"],\n",
    "    coords=dict(\n",
    "        time=([\"time\"], list_input_mean[0][var_names[0]].time.values),\n",
    "        lat=([\"lat\"], list_input_mean[0][var_names[0]].lat.values),\n",
    "        lon=([\"lon\"], list_input_mean[0][var_names[0]].lon.values),\n",
    "        channel=([\"channel\"], np.arange(merged_array.shape[-1])),\n",
    "    )\n",
    ")\n",
    "\n",
    "reduction_factor = 4\n",
    "coarsened_data = da_input.coarsen(lat=reduction_factor, lon=reduction_factor).mean()\n",
    "# del(full_input_array)\n",
    "del(list_input_mean)\n",
    "del(var_names)\n",
    "del(da_input)\n",
    "\n",
    "# Example usage:\n",
    "start_year = 1981\n",
    "end_year = 2015\n",
    "normalized_data = normalize_data_with_scaling(coarsened_data, start_year, end_year)\n",
    "\n",
    "week_out=3\n",
    "week_out_str = f'week{week_out}'\n",
    "\n",
    "wr_series = pd.read_csv('/glade/work/jhayron/Data4Predictability/WR_Series_20230824.csv',\\\n",
    "                index_col=0,names=['week0'],skiprows=1,parse_dates=True)\n",
    "for wk in range(2,10):\n",
    "    series_temp = copy.deepcopy(wr_series[\"week0\"])\n",
    "    series_temp.index = series_temp.index - timedelta(weeks = wk-1)\n",
    "    series_temp.name = f'week{wk-1}'\n",
    "    if wk==2:\n",
    "        df_shifts = pd.concat([pd.DataFrame(wr_series[\"week0\"]),pd.DataFrame(series_temp)],axis=1)  \n",
    "    else:\n",
    "        df_shifts = pd.concat([df_shifts,pd.DataFrame(series_temp)],axis=1)\n",
    "        \n",
    "train_joint_dataset, val_joint_dataset, test_joint_dataset = \\\n",
    "    create_datasets_multichannel(normalized_data, df_shifts, week_out)\n"
   ]
  },
  {
   "cell_type": "code",
   "execution_count": 14,
   "id": "0ccf8707-29ed-4304-adae-d960993e4741",
   "metadata": {},
   "outputs": [],
   "source": [
    "index_random = np.arange(len(train_joint_dataset[0]))\n",
    "np.random.shuffle(index_random)"
   ]
  },
  {
   "cell_type": "code",
   "execution_count": 27,
   "id": "2782af6c-b9bc-4201-ba9e-c737da286ecf",
   "metadata": {},
   "outputs": [
    {
     "name": "stdout",
     "output_type": "stream",
     "text": [
      "Epoch 1/100\n",
      "98/98 [==============================] - 28s 126ms/step - loss: 1.8304 - balanced_accuracy: 0.2029 - accuracy: 0.2112 - val_loss: 1.6477 - val_balanced_accuracy: 0.1941 - val_accuracy: 0.2126\n",
      "Epoch 2/100\n",
      "98/98 [==============================] - 9s 94ms/step - loss: 1.6843 - balanced_accuracy: 0.2178 - accuracy: 0.2232 - val_loss: 1.6421 - val_balanced_accuracy: 0.2137 - val_accuracy: 0.1379\n",
      "Epoch 3/100\n",
      "98/98 [==============================] - 9s 92ms/step - loss: 1.6839 - balanced_accuracy: 0.2117 - accuracy: 0.2032 - val_loss: 1.6190 - val_balanced_accuracy: 0.2137 - val_accuracy: 0.2318\n",
      "Epoch 4/100\n",
      "98/98 [==============================] - 9s 93ms/step - loss: 1.6366 - balanced_accuracy: 0.2399 - accuracy: 0.2448 - val_loss: 1.6188 - val_balanced_accuracy: 0.2149 - val_accuracy: 0.2356\n",
      "Epoch 5/100\n",
      "98/98 [==============================] - 9s 93ms/step - loss: 1.6124 - balanced_accuracy: 0.2545 - accuracy: 0.2538 - val_loss: 1.6680 - val_balanced_accuracy: 0.1666 - val_accuracy: 0.1724\n",
      "Epoch 6/100\n",
      "98/98 [==============================] - 9s 94ms/step - loss: 1.6175 - balanced_accuracy: 0.2247 - accuracy: 0.2450 - val_loss: 1.6675 - val_balanced_accuracy: 0.1812 - val_accuracy: 0.1897\n",
      "Epoch 7/100\n",
      "98/98 [==============================] - 9s 95ms/step - loss: 1.6111 - balanced_accuracy: 0.2496 - accuracy: 0.2516 - val_loss: 1.8003 - val_balanced_accuracy: 0.2137 - val_accuracy: 0.2414\n",
      "Epoch 8/100\n",
      "98/98 [==============================] - 9s 93ms/step - loss: 1.6007 - balanced_accuracy: 0.2452 - accuracy: 0.2377 - val_loss: 2.3471 - val_balanced_accuracy: 0.2137 - val_accuracy: 0.2414\n",
      "Epoch 9/100\n",
      "98/98 [==============================] - 9s 92ms/step - loss: 1.5953 - balanced_accuracy: 0.2665 - accuracy: 0.2701 - val_loss: 1.6647 - val_balanced_accuracy: 0.2119 - val_accuracy: 0.2395\n",
      "**iteration: 1**\n",
      "test_balanced_accuracy 0.18859128654003143\n",
      "test_accuracy 0.16798418760299683\n",
      "val_balanced_accuracy 0.21492230892181396\n",
      "val_accuracy 0.23563218116760254\n",
      "Epoch 1/100\n",
      "98/98 [==============================] - 27s 122ms/step - loss: 1.9245 - balanced_accuracy: 0.2069 - accuracy: 0.2026 - val_loss: 1.6054 - val_balanced_accuracy: 0.1941 - val_accuracy: 0.2126\n",
      "Epoch 2/100\n",
      "98/98 [==============================] - 9s 95ms/step - loss: 1.6377 - balanced_accuracy: 0.2313 - accuracy: 0.2385 - val_loss: 1.6359 - val_balanced_accuracy: 0.2137 - val_accuracy: 0.1379\n",
      "Epoch 3/100\n",
      "98/98 [==============================] - 9s 93ms/step - loss: 1.6331 - balanced_accuracy: 0.2275 - accuracy: 0.2305 - val_loss: 1.6082 - val_balanced_accuracy: 0.2098 - val_accuracy: 0.2299\n",
      "Epoch 4/100\n",
      "98/98 [==============================] - 9s 95ms/step - loss: 1.6347 - balanced_accuracy: 0.2306 - accuracy: 0.2333 - val_loss: 1.6242 - val_balanced_accuracy: 0.1968 - val_accuracy: 0.2146\n",
      "Epoch 5/100\n",
      "98/98 [==============================] - 9s 93ms/step - loss: 1.6212 - balanced_accuracy: 0.2658 - accuracy: 0.2570 - val_loss: 6.1827 - val_balanced_accuracy: 0.1867 - val_accuracy: 0.2241\n",
      "Epoch 6/100\n",
      "98/98 [==============================] - 9s 93ms/step - loss: 1.6274 - balanced_accuracy: 0.2563 - accuracy: 0.2686 - val_loss: 1.6249 - val_balanced_accuracy: 0.1694 - val_accuracy: 0.1916\n",
      "Epoch 7/100\n",
      "98/98 [==============================] - 9s 93ms/step - loss: 1.5848 - balanced_accuracy: 0.2647 - accuracy: 0.2738 - val_loss: 1.5998 - val_balanced_accuracy: 0.2228 - val_accuracy: 0.2759\n",
      "Epoch 8/100\n",
      "98/98 [==============================] - 9s 96ms/step - loss: 1.6117 - balanced_accuracy: 0.2524 - accuracy: 0.2528 - val_loss: 1.7571 - val_balanced_accuracy: 0.1936 - val_accuracy: 0.2146\n",
      "Epoch 9/100\n",
      "98/98 [==============================] - 9s 92ms/step - loss: 1.5830 - balanced_accuracy: 0.2815 - accuracy: 0.2816 - val_loss: 1.7056 - val_balanced_accuracy: 0.1809 - val_accuracy: 0.2031\n",
      "Epoch 10/100\n",
      "98/98 [==============================] - 9s 91ms/step - loss: 1.5700 - balanced_accuracy: 0.2740 - accuracy: 0.3037 - val_loss: 1.8217 - val_balanced_accuracy: 0.2174 - val_accuracy: 0.2031\n",
      "Epoch 11/100\n",
      "98/98 [==============================] - 9s 94ms/step - loss: 1.5737 - balanced_accuracy: 0.3134 - accuracy: 0.2933 - val_loss: 1.7970 - val_balanced_accuracy: 0.2052 - val_accuracy: 0.2414\n",
      "Epoch 12/100\n",
      "98/98 [==============================] - 9s 93ms/step - loss: 1.5612 - balanced_accuracy: 0.3104 - accuracy: 0.3166 - val_loss: 1.7240 - val_balanced_accuracy: 0.2202 - val_accuracy: 0.2375\n",
      "**iteration: 2**\n",
      "test_balanced_accuracy 0.20918498933315277\n",
      "test_accuracy 0.2035573124885559\n",
      "val_balanced_accuracy 0.22275875508785248\n",
      "val_accuracy 0.27586206793785095\n",
      "Epoch 1/100\n",
      "98/98 [==============================] - 28s 126ms/step - loss: 1.8946 - balanced_accuracy: 0.2013 - accuracy: 0.2054 - val_loss: 1.6140 - val_balanced_accuracy: 0.2144 - val_accuracy: 0.1418\n",
      "Epoch 2/100\n",
      "98/98 [==============================] - 9s 94ms/step - loss: 1.6535 - balanced_accuracy: 0.2212 - accuracy: 0.2223 - val_loss: 1.6251 - val_balanced_accuracy: 0.2070 - val_accuracy: 0.1437\n",
      "Epoch 3/100\n",
      "98/98 [==============================] - 9s 93ms/step - loss: 1.6460 - balanced_accuracy: 0.2278 - accuracy: 0.2291 - val_loss: 1.6380 - val_balanced_accuracy: 0.2167 - val_accuracy: 0.2337\n",
      "Epoch 4/100\n",
      "98/98 [==============================] - 9s 94ms/step - loss: 1.6269 - balanced_accuracy: 0.2421 - accuracy: 0.2507 - val_loss: 1.6495 - val_balanced_accuracy: 0.1701 - val_accuracy: 0.1590\n",
      "Epoch 5/100\n",
      "98/98 [==============================] - 9s 94ms/step - loss: 1.6245 - balanced_accuracy: 0.2629 - accuracy: 0.2508 - val_loss: 1.6112 - val_balanced_accuracy: 0.1900 - val_accuracy: 0.2088\n",
      "Epoch 6/100\n",
      "98/98 [==============================] - 9s 93ms/step - loss: 1.5927 - balanced_accuracy: 0.2512 - accuracy: 0.2668 - val_loss: 1.6530 - val_balanced_accuracy: 0.1910 - val_accuracy: 0.2241\n",
      "Epoch 7/100\n",
      "98/98 [==============================] - 9s 94ms/step - loss: 1.5837 - balanced_accuracy: 0.2834 - accuracy: 0.3010 - val_loss: 1.7508 - val_balanced_accuracy: 0.1982 - val_accuracy: 0.2184\n",
      "Epoch 8/100\n",
      "98/98 [==============================] - 9s 94ms/step - loss: 1.5974 - balanced_accuracy: 0.2528 - accuracy: 0.2714 - val_loss: 1.6704 - val_balanced_accuracy: 0.2414 - val_accuracy: 0.2395\n",
      "Epoch 9/100\n",
      "98/98 [==============================] - 9s 93ms/step - loss: 1.5798 - balanced_accuracy: 0.2907 - accuracy: 0.2798 - val_loss: 1.8514 - val_balanced_accuracy: 0.2056 - val_accuracy: 0.2356\n",
      "Epoch 10/100\n",
      "98/98 [==============================] - 9s 94ms/step - loss: 1.5578 - balanced_accuracy: 0.2790 - accuracy: 0.2888 - val_loss: 1.8836 - val_balanced_accuracy: 0.2104 - val_accuracy: 0.2318\n",
      "Epoch 11/100\n",
      "98/98 [==============================] - 9s 93ms/step - loss: 1.5526 - balanced_accuracy: 0.3287 - accuracy: 0.3429 - val_loss: 1.6893 - val_balanced_accuracy: 0.1864 - val_accuracy: 0.2031\n",
      "Epoch 12/100\n",
      "98/98 [==============================] - 9s 93ms/step - loss: 1.5524 - balanced_accuracy: 0.3254 - accuracy: 0.3233 - val_loss: 2.5027 - val_balanced_accuracy: 0.1941 - val_accuracy: 0.2126\n",
      "Epoch 13/100\n",
      "98/98 [==============================] - 9s 94ms/step - loss: 1.5412 - balanced_accuracy: 0.3297 - accuracy: 0.3351 - val_loss: 2.4417 - val_balanced_accuracy: 0.2159 - val_accuracy: 0.2337\n",
      "**iteration: 3**\n",
      "test_balanced_accuracy 0.18640194833278656\n",
      "test_accuracy 0.17984189093112946\n",
      "val_balanced_accuracy 0.2413751631975174\n",
      "val_accuracy 0.23946359753608704\n",
      "AVERAGE RESULTS (acc,balanced_acc): \n",
      "0.1837944636742274 0.19472607473532358\n"
     ]
    }
   ],
   "source": [
    "list_acc = []\n",
    "list_balanced_acc = []\n",
    "for train_i in [1,2,3]:\n",
    "    dict_params = {'model_base':'densenet',\n",
    "                   'type_pooling':'avg',\n",
    "                   'do':0.5,\n",
    "                   'md':8,\n",
    "                   'activation':'LeakyReLU',\n",
    "                   'weighted_loss':True,\n",
    "                   'bs':32,\n",
    "                   'lr':0.001,\n",
    "                   'input_shape':train_joint_dataset[0].shape[1:]}\n",
    "    # with strategy.scope():\n",
    "    model = build_predesigned_model(dict_params['model_base'],\n",
    "                                    dict_params['type_pooling'],\n",
    "                                    dict_params['do'],\n",
    "                                    dict_params['md'],\n",
    "                                    dict_params['activation'],\n",
    "                                    dict_params['input_shape'])\n",
    "\n",
    "    model.compile(loss=keras.losses.categorical_crossentropy, \n",
    "                  optimizer=keras.optimizers.Adam(lr=dict_params['lr']),\n",
    "                  metrics=[balanced_accuracy,'accuracy'])  \n",
    "\n",
    "    epochs = 100\n",
    "    early_stopping_patience = 5\n",
    "\n",
    "    # Create the EarlyStopping callback\n",
    "    early_stopping_callback = tf.keras.callbacks.EarlyStopping(\n",
    "        monitor='val_balanced_accuracy',  # Metric to monitor\n",
    "        patience=early_stopping_patience,  # Number of epochs with no improvement\n",
    "        restore_best_weights=True  # Restore the weights of the best model\n",
    "    )\n",
    "\n",
    "    # Train the model with early stopping\n",
    "    try:\n",
    "        os.mkdir(f'{path_models}{name_var}')\n",
    "    except: pass\n",
    "\n",
    "    filepath = f'{path_models}{name_var}/model_{week_out_str}_v0.h5'\n",
    "    checkpoint = ModelCheckpoint(filepath, monitor='val_balanced_accuracy', verbose=0, save_best_only=True, \n",
    "                                 mode='auto',save_weights_only=False)\n",
    "\n",
    "\n",
    "    if dict_params['weighted_loss']==True:\n",
    "\n",
    "        y_train = copy.deepcopy(train_joint_dataset[1])\n",
    "        y_train_integers = np.argmax(y_train, axis=1)\n",
    "        class_weights = compute_class_weight(class_weight='balanced',classes=np.unique(y_train_integers),\n",
    "                                             y = y_train_integers)\n",
    "        d_class_weights = dict(enumerate(class_weights))\n",
    "\n",
    "        history = model.fit(\n",
    "            train_joint_dataset[0][index_random],\n",
    "            train_joint_dataset[1][index_random],\n",
    "            batch_size=dict_params['bs'],\n",
    "            validation_data=val_joint_dataset,\n",
    "            class_weight = d_class_weights,\n",
    "            epochs=epochs,\n",
    "            callbacks=[checkpoint,early_stopping_callback],\n",
    "            verbose=1\n",
    "        )\n",
    "    else:\n",
    "        history = model.fit(\n",
    "            train_joint_dataset[0][index_random],\n",
    "            train_joint_dataset[1][index_random],\n",
    "            batch_size=dict_params['bs'],\n",
    "            validation_data=val_joint_dataset,\n",
    "            epochs=epochs,\n",
    "            callbacks=[checkpoint,early_stopping_callback],\n",
    "            verbose=0\n",
    "        )\n",
    "    val_loss, val_balanced_accuracy, val_accuracy = model.evaluate(val_joint_dataset[0],val_joint_dataset[1],verbose=0)\n",
    "    ### test_loss, test_balanced_accuracy, test_accuracy = model.evaluate(test_joint_dataset.batch(len(test_joint_dataset)/5))\n",
    "    test_loss, test_balanced_accuracy, test_accuracy = model.evaluate(test_joint_dataset[0],test_joint_dataset[1],\n",
    "                                                                      verbose=0)\n",
    "    # test_loss, test_balanced_accuracy, test_accuracy = model.evaluate(test_joint_dataset)\n",
    "    print(f'**iteration: {train_i}**')\n",
    "    print('test_balanced_accuracy',test_balanced_accuracy)\n",
    "    print('test_accuracy',test_accuracy)\n",
    "    print('val_balanced_accuracy',val_balanced_accuracy)\n",
    "    print('val_accuracy',val_accuracy)\n",
    "    list_acc.append(test_accuracy)\n",
    "    list_balanced_acc.append(test_balanced_accuracy)\n",
    "print(\"AVERAGE RESULTS (acc,balanced_acc): \")\n",
    "print(np.mean(list_acc),np.mean(list_balanced_acc))"
   ]
  },
  {
   "cell_type": "code",
   "execution_count": 28,
   "id": "bfcbec95-85ef-44de-ba10-1b69f4b4f61f",
   "metadata": {},
   "outputs": [
    {
     "data": {
      "text/plain": [
       "[<matplotlib.lines.Line2D at 0x2b4a137376d0>]"
      ]
     },
     "execution_count": 28,
     "metadata": {},
     "output_type": "execute_result"
    },
    {
     "data": {
      "image/png": "[encoded data removed]",
      "text/plain": [
       "<Figure size 640x480 with 1 Axes>"
      ]
     },
     "metadata": {},
     "output_type": "display_data"
    }
   ],
   "source": [
    "plt.plot(np.sum(test_joint_dataset[1],axis=0)/ np.sum(test_joint_dataset[1]))"
   ]
  },
  {
   "cell_type": "code",
   "execution_count": 29,
   "id": "ec1652d4-6c66-4328-8d7e-22fddb11822f",
   "metadata": {},
   "outputs": [
    {
     "data": {
      "text/plain": [
       "[<matplotlib.lines.Line2D at 0x2b48a82c84f0>]"
      ]
     },
     "execution_count": 29,
     "metadata": {},
     "output_type": "execute_result"
    },
    {
     "data": {
      "image/png": "[encoded data removed]",
      "text/plain": [
       "<Figure size 640x480 with 1 Axes>"
      ]
     },
     "metadata": {},
     "output_type": "display_data"
    }
   ],
   "source": [
    "predictions = model.predict(test_joint_dataset[0])\n",
    "plt.plot(np.mean(predictions,axis=0))"
   ]
  },
  {
   "cell_type": "markdown",
   "id": "a1eb4e8b-3042-4851-8d8c-4de5b972e15d",
   "metadata": {},
   "source": [
    "# ACCURACY"
   ]
  },
  {
   "cell_type": "code",
   "execution_count": 30,
   "id": "142490be-2ff8-462e-b242-4d3c62d79708",
   "metadata": {},
   "outputs": [],
   "source": [
    "path_models = '/glade/work/jhayron/Data4Predictability/models/CNN_Sep11_2023/test_bal_accuracy/'"
   ]
  },
  {
   "cell_type": "code",
   "execution_count": 31,
   "id": "40bb6317-818e-4d3e-8892-41f9d73bcd92",
   "metadata": {},
   "outputs": [
    {
     "name": "stdout",
     "output_type": "stream",
     "text": [
      "Epoch 1/100\n",
      "98/98 [==============================] - 27s 122ms/step - loss: 1.9333 - balanced_accuracy: 0.1948 - accuracy: 0.1965 - val_loss: 1.6305 - val_balanced_accuracy: 0.2137 - val_accuracy: 0.1379\n",
      "Epoch 2/100\n",
      "98/98 [==============================] - 9s 91ms/step - loss: 1.6359 - balanced_accuracy: 0.2429 - accuracy: 0.2561 - val_loss: 1.7265 - val_balanced_accuracy: 0.2137 - val_accuracy: 0.1379\n",
      "Epoch 3/100\n",
      "98/98 [==============================] - 9s 92ms/step - loss: 1.6537 - balanced_accuracy: 0.2431 - accuracy: 0.2430 - val_loss: 1.9090 - val_balanced_accuracy: 0.2137 - val_accuracy: 0.2318\n",
      "Epoch 4/100\n",
      "98/98 [==============================] - 9s 93ms/step - loss: 1.6079 - balanced_accuracy: 0.2597 - accuracy: 0.2740 - val_loss: 1.6271 - val_balanced_accuracy: 0.2183 - val_accuracy: 0.1648\n",
      "Epoch 5/100\n",
      "98/98 [==============================] - 9s 92ms/step - loss: 1.6127 - balanced_accuracy: 0.2683 - accuracy: 0.2485 - val_loss: 1.7002 - val_balanced_accuracy: 0.1770 - val_accuracy: 0.1897\n",
      "Epoch 6/100\n",
      "98/98 [==============================] - 9s 94ms/step - loss: 1.5840 - balanced_accuracy: 0.2688 - accuracy: 0.2781 - val_loss: 1.6407 - val_balanced_accuracy: 0.1950 - val_accuracy: 0.2069\n",
      "Epoch 7/100\n",
      "98/98 [==============================] - 9s 94ms/step - loss: 1.5719 - balanced_accuracy: 0.2928 - accuracy: 0.2948 - val_loss: 10.8544 - val_balanced_accuracy: 0.2109 - val_accuracy: 0.2395\n",
      "Epoch 8/100\n",
      "98/98 [==============================] - 9s 93ms/step - loss: 1.5863 - balanced_accuracy: 0.2719 - accuracy: 0.2780 - val_loss: 1.8348 - val_balanced_accuracy: 0.2053 - val_accuracy: 0.1513\n",
      "Epoch 9/100\n",
      "98/98 [==============================] - 9s 93ms/step - loss: 1.5572 - balanced_accuracy: 0.3057 - accuracy: 0.2946 - val_loss: 1.8601 - val_balanced_accuracy: 0.2167 - val_accuracy: 0.2318\n",
      "Epoch 10/100\n",
      "98/98 [==============================] - 10s 97ms/step - loss: 1.5286 - balanced_accuracy: 0.3103 - accuracy: 0.3209 - val_loss: 1.8232 - val_balanced_accuracy: 0.1959 - val_accuracy: 0.2184\n",
      "Epoch 11/100\n",
      "98/98 [==============================] - 9s 94ms/step - loss: 1.5144 - balanced_accuracy: 0.3647 - accuracy: 0.3545 - val_loss: 1.6522 - val_balanced_accuracy: 0.1987 - val_accuracy: 0.2222\n",
      "Epoch 12/100\n",
      "98/98 [==============================] - 9s 91ms/step - loss: 1.5031 - balanced_accuracy: 0.3486 - accuracy: 0.3479 - val_loss: 1.6953 - val_balanced_accuracy: 0.2154 - val_accuracy: 0.2682\n",
      "Epoch 13/100\n",
      "98/98 [==============================] - 9s 94ms/step - loss: 1.4806 - balanced_accuracy: 0.3716 - accuracy: 0.3665 - val_loss: 3.2115 - val_balanced_accuracy: 0.2188 - val_accuracy: 0.1533\n",
      "Epoch 14/100\n",
      "98/98 [==============================] - 9s 96ms/step - loss: 1.4335 - balanced_accuracy: 0.4112 - accuracy: 0.4109 - val_loss: 1.9149 - val_balanced_accuracy: 0.2246 - val_accuracy: 0.1954\n",
      "Epoch 15/100\n",
      "98/98 [==============================] - 9s 89ms/step - loss: 1.4143 - balanced_accuracy: 0.4246 - accuracy: 0.4147 - val_loss: 1.9154 - val_balanced_accuracy: 0.1854 - val_accuracy: 0.1839\n",
      "Epoch 16/100\n",
      "98/98 [==============================] - 9s 93ms/step - loss: 1.3435 - balanced_accuracy: 0.4666 - accuracy: 0.4692 - val_loss: 1.7569 - val_balanced_accuracy: 0.2378 - val_accuracy: 0.2644\n",
      "Epoch 17/100\n",
      "98/98 [==============================] - 9s 92ms/step - loss: 1.3295 - balanced_accuracy: 0.4550 - accuracy: 0.4472 - val_loss: 1.7467 - val_balanced_accuracy: 0.1972 - val_accuracy: 0.2107\n",
      "**iteration: 1**\n",
      "test_balanced_accuracy 0.21428360044956207\n",
      "test_accuracy 0.23122529685497284\n",
      "val_balanced_accuracy 0.21540802717208862\n",
      "val_accuracy 0.26819923520088196\n",
      "Epoch 1/100\n",
      "98/98 [==============================] - 29s 123ms/step - loss: 1.9119 - balanced_accuracy: 0.1916 - accuracy: 0.1950 - val_loss: 1.6217 - val_balanced_accuracy: 0.2137 - val_accuracy: 0.1379\n",
      "Epoch 2/100\n",
      "98/98 [==============================] - 9s 91ms/step - loss: 1.6274 - balanced_accuracy: 0.2122 - accuracy: 0.2208 - val_loss: 1.6253 - val_balanced_accuracy: 0.2137 - val_accuracy: 0.1379\n",
      "Epoch 3/100\n",
      "98/98 [==============================] - 9s 92ms/step - loss: 1.6416 - balanced_accuracy: 0.2185 - accuracy: 0.2245 - val_loss: 1.6013 - val_balanced_accuracy: 0.1870 - val_accuracy: 0.1992\n",
      "Epoch 4/100\n",
      "98/98 [==============================] - 9s 91ms/step - loss: 1.6161 - balanced_accuracy: 0.2350 - accuracy: 0.2496 - val_loss: 2.9118 - val_balanced_accuracy: 0.1983 - val_accuracy: 0.1992\n",
      "Epoch 5/100\n",
      "98/98 [==============================] - 9s 96ms/step - loss: 1.6188 - balanced_accuracy: 0.2589 - accuracy: 0.2511 - val_loss: 1.6350 - val_balanced_accuracy: 0.1980 - val_accuracy: 0.2107\n",
      "Epoch 6/100\n",
      "98/98 [==============================] - 9s 92ms/step - loss: 1.6006 - balanced_accuracy: 0.2476 - accuracy: 0.2604 - val_loss: 1.6648 - val_balanced_accuracy: 0.1566 - val_accuracy: 0.2031\n",
      "Epoch 7/100\n",
      "98/98 [==============================] - 9s 92ms/step - loss: 1.5921 - balanced_accuracy: 0.2555 - accuracy: 0.2735 - val_loss: 1.8413 - val_balanced_accuracy: 0.1614 - val_accuracy: 0.1705\n",
      "Epoch 8/100\n",
      "98/98 [==============================] - 9s 91ms/step - loss: 1.5968 - balanced_accuracy: 0.2515 - accuracy: 0.2541 - val_loss: 1.6568 - val_balanced_accuracy: 0.1816 - val_accuracy: 0.2184\n",
      "Epoch 9/100\n",
      "98/98 [==============================] - 9s 92ms/step - loss: 1.5909 - balanced_accuracy: 0.2707 - accuracy: 0.2727 - val_loss: 17.0113 - val_balanced_accuracy: 0.2116 - val_accuracy: 0.2395\n",
      "Epoch 10/100\n",
      "98/98 [==============================] - 9s 91ms/step - loss: 1.5731 - balanced_accuracy: 0.2777 - accuracy: 0.2866 - val_loss: 1.6544 - val_balanced_accuracy: 0.1703 - val_accuracy: 0.1954\n",
      "Epoch 11/100\n",
      "98/98 [==============================] - 9s 93ms/step - loss: 1.5482 - balanced_accuracy: 0.3317 - accuracy: 0.3323 - val_loss: 1.6696 - val_balanced_accuracy: 0.2230 - val_accuracy: 0.2375\n",
      "Epoch 12/100\n",
      "98/98 [==============================] - 9s 92ms/step - loss: 1.5709 - balanced_accuracy: 0.2861 - accuracy: 0.2902 - val_loss: 2.1560 - val_balanced_accuracy: 0.1941 - val_accuracy: 0.2126\n",
      "Epoch 13/100\n",
      "98/98 [==============================] - 9s 93ms/step - loss: 1.5553 - balanced_accuracy: 0.3039 - accuracy: 0.3077 - val_loss: 2.5547 - val_balanced_accuracy: 0.1941 - val_accuracy: 0.2126\n",
      "Epoch 14/100\n",
      "98/98 [==============================] - 9s 91ms/step - loss: 1.5286 - balanced_accuracy: 0.3521 - accuracy: 0.3437 - val_loss: 2.7306 - val_balanced_accuracy: 0.2149 - val_accuracy: 0.2375\n",
      "**iteration: 2**\n",
      "test_balanced_accuracy 0.19988638162612915\n",
      "test_accuracy 0.19367589056491852\n",
      "val_balanced_accuracy 0.21156048774719238\n",
      "val_accuracy 0.23946359753608704\n",
      "Epoch 1/100\n",
      "98/98 [==============================] - 28s 122ms/step - loss: 1.9128 - balanced_accuracy: 0.2035 - accuracy: 0.2040 - val_loss: 1.6242 - val_balanced_accuracy: 0.1886 - val_accuracy: 0.1513\n",
      "Epoch 2/100\n",
      "98/98 [==============================] - 9s 92ms/step - loss: 1.6397 - balanced_accuracy: 0.2135 - accuracy: 0.2272 - val_loss: 1.6948 - val_balanced_accuracy: 0.2137 - val_accuracy: 0.1379\n",
      "Epoch 3/100\n",
      "98/98 [==============================] - 9s 94ms/step - loss: 1.6547 - balanced_accuracy: 0.2122 - accuracy: 0.2287 - val_loss: 1.9812 - val_balanced_accuracy: 0.2018 - val_accuracy: 0.2203\n",
      "Epoch 4/100\n",
      "98/98 [==============================] - 9s 92ms/step - loss: 1.6306 - balanced_accuracy: 0.2364 - accuracy: 0.2443 - val_loss: 1.6358 - val_balanced_accuracy: 0.2508 - val_accuracy: 0.1705\n",
      "Epoch 5/100\n",
      "98/98 [==============================] - 9s 91ms/step - loss: 1.6046 - balanced_accuracy: 0.2588 - accuracy: 0.2498 - val_loss: 1.9622 - val_balanced_accuracy: 0.2004 - val_accuracy: 0.2031\n",
      "Epoch 6/100\n",
      "98/98 [==============================] - 9s 95ms/step - loss: 1.5914 - balanced_accuracy: 0.2669 - accuracy: 0.2808 - val_loss: 1.6620 - val_balanced_accuracy: 0.1915 - val_accuracy: 0.2069\n",
      "Epoch 7/100\n",
      "98/98 [==============================] - 9s 93ms/step - loss: 1.5598 - balanced_accuracy: 0.2998 - accuracy: 0.3194 - val_loss: 1.6822 - val_balanced_accuracy: 0.1915 - val_accuracy: 0.1820\n",
      "Epoch 8/100\n",
      "98/98 [==============================] - 9s 89ms/step - loss: 1.5760 - balanced_accuracy: 0.2862 - accuracy: 0.2897 - val_loss: 1.8672 - val_balanced_accuracy: 0.1969 - val_accuracy: 0.2011\n",
      "**iteration: 3**\n",
      "test_balanced_accuracy 0.20728673040866852\n",
      "test_accuracy 0.1877470314502716\n",
      "val_balanced_accuracy 0.2018020898103714\n",
      "val_accuracy 0.22030651569366455\n",
      "AVERAGE RESULTS (acc,balanced_acc): \n",
      "0.20421607295672098 0.2071522374947866\n"
     ]
    }
   ],
   "source": [
    "list_acc = []\n",
    "list_balanced_acc = []\n",
    "for train_i in [1,2,3]:\n",
    "    dict_params = {'model_base':'densenet',\n",
    "                   'type_pooling':'avg',\n",
    "                   'do':0.5,\n",
    "                   'md':8,\n",
    "                   'activation':'LeakyReLU',\n",
    "                   'weighted_loss':True,\n",
    "                   'bs':32,\n",
    "                   'lr':0.001,\n",
    "                   'input_shape':train_joint_dataset[0].shape[1:]}\n",
    "    # with strategy.scope():\n",
    "    model = build_predesigned_model(dict_params['model_base'],\n",
    "                                    dict_params['type_pooling'],\n",
    "                                    dict_params['do'],\n",
    "                                    dict_params['md'],\n",
    "                                    dict_params['activation'],\n",
    "                                    dict_params['input_shape'])\n",
    "\n",
    "    model.compile(loss=keras.losses.categorical_crossentropy, \n",
    "                  optimizer=keras.optimizers.Adam(lr=dict_params['lr']),\n",
    "                  metrics=[balanced_accuracy,'accuracy'])  \n",
    "\n",
    "    epochs = 100\n",
    "    early_stopping_patience = 5\n",
    "\n",
    "    # Create the EarlyStopping callback\n",
    "    early_stopping_callback = tf.keras.callbacks.EarlyStopping(\n",
    "        monitor='val_accuracy',  # Metric to monitor\n",
    "        patience=early_stopping_patience,  # Number of epochs with no improvement\n",
    "        restore_best_weights=True  # Restore the weights of the best model\n",
    "    )\n",
    "\n",
    "    # Train the model with early stopping\n",
    "    try:\n",
    "        os.mkdir(f'{path_models}{name_var}')\n",
    "    except: pass\n",
    "\n",
    "    filepath = f'{path_models}{name_var}/model_{week_out_str}_v0.h5'\n",
    "    checkpoint = ModelCheckpoint(filepath, monitor='val_accuracy', verbose=0, save_best_only=True, \n",
    "                                 mode='auto',save_weights_only=False)\n",
    "\n",
    "\n",
    "    if dict_params['weighted_loss']==True:\n",
    "\n",
    "        y_train = copy.deepcopy(train_joint_dataset[1])\n",
    "        y_train_integers = np.argmax(y_train, axis=1)\n",
    "        class_weights = compute_class_weight(class_weight='balanced',classes=np.unique(y_train_integers),\n",
    "                                             y = y_train_integers)\n",
    "        d_class_weights = dict(enumerate(class_weights))\n",
    "\n",
    "        history = model.fit(\n",
    "            train_joint_dataset[0][index_random],\n",
    "            train_joint_dataset[1][index_random],\n",
    "            batch_size=dict_params['bs'],\n",
    "            validation_data=val_joint_dataset,\n",
    "            class_weight = d_class_weights,\n",
    "            epochs=epochs,\n",
    "            callbacks=[checkpoint,early_stopping_callback],\n",
    "            verbose=1\n",
    "        )\n",
    "    else:\n",
    "        history = model.fit(\n",
    "            train_joint_dataset[0][index_random],\n",
    "            train_joint_dataset[1][index_random],\n",
    "            batch_size=dict_params['bs'],\n",
    "            validation_data=val_joint_dataset,\n",
    "            epochs=epochs,\n",
    "            callbacks=[checkpoint,early_stopping_callback],\n",
    "            verbose=0\n",
    "        )\n",
    "    val_loss, val_balanced_accuracy, val_accuracy = model.evaluate(val_joint_dataset[0],val_joint_dataset[1],verbose=0)\n",
    "\n",
    "    ### test_loss, test_balanced_accuracy, test_accuracy = model.evaluate(test_joint_dataset.batch(len(test_joint_dataset)/5))\n",
    "    test_loss, test_balanced_accuracy, test_accuracy = model.evaluate(test_joint_dataset[0],test_joint_dataset[1],\n",
    "                                                                      verbose=0)\n",
    "    # test_loss, test_balanced_accuracy, test_accuracy = model.evaluate(test_joint_dataset)\n",
    "\n",
    "    print(f'**iteration: {train_i}**')\n",
    "    print('test_balanced_accuracy',test_balanced_accuracy)\n",
    "    print('test_accuracy',test_accuracy)\n",
    "    print('val_balanced_accuracy',val_balanced_accuracy)\n",
    "    print('val_accuracy',val_accuracy)\n",
    "    list_acc.append(test_accuracy)\n",
    "    list_balanced_acc.append(test_balanced_accuracy)\n",
    "print(\"AVERAGE RESULTS (acc,balanced_acc): \")\n",
    "print(np.mean(list_acc),np.mean(list_balanced_acc))"
   ]
  },
  {
   "cell_type": "code",
   "execution_count": 32,
   "id": "5df85d5f-c160-4d5d-bd59-b90a2eb48ae0",
   "metadata": {},
   "outputs": [
    {
     "data": {
      "text/plain": [
       "[<matplotlib.lines.Line2D at 0x2b4a13e9eb50>]"
      ]
     },
     "execution_count": 32,
     "metadata": {},
     "output_type": "execute_result"
    },
    {
     "data": {
      "image/png": "[encoded data removed]",
      "text/plain": [
       "<Figure size 640x480 with 1 Axes>"
      ]
     },
     "metadata": {},
     "output_type": "display_data"
    }
   ],
   "source": [
    "plt.plot(np.sum(test_joint_dataset[1],axis=0)/ np.sum(test_joint_dataset[1]))"
   ]
  },
  {
   "cell_type": "code",
   "execution_count": 33,
   "id": "3d0d8ee6-d71b-4b9c-ab30-d8958d64c1c3",
   "metadata": {},
   "outputs": [
    {
     "data": {
      "text/plain": [
       "[<matplotlib.lines.Line2D at 0x2b4a28b45bb0>]"
      ]
     },
     "execution_count": 33,
     "metadata": {},
     "output_type": "execute_result"
    },
    {
     "data": {
      "image/png": "[encoded data removed]",
      "text/plain": [
       "<Figure size 640x480 with 1 Axes>"
      ]
     },
     "metadata": {},
     "output_type": "display_data"
    }
   ],
   "source": [
    "predictions = model.predict(test_joint_dataset[0])\n",
    "plt.plot(np.mean(predictions,axis=0))"
   ]
  },
  {
   "cell_type": "markdown",
   "id": "ad6c69ee-0a2a-4e6f-b161-de8e8f654b4e",
   "metadata": {},
   "source": [
    "# Val Loss"
   ]
  },
  {
   "cell_type": "code",
   "execution_count": 34,
   "id": "1c245155-61a8-4b5b-9084-4dd9727e7639",
   "metadata": {},
   "outputs": [],
   "source": [
    "path_models = '/glade/work/jhayron/Data4Predictability/models/CNN_Sep11_2023/test_loss/'"
   ]
  },
  {
   "cell_type": "code",
   "execution_count": 35,
   "id": "c67fd197-4ce0-4721-b4a1-a8454cea1347",
   "metadata": {},
   "outputs": [
    {
     "name": "stdout",
     "output_type": "stream",
     "text": [
      "Epoch 1/100\n",
      "98/98 [==============================] - 28s 122ms/step - loss: 1.7946 - balanced_accuracy: 0.2126 - accuracy: 0.2133 - val_loss: 1.6295 - val_balanced_accuracy: 0.1941 - val_accuracy: 0.2126\n",
      "Epoch 2/100\n",
      "98/98 [==============================] - 9s 92ms/step - loss: 1.6250 - balanced_accuracy: 0.2303 - accuracy: 0.2420 - val_loss: 1.6507 - val_balanced_accuracy: 0.2192 - val_accuracy: 0.1801\n",
      "Epoch 3/100\n",
      "98/98 [==============================] - 9s 95ms/step - loss: 1.6411 - balanced_accuracy: 0.2292 - accuracy: 0.2346 - val_loss: 1.6261 - val_balanced_accuracy: 0.1941 - val_accuracy: 0.2126\n",
      "Epoch 4/100\n",
      "98/98 [==============================] - 10s 100ms/step - loss: 1.6235 - balanced_accuracy: 0.2695 - accuracy: 0.2687 - val_loss: 1.6050 - val_balanced_accuracy: 0.1926 - val_accuracy: 0.2088\n",
      "Epoch 5/100\n",
      "98/98 [==============================] - 9s 94ms/step - loss: 1.6442 - balanced_accuracy: 0.2415 - accuracy: 0.2306 - val_loss: 1.6493 - val_balanced_accuracy: 0.1691 - val_accuracy: 0.1839\n",
      "Epoch 6/100\n",
      "98/98 [==============================] - 9s 91ms/step - loss: 1.6066 - balanced_accuracy: 0.2215 - accuracy: 0.2310 - val_loss: 1.7552 - val_balanced_accuracy: 0.1990 - val_accuracy: 0.2146\n",
      "Epoch 7/100\n",
      "98/98 [==============================] - 9s 93ms/step - loss: 1.5806 - balanced_accuracy: 0.2678 - accuracy: 0.2768 - val_loss: 1.6623 - val_balanced_accuracy: 0.2005 - val_accuracy: 0.1973\n",
      "Epoch 8/100\n",
      "98/98 [==============================] - 9s 94ms/step - loss: 1.6029 - balanced_accuracy: 0.2383 - accuracy: 0.2357 - val_loss: 1.6427 - val_balanced_accuracy: 0.1819 - val_accuracy: 0.1973\n",
      "Epoch 9/100\n",
      "98/98 [==============================] - 9s 92ms/step - loss: 1.6045 - balanced_accuracy: 0.2579 - accuracy: 0.2642 - val_loss: 3.8449 - val_balanced_accuracy: 0.2369 - val_accuracy: 0.2280\n",
      "**iteration: 1**\n",
      "test_balanced_accuracy 0.22575759887695312\n",
      "test_accuracy 0.31027668714523315\n",
      "val_balanced_accuracy 0.19255352020263672\n",
      "val_accuracy 0.20881226658821106\n",
      "Epoch 1/100\n",
      "98/98 [==============================] - 28s 122ms/step - loss: 1.8747 - balanced_accuracy: 0.1974 - accuracy: 0.2074 - val_loss: 1.6351 - val_balanced_accuracy: 0.2137 - val_accuracy: 0.1379\n",
      "Epoch 2/100\n",
      "98/98 [==============================] - 9s 92ms/step - loss: 1.6311 - balanced_accuracy: 0.2290 - accuracy: 0.2298 - val_loss: 1.6260 - val_balanced_accuracy: 0.2352 - val_accuracy: 0.1667\n",
      "Epoch 3/100\n",
      "98/98 [==============================] - 9s 95ms/step - loss: 1.6361 - balanced_accuracy: 0.2310 - accuracy: 0.2560 - val_loss: 1.5975 - val_balanced_accuracy: 0.2137 - val_accuracy: 0.2318\n",
      "Epoch 4/100\n",
      "98/98 [==============================] - 9s 93ms/step - loss: 1.6193 - balanced_accuracy: 0.2415 - accuracy: 0.2333 - val_loss: 1.6450 - val_balanced_accuracy: 0.1725 - val_accuracy: 0.1916\n",
      "Epoch 5/100\n",
      "98/98 [==============================] - 9s 94ms/step - loss: 1.6281 - balanced_accuracy: 0.2661 - accuracy: 0.2485 - val_loss: 35.2567 - val_balanced_accuracy: 0.1990 - val_accuracy: 0.2069\n",
      "Epoch 6/100\n",
      "98/98 [==============================] - 9s 94ms/step - loss: 1.6179 - balanced_accuracy: 0.2274 - accuracy: 0.2492 - val_loss: 1.7063 - val_balanced_accuracy: 0.2146 - val_accuracy: 0.2337\n",
      "Epoch 7/100\n",
      "98/98 [==============================] - 9s 92ms/step - loss: 1.5876 - balanced_accuracy: 0.2674 - accuracy: 0.2949 - val_loss: 2.2103 - val_balanced_accuracy: 0.2233 - val_accuracy: 0.2471\n",
      "Epoch 8/100\n",
      "98/98 [==============================] - 9s 90ms/step - loss: 1.5985 - balanced_accuracy: 0.2724 - accuracy: 0.2784 - val_loss: 1.6463 - val_balanced_accuracy: 0.2187 - val_accuracy: 0.1897\n",
      "**iteration: 2**\n",
      "test_balanced_accuracy 0.2081250250339508\n",
      "test_accuracy 0.3083004057407379\n",
      "val_balanced_accuracy 0.2137255072593689\n",
      "val_accuracy 0.23180076479911804\n",
      "Epoch 1/100\n",
      "98/98 [==============================] - 28s 121ms/step - loss: 1.9511 - balanced_accuracy: 0.2024 - accuracy: 0.1910 - val_loss: 1.6301 - val_balanced_accuracy: 0.1941 - val_accuracy: 0.2126\n",
      "Epoch 2/100\n",
      "98/98 [==============================] - 10s 98ms/step - loss: 1.6404 - balanced_accuracy: 0.2147 - accuracy: 0.2269 - val_loss: 1.6752 - val_balanced_accuracy: 0.2137 - val_accuracy: 0.1379\n",
      "Epoch 3/100\n",
      "98/98 [==============================] - 9s 93ms/step - loss: 1.6425 - balanced_accuracy: 0.2199 - accuracy: 0.2203 - val_loss: 1.6235 - val_balanced_accuracy: 0.1813 - val_accuracy: 0.1954\n",
      "Epoch 4/100\n",
      "98/98 [==============================] - 9s 92ms/step - loss: 1.6071 - balanced_accuracy: 0.2486 - accuracy: 0.2682 - val_loss: 1.6287 - val_balanced_accuracy: 0.1934 - val_accuracy: 0.2069\n",
      "Epoch 5/100\n",
      "98/98 [==============================] - 9s 94ms/step - loss: 1.6192 - balanced_accuracy: 0.2563 - accuracy: 0.2566 - val_loss: 17.7447 - val_balanced_accuracy: 0.1892 - val_accuracy: 0.1456\n",
      "Epoch 6/100\n",
      "98/98 [==============================] - 9s 92ms/step - loss: 1.6109 - balanced_accuracy: 0.2493 - accuracy: 0.2685 - val_loss: 1.6432 - val_balanced_accuracy: 0.1978 - val_accuracy: 0.2184\n",
      "Epoch 7/100\n",
      "98/98 [==============================] - 9s 92ms/step - loss: 1.6154 - balanced_accuracy: 0.2394 - accuracy: 0.2456 - val_loss: 1.6341 - val_balanced_accuracy: 0.2015 - val_accuracy: 0.2414\n",
      "Epoch 8/100\n",
      "98/98 [==============================] - 9s 94ms/step - loss: 1.6204 - balanced_accuracy: 0.2133 - accuracy: 0.2173 - val_loss: 2.2534 - val_balanced_accuracy: 0.1841 - val_accuracy: 0.2184\n",
      "**iteration: 3**\n",
      "test_balanced_accuracy 0.20055627822875977\n",
      "test_accuracy 0.21541501581668854\n",
      "val_balanced_accuracy 0.18127451837062836\n",
      "val_accuracy 0.19540229439735413\n",
      "AVERAGE RESULTS (acc,balanced_acc): \n",
      "0.2779973695675532 0.21147963404655457\n"
     ]
    }
   ],
   "source": [
    "list_acc = []\n",
    "list_balanced_acc = []\n",
    "for train_i in [1,2,3]:\n",
    "    dict_params = {'model_base':'densenet',\n",
    "                   'type_pooling':'avg',\n",
    "                   'do':0.5,\n",
    "                   'md':8,\n",
    "                   'activation':'LeakyReLU',\n",
    "                   'weighted_loss':True,\n",
    "                   'bs':32,\n",
    "                   'lr':0.001,\n",
    "                   'input_shape':train_joint_dataset[0].shape[1:]}\n",
    "    # with strategy.scope():\n",
    "    model = build_predesigned_model(dict_params['model_base'],\n",
    "                                    dict_params['type_pooling'],\n",
    "                                    dict_params['do'],\n",
    "                                    dict_params['md'],\n",
    "                                    dict_params['activation'],\n",
    "                                    dict_params['input_shape'])\n",
    "\n",
    "    model.compile(loss=keras.losses.categorical_crossentropy, \n",
    "                  optimizer=keras.optimizers.Adam(lr=dict_params['lr']),\n",
    "                  metrics=[balanced_accuracy,'accuracy'])  \n",
    "\n",
    "    epochs = 100\n",
    "    early_stopping_patience = 5\n",
    "\n",
    "    # Create the EarlyStopping callback\n",
    "    early_stopping_callback = tf.keras.callbacks.EarlyStopping(\n",
    "        monitor='val_loss',  # Metric to monitor\n",
    "        patience=early_stopping_patience,  # Number of epochs with no improvement\n",
    "        restore_best_weights=True  # Restore the weights of the best model\n",
    "    )\n",
    "\n",
    "    # Train the model with early stopping\n",
    "    try:\n",
    "        os.mkdir(f'{path_models}{name_var}')\n",
    "    except: pass\n",
    "\n",
    "    filepath = f'{path_models}{name_var}/model_{week_out_str}_v0.h5'\n",
    "    checkpoint = ModelCheckpoint(filepath, monitor='val_loss', verbose=0, save_best_only=True, \n",
    "                                 mode='auto',save_weights_only=False)\n",
    "\n",
    "\n",
    "    if dict_params['weighted_loss']==True:\n",
    "\n",
    "        y_train = copy.deepcopy(train_joint_dataset[1])\n",
    "        y_train_integers = np.argmax(y_train, axis=1)\n",
    "        class_weights = compute_class_weight(class_weight='balanced',classes=np.unique(y_train_integers),\n",
    "                                             y = y_train_integers)\n",
    "        d_class_weights = dict(enumerate(class_weights))\n",
    "\n",
    "        history = model.fit(\n",
    "            train_joint_dataset[0][index_random],\n",
    "            train_joint_dataset[1][index_random],\n",
    "            batch_size=dict_params['bs'],\n",
    "            validation_data=val_joint_dataset,\n",
    "            class_weight = d_class_weights,\n",
    "            epochs=epochs,\n",
    "            callbacks=[checkpoint,early_stopping_callback],\n",
    "            verbose=1\n",
    "        )\n",
    "    else:\n",
    "        history = model.fit(\n",
    "            train_joint_dataset[0][index_random],\n",
    "            train_joint_dataset[1][index_random],\n",
    "            batch_size=dict_params['bs'],\n",
    "            validation_data=val_joint_dataset,\n",
    "            epochs=epochs,\n",
    "            callbacks=[checkpoint,early_stopping_callback],\n",
    "            verbose=0\n",
    "        )\n",
    "    val_loss, val_balanced_accuracy, val_accuracy = model.evaluate(val_joint_dataset[0],val_joint_dataset[1],verbose=0)\n",
    "    ### test_loss, test_balanced_accuracy, test_accuracy = model.evaluate(test_joint_dataset.batch(len(test_joint_dataset)/5))\n",
    "    test_loss, test_balanced_accuracy, test_accuracy = model.evaluate(test_joint_dataset[0],test_joint_dataset[1],\n",
    "                                                                      verbose=0)\n",
    "    # test_loss, test_balanced_accuracy, test_accuracy = model.evaluate(test_joint_dataset)\n",
    "\n",
    "    print(f'**iteration: {train_i}**')\n",
    "    print('test_balanced_accuracy',test_balanced_accuracy)\n",
    "    print('test_accuracy',test_accuracy)\n",
    "    print('val_balanced_accuracy',val_balanced_accuracy)\n",
    "    print('val_accuracy',val_accuracy)\n",
    "    list_acc.append(test_accuracy)\n",
    "    list_balanced_acc.append(test_balanced_accuracy)\n",
    "print(\"AVERAGE RESULTS (acc,balanced_acc): \")\n",
    "print(np.mean(list_acc),np.mean(list_balanced_acc))"
   ]
  },
  {
   "cell_type": "code",
   "execution_count": 36,
   "id": "fd7dfc47-3efc-4835-8ff8-469d515b56e5",
   "metadata": {},
   "outputs": [
    {
     "data": {
      "text/plain": [
       "[<matplotlib.lines.Line2D at 0x2b4a2a28bb20>]"
      ]
     },
     "execution_count": 36,
     "metadata": {},
     "output_type": "execute_result"
    },
    {
     "data": {
      "image/png": "[encoded data removed]",
      "text/plain": [
       "<Figure size 640x480 with 1 Axes>"
      ]
     },
     "metadata": {},
     "output_type": "display_data"
    }
   ],
   "source": [
    "plt.plot(np.sum(test_joint_dataset[1],axis=0)/ np.sum(test_joint_dataset[1]))"
   ]
  },
  {
   "cell_type": "code",
   "execution_count": 37,
   "id": "bf1e136a-c1d1-43c5-9544-ea6842135e0c",
   "metadata": {},
   "outputs": [
    {
     "data": {
      "text/plain": [
       "[<matplotlib.lines.Line2D at 0x2b4a2945fc10>]"
      ]
     },
     "execution_count": 37,
     "metadata": {},
     "output_type": "execute_result"
    },
    {
     "data": {
      "image/png": "[encoded data removed]",
      "text/plain": [
       "<Figure size 640x480 with 1 Axes>"
      ]
     },
     "metadata": {},
     "output_type": "display_data"
    }
   ],
   "source": [
    "predictions = model.predict(test_joint_dataset[0])\n",
    "plt.plot(np.mean(predictions,axis=0))"
   ]
  },
  {
   "cell_type": "code",
   "execution_count": null,
   "id": "6afb64e0-d1b1-42bd-a9dd-1aa1b3978354",
   "metadata": {},
   "outputs": [],
   "source": []
  },
  {
   "cell_type": "code",
   "execution_count": null,
   "id": "b67fffa3-8074-4f88-b500-7015b6a37aaa",
   "metadata": {},
   "outputs": [],
   "source": []
  },
  {
   "cell_type": "code",
   "execution_count": null,
   "id": "a42576e1-1e2f-47c3-a7a0-777db0367d89",
   "metadata": {},
   "outputs": [],
   "source": []
  },
  {
   "cell_type": "code",
   "execution_count": null,
   "id": "70eee17d-85c3-4887-9d9f-7185372f272f",
   "metadata": {},
   "outputs": [],
   "source": []
  },
  {
   "cell_type": "code",
   "execution_count": null,
   "id": "869fb618-d9ce-4482-a26b-76b8e4e82e3d",
   "metadata": {},
   "outputs": [],
   "source": []
  },
  {
   "cell_type": "code",
   "execution_count": null,
   "id": "cdb24c5c-64bb-4d7f-b0b0-cd279afd9a11",
   "metadata": {},
   "outputs": [],
   "source": []
  },
  {
   "cell_type": "code",
   "execution_count": 10,
   "id": "8c391756-54ad-44e0-b050-174f4eb78ae5",
   "metadata": {},
   "outputs": [],
   "source": [
    "# resnet50 - 0.2325156182050705\n"
   ]
  },
  {
   "cell_type": "code",
   "execution_count": 11,
   "id": "d8bf919c-5224-4c8f-ac83-dc22b89f664b",
   "metadata": {},
   "outputs": [
    {
     "name": "stdout",
     "output_type": "stream",
     "text": [
      "16/16 [==============================] - 5s 227ms/step - loss: 1.6092 - balanced_accuracy: 0.2063 - accuracy: 0.1779\n",
      "test_balanced_accuracy 0.20625002682209015\n",
      "test_accuracy 0.17786560952663422\n",
      "val_balanced_accuracy 0.21481484174728394\n",
      "val_accuracy 0.24137930572032928\n"
     ]
    }
   ],
   "source": [
    "# test_loss, test_balanced_accuracy, test_accuracy = model.evaluate(test_joint_dataset.batch(len(test_joint_dataset)/5))\n",
    "test_loss, test_balanced_accuracy, test_accuracy = model.evaluate(test_joint_dataset[0],test_joint_dataset[1])\n",
    "# test_loss, test_balanced_accuracy, test_accuracy = model.evaluate(test_joint_dataset)\n",
    "val_balanced_accuracy = np.max(history.history['val_balanced_accuracy'])\n",
    "val_accuracy = np.max(history.history['val_accuracy'])\n",
    "\n",
    "print('test_balanced_accuracy',test_balanced_accuracy)\n",
    "print('test_accuracy',test_accuracy)\n",
    "print('val_balanced_accuracy',val_balanced_accuracy)\n",
    "print('val_accuracy',val_accuracy)"
   ]
  },
  {
   "cell_type": "code",
   "execution_count": 25,
   "id": "095b0e94-3ff1-4004-beb8-344e98fe9518",
   "metadata": {},
   "outputs": [
    {
     "data": {
      "text/plain": [
       "<BatchDataset shapes: ((None, 240, 720, 1), (None, 5)), types: (tf.float64, tf.float32)>"
      ]
     },
     "execution_count": 25,
     "metadata": {},
     "output_type": "execute_result"
    }
   ],
   "source": [
    "train_joint_dataset.batch(dict_params['bs'])"
   ]
  },
  {
   "cell_type": "code",
   "execution_count": 48,
   "id": "68b3706d-f0cc-4723-a583-96816f9ac116",
   "metadata": {},
   "outputs": [
    {
     "data": {
      "text/plain": [
       "(240, 720, 1)"
      ]
     },
     "execution_count": 48,
     "metadata": {},
     "output_type": "execute_result"
    }
   ],
   "source": [
    "input_data.numpy().shape"
   ]
  },
  {
   "cell_type": "code",
   "execution_count": 14,
   "id": "efddc2da-f954-435a-a897-a390613c4dcf",
   "metadata": {},
   "outputs": [],
   "source": [
    "# Assuming your dataset is called 'test_dataset'\n",
    "all_input_data = []\n",
    "all_output_data = []\n",
    "\n",
    "for input_data, output_data in test_joint_dataset:\n",
    "    all_input_data.append(input_data.numpy())  # Convert the Tensor to a NumPy array\n",
    "    all_output_data.append(output_data.numpy())\n",
    "# Convert the list of NumPy arrays to a single NumPy array\n",
    "all_input_data_np = np.array(all_input_data)\n",
    "all_output_data_np = np.array(all_output_data)"
   ]
  },
  {
   "cell_type": "code",
   "execution_count": 13,
   "id": "b505078b-c6f5-43e5-8308-c8178ce5d34e",
   "metadata": {},
   "outputs": [
    {
     "data": {
      "text/plain": [
       "array([[0.19588202, 0.20458117, 0.19893521, 0.19674964, 0.20385192],\n",
       "       [0.19588204, 0.2045812 , 0.19893523, 0.19674964, 0.20385194],\n",
       "       [0.19588202, 0.20458117, 0.19893521, 0.19674964, 0.20385192],\n",
       "       ...,\n",
       "       [0.19588202, 0.20458117, 0.19893521, 0.19674964, 0.20385192],\n",
       "       [0.19588202, 0.20458117, 0.19893521, 0.19674964, 0.20385192],\n",
       "       [0.19588202, 0.20458117, 0.19893521, 0.19674964, 0.20385192]],\n",
       "      dtype=float32)"
      ]
     },
     "execution_count": 13,
     "metadata": {},
     "output_type": "execute_result"
    }
   ],
   "source": [
    "model.predict(all_input_data_np)"
   ]
  },
  {
   "cell_type": "code",
   "execution_count": 19,
   "id": "656b6803-db3a-4595-a82f-08424284da10",
   "metadata": {},
   "outputs": [
    {
     "data": {
      "text/plain": [
       "array([[[1.46623502],\n",
       "        [1.48863234],\n",
       "        [1.5077076 ],\n",
       "        ...,\n",
       "        [1.38798114],\n",
       "        [1.41586549],\n",
       "        [1.44197845]],\n",
       "\n",
       "       [[1.54025296],\n",
       "        [1.55970751],\n",
       "        [1.57487297],\n",
       "        ...,\n",
       "        [1.46626309],\n",
       "        [1.49324022],\n",
       "        [1.51785905]],\n",
       "\n",
       "       [[1.60578687],\n",
       "        [1.62109075],\n",
       "        [1.63273157],\n",
       "        ...,\n",
       "        [1.54104955],\n",
       "        [1.565385  ],\n",
       "        [1.58693654]],\n",
       "\n",
       "       ...,\n",
       "\n",
       "       [[0.67280749],\n",
       "        [0.6718265 ],\n",
       "        [0.67083733],\n",
       "        ...,\n",
       "        [0.67573343],\n",
       "        [0.67476368],\n",
       "        [0.67378126]],\n",
       "\n",
       "       [[0.64225224],\n",
       "        [0.64167656],\n",
       "        [0.64109503],\n",
       "        ...,\n",
       "        [0.64397349],\n",
       "        [0.64339685],\n",
       "        [0.64282955]],\n",
       "\n",
       "       [[0.61313806],\n",
       "        [0.61294637],\n",
       "        [0.61276231],\n",
       "        ...,\n",
       "        [0.61369119],\n",
       "        [0.61350686],\n",
       "        [0.61332178]]])"
      ]
     },
     "execution_count": 19,
     "metadata": {},
     "output_type": "execute_result"
    }
   ],
   "source": [
    "all_input_data_np[0]"
   ]
  },
  {
   "cell_type": "code",
   "execution_count": 15,
   "id": "6deb8419-b1ff-4450-99ff-0a5caf3cfa8c",
   "metadata": {},
   "outputs": [
    {
     "data": {
      "text/plain": [
       "array([[0., 0., 1., 0., 0.],\n",
       "       [0., 0., 1., 0., 0.],\n",
       "       [0., 1., 0., 0., 0.],\n",
       "       ...,\n",
       "       [0., 0., 0., 1., 0.],\n",
       "       [0., 0., 0., 1., 0.],\n",
       "       [0., 0., 0., 1., 0.]], dtype=float32)"
      ]
     },
     "execution_count": 15,
     "metadata": {},
     "output_type": "execute_result"
    }
   ],
   "source": [
    "all_output_data_np"
   ]
  },
  {
   "cell_type": "code",
   "execution_count": null,
   "id": "9d83f700-d5da-4f43-9e8a-ae4545d0e5bc",
   "metadata": {},
   "outputs": [],
   "source": []
  },
  {
   "cell_type": "code",
   "execution_count": 65,
   "id": "bc974a40-f1bf-4e81-9996-7f9883a814fc",
   "metadata": {},
   "outputs": [
    {
     "data": {
      "text/plain": [
       "(522, 240, 720, 1)"
      ]
     },
     "execution_count": 65,
     "metadata": {},
     "output_type": "execute_result"
    }
   ],
   "source": [
    "all_input_data_np.shape"
   ]
  },
  {
   "cell_type": "code",
   "execution_count": 36,
   "id": "656278a0-e335-4fb7-a199-b5946f958427",
   "metadata": {},
   "outputs": [
    {
     "data": {
      "text/plain": [
       "0"
      ]
     },
     "execution_count": 36,
     "metadata": {},
     "output_type": "execute_result"
    }
   ],
   "source": [
    "len(np.where(np.isfinite(input_data.numpy()[:,:,0])==False)[0])"
   ]
  },
  {
   "cell_type": "code",
   "execution_count": 38,
   "id": "97f059e3-dcbd-4f64-a397-af9725418692",
   "metadata": {},
   "outputs": [
    {
     "data": {
      "text/plain": [
       "array([0., 1., 0., 0., 0.], dtype=float32)"
      ]
     },
     "execution_count": 38,
     "metadata": {},
     "output_type": "execute_result"
    }
   ],
   "source": [
    "output_data.numpy()"
   ]
  },
  {
   "cell_type": "code",
   "execution_count": 57,
   "id": "bb56418d-0a94-4074-9aac-4d3c3c9d02b3",
   "metadata": {},
   "outputs": [
    {
     "data": {
      "text/plain": [
       "<bound method DatasetV2.cardinality of <ShuffleDataset shapes: ((240, 720, 1), (5,)), types: (tf.float64, tf.float32)>>"
      ]
     },
     "execution_count": 57,
     "metadata": {},
     "output_type": "execute_result"
    }
   ],
   "source": [
    "train_joint_dataset.cardinality"
   ]
  },
  {
   "cell_type": "code",
   "execution_count": null,
   "id": "cba80a65-e44c-4c4e-8275-202b869bd710",
   "metadata": {},
   "outputs": [],
   "source": []
  },
  {
   "cell_type": "code",
   "execution_count": null,
   "id": "54aced26-0955-4c2d-b8a4-f710c000be0c",
   "metadata": {},
   "outputs": [],
   "source": []
  },
  {
   "cell_type": "code",
   "execution_count": null,
   "id": "4a7cc92f-e35d-43b3-8d03-4033331c86f2",
   "metadata": {},
   "outputs": [],
   "source": [
    "path_models = '/glade/work/jhayron/Data4Predictability/models/CNN_Aug17_2023/v0/'\n",
    "optimizer_direction = 'maximize'\n",
    "number_of_random_points = 30  # random searches to start opt process\n",
    "maximum_time = 0.12*60*60  # seconds"
   ]
  },
  {
   "cell_type": "code",
   "execution_count": null,
   "id": "42a4aa61-337c-4b44-ab96-4e969c916e2a",
   "metadata": {},
   "outputs": [],
   "source": [
    ",name_var,week_out_str"
   ]
  },
  {
   "cell_type": "code",
   "execution_count": null,
   "id": "443b3cdc-cd5a-4238-8ee7-a0d0662a0a1a",
   "metadata": {},
   "outputs": [],
   "source": []
  },
  {
   "cell_type": "code",
   "execution_count": null,
   "id": "b73cd7a5-3665-4ca3-b8b0-f640a3ad5f6f",
   "metadata": {},
   "outputs": [],
   "source": []
  },
  {
   "cell_type": "code",
   "execution_count": null,
   "id": "7f24ba5b-8323-418e-9dd2-0c3afb6f6ad5",
   "metadata": {},
   "outputs": [],
   "source": [
    "class Objective(object):\n",
    "    def __init__(self, train_joint_dataset, val_joint_dataset, test_joint_dataset,\n",
    "                 path_models, variable, week):\n",
    "        self.train_joint_dataset = train_joint_dataset\n",
    "        self.val_joint_dataset = val_joint_dataset\n",
    "        self.test_joint_dataset = test_joint_dataset\n",
    "        self.path_models = path_models\n",
    "        self.variable = variable\n",
    "        self.week = week\n",
    " \n",
    "    def __call__(self, trial):    \n",
    "        keras.backend.clear_session()\n",
    "        \n",
    "        model_base = trial.suggest_categorical('model_base',['vanilla','resnet50','resnet101',\\\n",
    "                                                             'inception','xception','densenet'])\n",
    "        ks = trial.suggest_categorical('ks',[3,5,7,9,11])\n",
    "        ps = trial.suggest_categorical('ps',[2,4,6,8])\n",
    "        type_pooling = trial.suggest_categorical('type_pooling',[None, 'avg','max'])\n",
    "        stc = trial.suggest_categorical('stc',[1,2,3,4])\n",
    "        stp = trial.suggest_categorical('stp',[1,2,3,4])\n",
    "        do = trial.suggest_categorical('do',[0.3,0.4,0.5])\n",
    "        md = trial.suggest_categorical('md',[2,4,8,16])\n",
    "        nfilters = trial.suggest_categorical('nfilters',[4,8,16,32])\n",
    "        activation = trial.suggest_categorical('activation',['LeakyReLU','ReLU'])\n",
    "        weighted_loss = trial.suggest_categorical('weighted_loss',[True,False])\n",
    "        \n",
    "        dict_params = {'model_base':model_base,\n",
    "                       'ks':ks,\n",
    "                       'ps':ps,\n",
    "                       'type_pooling':type_pooling,\n",
    "                       'stc':stc,\n",
    "                       'stp':stp,\n",
    "                       'do':do,\n",
    "                       'md':md,\n",
    "                       'nfilters':nfilters,\n",
    "                       'activation':activation,\n",
    "                       'weighted_loss':weighted_loss}\n",
    "        print(dict_params)                                      \n",
    "        # instantiate and compile model\n",
    "        if dict_params['model_base']=='vanilla':\n",
    "            model = build_vanilla_cnn(dict_params['ks'],\n",
    "                                      dict_params['ps'],\n",
    "                                      dict_params['type_pooling'],\n",
    "                                      dict_params['stc'],\n",
    "                                      dict_params['stp'],\n",
    "                                      dict_params['do'],\n",
    "                                      dict_params['md'],\n",
    "                                      dict_params['nfilters'],\n",
    "                                      dict_params['activation'])\n",
    "        elif dict_params['model_base']=='resnet50':\n",
    "            model = build_resnet50_model(dict_params['type_pooling'],\n",
    "                                         dict_params['do'],\n",
    "                                         dict_params['md'],\n",
    "                                         dict_params['activation'])\n",
    "        elif dict_params['model_base']=='resnet101':\n",
    "            model = build_resnet101_model(dict_params['type_pooling'],\n",
    "                                         dict_params['do'],\n",
    "                                         dict_params['md'],\n",
    "                                         dict_params['activation'])\n",
    "        elif dict_params['model_base']=='inception':\n",
    "            model = build_inception_model(dict_params['type_pooling'],\n",
    "                                         dict_params['do'],\n",
    "                                         dict_params['md'],\n",
    "                                         dict_params['activation'])\n",
    "        elif dict_params['model_base']=='xception':\n",
    "            model = build_xception_model(dict_params['type_pooling'],\n",
    "                                         dict_params['do'],\n",
    "                                         dict_params['md'],\n",
    "                                         dict_params['activation'])\n",
    "        elif dict_params['model_base']=='densenet':\n",
    "            model = build_densenet_model(dict_params['type_pooling'],\n",
    "                                         dict_params['do'],\n",
    "                                         dict_params['md'],\n",
    "                                         dict_params['activation'])\n",
    "            \n",
    "        model.compile(loss=keras.losses.categorical_crossentropy, \n",
    "                optimizer=keras.optimizers.Adam(lr=0.0001),metrics=[balanced_accuracy,'accuracy'])\n",
    "        \n",
    "        epochs = 100\n",
    "        early_stopping_patience = 5\n",
    "\n",
    "        # Create the EarlyStopping callback\n",
    "        early_stopping_callback = tf.keras.callbacks.EarlyStopping(\n",
    "            monitor='val_balanced_accuracy',  # Metric to monitor\n",
    "            patience=early_stopping_patience,  # Number of epochs with no improvement\n",
    "            restore_best_weights=True  # Restore the weights of the best model\n",
    "        )\n",
    "\n",
    "        # Train the model with early stopping\n",
    "        try:\n",
    "            os.mkdir(f'{self.path_models}{self.variable}')\n",
    "        except: pass\n",
    "    \n",
    "        filepath = f'{self.path_models}{self.variable}/model_{self.week}_v0.h5'\n",
    "        checkpoint = ModelCheckpoint(filepath, monitor='val_loss', verbose=0, save_best_only=True, \n",
    "                                     mode='auto',save_weights_only=False)\n",
    "        \n",
    "        if dict_params['weighted_loss']==True:\n",
    "            \n",
    "            y_train = get_output_from_dataset(self.train_joint_dataset)\n",
    "            y_train_integers = np.argmax(y_train, axis=1)\n",
    "            class_weights = compute_class_weight(class_weight='balanced',classes=np.unique(y_train_integers),\n",
    "                                                 y = y_train_integers)\n",
    "            d_class_weights = dict(enumerate(class_weights))\n",
    "            \n",
    "            history = model.fit(\n",
    "                self.train_joint_dataset.batch(32),\n",
    "                validation_data=self.val_joint_dataset.batch(32),\n",
    "                class_weight = d_class_weights,\n",
    "                epochs=epochs,\n",
    "                callbacks=[checkpoint,early_stopping_callback],\n",
    "                verbose=0\n",
    "            )\n",
    "        else:\n",
    "            history = model.fit(\n",
    "                self.train_joint_dataset.batch(32),\n",
    "                validation_data=self.val_joint_dataset.batch(32),\n",
    "                epochs=epochs,\n",
    "                callbacks=[checkpoint,early_stopping_callback],\n",
    "                verbose=0\n",
    "            )\n",
    "        \n",
    "        test_loss, test_balanced_accuracy, test_accuracy = model.evaluate(self.test_joint_dataset.batch(32))\n",
    "        val_balanced_accuracy = np.max(history.history['val_balanced_accuracy'])\n",
    "        val_accuracy = np.max(history.history['val_accuracy'])\n",
    "        \n",
    "        trial.set_user_attr('test_balanced_accuracy',test_balanced_accuracy)\n",
    "        trial.set_user_attr('test_accuracy',test_accuracy)\n",
    "        trial.set_user_attr('val_balanced_accuracy',val_balanced_accuracy)\n",
    "        trial.set_user_attr('val_accuracy',val_accuracy)\n",
    "        \n",
    "        return val_balanced_accuracy\n",
    "    \n",
    "    \n",
    "# Get variable and origin from command-line arguments\n",
    "name_var = sys.argv[1]\n",
    "week_out = sys.argv[2]\n",
    "path_weekly_anoms = '/glade/scratch/jhayron/Data4Predictability/WeeklyAnoms/'\n",
    "input_anoms = xr.open_dataset(f'{path_weekly_anoms}{name_var}.nc')\n",
    "var_name = list(input_anoms.data_vars.keys())[0]\n",
    "week_out_str = f'week{week_out}'\n",
    "\n",
    "wr_series = pd.read_csv('/glade/work/jhayron/Data4Predictability/WR_Series.csv',\\\n",
    "                index_col=0,names=['week0'],skiprows=1,parse_dates=True)\n",
    "for wk in range(2,10):\n",
    "    series_temp = copy.deepcopy(wr_series[\"week0\"])\n",
    "    series_temp.index = series_temp.index - timedelta(weeks = wk-1)\n",
    "    series_temp.name = f'week{wk-1}'\n",
    "    if wk==2:\n",
    "        df_shifts = pd.concat([pd.DataFrame(wr_series[\"week0\"]),pd.DataFrame(series_temp)],axis=1)  \n",
    "    else:\n",
    "        df_shifts = pd.concat([df_shifts,pd.DataFrame(series_temp)],axis=1)\n",
    "        \n",
    "train_joint_dataset, val_joint_dataset, test_joint_dataset = \\\n",
    "    create_datasets(input_anoms, var_name, df_shifts, week_out)\n",
    "path_models = '/glade/work/jhayron/Data4Predictability/models/CNN/v0/'\n",
    "optimizer_direction = 'maximize'\n",
    "number_of_random_points = 30  # random searches to start opt process\n",
    "maximum_time = 0.12*60*60  # seconds\n",
    "objective = Objective(train_joint_dataset,val_joint_dataset,test_joint_dataset,\n",
    "                      path_models,name_var,week_out_str)\n",
    "    \n",
    "results_directory = f'/glade/work/jhayron/Data4Predictability/models/CNN/results_optuna/{week_out_str}/'\n",
    "try:\n",
    "    os.mkdir(results_directory)\n",
    "except:\n",
    "    pass\n",
    "\n",
    "study_name = f'study_{name_var}_{week_out_str}_v0'\n",
    "storage_name = f'sqlite:///{study_name}.db'\n",
    "\n",
    "\n",
    "optuna.logging.set_verbosity(optuna.logging.WARNING)\n",
    "study = optuna.create_study(direction=optimizer_direction,\n",
    "        sampler=TPESampler(n_startup_trials=number_of_random_points),\n",
    "        study_name=study_name, storage=storage_name,load_if_exists=True)\n",
    "\n",
    "study.optimize(objective, timeout=maximum_time, gc_after_trial=True,callbacks=[logging_callback],)\n",
    "\n",
    "# save results\n",
    "df_results = study.trials_dataframe()\n",
    "df_results.to_pickle(results_directory + f'df_optuna_results_{name_var}_v0.pkl')\n",
    "df_results.to_csv(results_directory + f'df_optuna_results_{name_var}_v0.csv')\n",
    "#save study\n",
    "joblib.dump(study, results_directory + f'optuna_study_{name_var}_v0.pkl')"
   ]
  }
 ],
 "metadata": {
  "kernelspec": {
   "display_name": "Python [conda env:cnn_wr]",
   "language": "python",
   "name": "conda-env-cnn_wr-py"
  },
  "language_info": {
   "codemirror_mode": {
    "name": "ipython",
    "version": 3
   },
   "file_extension": ".py",
   "mimetype": "text/x-python",
   "name": "python",
   "nbconvert_exporter": "python",
   "pygments_lexer": "ipython3",
   "version": "3.9.15"
  }
 },
 "nbformat": 4,
 "nbformat_minor": 5
}
