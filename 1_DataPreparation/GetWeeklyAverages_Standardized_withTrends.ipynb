{
 "cells": [
  {
   "cell_type": "code",
   "execution_count": 1,
   "id": "826b92fb-d0eb-437a-a3ad-a84ee4d8a030",
   "metadata": {},
   "outputs": [],
   "source": [
    "import xarray as xr\n",
    "import numpy as np\n",
    "import pandas as pd\n",
    "import matplotlib.pyplot as plt\n",
    "import glob\n",
    "import datetime as dt\n",
    "import copy\n",
    "import os\n",
    "from sklearn.linear_model import LinearRegression\n",
    "import random\n",
    "import dask.array as da"
   ]
  },
  {
   "cell_type": "code",
   "execution_count": 2,
   "id": "962b9a39-405b-4d1d-943b-8f8c147c953b",
   "metadata": {},
   "outputs": [],
   "source": [
    "path_daily_anoms = '/glade/scratch/jhayron/Data4Predictability/DailyStdAnoms/'"
   ]
  },
  {
   "cell_type": "code",
   "execution_count": 3,
   "id": "625d210c-b530-4663-9540-b6f2cd4e2be8",
   "metadata": {},
   "outputs": [],
   "source": [
    "list_datasets_anoms = np.sort(glob.glob(f'{path_daily_anoms}*.nc'))"
   ]
  },
  {
   "cell_type": "code",
   "execution_count": 4,
   "id": "1a3d467b-90e2-4f8c-9b1b-907875b63dc8",
   "metadata": {},
   "outputs": [
    {
     "name": "stdout",
     "output_type": "stream",
     "text": [
      "/glade/scratch/jhayron/Data4Predictability/DailyStdAnoms/IC_SODA.nc\n",
      "2023-08-14 11:47:26.585583\n",
      "Frozen({'lon': 720, 'lat': 240, 'time': 4164})\n",
      "/glade/scratch/jhayron/Data4Predictability/DailyStdAnoms/IT_SODA.nc\n",
      "2023-08-14 11:48:45.700654\n",
      "Frozen({'lon': 720, 'lat': 240, 'time': 4164})\n",
      "/glade/scratch/jhayron/Data4Predictability/DailyStdAnoms/MLD_SODA.nc\n",
      "2023-08-14 11:50:05.087844\n",
      "Frozen({'lon': 720, 'lat': 240, 'time': 4164})\n",
      "/glade/scratch/jhayron/Data4Predictability/DailyStdAnoms/OHC100_SODA.nc\n",
      "2023-08-14 11:51:25.258143\n",
      "Frozen({'lon': 720, 'lat': 240, 'time': 4164})\n",
      "/glade/scratch/jhayron/Data4Predictability/DailyStdAnoms/OHC200_SODA.nc\n",
      "2023-08-14 11:52:44.951035\n",
      "Frozen({'lon': 720, 'lat': 240, 'time': 4164})\n",
      "/glade/scratch/jhayron/Data4Predictability/DailyStdAnoms/OHC300_SODA.nc\n",
      "2023-08-14 11:54:04.265442\n",
      "Frozen({'lon': 720, 'lat': 240, 'time': 4164})\n",
      "/glade/scratch/jhayron/Data4Predictability/DailyStdAnoms/OHC50_SODA.nc\n",
      "2023-08-14 11:55:23.831502\n",
      "Frozen({'lon': 720, 'lat': 240, 'time': 4164})\n",
      "/glade/scratch/jhayron/Data4Predictability/DailyStdAnoms/OHC700_SODA.nc\n",
      "2023-08-14 11:56:43.419022\n",
      "Frozen({'lon': 720, 'lat': 240, 'time': 4164})\n",
      "/glade/scratch/jhayron/Data4Predictability/DailyStdAnoms/OLR_ERA5.nc\n",
      "2023-08-14 11:58:02.406933\n",
      "Frozen({'time': 4164, 'lat': 240, 'lon': 720})\n",
      "/glade/scratch/jhayron/Data4Predictability/DailyStdAnoms/SD_ERA5.nc\n",
      "2023-08-14 11:59:15.845447\n",
      "Frozen({'time': 4164, 'lat': 240, 'lon': 720})\n",
      "/glade/scratch/jhayron/Data4Predictability/DailyStdAnoms/SSH_SODA.nc\n",
      "2023-08-14 12:00:31.122298\n",
      "Frozen({'lon': 720, 'lat': 240, 'time': 4164})\n",
      "/glade/scratch/jhayron/Data4Predictability/DailyStdAnoms/SST_OISSTv2.nc\n",
      "2023-08-14 12:01:51.272176\n",
      "Frozen({'time': 4094, 'lat': 240, 'lon': 720})\n",
      "/glade/scratch/jhayron/Data4Predictability/DailyStdAnoms/SST_SODA.nc\n",
      "2023-08-14 12:03:04.515523\n",
      "Frozen({'lon': 720, 'lat': 240, 'time': 4164})\n",
      "/glade/scratch/jhayron/Data4Predictability/DailyStdAnoms/STL_1m_ERA5.nc\n",
      "2023-08-14 12:04:25.198860\n",
      "Frozen({'time': 4164, 'lat': 240, 'lon': 720})\n",
      "/glade/scratch/jhayron/Data4Predictability/DailyStdAnoms/STL_28cm_ERA5.nc\n",
      "2023-08-14 12:05:40.716460\n",
      "Frozen({'time': 4164, 'lat': 240, 'lon': 720})\n",
      "/glade/scratch/jhayron/Data4Predictability/DailyStdAnoms/STL_7cm_ERA5.nc\n",
      "2023-08-14 12:06:56.314103\n",
      "Frozen({'time': 4164, 'lat': 240, 'lon': 720})\n",
      "/glade/scratch/jhayron/Data4Predictability/DailyStdAnoms/STL_full_ERA5.nc\n",
      "2023-08-14 12:08:11.353787\n",
      "Frozen({'time': 4164, 'lat': 240, 'lon': 720})\n",
      "/glade/scratch/jhayron/Data4Predictability/DailyStdAnoms/SWVL_1m_ERA5.nc\n",
      "2023-08-14 12:09:25.727648\n",
      "Frozen({'time': 4164, 'lat': 240, 'lon': 720})\n",
      "/glade/scratch/jhayron/Data4Predictability/DailyStdAnoms/SWVL_28cm_ERA5.nc\n",
      "2023-08-14 12:10:39.905969\n",
      "Frozen({'time': 4164, 'lat': 240, 'lon': 720})\n",
      "/glade/scratch/jhayron/Data4Predictability/DailyStdAnoms/SWVL_7cm_ERA5.nc\n",
      "2023-08-14 12:11:55.584349\n",
      "Frozen({'time': 4164, 'lat': 240, 'lon': 720})\n",
      "/glade/scratch/jhayron/Data4Predictability/DailyStdAnoms/SWVL_full_ERA5.nc\n",
      "2023-08-14 12:13:10.317781\n",
      "Frozen({'time': 4164, 'lat': 240, 'lon': 720})\n",
      "/glade/scratch/jhayron/Data4Predictability/DailyStdAnoms/U10_ERA5.nc\n",
      "2023-08-14 12:14:25.639113\n",
      "Frozen({'lat': 240, 'lon': 720, 'time': 4164})\n",
      "/glade/scratch/jhayron/Data4Predictability/DailyStdAnoms/U200_ERA5.nc\n",
      "2023-08-14 12:15:38.819627\n",
      "Frozen({'lat': 240, 'lon': 720, 'time': 4164})\n",
      "/glade/scratch/jhayron/Data4Predictability/DailyStdAnoms/Z500_ERA5.nc\n",
      "2023-08-14 12:16:51.642377\n",
      "Frozen({'lat': 240, 'lon': 720, 'time': 4164})\n"
     ]
    }
   ],
   "source": [
    "for i_dataset in range(0,len(list_datasets_anoms)):\n",
    "# for i_dataset in range(0,1):\n",
    "    print(list_datasets_anoms[i_dataset])\n",
    "    print(dt.datetime.now())\n",
    "    path_anoms = list_datasets_anoms[i_dataset]\n",
    "    anomalies = xr.open_dataset(path_anoms, chunks={'time': 200})\n",
    "    var_name_xarray = list(anomalies.data_vars.keys())[0]\n",
    "    \n",
    "    path_weekly_anoms = list_datasets_anoms[i_dataset].replace('DailyStdAnoms','WeeklyAnoms_Std_withTrends')\n",
    "    # Calculate the weekly rolling mean using Dask\n",
    "    weekly_rolling_mean = anomalies.rolling(time=7, center=True).mean()\n",
    "\n",
    "    # Compute the result and load it into memory as a new Dataset\n",
    "    weekly_rolling_mean = weekly_rolling_mean.compute()\n",
    "    weekly_rolling_mean = weekly_rolling_mean.shift(time=-4)\n",
    "    # weekly_rolling_mean = weekly_rolling_mean.isel(time=get_cold_indx(weekly_rolling_mean))\n",
    "\n",
    "    weekly_rolling_mean['time'] = pd.to_datetime(weekly_rolling_mean['time'].values)\n",
    "\n",
    "    # Filter data for Mondays (dayofweek = 0) and Thursdays (dayofweek = 3)\n",
    "    weekly_rolling_mean = weekly_rolling_mean.sel(time=weekly_rolling_mean['time'].dt.dayofweek.isin([0, 3]))\n",
    "    \n",
    "    weekly_rolling_mean = weekly_rolling_mean.isel(time=((pd.to_datetime(weekly_rolling_mean.time)>='1981-01-05')\\\n",
    "                              &(pd.to_datetime(weekly_rolling_mean.time)<='2020-11-26')))\n",
    "    weekly_rolling_mean = weekly_rolling_mean.transpose('time', 'lat', 'lon')\n",
    "    print(weekly_rolling_mean.dims)\n",
    "    weekly_rolling_mean.to_netcdf(path_weekly_anoms)\n",
    "    del(anomalies)\n",
    "    del(weekly_rolling_mean)"
   ]
  },
  {
   "cell_type": "code",
   "execution_count": 52,
   "id": "5d317b1e-9697-41e0-8607-b8c476016387",
   "metadata": {},
   "outputs": [],
   "source": [
    "path_weekly_anoms = list_datasets_anoms[i_dataset].replace('DailyDetrendedAnoms','WeeklyAnoms')"
   ]
  },
  {
   "cell_type": "code",
   "execution_count": 53,
   "id": "4c041be1-2656-42ee-8adc-4009ff38e668",
   "metadata": {},
   "outputs": [
    {
     "data": {
      "text/plain": [
       "'/glade/scratch/jhayron/Data4Predictability/WeeklyAnoms/IC_SODA.nc'"
      ]
     },
     "execution_count": 53,
     "metadata": {},
     "output_type": "execute_result"
    }
   ],
   "source": [
    "path_weekly_anoms"
   ]
  },
  {
   "cell_type": "code",
   "execution_count": 45,
   "id": "e09cae97-6f98-44b7-8568-2d374ef22d4e",
   "metadata": {},
   "outputs": [
    {
     "data": {
      "text/plain": [
       "<matplotlib.image.AxesImage at 0x2b1d528be1f0>"
      ]
     },
     "execution_count": 45,
     "metadata": {},
     "output_type": "execute_result"
    },
    {
     "data": {
      "image/png": "[encoded data removed]",
      "text/plain": [
       "<Figure size 640x480 with 1 Axes>"
      ]
     },
     "metadata": {},
     "output_type": "display_data"
    }
   ],
   "source": [
    "plt.imshow(weekly_rolling_mean.cn_total_anomalies.values[-1])"
   ]
  }
 ],
 "metadata": {
  "kernelspec": {
   "display_name": "Python [conda env:weather_regimes]",
   "language": "python",
   "name": "conda-env-weather_regimes-py"
  },
  "language_info": {
   "codemirror_mode": {
    "name": "ipython",
    "version": 3
   },
   "file_extension": ".py",
   "mimetype": "text/x-python",
   "name": "python",
   "nbconvert_exporter": "python",
   "pygments_lexer": "ipython3",
   "version": "3.9.13"
  }
 },
 "nbformat": 4,
 "nbformat_minor": 5
}
