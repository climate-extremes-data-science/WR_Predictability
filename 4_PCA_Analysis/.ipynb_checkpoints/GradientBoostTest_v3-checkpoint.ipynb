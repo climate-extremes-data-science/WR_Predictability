{
 "cells": [
  {
   "cell_type": "code",
   "execution_count": 1,
   "id": "c7c3a39d-23a6-46d4-a4d2-72d44483acb1",
   "metadata": {},
   "outputs": [
    {
     "name": "stderr",
     "output_type": "stream",
     "text": [
      "2023-10-20 12:05:34.957579: I tensorflow/stream_executor/platform/default/dso_loader.cc:49] Successfully opened dynamic library libcudart.so.10.1\n",
      "/glade/work/jhayron/conda-envs/cnn_wr/lib/python3.9/site-packages/tqdm/auto.py:22: TqdmWarning: IProgress not found. Please update jupyter and ipywidgets. See https://ipywidgets.readthedocs.io/en/stable/user_install.html\n",
      "  from .autonotebook import tqdm as notebook_tqdm\n"
     ]
    }
   ],
   "source": [
    "import numpy as np\n",
    "import xarray as xr\n",
    "import pandas as pd\n",
    "import copy\n",
    "from datetime import datetime, timedelta\n",
    "from keras.utils import to_categorical\n",
    "# import visualkeras\n",
    "# import tensorflow as tf\n",
    "from sklearn.metrics import balanced_accuracy_score\n",
    "import optuna\n",
    "from optuna.samplers import TPESampler\n",
    "import keras\n",
    "from keras.callbacks import ModelCheckpoint\n",
    "from sklearn.utils.class_weight import compute_class_weight\n",
    "import sys\n",
    "import os\n",
    "import joblib\n",
    "import matplotlib.pyplot as plt\n",
    "from sklearn.preprocessing import MinMaxScaler\n",
    "import glob \n",
    "\n",
    "sys.path.append(\"/glade/u/home/jhayron/WR_Predictability/3_MLModels/\")\n",
    "from model_builders_v2 import *\n",
    "from sklearn import datasets, ensemble\n",
    "from sklearn.model_selection import RandomizedSearchCV"
   ]
  },
  {
   "cell_type": "markdown",
   "id": "59f43428-0c28-4c4e-a6df-9822076b2fe3",
   "metadata": {},
   "source": [
    "# Load outputs"
   ]
  },
  {
   "cell_type": "code",
   "execution_count": 281,
   "id": "fbffb696-6f6c-44bc-87a0-2a1864eeb3e5",
   "metadata": {},
   "outputs": [],
   "source": [
    "week_out=0\n",
    "week_out_str = f'week{week_out}'\n",
    "\n",
    "wr_series = pd.read_csv('/glade/work/jhayron/Data4Predictability/WR_Series_20230824.csv',\\\n",
    "                index_col=0,names=['week0'],skiprows=1,parse_dates=True)\n",
    "for wk in range(2,10):\n",
    "    series_temp = copy.deepcopy(wr_series[\"week0\"])\n",
    "    series_temp.index = series_temp.index - timedelta(weeks = wk-1)\n",
    "    series_temp.name = f'week{wk-1}'\n",
    "    if wk==2:\n",
    "        df_shifts = pd.concat([pd.DataFrame(wr_series[\"week0\"]),pd.DataFrame(series_temp)],axis=1)  \n",
    "    else:\n",
    "        df_shifts = pd.concat([df_shifts,pd.DataFrame(series_temp)],axis=1)"
   ]
  },
  {
   "cell_type": "markdown",
   "id": "a1bbdec5-2d20-42a4-9808-c150b065c906",
   "metadata": {},
   "source": [
    "# Load inputs"
   ]
  },
  {
   "cell_type": "code",
   "execution_count": 282,
   "id": "20197fc5-4426-4ab7-8e86-da7cec24bd06",
   "metadata": {},
   "outputs": [],
   "source": [
    "list_folders = np.sort(glob.glob('/glade/u/home/jhayron/WR_Predictability/4_PCA_Analysis/figures_2/*/'))"
   ]
  },
  {
   "cell_type": "code",
   "execution_count": 283,
   "id": "bb22def8-a75e-4deb-a1f6-2c6f652bf1bc",
   "metadata": {},
   "outputs": [],
   "source": [
    "list_vars = [list_folders[i].split('/')[-2] for i in range(len(list_folders))]"
   ]
  },
  {
   "cell_type": "code",
   "execution_count": 284,
   "id": "41f2b61c-5347-4168-acef-d9bd6a87d4ec",
   "metadata": {},
   "outputs": [
    {
     "name": "stdout",
     "output_type": "stream",
     "text": [
      "0 IC_SODA\n",
      "1 IT_SODA\n",
      "2 MLD_SODA\n",
      "3 OHC100_SODA\n",
      "4 OHC200_SODA\n",
      "5 OHC300_SODA\n",
      "6 OHC50_SODA\n",
      "7 OHC700_SODA\n",
      "8 OLR_ERA5\n",
      "9 SD_ERA5\n",
      "10 SSH_SODA\n",
      "11 SST_OISSTv2\n",
      "12 SST_SODA\n",
      "13 STL_1m_ERA5\n",
      "14 STL_28cm_ERA5\n",
      "15 STL_7cm_ERA5\n",
      "16 STL_full_ERA5\n",
      "17 SWVL_1m_ERA5\n",
      "18 SWVL_28cm_ERA5\n",
      "19 SWVL_7cm_ERA5\n",
      "20 SWVL_full_ERA5\n",
      "21 U10_ERA5\n",
      "22 U200_ERA5\n",
      "23 Z500_ERA5\n"
     ]
    }
   ],
   "source": [
    "for ivar,var in enumerate(list_vars):\n",
    "    print(ivar,var)"
   ]
  },
  {
   "cell_type": "code",
   "execution_count": 285,
   "id": "d975f9b7-165f-433f-98c7-54f684008d41",
   "metadata": {},
   "outputs": [],
   "source": [
    "indices_atmosphere = np.array([8,21,22,23])\n",
    "indices_land = np.array([9,13,14,15,16,17,18,19,20])\n",
    "indices_ocean = np.array([0,1,2,4,6,7,10,12])\n",
    "\n",
    "# indices_land = np.array([9,14,18])\n",
    "\n",
    "# indices_ocean = np.array([2,4,6,10,12])\n",
    "# indices_ocean = np.array([3,6,10])"
   ]
  },
  {
   "cell_type": "code",
   "execution_count": 286,
   "id": "6dd92acd-528c-4455-a07f-fab23c637788",
   "metadata": {},
   "outputs": [],
   "source": [
    "dic_inputs = {}\n",
    "for ivar in indices_atmosphere:\n",
    "    dic_inputs[list_vars[ivar]] = pd.read_csv(f'{list_folders[ivar]}PC_{list_vars[ivar]}.csv',index_col=0,parse_dates=True)"
   ]
  },
  {
   "cell_type": "code",
   "execution_count": 287,
   "id": "fc64e3f5-bb5c-4886-8081-b6b46bf7f862",
   "metadata": {},
   "outputs": [],
   "source": [
    "# Create an empty DataFrame to store the combined data\n",
    "combined_df = pd.DataFrame()\n",
    "\n",
    "# Loop through the dictionary and concatenate the dataframes\n",
    "for key, data in dic_inputs.items():\n",
    "    # Convert the dictionary for the current key into a DataFrame\n",
    "    df = pd.DataFrame(data)\n",
    "    # Concatenate the current DataFrame with the combined DataFrame\n",
    "    combined_df = pd.concat([combined_df, df], axis=1)"
   ]
  },
  {
   "cell_type": "code",
   "execution_count": 288,
   "id": "1bc8cf1e-5616-48d2-b7ce-8a90e1035101",
   "metadata": {
    "tags": []
   },
   "outputs": [],
   "source": [
    "# dic_inputs"
   ]
  },
  {
   "cell_type": "markdown",
   "id": "799ca361-19dd-4467-861b-d5f74d65795a",
   "metadata": {},
   "source": [
    "# Train model"
   ]
  },
  {
   "cell_type": "code",
   "execution_count": 289,
   "id": "9c4ceb8c-3c34-41ef-877d-6844ad67005b",
   "metadata": {},
   "outputs": [],
   "source": [
    "time = combined_df.index\n",
    "angles = (time.day_of_year - 1) / 365 * 2 * np.pi\n",
    "cyclical_series = np.sin(angles)\n",
    "combined_df['doy'] = cyclical_series"
   ]
  },
  {
   "cell_type": "code",
   "execution_count": 290,
   "id": "8338d33c-cada-4e47-ac27-6b5e29280295",
   "metadata": {},
   "outputs": [],
   "source": [
    "fully_combined_df = pd.concat([combined_df,df_shifts[week_out_str]],axis=1)\n",
    "fully_combined_df = fully_combined_df.dropna()\n",
    "\n",
    "X_train = fully_combined_df['1980':'2010'].iloc[:,:-1].values\n",
    "y_train = fully_combined_df['1980':'2010'].iloc[:,-1].values\n",
    "\n",
    "X_val = fully_combined_df['2011':'2015'].iloc[:,:-1].values\n",
    "y_val = fully_combined_df['2011':'2015'].iloc[:,-1].values\n",
    "\n",
    "X_test = fully_combined_df['2016':'2020'].iloc[:,:-1].values\n",
    "y_test = fully_combined_df['2016':'2020'].iloc[:,-1].values"
   ]
  },
  {
   "cell_type": "code",
   "execution_count": 291,
   "id": "8f31ee8c-1e93-44f7-9785-e12e3aac4d70",
   "metadata": {},
   "outputs": [],
   "source": [
    "# clf = ensemble.GradientBoostingClassifier()\n",
    "# clf.fit(X_train, y_train)\n",
    "\n",
    "# acc_train = clf.score(X_train, y_train)\n",
    "# acc_val = clf.score(X_val, y_val)\n",
    "# acc_test = clf.score(X_test, y_test)\n",
    "# print(\"Accuracy train: {:.4f}\".format(acc_train))\n",
    "# print(\"Accuracy val: {:.4f}\".format(acc_val))\n",
    "# print(\"Accuracy test: {:.4f}\".format(acc_test))"
   ]
  },
  {
   "cell_type": "markdown",
   "id": "6d152775-10dc-4652-b2bb-b0940e5953b9",
   "metadata": {},
   "source": [
    "# optimize parameters for week 3"
   ]
  },
  {
   "cell_type": "code",
   "execution_count": 292,
   "id": "ff17857b-9469-4d21-b6a7-8d92f405db68",
   "metadata": {},
   "outputs": [],
   "source": [
    "# param_grid = {\n",
    "#     'n_estimators': [100, 200, 300],\n",
    "#     'learning_rate': [0.01, 0.1, 0.2],\n",
    "#     'max_depth': [3, 4, 5, 6, 7],\n",
    "#     'min_samples_split': [2, 3, 4, 5],\n",
    "#     'min_samples_leaf': [1, 2, 3, 4],\n",
    "#     'subsample': [0.8, 0.9, 1.0],\n",
    "#     'max_features': ['sqrt', 'log2', None],\n",
    "#     'random_state': [42],  # Set to a specific value for reproducibility\n",
    "#     'criterion': ['friedman_mse', 'squared_error'],  # Splitting criterion\n",
    "#     'min_impurity_decrease': [0.0, 0.1, 0.2],  # Minimum impurity decrease for split\n",
    "#     'min_weight_fraction_leaf': [0.0, 0.1, 0.2],  # Minimum weighted fraction for leaf\n",
    "# }"
   ]
  },
  {
   "cell_type": "code",
   "execution_count": 293,
   "id": "ab9332d4-9885-42d5-b14a-4c420a1002a5",
   "metadata": {},
   "outputs": [],
   "source": [
    "# params = {\n",
    "#     'n_estimators': 100,\n",
    "#     'learning_rate': 0.001,\n",
    "#     'max_depth': 9,\n",
    "#     'min_samples_split': 3,\n",
    "#     'min_samples_leaf': 3,\n",
    "#     'subsample': 0.4,\n",
    "#     'max_features': None,\n",
    "#     'random_state': 42,  # Set to a specific value for reproducibility\n",
    "#     'criterion': 'squared_error',  # Splitting criterion\n",
    "#     'min_impurity_decrease': 0.1,  # Minimum impurity decrease for split\n",
    "#     # 'min_weight_fraction_leaf': 0.1,  # Minimum weighted fraction for leaf\n",
    "# }"
   ]
  },
  {
   "cell_type": "code",
   "execution_count": 294,
   "id": "1e720962-9267-41ee-bd73-ad628ee623f3",
   "metadata": {},
   "outputs": [],
   "source": [
    "#### SAVE FOR ATMOSPHERE\n",
    "params = {\n",
    "         'n_estimators': 200,\n",
    "         'criterion': 'entropy',\n",
    "         'max_depth':4,\n",
    "         'min_samples_split':3,\n",
    "         'min_samples_leaf':1,\n",
    "         'max_features':0.1,\n",
    "    \n",
    "         'bootstrap': True,\n",
    "         'oob_score': True,\n",
    "         'max_samples':0.001,\n",
    "         \n",
    "         'class_weight':'balanced_subsample',\n",
    "         'n_jobs': 13,\n",
    "         'random_state': 42,\n",
    "         'verbose': 0,}"
   ]
  },
  {
   "cell_type": "code",
   "execution_count": 298,
   "id": "480b9cba-b404-4cfb-85a8-e67e423c593d",
   "metadata": {},
   "outputs": [
    {
     "data": {
      "text/html": [
       "<style>#sk-container-id-49 {color: black;background-color: white;}#sk-container-id-49 pre{padding: 0;}#sk-container-id-49 div.sk-toggleable {background-color: white;}#sk-container-id-49 label.sk-toggleable__label {cursor: pointer;display: block;width: 100%;margin-bottom: 0;padding: 0.3em;box-sizing: border-box;text-align: center;}#sk-container-id-49 label.sk-toggleable__label-arrow:before {content: \"▸\";float: left;margin-right: 0.25em;color: #696969;}#sk-container-id-49 label.sk-toggleable__label-arrow:hover:before {color: black;}#sk-container-id-49 div.sk-estimator:hover label.sk-toggleable__label-arrow:before {color: black;}#sk-container-id-49 div.sk-toggleable__content {max-height: 0;max-width: 0;overflow: hidden;text-align: left;background-color: #f0f8ff;}#sk-container-id-49 div.sk-toggleable__content pre {margin: 0.2em;color: black;border-radius: 0.25em;background-color: #f0f8ff;}#sk-container-id-49 input.sk-toggleable__control:checked~div.sk-toggleable__content {max-height: 200px;max-width: 100%;overflow: auto;}#sk-container-id-49 input.sk-toggleable__control:checked~label.sk-toggleable__label-arrow:before {content: \"▾\";}#sk-container-id-49 div.sk-estimator input.sk-toggleable__control:checked~label.sk-toggleable__label {background-color: #d4ebff;}#sk-container-id-49 div.sk-label input.sk-toggleable__control:checked~label.sk-toggleable__label {background-color: #d4ebff;}#sk-container-id-49 input.sk-hidden--visually {border: 0;clip: rect(1px 1px 1px 1px);clip: rect(1px, 1px, 1px, 1px);height: 1px;margin: -1px;overflow: hidden;padding: 0;position: absolute;width: 1px;}#sk-container-id-49 div.sk-estimator {font-family: monospace;background-color: #f0f8ff;border: 1px dotted black;border-radius: 0.25em;box-sizing: border-box;margin-bottom: 0.5em;}#sk-container-id-49 div.sk-estimator:hover {background-color: #d4ebff;}#sk-container-id-49 div.sk-parallel-item::after {content: \"\";width: 100%;border-bottom: 1px solid gray;flex-grow: 1;}#sk-container-id-49 div.sk-label:hover label.sk-toggleable__label {background-color: #d4ebff;}#sk-container-id-49 div.sk-serial::before {content: \"\";position: absolute;border-left: 1px solid gray;box-sizing: border-box;top: 0;bottom: 0;left: 50%;z-index: 0;}#sk-container-id-49 div.sk-serial {display: flex;flex-direction: column;align-items: center;background-color: white;padding-right: 0.2em;padding-left: 0.2em;position: relative;}#sk-container-id-49 div.sk-item {position: relative;z-index: 1;}#sk-container-id-49 div.sk-parallel {display: flex;align-items: stretch;justify-content: center;background-color: white;position: relative;}#sk-container-id-49 div.sk-item::before, #sk-container-id-49 div.sk-parallel-item::before {content: \"\";position: absolute;border-left: 1px solid gray;box-sizing: border-box;top: 0;bottom: 0;left: 50%;z-index: -1;}#sk-container-id-49 div.sk-parallel-item {display: flex;flex-direction: column;z-index: 1;position: relative;background-color: white;}#sk-container-id-49 div.sk-parallel-item:first-child::after {align-self: flex-end;width: 50%;}#sk-container-id-49 div.sk-parallel-item:last-child::after {align-self: flex-start;width: 50%;}#sk-container-id-49 div.sk-parallel-item:only-child::after {width: 0;}#sk-container-id-49 div.sk-dashed-wrapped {border: 1px dashed gray;margin: 0 0.4em 0.5em 0.4em;box-sizing: border-box;padding-bottom: 0.4em;background-color: white;}#sk-container-id-49 div.sk-label label {font-family: monospace;font-weight: bold;display: inline-block;line-height: 1.2em;}#sk-container-id-49 div.sk-label-container {text-align: center;}#sk-container-id-49 div.sk-container {/* jupyter's `normalize.less` sets `[hidden] { display: none; }` but bootstrap.min.css set `[hidden] { display: none !important; }` so we also need the `!important` here to be able to override the default hidden behavior on the sphinx rendered scikit-learn.org. See: https://github.com/scikit-learn/scikit-learn/issues/21755 */display: inline-block !important;position: relative;}#sk-container-id-49 div.sk-text-repr-fallback {display: none;}</style><div id=\"sk-container-id-49\" class=\"sk-top-container\"><div class=\"sk-text-repr-fallback\"><pre>RandomForestClassifier(bootstrap=False, criterion=&#x27;entropy&#x27;, max_depth=4,\n",
       "                       max_features=0.1, n_jobs=8, random_state=42)</pre><b>In a Jupyter environment, please rerun this cell to show the HTML representation or trust the notebook. <br />On GitHub, the HTML representation is unable to render, please try loading this page with nbviewer.org.</b></div><div class=\"sk-container\" hidden><div class=\"sk-item\"><div class=\"sk-estimator sk-toggleable\"><input class=\"sk-toggleable__control sk-hidden--visually\" id=\"sk-estimator-id-49\" type=\"checkbox\" checked><label for=\"sk-estimator-id-49\" class=\"sk-toggleable__label sk-toggleable__label-arrow\">RandomForestClassifier</label><div class=\"sk-toggleable__content\"><pre>RandomForestClassifier(bootstrap=False, criterion=&#x27;entropy&#x27;, max_depth=4,\n",
       "                       max_features=0.1, n_jobs=8, random_state=42)</pre></div></div></div></div></div>"
      ],
      "text/plain": [
       "RandomForestClassifier(bootstrap=False, criterion='entropy', max_depth=4,\n",
       "                       max_features=0.1, n_jobs=8, random_state=42)"
      ]
     },
     "execution_count": 298,
     "metadata": {},
     "output_type": "execute_result"
    }
   ],
   "source": [
    "# Create the GradientBoostingClassifier\n",
    "# clf = ensemble.GradientBoostingClassifier(**params)\n",
    "\n",
    "from sklearn.ensemble import RandomForestClassifier\n",
    "clf = RandomForestClassifier(**params)\n",
    "clf.fit(X_train,y_train)"
   ]
  },
  {
   "cell_type": "code",
   "execution_count": 299,
   "id": "273c0335-ada7-4602-b7aa-2dcab7fe9398",
   "metadata": {},
   "outputs": [
    {
     "name": "stdout",
     "output_type": "stream",
     "text": [
      "0.5936102236421725\n",
      "0.4942528735632184\n",
      "0.490234375\n"
     ]
    }
   ],
   "source": [
    "print(clf.score(X_train,y_train))\n",
    "print(clf.score(X_val,y_val))\n",
    "print(clf.score(X_test,y_test))"
   ]
  },
  {
   "cell_type": "code",
   "execution_count": 297,
   "id": "2e8ab9cc-abf8-4bd9-a4b8-e0bcfc22a7bd",
   "metadata": {},
   "outputs": [],
   "source": [
    "#### SAVE FOR ATMOSPHERE\n",
    "params = {\n",
    "         'n_estimators': 100,\n",
    "         'criterion': 'entropy',\n",
    "         'max_depth':4,\n",
    "         'min_samples_split':2,\n",
    "         'min_samples_leaf':1,\n",
    "         'max_features':0.1,\n",
    "         'max_leaf_nodes': None,\n",
    "    \n",
    "         'bootstrap': False,\n",
    "         'oob_score': False,\n",
    "         'max_samples':None,\n",
    "         \n",
    "         'class_weight':None,#'balanced_subsample',\n",
    "         'n_jobs': 8,\n",
    "         'random_state': 42,\n",
    "         'verbose': 0,}"
   ]
  },
  {
   "cell_type": "code",
   "execution_count": null,
   "id": "b2f4ca93-17c9-4a1b-984f-be248a8658bf",
   "metadata": {},
   "outputs": [],
   "source": [
    "#### SAVE FOR ATMOSPHERE\n",
    "params = {\n",
    "         'n_estimators': 100,\n",
    "         'criterion': 'entropy',\n",
    "         'max_depth':4,\n",
    "         'min_samples_split':2,\n",
    "         'min_samples_leaf':1,\n",
    "         'max_features':0.3,\n",
    "         'max_leaf_nodes': None,\n",
    "    \n",
    "         'bootstrap': False,\n",
    "         'oob_score': False,\n",
    "         'max_samples':None,\n",
    "         \n",
    "         'class_weight':'balanced_subsample',\n",
    "         'n_jobs': 8,\n",
    "         'random_state': 42,\n",
    "         'verbose': 0,}"
   ]
  },
  {
   "cell_type": "code",
   "execution_count": null,
   "id": "605eb1f2-30b1-4595-898b-cbd7f640a734",
   "metadata": {},
   "outputs": [],
   "source": []
  },
  {
   "cell_type": "code",
   "execution_count": null,
   "id": "94e5b15b-79d4-480e-850d-5805e777391c",
   "metadata": {},
   "outputs": [],
   "source": []
  },
  {
   "cell_type": "code",
   "execution_count": null,
   "id": "ed8abc60-879e-484f-bf96-86876321f092",
   "metadata": {},
   "outputs": [],
   "source": []
  },
  {
   "cell_type": "code",
   "execution_count": null,
   "id": "8614240b-cce8-41b7-8f65-169d1ea16e04",
   "metadata": {},
   "outputs": [],
   "source": []
  },
  {
   "cell_type": "code",
   "execution_count": null,
   "id": "707c9456-4c7c-45af-999d-d32dbc35f088",
   "metadata": {},
   "outputs": [],
   "source": []
  },
  {
   "cell_type": "code",
   "execution_count": null,
   "id": "1a3fd7ce-6091-4ee4-a564-26f21bf8546f",
   "metadata": {},
   "outputs": [],
   "source": []
  },
  {
   "cell_type": "code",
   "execution_count": null,
   "id": "d1d54d40-3e3a-4c8c-b695-c4a4ec6983c7",
   "metadata": {},
   "outputs": [],
   "source": []
  },
  {
   "cell_type": "code",
   "execution_count": null,
   "id": "fe0f5620-32b8-48b5-bcc6-7148a7f14688",
   "metadata": {},
   "outputs": [],
   "source": []
  },
  {
   "cell_type": "code",
   "execution_count": null,
   "id": "125c6c12-fd28-42ed-a613-c03ed6378029",
   "metadata": {},
   "outputs": [],
   "source": []
  },
  {
   "cell_type": "code",
   "execution_count": null,
   "id": "492be90c-9d3c-4814-9c41-da044879bc55",
   "metadata": {},
   "outputs": [],
   "source": []
  },
  {
   "cell_type": "code",
   "execution_count": 56,
   "id": "1fe5fcd1-0c99-4a92-8576-65fd05522700",
   "metadata": {
    "tags": []
   },
   "outputs": [],
   "source": [
    "# Create the GradientBoostingClassifier\n",
    "clf = ensemble.GradientBoostingClassifier()\n",
    "\n",
    "# Create the Grid Search object\n",
    "grid_search = RandomizedSearchCV(clf, param_grid, cv=3, scoring='accuracy', \n",
    "                                 n_jobs=10,n_iter=30,return_train_score=True)\n",
    "\n",
    "# Fit the model with training data\n",
    "grid_search.fit(X_train, y_train)\n",
    "\n",
    "# Get the best parameters and best estimator\n",
    "best_params = grid_search.best_params_\n",
    "best_clf = grid_search.best_estimator_\n",
    "best_score = grid_search.best_score_"
   ]
  },
  {
   "cell_type": "code",
   "execution_count": 57,
   "id": "b2febed0-ce1c-4cdd-99ac-70185cdbbcda",
   "metadata": {},
   "outputs": [
    {
     "name": "stdout",
     "output_type": "stream",
     "text": [
      "Accuracy train: 0.2396\n",
      "Accuracy test: 0.1766\n"
     ]
    }
   ],
   "source": [
    "acc_train = best_clf.score(X_train, y_train)\n",
    "# acc_val = best_clf.score(X_val, y_val)\n",
    "acc_test = best_clf.score(X_test, y_test)\n",
    "print(\"Accuracy train: {:.4f}\".format(acc_train))\n",
    "# print(\"Accuracy val: {:.4f}\".format(acc_val))\n",
    "print(\"Accuracy test: {:.4f}\".format(acc_test))"
   ]
  },
  {
   "cell_type": "code",
   "execution_count": 58,
   "id": "4cffbeef-21f4-4979-8aa8-b45db24121f2",
   "metadata": {},
   "outputs": [
    {
     "data": {
      "text/plain": [
       "{'subsample': 0.9,\n",
       " 'random_state': 42,\n",
       " 'n_estimators': 100,\n",
       " 'min_weight_fraction_leaf': 0.0,\n",
       " 'min_samples_split': 3,\n",
       " 'min_samples_leaf': 2,\n",
       " 'min_impurity_decrease': 0.2,\n",
       " 'max_features': None,\n",
       " 'max_depth': 6,\n",
       " 'learning_rate': 0.1,\n",
       " 'criterion': 'squared_error'}"
      ]
     },
     "execution_count": 58,
     "metadata": {},
     "output_type": "execute_result"
    }
   ],
   "source": [
    "best_params"
   ]
  },
  {
   "cell_type": "markdown",
   "id": "691f29f7-ee42-4fd7-9c8b-ea5d87b1ef2b",
   "metadata": {},
   "source": [
    "# Iterate atmosphere, land, ocean"
   ]
  },
  {
   "cell_type": "code",
   "execution_count": 35,
   "id": "8a87a8a2-b94f-4522-a2bb-b62a84024d92",
   "metadata": {},
   "outputs": [
    {
     "name": "stdout",
     "output_type": "stream",
     "text": [
      "0 IC_SODA\n",
      "1 IT_SODA\n",
      "2 MLD_SODA\n",
      "3 OHC100_SODA\n",
      "4 OHC200_SODA\n",
      "5 OHC300_SODA\n",
      "6 OHC50_SODA\n",
      "7 OHC700_SODA\n",
      "8 OLR_ERA5\n",
      "9 SD_ERA5\n",
      "10 SSH_SODA\n",
      "11 SST_OISSTv2\n",
      "12 SST_SODA\n",
      "13 STL_1m_ERA5\n",
      "14 STL_28cm_ERA5\n",
      "15 STL_7cm_ERA5\n",
      "16 STL_full_ERA5\n",
      "17 SWVL_1m_ERA5\n",
      "18 SWVL_28cm_ERA5\n",
      "19 SWVL_7cm_ERA5\n",
      "20 SWVL_full_ERA5\n",
      "21 U10_ERA5\n",
      "22 U200_ERA5\n",
      "23 Z500_ERA5\n"
     ]
    }
   ],
   "source": [
    "for ivar,var in enumerate(list_vars):\n",
    "    print(ivar,var)"
   ]
  },
  {
   "cell_type": "code",
   "execution_count": 36,
   "id": "13f29dd2-b4f0-4206-a9c9-311d6506458b",
   "metadata": {},
   "outputs": [],
   "source": [
    "indices_atmosphere = np.array([8,21,22,23])\n",
    "indices_land = np.array([9,13,16,17,20])\n",
    "indices_ocean = np.array([0,1,2,4,6,10,12])"
   ]
  },
  {
   "cell_type": "code",
   "execution_count": null,
   "id": "4ef76b4c-237e-4c61-9c9d-c590c20cf259",
   "metadata": {
    "tags": []
   },
   "outputs": [
    {
     "name": "stdout",
     "output_type": "stream",
     "text": [
      "dict_keys(['OLR_ERA5', 'U10_ERA5', 'U200_ERA5', 'Z500_ERA5'])\n",
      "1\n",
      "0.3417255401682814\n",
      "0.3411764705882353\n",
      "2\n",
      "0.25657140715477017\n",
      "0.2421259842519685\n",
      "3\n",
      "0.23932087776174504\n",
      "0.17786561264822134\n",
      "4\n",
      "0.2428881434701947\n",
      "0.21825396825396826\n",
      "5\n",
      "0.24314749920356798\n",
      "0.2549800796812749\n",
      "6\n",
      "0.24972883833367687\n",
      "0.226\n",
      "7\n",
      "0.240142420778442\n",
      "0.1746987951807229\n",
      "8\n",
      "0.24014204598691977\n",
      "0.17540322580645162\n",
      "dict_keys(['IC_SODA', 'IT_SODA', 'MLD_SODA', 'OHC200_SODA', 'OHC50_SODA', 'SSH_SODA', 'SST_SODA'])\n",
      "1\n",
      "0.25163990030545513\n",
      "0.31176470588235294\n",
      "2\n",
      "0.239320877761745\n",
      "0.17716535433070865\n",
      "3\n",
      "0.23932087776174504\n",
      "0.17786561264822134\n",
      "4\n",
      "0.23959485036448475\n",
      "0.1765873015873016\n",
      "5\n",
      "0.23959485036448475\n",
      "0.17729083665338646\n",
      "6\n",
      "0.23986844817570224\n",
      "0.176\n",
      "7\n",
      "0.240142420778442\n",
      "0.1746987951807229\n",
      "8\n",
      "0.24014204598691977\n",
      "0.17540322580645162\n",
      "dict_keys(['SD_ERA5', 'STL_1m_ERA5', 'STL_full_ERA5', 'SWVL_1m_ERA5', 'SWVL_full_ERA5'])\n",
      "1\n",
      "0.26259130858459984\n",
      "0.22941176470588234\n",
      "2\n",
      "0.2532796132151491\n",
      "0.23818897637795275\n",
      "3\n"
     ]
    }
   ],
   "source": [
    "for component in ['atm','ocn','lnd']:\n",
    "    if component=='atm':\n",
    "        dic_inputs = {}\n",
    "        for ivar in indices_atmosphere:\n",
    "            dic_inputs[list_vars[ivar]] = pd.read_csv(f'{list_folders[ivar]}PC_{list_vars[ivar]}.csv',index_col=0,parse_dates=True)\n",
    "    elif component =='ocn':\n",
    "        dic_inputs = {}\n",
    "        for ivar in indices_ocean:\n",
    "            dic_inputs[list_vars[ivar]] = pd.read_csv(f'{list_folders[ivar]}PC_{list_vars[ivar]}.csv',index_col=0,parse_dates=True)\n",
    "    elif component =='lnd':\n",
    "        dic_inputs = {}\n",
    "        for ivar in indices_land:\n",
    "            dic_inputs[list_vars[ivar]] = pd.read_csv(f'{list_folders[ivar]}PC_{list_vars[ivar]}.csv',index_col=0,parse_dates=True)\n",
    "    print(dic_inputs.keys())\n",
    "    # Create an empty DataFrame to store the combined data\n",
    "    combined_df = pd.DataFrame()\n",
    "\n",
    "    # Loop through the dictionary and concatenate the dataframes\n",
    "    for key, data in dic_inputs.items():\n",
    "        # Convert the dictionary for the current key into a DataFrame\n",
    "        df = pd.DataFrame(data)\n",
    "        # Concatenate the current DataFrame with the combined DataFrame\n",
    "        combined_df = pd.concat([combined_df, df], axis=1)\n",
    "    \n",
    "    scores_test = []\n",
    "    scores_val = []\n",
    "    \n",
    "    for week_out in np.arange(1,9):\n",
    "        print(week_out)\n",
    "        week_out_str = f'week{week_out}'\n",
    "        fully_combined_df = pd.concat([combined_df,df_shifts[week_out_str]],axis=1)\n",
    "        fully_combined_df = fully_combined_df.dropna()\n",
    "\n",
    "        X_train = fully_combined_df['1980':'2015'].iloc[:,:-1].values\n",
    "        y_train = fully_combined_df['1980':'2015'].iloc[:,-1].values\n",
    "\n",
    "        X_test = fully_combined_df['2016':'2020'].iloc[:,:-1].values\n",
    "        y_test = fully_combined_df['2016':'2020'].iloc[:,-1].values\n",
    "        \n",
    "        param_grid = {\n",
    "            'n_estimators': [100, 200, 300],\n",
    "            'learning_rate': [0.01, 0.1, 0.2],\n",
    "            'max_depth': [3, 4, 5, 6, 7],\n",
    "            'min_samples_split': [2, 3, 4, 5],\n",
    "            'min_samples_leaf': [1, 2, 3, 4],\n",
    "            'subsample': [0.5, 0.7, 0.9, 1],\n",
    "            'max_features': ['sqrt', 'log2', None],\n",
    "            'random_state': [42],  # Set to a specific value for reproducibility\n",
    "            'criterion': ['friedman_mse', 'squared_error'],  # Splitting criterion\n",
    "            'min_impurity_decrease': [0.0, 0.1, 0.2],  # Minimum impurity decrease for split\n",
    "            'min_weight_fraction_leaf': [0.0, 0.1, 0.2],  # Minimum weighted fraction for leaf\n",
    "        }\n",
    "        # Create the GradientBoostingClassifier\n",
    "        clf = ensemble.GradientBoostingClassifier()\n",
    "\n",
    "        # Create the Grid Search object\n",
    "        grid_search = RandomizedSearchCV(clf, param_grid, cv=5, scoring='accuracy', n_jobs=18,n_iter=100,return_train_score=True)\n",
    "\n",
    "        # Fit the model with training data\n",
    "        grid_search.fit(X_train, y_train)\n",
    "        np.save(f'results/{component}_cv_results',grid_search.cv_results_)\n",
    "        # Get the best parameters and best estimator\n",
    "        best_params = grid_search.best_params_\n",
    "        best_clf = grid_search.best_estimator_\n",
    "        best_score = grid_search.best_score_\n",
    "        \n",
    "        scores_test.append(best_clf.score(X_test, y_test))\n",
    "        scores_val.append(best_score)\n",
    "        results = pd.DataFrame(np.array([best_clf.predict(X_test),y_test]).T,\n",
    "                     index=fully_combined_df['2016':'2020'].index,\n",
    "                     columns=['y_predicted','y_test'])\n",
    "        \n",
    "        np.save(f'results/{component}_scores_test',np.array(scores_test))\n",
    "        np.save(f'results/{component}_scores_val',np.array(scores_val))\n",
    "        print(best_score)\n",
    "        print(scores_test[-1])\n",
    "        results.to_csv(f'results/results_{component}_{week_out_str}.csv')"
   ]
  },
  {
   "cell_type": "code",
   "execution_count": null,
   "id": "2ff5af9c-06e2-4fd8-9af0-a045a73f7adb",
   "metadata": {},
   "outputs": [],
   "source": []
  }
 ],
 "metadata": {
  "kernelspec": {
   "display_name": "Python [conda env:cnn_wr]",
   "language": "python",
   "name": "conda-env-cnn_wr-py"
  },
  "language_info": {
   "codemirror_mode": {
    "name": "ipython",
    "version": 3
   },
   "file_extension": ".py",
   "mimetype": "text/x-python",
   "name": "python",
   "nbconvert_exporter": "python",
   "pygments_lexer": "ipython3",
   "version": "3.9.15"
  }
 },
 "nbformat": 4,
 "nbformat_minor": 5
}
