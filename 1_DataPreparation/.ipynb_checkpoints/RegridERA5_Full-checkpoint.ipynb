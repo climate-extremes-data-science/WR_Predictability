{
 "cells": [
  {
   "cell_type": "code",
   "execution_count": 71,
   "id": "2c83edc4-b7d3-4fd3-a016-56e372c5d6b4",
   "metadata": {},
   "outputs": [],
   "source": [
    "import numpy as np\n",
    "import xarray as xr\n",
    "import pandas as pd\n",
    "import datetime as dt\n",
    "import glob\n",
    "import os\n",
    "import matplotlib.pyplot as plt\n",
    "import xesmf as xe\n",
    "import gc\n",
    "import sys\n",
    "\n",
    "variables = ['OLR', 'SD', 'STL_1m', 'STL_full', 'SWVL_1m', 'SWVL_full', 'U10', 'U200', 'Z500']\n",
    "variables_ds = ['MTNLWRF', 'SD', 'STL_1m', 'STL_full', 'SWVL_1m', 'SWVL_full', 'U', 'U', 'Z']\n",
    "units = ['W/m^2', 'm', 'K', 'K', 'm^3/m^3', 'm^3/m^3', 'm/s', 'm/s', 'm^2/s^2']\n",
    "\n",
    "path_era5_daily = '/glade/work/jhayron/Data4Predictability/ERA5/Daily/'\n",
    "path_code = u'/glade/u/home/jhayron/WR_Predictability/1_DataPreparation/regrid.py'\n",
    "for ivar in range(len(variables)):\n",
    "    list_files = np.sort(glob.glob(f'{path_era5_daily}{variables[ivar]}/*.nc'))\n",
    "    for ifile in range(len(list_files)):\n",
    "        path_temp = list_files[ifile]\n",
    "        if ifile == 0:\n",
    "            save_regridder = 'True'\n",
    "        else:\n",
    "            save_regridder = 'False'\n",
    "        os.system(f'python  {path_code} {path_temp} {variables[ivar]} {variables_ds[ivar]} {units[ivar]} {save_regridder}')"
   ]
  }
 ],
 "metadata": {
  "kernelspec": {
   "display_name": "Python [conda env:regrid_era5]",
   "language": "python",
   "name": "conda-env-regrid_era5-py"
  },
  "language_info": {
   "codemirror_mode": {
    "name": "ipython",
    "version": 3
   },
   "file_extension": ".py",
   "mimetype": "text/x-python",
   "name": "python",
   "nbconvert_exporter": "python",
   "pygments_lexer": "ipython3",
   "version": "3.9.13"
  }
 },
 "nbformat": 4,
 "nbformat_minor": 5
}
