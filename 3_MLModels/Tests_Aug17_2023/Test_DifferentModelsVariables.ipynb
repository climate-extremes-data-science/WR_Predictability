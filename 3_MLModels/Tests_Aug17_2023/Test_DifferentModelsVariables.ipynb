{
 "cells": [
  {
   "cell_type": "code",
   "execution_count": 1,
   "id": "3c99eff4-125a-49ef-afaf-558b0df7144d",
   "metadata": {},
   "outputs": [
    {
     "name": "stderr",
     "output_type": "stream",
     "text": [
      "2023-08-20 13:07:54.909624: I tensorflow/stream_executor/platform/default/dso_loader.cc:49] Successfully opened dynamic library libcudart.so.10.1\n",
      "/glade/work/jhayron/conda-envs/cnn_wr/lib/python3.9/site-packages/tqdm/auto.py:22: TqdmWarning: IProgress not found. Please update jupyter and ipywidgets. See https://ipywidgets.readthedocs.io/en/stable/user_install.html\n",
      "  from .autonotebook import tqdm as notebook_tqdm\n"
     ]
    }
   ],
   "source": [
    "import numpy as np\n",
    "import xarray as xr\n",
    "import pandas as pd\n",
    "import copy\n",
    "from datetime import datetime, timedelta\n",
    "from keras.utils import to_categorical\n",
    "# import visualkeras\n",
    "# import tensorflow as tf\n",
    "from sklearn.metrics import balanced_accuracy_score\n",
    "import optuna\n",
    "from optuna.samplers import TPESampler\n",
    "import keras\n",
    "from keras.callbacks import ModelCheckpoint\n",
    "from sklearn.utils.class_weight import compute_class_weight\n",
    "import sys\n",
    "import os\n",
    "import joblib\n",
    "import matplotlib.pyplot as plt"
   ]
  },
  {
   "cell_type": "code",
   "execution_count": 2,
   "id": "dc3de435-d5d1-4c9f-a3ae-8cb02b3823d9",
   "metadata": {},
   "outputs": [],
   "source": [
    "sys.path.append(\"/glade/u/home/jhayron/WR_Predictability/3_MLModels/\")\n",
    "from model_builders import *"
   ]
  },
  {
   "cell_type": "markdown",
   "id": "af3c43fd-d289-4bab-b0e0-7a67ddcc3861",
   "metadata": {
    "tags": []
   },
   "source": [
    "## Helper functions"
   ]
  },
  {
   "cell_type": "code",
   "execution_count": 3,
   "id": "d65e0089-54e7-4056-9265-2504ea04161d",
   "metadata": {},
   "outputs": [],
   "source": [
    "def create_tf_datasets(input_data, output_data):\n",
    "    # Convert xarray dataset to numpy array for TensorFlow Dataset\n",
    "    input_images = input_data.transpose('time', 'lat', 'lon','channel').values\n",
    "    output_one_hot = output_data.values\n",
    "\n",
    "    # Create TensorFlow Datasets\n",
    "    input_dataset = tf.data.Dataset.from_tensor_slices(input_images)\n",
    "    output_dataset = tf.data.Dataset.from_tensor_slices(output_one_hot)\n",
    "\n",
    "    # Combine input and output datasets into a joint dataset\n",
    "    joint_dataset = tf.data.Dataset.zip((input_dataset, output_dataset))\n",
    "\n",
    "    return joint_dataset\n",
    "\n",
    "def create_datasets(input_anoms, var_name, df_shifts, week_out):\n",
    "# Assuming you have the xarray.Dataset 'input_data' and the pandas.Series 'output_data'\n",
    "    input_data = copy.deepcopy(input_anoms[var_name])\n",
    "\n",
    "    array_temp = input_data.data\n",
    "    array_temp[np.isfinite(array_temp)==False]=0\n",
    "    input_data.data = array_temp\n",
    "\n",
    "#     input_data = (input_data - input_data.mean('time')) / (input_data.std('time'))\n",
    "    \n",
    "#     input_data[np.isfinite(array_temp)==False] = 0\n",
    "    \n",
    "    # Reshape the data to add a new dimension\n",
    "    values_reshaped = input_data.values.reshape(input_data.shape[0], input_data.shape[1], input_data.shape[2], 1)\n",
    "\n",
    "    # Create a new xarray.DataArray with the reshaped data and the original coordinates\n",
    "    input_data = xr.DataArray(values_reshaped, coords=input_data.coords, dims=('time', 'lat', 'lon', 'channel'))\n",
    "    output_data = copy.deepcopy(df_shifts[f'week{week_out}']).dropna()\n",
    "\n",
    "    # Step 1: Create a common date index that includes all dates in both the input and output data\n",
    "    common_dates = np.intersect1d(input_data['time'].values, output_data.index)\n",
    "\n",
    "    # Step 2: Reindex the input xarray dataset and the output DataFrame to the common date index\n",
    "    input_data = input_data.sel(time=common_dates)\n",
    "    output_data = output_data.loc[common_dates]\n",
    "\n",
    "    # Step 3: One-hot encode the output DataFrame using to_categorical\n",
    "    num_classes = len(output_data.unique())  # Number of classes (number of weeks in this case)\n",
    "    output_data_encoded = to_categorical(output_data, num_classes=num_classes)\n",
    "    output_data_encoded = pd.DataFrame(output_data_encoded,index=output_data.index)\n",
    "\n",
    "    # Step 4: Create masks for training, validation, and testing periods\n",
    "    train_mask = (output_data.index >= '1980-01-01') & (output_data.index <= '2010-12-31')\n",
    "    val_mask = (output_data.index >= '2011-01-01') & (output_data.index <= '2015-12-31')\n",
    "    test_mask = (output_data.index >= '2016-01-01') & (output_data.index <= '2020-12-31')\n",
    "\n",
    "    # Step 5: Split the input xarray dataset and the output DataFrame into subsets\n",
    "    input_train = input_data.sel(time=train_mask)\n",
    "    input_val = input_data.sel(time=val_mask)\n",
    "    input_test = input_data.sel(time=test_mask)\n",
    "\n",
    "    output_train = output_data_encoded.loc[train_mask]\n",
    "    output_val = output_data_encoded.loc[val_mask]\n",
    "    output_test = output_data_encoded.loc[test_mask]\n",
    "\n",
    "    train_joint_dataset = create_tf_datasets(input_train, output_train)\n",
    "    val_joint_dataset = create_tf_datasets(input_val, output_val)\n",
    "    test_joint_dataset = create_tf_datasets(input_test, output_test)\n",
    "\n",
    "    buffer_size = train_joint_dataset.cardinality()\n",
    "    train_joint_dataset = train_joint_dataset.shuffle(buffer_size)\n",
    "    return train_joint_dataset, val_joint_dataset, test_joint_dataset\n",
    "\n",
    "def get_output_from_dataset(dataset):\n",
    "    output_array = []\n",
    "    for input_data, output_data in dataset.as_numpy_iterator():\n",
    "        output_array.append(output_data)\n",
    "\n",
    "    # Convert the list of NumPy arrays into a single NumPy array\n",
    "    output_array = np.array(output_array)\n",
    "    return output_array\n",
    "\n",
    "def balanced_accuracy(y_true, y_pred):\n",
    "    y_true = tf.argmax(y_true, axis=1)\n",
    "    y_pred = tf.argmax(y_pred, axis=1)\n",
    "    return tf.py_function(balanced_accuracy_score, (y_true, y_pred), tf.float32)\n",
    "\n",
    "def logging_callback(study, frozen_trial):\n",
    "    previous_best_value = study.user_attrs.get(\"previous_best_value\", None)\n",
    "    if previous_best_value != study.best_value:\n",
    "        study.set_user_attr(\"previous_best_value\", study.best_value)\n",
    "        print(\n",
    "            \"Trial {} finished with best value: {} and parameters: {}. \".format(\n",
    "            frozen_trial.number,\n",
    "            frozen_trial.value,\n",
    "            frozen_trial.params,\n",
    "            )\n",
    "        )"
   ]
  },
  {
   "cell_type": "markdown",
   "id": "5989471a-eaaa-43c5-8f51-599709071288",
   "metadata": {},
   "source": [
    "# Training"
   ]
  },
  {
   "cell_type": "code",
   "execution_count": 4,
   "id": "c479563a-1e9e-4926-b735-a3ea74f46c68",
   "metadata": {},
   "outputs": [
    {
     "name": "stdout",
     "output_type": "stream",
     "text": [
      "Num GPUs Available:  1\n"
     ]
    },
    {
     "name": "stderr",
     "output_type": "stream",
     "text": [
      "2023-08-20 13:08:06.563909: I tensorflow/compiler/jit/xla_cpu_device.cc:41] Not creating XLA devices, tf_xla_enable_xla_devices not set\n",
      "2023-08-20 13:08:06.567727: I tensorflow/stream_executor/platform/default/dso_loader.cc:49] Successfully opened dynamic library libcuda.so.1\n",
      "2023-08-20 13:08:06.685290: I tensorflow/core/common_runtime/gpu/gpu_device.cc:1720] Found device 0 with properties: \n",
      "pciBusID: 0000:3b:00.0 name: NVIDIA A100-PCIE-40GB computeCapability: 8.0\n",
      "coreClock: 1.41GHz coreCount: 108 deviceMemorySize: 39.41GiB deviceMemoryBandwidth: 1.41TiB/s\n",
      "2023-08-20 13:08:06.685333: I tensorflow/stream_executor/platform/default/dso_loader.cc:49] Successfully opened dynamic library libcudart.so.10.1\n",
      "2023-08-20 13:08:06.688053: I tensorflow/stream_executor/platform/default/dso_loader.cc:49] Successfully opened dynamic library libcublas.so.10\n",
      "2023-08-20 13:08:06.688122: I tensorflow/stream_executor/platform/default/dso_loader.cc:49] Successfully opened dynamic library libcublasLt.so.10\n",
      "2023-08-20 13:08:06.690206: I tensorflow/stream_executor/platform/default/dso_loader.cc:49] Successfully opened dynamic library libcufft.so.10\n",
      "2023-08-20 13:08:06.690641: I tensorflow/stream_executor/platform/default/dso_loader.cc:49] Successfully opened dynamic library libcurand.so.10\n",
      "2023-08-20 13:08:06.707079: I tensorflow/stream_executor/platform/default/dso_loader.cc:49] Successfully opened dynamic library libcusolver.so.10\n",
      "2023-08-20 13:08:06.728205: I tensorflow/stream_executor/platform/default/dso_loader.cc:49] Successfully opened dynamic library libcusparse.so.10\n",
      "2023-08-20 13:08:06.732412: I tensorflow/stream_executor/platform/default/dso_loader.cc:49] Successfully opened dynamic library libcudnn.so.7\n",
      "2023-08-20 13:08:06.736392: I tensorflow/core/common_runtime/gpu/gpu_device.cc:1862] Adding visible gpu devices: 0\n"
     ]
    }
   ],
   "source": [
    "import warnings\n",
    "warnings.filterwarnings(\"ignore\", category=UserWarning)\n",
    "\n",
    "## GLOBAL SEED ##    \n",
    "np.random.seed(42)\n",
    "tf.random.set_seed(42)\n",
    "\n",
    "print(\"Num GPUs Available: \", len(tf.config.list_physical_devices('GPU')))"
   ]
  },
  {
   "cell_type": "markdown",
   "id": "ebafd86b-e251-4679-84d1-00e6525bac7f",
   "metadata": {},
   "source": [
    "IC_SODA.nc   OHC100_SODA.nc  OHC50_SODA.nc   SD_ERA5.nc      SST_SODA.nc       STL_7cm_ERA5.nc   SWVL_28cm_ERA5.nc  U10_ERA5.nc\n",
    "IT_SODA.nc   OHC200_SODA.nc  OHC700_SODA.nc  SSH_SODA.nc     STL_1m_ERA5.nc    STL_full_ERA5.nc  SWVL_7cm_ERA5.nc   U200_ERA5.nc\n",
    "MLD_SODA.nc  OHC300_SODA.nc  OLR_ERA5.nc     SST_OISSTv2.nc  STL_28cm_ERA5.nc  SWVL_1m_ERA5.nc   SWVL_full_ERA5.nc  Z500_ERA5.ncm"
   ]
  },
  {
   "cell_type": "code",
   "execution_count": 5,
   "id": "b53bc968-2cd8-47e2-aac1-ce05447ce373",
   "metadata": {},
   "outputs": [
    {
     "name": "stderr",
     "output_type": "stream",
     "text": [
      "2023-08-20 13:08:20.791705: I tensorflow/core/platform/cpu_feature_guard.cc:142] This TensorFlow binary is optimized with oneAPI Deep Neural Network Library (oneDNN) to use the following CPU instructions in performance-critical operations:  SSE4.1 SSE4.2 AVX AVX2 AVX512F FMA\n",
      "To enable them in other operations, rebuild TensorFlow with the appropriate compiler flags.\n",
      "2023-08-20 13:08:20.791857: I tensorflow/compiler/jit/xla_gpu_device.cc:99] Not creating XLA devices, tf_xla_enable_xla_devices not set\n",
      "2023-08-20 13:08:20.794200: I tensorflow/core/common_runtime/gpu/gpu_device.cc:1720] Found device 0 with properties: \n",
      "pciBusID: 0000:3b:00.0 name: NVIDIA A100-PCIE-40GB computeCapability: 8.0\n",
      "coreClock: 1.41GHz coreCount: 108 deviceMemorySize: 39.41GiB deviceMemoryBandwidth: 1.41TiB/s\n",
      "2023-08-20 13:08:20.794248: I tensorflow/stream_executor/platform/default/dso_loader.cc:49] Successfully opened dynamic library libcudart.so.10.1\n",
      "2023-08-20 13:08:20.794277: I tensorflow/stream_executor/platform/default/dso_loader.cc:49] Successfully opened dynamic library libcublas.so.10\n",
      "2023-08-20 13:08:20.794289: I tensorflow/stream_executor/platform/default/dso_loader.cc:49] Successfully opened dynamic library libcublasLt.so.10\n",
      "2023-08-20 13:08:20.794301: I tensorflow/stream_executor/platform/default/dso_loader.cc:49] Successfully opened dynamic library libcufft.so.10\n",
      "2023-08-20 13:08:20.794312: I tensorflow/stream_executor/platform/default/dso_loader.cc:49] Successfully opened dynamic library libcurand.so.10\n",
      "2023-08-20 13:08:20.794324: I tensorflow/stream_executor/platform/default/dso_loader.cc:49] Successfully opened dynamic library libcusolver.so.10\n",
      "2023-08-20 13:08:20.794335: I tensorflow/stream_executor/platform/default/dso_loader.cc:49] Successfully opened dynamic library libcusparse.so.10\n",
      "2023-08-20 13:08:20.794347: I tensorflow/stream_executor/platform/default/dso_loader.cc:49] Successfully opened dynamic library libcudnn.so.7\n",
      "2023-08-20 13:08:20.798266: I tensorflow/core/common_runtime/gpu/gpu_device.cc:1862] Adding visible gpu devices: 0\n",
      "2023-08-20 13:08:20.798307: I tensorflow/stream_executor/platform/default/dso_loader.cc:49] Successfully opened dynamic library libcudart.so.10.1\n",
      "2023-08-20 13:15:22.113390: I tensorflow/core/common_runtime/gpu/gpu_device.cc:1261] Device interconnect StreamExecutor with strength 1 edge matrix:\n",
      "2023-08-20 13:15:22.113423: I tensorflow/core/common_runtime/gpu/gpu_device.cc:1267]      0 \n",
      "2023-08-20 13:15:22.113434: I tensorflow/core/common_runtime/gpu/gpu_device.cc:1280] 0:   N \n",
      "2023-08-20 13:15:22.118871: I tensorflow/core/common_runtime/gpu/gpu_device.cc:1406] Created TensorFlow device (/job:localhost/replica:0/task:0/device:GPU:0 with 37401 MB memory) -> physical GPU (device: 0, name: NVIDIA A100-PCIE-40GB, pci bus id: 0000:3b:00.0, compute capability: 8.0)\n"
     ]
    }
   ],
   "source": [
    "# Get variable and origin from command-line arguments\n",
    "name_var = 'Z500_ERA5'\n",
    "week_out = 0\n",
    "\n",
    "path_models = '/glade/work/jhayron/Data4Predictability/models/CNN_Aug17_2023/v0/'\n",
    "path_weekly_anoms = '/glade/scratch/jhayron/Data4Predictability/WeeklyAnoms_DetrendedStd/'\n",
    "# path_weekly_anoms = '/glade/scratch/jhayron/Data4Predictability/WeeklyAnoms_Std_withTrends/'\n",
    "input_anoms = xr.open_dataset(f'{path_weekly_anoms}{name_var}.nc')\n",
    "var_name = list(input_anoms.data_vars.keys())[0]\n",
    "week_out_str = f'week{week_out}'\n",
    "\n",
    "wr_series = pd.read_csv('/glade/work/jhayron/Data4Predictability/WR_Series_20230815_v2.csv',\\\n",
    "                index_col=0,names=['week0'],skiprows=1,parse_dates=True)\n",
    "for wk in range(2,10):\n",
    "    series_temp = copy.deepcopy(wr_series[\"week0\"])\n",
    "    series_temp.index = series_temp.index - timedelta(weeks = wk-1)\n",
    "    series_temp.name = f'week{wk-1}'\n",
    "    if wk==2:\n",
    "        df_shifts = pd.concat([pd.DataFrame(wr_series[\"week0\"]),pd.DataFrame(series_temp)],axis=1)  \n",
    "    else:\n",
    "        df_shifts = pd.concat([df_shifts,pd.DataFrame(series_temp)],axis=1)\n",
    "        \n",
    "train_joint_dataset, val_joint_dataset, test_joint_dataset = \\\n",
    "    create_datasets(input_anoms, var_name, df_shifts, week_out)\n"
   ]
  },
  {
   "cell_type": "code",
   "execution_count": null,
   "id": "840767ba-4a79-48e6-93f2-837353b931a6",
   "metadata": {},
   "outputs": [
    {
     "name": "stderr",
     "output_type": "stream",
     "text": [
      "2023-08-20 13:15:58.075790: I tensorflow/compiler/mlir/mlir_graph_optimization_pass.cc:116] None of the MLIR optimization passes are enabled (registered 2)\n",
      "2023-08-20 13:15:58.090043: I tensorflow/core/platform/profile_utils/cpu_utils.cc:112] CPU Frequency: 2300000000 Hz\n"
     ]
    },
    {
     "name": "stdout",
     "output_type": "stream",
     "text": [
      "Epoch 1/100\n"
     ]
    },
    {
     "name": "stderr",
     "output_type": "stream",
     "text": [
      "2023-08-20 13:16:03.742379: I tensorflow/stream_executor/platform/default/dso_loader.cc:49] Successfully opened dynamic library libcublas.so.10\n",
      "2023-08-20 13:17:43.193126: I tensorflow/stream_executor/platform/default/dso_loader.cc:49] Successfully opened dynamic library libcudnn.so.7\n"
     ]
    }
   ],
   "source": [
    "## Parameters\n",
    "\n",
    "dict_params = {'model_base':'mobilenet',\n",
    "               'type_pooling':'Max',\n",
    "               'do':0.8,\n",
    "               'md':4,\n",
    "               'activation':'LeakyReLU',\n",
    "               'weighted_loss':True,\n",
    "               'bs':32,\n",
    "               'lr':0.0001}\n",
    "\n",
    "if dict_params['model_base']=='resnet50':\n",
    "    model = build_resnet50_model(dict_params['type_pooling'],\n",
    "                                 dict_params['do'],\n",
    "                                 dict_params['md'],\n",
    "                                 dict_params['activation'])\n",
    "elif dict_params['model_base']=='resnet101':\n",
    "    model = build_resnet101_model(dict_params['type_pooling'],\n",
    "                                 dict_params['do'],\n",
    "                                 dict_params['md'],\n",
    "                                 dict_params['activation'])\n",
    "elif dict_params['model_base']=='inception':\n",
    "    model = build_inception_model(dict_params['type_pooling'],\n",
    "                                 dict_params['do'],\n",
    "                                 dict_params['md'],\n",
    "                                 dict_params['activation'])\n",
    "elif dict_params['model_base']=='xception':\n",
    "    model = build_xception_model(dict_params['type_pooling'],\n",
    "                                 dict_params['do'],\n",
    "                                 dict_params['md'],\n",
    "                                 dict_params['activation'])\n",
    "elif dict_params['model_base']=='densenet':\n",
    "    model = build_densenet_model(dict_params['type_pooling'],\n",
    "                                 dict_params['do'],\n",
    "                                 dict_params['md'],\n",
    "                                 dict_params['activation'])\n",
    "elif dict_params['model_base']=='mobilenet':\n",
    "    model = build_mobilenet_model(dict_params['type_pooling'],\n",
    "                                 dict_params['do'],\n",
    "                                 dict_params['md'],\n",
    "                                 dict_params['activation'])\n",
    "    \n",
    "model.compile(loss=keras.losses.categorical_crossentropy, \n",
    "              optimizer=keras.optimizers.Adam(lr=dict_params['lr']),\n",
    "              metrics=[balanced_accuracy,'accuracy'])  \n",
    "\n",
    "epochs = 100\n",
    "early_stopping_patience = 5\n",
    "\n",
    "# Create the EarlyStopping callback\n",
    "early_stopping_callback = tf.keras.callbacks.EarlyStopping(\n",
    "    monitor='val_balanced_accuracy',  # Metric to monitor\n",
    "    patience=early_stopping_patience,  # Number of epochs with no improvement\n",
    "    restore_best_weights=True  # Restore the weights of the best model\n",
    ")\n",
    "\n",
    "# Train the model with early stopping\n",
    "try:\n",
    "    os.mkdir(f'{path_models}{name_var}')\n",
    "except: pass\n",
    "\n",
    "filepath = f'{path_models}{name_var}/model_{week_out_str}_v0.h5'\n",
    "checkpoint = ModelCheckpoint(filepath, monitor='val_loss', verbose=0, save_best_only=True, \n",
    "                             mode='auto',save_weights_only=False)\n",
    "\n",
    "if dict_params['weighted_loss']==True:\n",
    "\n",
    "    y_train = get_output_from_dataset(train_joint_dataset)\n",
    "    y_train_integers = np.argmax(y_train, axis=1)\n",
    "    class_weights = compute_class_weight(class_weight='balanced',classes=np.unique(y_train_integers),\n",
    "                                         y = y_train_integers)\n",
    "    d_class_weights = dict(enumerate(class_weights))\n",
    "\n",
    "    history = model.fit(\n",
    "        train_joint_dataset.batch(dict_params['bs']),\n",
    "        validation_data=val_joint_dataset.batch(dict_params['bs']),\n",
    "        class_weight = d_class_weights,\n",
    "        epochs=epochs,\n",
    "        callbacks=[checkpoint,early_stopping_callback],\n",
    "        verbose=1\n",
    "    )\n",
    "else:\n",
    "    history = model.fit(\n",
    "        train_joint_dataset.batch(dict_params['bs']),\n",
    "        validation_data=val_joint_dataset.batch(dict_params['bs']),\n",
    "        epochs=epochs,\n",
    "        callbacks=[checkpoint,early_stopping_callback],\n",
    "        verbose=1\n",
    "    )"
   ]
  },
  {
   "cell_type": "code",
   "execution_count": 90,
   "id": "d8bf919c-5224-4c8f-ac83-dc22b89f664b",
   "metadata": {},
   "outputs": [
    {
     "name": "stdout",
     "output_type": "stream",
     "text": [
      "6/6 [==============================] - 4s 207ms/step - loss: 1.6093 - balanced_accuracy: 0.2500 - accuracy: 0.3056\n",
      "test_balanced_accuracy 0.25\n",
      "test_accuracy 0.3055555522441864\n",
      "val_balanced_accuracy 0.229411780834198\n",
      "val_accuracy 0.22030651569366455\n"
     ]
    }
   ],
   "source": [
    "# test_loss, test_balanced_accuracy, test_accuracy = model.evaluate(test_joint_dataset.batch(len(test_joint_dataset)/5))\n",
    "test_loss, test_balanced_accuracy, test_accuracy = model.evaluate(test_joint_dataset.batch(100))\n",
    "# test_loss, test_balanced_accuracy, test_accuracy = model.evaluate(test_joint_dataset)\n",
    "val_balanced_accuracy = np.max(history.history['val_balanced_accuracy'])\n",
    "val_accuracy = np.max(history.history['val_accuracy'])\n",
    "\n",
    "print('test_balanced_accuracy',test_balanced_accuracy)\n",
    "print('test_accuracy',test_accuracy)\n",
    "print('val_balanced_accuracy',val_balanced_accuracy)\n",
    "print('val_accuracy',val_accuracy)"
   ]
  },
  {
   "cell_type": "code",
   "execution_count": 25,
   "id": "095b0e94-3ff1-4004-beb8-344e98fe9518",
   "metadata": {},
   "outputs": [
    {
     "data": {
      "text/plain": [
       "<BatchDataset shapes: ((None, 240, 720, 1), (None, 5)), types: (tf.float64, tf.float32)>"
      ]
     },
     "execution_count": 25,
     "metadata": {},
     "output_type": "execute_result"
    }
   ],
   "source": [
    "train_joint_dataset.batch(dict_params['bs'])"
   ]
  },
  {
   "cell_type": "code",
   "execution_count": 48,
   "id": "68b3706d-f0cc-4723-a583-96816f9ac116",
   "metadata": {},
   "outputs": [
    {
     "data": {
      "text/plain": [
       "(240, 720, 1)"
      ]
     },
     "execution_count": 48,
     "metadata": {},
     "output_type": "execute_result"
    }
   ],
   "source": [
    "input_data.numpy().shape"
   ]
  },
  {
   "cell_type": "code",
   "execution_count": 66,
   "id": "e2eb58d9-0a1d-459a-9fb4-aff8f7a75f48",
   "metadata": {
    "tags": []
   },
   "outputs": [
    {
     "data": {
      "text/plain": [
       "array([[nan, nan, nan, nan, nan],\n",
       "       [nan, nan, nan, nan, nan],\n",
       "       [nan, nan, nan, nan, nan],\n",
       "       ...,\n",
       "       [nan, nan, nan, nan, nan],\n",
       "       [nan, nan, nan, nan, nan],\n",
       "       [nan, nan, nan, nan, nan]], dtype=float32)"
      ]
     },
     "execution_count": 66,
     "metadata": {},
     "output_type": "execute_result"
    }
   ],
   "source": [
    "model.predict(all_input_data_np)"
   ]
  },
  {
   "cell_type": "code",
   "execution_count": 91,
   "id": "efddc2da-f954-435a-a897-a390613c4dcf",
   "metadata": {},
   "outputs": [],
   "source": [
    "# Assuming your dataset is called 'test_dataset'\n",
    "all_input_data = []\n",
    "\n",
    "for input_data, _ in test_joint_dataset:\n",
    "    all_input_data.append(input_data.numpy())  # Convert the Tensor to a NumPy array\n",
    "\n",
    "# Convert the list of NumPy arrays to a single NumPy array\n",
    "all_input_data_np = np.array(all_input_data)"
   ]
  },
  {
   "cell_type": "code",
   "execution_count": 92,
   "id": "b505078b-c6f5-43e5-8308-c8178ce5d34e",
   "metadata": {},
   "outputs": [
    {
     "data": {
      "text/plain": [
       "array([[0.20008877, 0.19984174, 0.20015   , 0.19994749, 0.19997205],\n",
       "       [0.20008877, 0.19984174, 0.20015   , 0.19994749, 0.19997205],\n",
       "       [0.20008877, 0.19984174, 0.20015   , 0.19994749, 0.19997205],\n",
       "       ...,\n",
       "       [0.20008877, 0.19984174, 0.20015   , 0.19994749, 0.19997205],\n",
       "       [0.20008877, 0.19984174, 0.20015   , 0.19994749, 0.19997205],\n",
       "       [0.20008877, 0.19984174, 0.20015   , 0.19994749, 0.19997205]],\n",
       "      dtype=float32)"
      ]
     },
     "execution_count": 92,
     "metadata": {},
     "output_type": "execute_result"
    }
   ],
   "source": [
    "model.predict(all_input_data_np)"
   ]
  },
  {
   "cell_type": "code",
   "execution_count": 65,
   "id": "bc974a40-f1bf-4e81-9996-7f9883a814fc",
   "metadata": {},
   "outputs": [
    {
     "data": {
      "text/plain": [
       "(522, 240, 720, 1)"
      ]
     },
     "execution_count": 65,
     "metadata": {},
     "output_type": "execute_result"
    }
   ],
   "source": [
    "all_input_data_np.shape"
   ]
  },
  {
   "cell_type": "code",
   "execution_count": 36,
   "id": "656278a0-e335-4fb7-a199-b5946f958427",
   "metadata": {},
   "outputs": [
    {
     "data": {
      "text/plain": [
       "0"
      ]
     },
     "execution_count": 36,
     "metadata": {},
     "output_type": "execute_result"
    }
   ],
   "source": [
    "len(np.where(np.isfinite(input_data.numpy()[:,:,0])==False)[0])"
   ]
  },
  {
   "cell_type": "code",
   "execution_count": 38,
   "id": "97f059e3-dcbd-4f64-a397-af9725418692",
   "metadata": {},
   "outputs": [
    {
     "data": {
      "text/plain": [
       "array([0., 1., 0., 0., 0.], dtype=float32)"
      ]
     },
     "execution_count": 38,
     "metadata": {},
     "output_type": "execute_result"
    }
   ],
   "source": [
    "output_data.numpy()"
   ]
  },
  {
   "cell_type": "code",
   "execution_count": 57,
   "id": "bb56418d-0a94-4074-9aac-4d3c3c9d02b3",
   "metadata": {},
   "outputs": [
    {
     "data": {
      "text/plain": [
       "<bound method DatasetV2.cardinality of <ShuffleDataset shapes: ((240, 720, 1), (5,)), types: (tf.float64, tf.float32)>>"
      ]
     },
     "execution_count": 57,
     "metadata": {},
     "output_type": "execute_result"
    }
   ],
   "source": [
    "train_joint_dataset.cardinality"
   ]
  },
  {
   "cell_type": "code",
   "execution_count": null,
   "id": "cba80a65-e44c-4c4e-8275-202b869bd710",
   "metadata": {},
   "outputs": [],
   "source": []
  },
  {
   "cell_type": "code",
   "execution_count": null,
   "id": "54aced26-0955-4c2d-b8a4-f710c000be0c",
   "metadata": {},
   "outputs": [],
   "source": []
  },
  {
   "cell_type": "code",
   "execution_count": null,
   "id": "4a7cc92f-e35d-43b3-8d03-4033331c86f2",
   "metadata": {},
   "outputs": [],
   "source": [
    "path_models = '/glade/work/jhayron/Data4Predictability/models/CNN_Aug17_2023/v0/'\n",
    "optimizer_direction = 'maximize'\n",
    "number_of_random_points = 30  # random searches to start opt process\n",
    "maximum_time = 0.12*60*60  # seconds"
   ]
  },
  {
   "cell_type": "code",
   "execution_count": null,
   "id": "42a4aa61-337c-4b44-ab96-4e969c916e2a",
   "metadata": {},
   "outputs": [],
   "source": [
    ",name_var,week_out_str"
   ]
  },
  {
   "cell_type": "code",
   "execution_count": null,
   "id": "443b3cdc-cd5a-4238-8ee7-a0d0662a0a1a",
   "metadata": {},
   "outputs": [],
   "source": []
  },
  {
   "cell_type": "code",
   "execution_count": null,
   "id": "b73cd7a5-3665-4ca3-b8b0-f640a3ad5f6f",
   "metadata": {},
   "outputs": [],
   "source": []
  },
  {
   "cell_type": "code",
   "execution_count": null,
   "id": "7f24ba5b-8323-418e-9dd2-0c3afb6f6ad5",
   "metadata": {},
   "outputs": [],
   "source": [
    "class Objective(object):\n",
    "    def __init__(self, train_joint_dataset, val_joint_dataset, test_joint_dataset,\n",
    "                 path_models, variable, week):\n",
    "        self.train_joint_dataset = train_joint_dataset\n",
    "        self.val_joint_dataset = val_joint_dataset\n",
    "        self.test_joint_dataset = test_joint_dataset\n",
    "        self.path_models = path_models\n",
    "        self.variable = variable\n",
    "        self.week = week\n",
    " \n",
    "    def __call__(self, trial):    \n",
    "        keras.backend.clear_session()\n",
    "        \n",
    "        model_base = trial.suggest_categorical('model_base',['vanilla','resnet50','resnet101',\\\n",
    "                                                             'inception','xception','densenet'])\n",
    "        ks = trial.suggest_categorical('ks',[3,5,7,9,11])\n",
    "        ps = trial.suggest_categorical('ps',[2,4,6,8])\n",
    "        type_pooling = trial.suggest_categorical('type_pooling',[None, 'avg','max'])\n",
    "        stc = trial.suggest_categorical('stc',[1,2,3,4])\n",
    "        stp = trial.suggest_categorical('stp',[1,2,3,4])\n",
    "        do = trial.suggest_categorical('do',[0.3,0.4,0.5])\n",
    "        md = trial.suggest_categorical('md',[2,4,8,16])\n",
    "        nfilters = trial.suggest_categorical('nfilters',[4,8,16,32])\n",
    "        activation = trial.suggest_categorical('activation',['LeakyReLU','ReLU'])\n",
    "        weighted_loss = trial.suggest_categorical('weighted_loss',[True,False])\n",
    "        \n",
    "        dict_params = {'model_base':model_base,\n",
    "                       'ks':ks,\n",
    "                       'ps':ps,\n",
    "                       'type_pooling':type_pooling,\n",
    "                       'stc':stc,\n",
    "                       'stp':stp,\n",
    "                       'do':do,\n",
    "                       'md':md,\n",
    "                       'nfilters':nfilters,\n",
    "                       'activation':activation,\n",
    "                       'weighted_loss':weighted_loss}\n",
    "        print(dict_params)                                      \n",
    "        # instantiate and compile model\n",
    "        if dict_params['model_base']=='vanilla':\n",
    "            model = build_vanilla_cnn(dict_params['ks'],\n",
    "                                      dict_params['ps'],\n",
    "                                      dict_params['type_pooling'],\n",
    "                                      dict_params['stc'],\n",
    "                                      dict_params['stp'],\n",
    "                                      dict_params['do'],\n",
    "                                      dict_params['md'],\n",
    "                                      dict_params['nfilters'],\n",
    "                                      dict_params['activation'])\n",
    "        elif dict_params['model_base']=='resnet50':\n",
    "            model = build_resnet50_model(dict_params['type_pooling'],\n",
    "                                         dict_params['do'],\n",
    "                                         dict_params['md'],\n",
    "                                         dict_params['activation'])\n",
    "        elif dict_params['model_base']=='resnet101':\n",
    "            model = build_resnet101_model(dict_params['type_pooling'],\n",
    "                                         dict_params['do'],\n",
    "                                         dict_params['md'],\n",
    "                                         dict_params['activation'])\n",
    "        elif dict_params['model_base']=='inception':\n",
    "            model = build_inception_model(dict_params['type_pooling'],\n",
    "                                         dict_params['do'],\n",
    "                                         dict_params['md'],\n",
    "                                         dict_params['activation'])\n",
    "        elif dict_params['model_base']=='xception':\n",
    "            model = build_xception_model(dict_params['type_pooling'],\n",
    "                                         dict_params['do'],\n",
    "                                         dict_params['md'],\n",
    "                                         dict_params['activation'])\n",
    "        elif dict_params['model_base']=='densenet':\n",
    "            model = build_densenet_model(dict_params['type_pooling'],\n",
    "                                         dict_params['do'],\n",
    "                                         dict_params['md'],\n",
    "                                         dict_params['activation'])\n",
    "            \n",
    "        model.compile(loss=keras.losses.categorical_crossentropy, \n",
    "                optimizer=keras.optimizers.Adam(lr=0.0001),metrics=[balanced_accuracy,'accuracy'])\n",
    "        \n",
    "        epochs = 100\n",
    "        early_stopping_patience = 5\n",
    "\n",
    "        # Create the EarlyStopping callback\n",
    "        early_stopping_callback = tf.keras.callbacks.EarlyStopping(\n",
    "            monitor='val_balanced_accuracy',  # Metric to monitor\n",
    "            patience=early_stopping_patience,  # Number of epochs with no improvement\n",
    "            restore_best_weights=True  # Restore the weights of the best model\n",
    "        )\n",
    "\n",
    "        # Train the model with early stopping\n",
    "        try:\n",
    "            os.mkdir(f'{self.path_models}{self.variable}')\n",
    "        except: pass\n",
    "    \n",
    "        filepath = f'{self.path_models}{self.variable}/model_{self.week}_v0.h5'\n",
    "        checkpoint = ModelCheckpoint(filepath, monitor='val_loss', verbose=0, save_best_only=True, \n",
    "                                     mode='auto',save_weights_only=False)\n",
    "        \n",
    "        if dict_params['weighted_loss']==True:\n",
    "            \n",
    "            y_train = get_output_from_dataset(self.train_joint_dataset)\n",
    "            y_train_integers = np.argmax(y_train, axis=1)\n",
    "            class_weights = compute_class_weight(class_weight='balanced',classes=np.unique(y_train_integers),\n",
    "                                                 y = y_train_integers)\n",
    "            d_class_weights = dict(enumerate(class_weights))\n",
    "            \n",
    "            history = model.fit(\n",
    "                self.train_joint_dataset.batch(32),\n",
    "                validation_data=self.val_joint_dataset.batch(32),\n",
    "                class_weight = d_class_weights,\n",
    "                epochs=epochs,\n",
    "                callbacks=[checkpoint,early_stopping_callback],\n",
    "                verbose=0\n",
    "            )\n",
    "        else:\n",
    "            history = model.fit(\n",
    "                self.train_joint_dataset.batch(32),\n",
    "                validation_data=self.val_joint_dataset.batch(32),\n",
    "                epochs=epochs,\n",
    "                callbacks=[checkpoint,early_stopping_callback],\n",
    "                verbose=0\n",
    "            )\n",
    "        \n",
    "        test_loss, test_balanced_accuracy, test_accuracy = model.evaluate(self.test_joint_dataset.batch(32))\n",
    "        val_balanced_accuracy = np.max(history.history['val_balanced_accuracy'])\n",
    "        val_accuracy = np.max(history.history['val_accuracy'])\n",
    "        \n",
    "        trial.set_user_attr('test_balanced_accuracy',test_balanced_accuracy)\n",
    "        trial.set_user_attr('test_accuracy',test_accuracy)\n",
    "        trial.set_user_attr('val_balanced_accuracy',val_balanced_accuracy)\n",
    "        trial.set_user_attr('val_accuracy',val_accuracy)\n",
    "        \n",
    "        return val_balanced_accuracy\n",
    "    \n",
    "    \n",
    "# Get variable and origin from command-line arguments\n",
    "name_var = sys.argv[1]\n",
    "week_out = sys.argv[2]\n",
    "path_weekly_anoms = '/glade/scratch/jhayron/Data4Predictability/WeeklyAnoms/'\n",
    "input_anoms = xr.open_dataset(f'{path_weekly_anoms}{name_var}.nc')\n",
    "var_name = list(input_anoms.data_vars.keys())[0]\n",
    "week_out_str = f'week{week_out}'\n",
    "\n",
    "wr_series = pd.read_csv('/glade/work/jhayron/Data4Predictability/WR_Series.csv',\\\n",
    "                index_col=0,names=['week0'],skiprows=1,parse_dates=True)\n",
    "for wk in range(2,10):\n",
    "    series_temp = copy.deepcopy(wr_series[\"week0\"])\n",
    "    series_temp.index = series_temp.index - timedelta(weeks = wk-1)\n",
    "    series_temp.name = f'week{wk-1}'\n",
    "    if wk==2:\n",
    "        df_shifts = pd.concat([pd.DataFrame(wr_series[\"week0\"]),pd.DataFrame(series_temp)],axis=1)  \n",
    "    else:\n",
    "        df_shifts = pd.concat([df_shifts,pd.DataFrame(series_temp)],axis=1)\n",
    "        \n",
    "train_joint_dataset, val_joint_dataset, test_joint_dataset = \\\n",
    "    create_datasets(input_anoms, var_name, df_shifts, week_out)\n",
    "path_models = '/glade/work/jhayron/Data4Predictability/models/CNN/v0/'\n",
    "optimizer_direction = 'maximize'\n",
    "number_of_random_points = 30  # random searches to start opt process\n",
    "maximum_time = 0.12*60*60  # seconds\n",
    "objective = Objective(train_joint_dataset,val_joint_dataset,test_joint_dataset,\n",
    "                      path_models,name_var,week_out_str)\n",
    "    \n",
    "results_directory = f'/glade/work/jhayron/Data4Predictability/models/CNN/results_optuna/{week_out_str}/'\n",
    "try:\n",
    "    os.mkdir(results_directory)\n",
    "except:\n",
    "    pass\n",
    "\n",
    "study_name = f'study_{name_var}_{week_out_str}_v0'\n",
    "storage_name = f'sqlite:///{study_name}.db'\n",
    "\n",
    "\n",
    "optuna.logging.set_verbosity(optuna.logging.WARNING)\n",
    "study = optuna.create_study(direction=optimizer_direction,\n",
    "        sampler=TPESampler(n_startup_trials=number_of_random_points),\n",
    "        study_name=study_name, storage=storage_name,load_if_exists=True)\n",
    "\n",
    "study.optimize(objective, timeout=maximum_time, gc_after_trial=True,callbacks=[logging_callback],)\n",
    "\n",
    "# save results\n",
    "df_results = study.trials_dataframe()\n",
    "df_results.to_pickle(results_directory + f'df_optuna_results_{name_var}_v0.pkl')\n",
    "df_results.to_csv(results_directory + f'df_optuna_results_{name_var}_v0.csv')\n",
    "#save study\n",
    "joblib.dump(study, results_directory + f'optuna_study_{name_var}_v0.pkl')"
   ]
  }
 ],
 "metadata": {
  "kernelspec": {
   "display_name": "Python [conda env:cnn_wr]",
   "language": "python",
   "name": "conda-env-cnn_wr-py"
  },
  "language_info": {
   "codemirror_mode": {
    "name": "ipython",
    "version": 3
   },
   "file_extension": ".py",
   "mimetype": "text/x-python",
   "name": "python",
   "nbconvert_exporter": "python",
   "pygments_lexer": "ipython3",
   "version": "3.9.15"
  }
 },
 "nbformat": 4,
 "nbformat_minor": 5
}
