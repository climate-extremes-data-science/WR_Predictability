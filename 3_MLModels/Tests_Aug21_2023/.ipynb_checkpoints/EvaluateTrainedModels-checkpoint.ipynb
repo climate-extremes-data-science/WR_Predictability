{
 "cells": [
  {
   "cell_type": "code",
   "execution_count": 1,
   "id": "80cd7d4d-51a6-49a9-a1c7-a5b8d72c7055",
   "metadata": {},
   "outputs": [
    {
     "name": "stderr",
     "output_type": "stream",
     "text": [
      "2023-08-22 07:39:47.602618: I tensorflow/stream_executor/platform/default/dso_loader.cc:49] Successfully opened dynamic library libcudart.so.10.1\n",
      "/glade/work/jhayron/conda-envs/cnn_wr/lib/python3.9/site-packages/tqdm/auto.py:22: TqdmWarning: IProgress not found. Please update jupyter and ipywidgets. See https://ipywidgets.readthedocs.io/en/stable/user_install.html\n",
      "  from .autonotebook import tqdm as notebook_tqdm\n"
     ]
    }
   ],
   "source": [
    "import copy\n",
    "import glob\n",
    "import pickle\n",
    "import warnings\n",
    "from datetime import datetime, timedelta\n",
    "from itertools import product\n",
    "import joblib\n",
    "import os\n",
    "import numpy as np\n",
    "import xarray as xr\n",
    "import pandas as pd\n",
    "import copy\n",
    "from datetime import datetime, timedelta\n",
    "from keras.utils import to_categorical\n",
    "# import visualkeras\n",
    "# import tensorflow as tf\n",
    "from sklearn.metrics import balanced_accuracy_score\n",
    "from sklearn.metrics import accuracy_score\n",
    "import optuna\n",
    "from optuna.samplers import TPESampler\n",
    "import keras\n",
    "from keras.callbacks import ModelCheckpoint\n",
    "from sklearn.utils.class_weight import compute_class_weight\n",
    "\n",
    "\n",
    "import cartopy\n",
    "import cartopy.crs as ccrs\n",
    "import cartopy.feature\n",
    "import cartopy.feature as cfeature\n",
    "import cartopy.feature as cf\n",
    "import cartopy.io.shapereader as shpreader\n",
    "\n",
    "import matplotlib as mpl\n",
    "import matplotlib.path as mpath\n",
    "import matplotlib.pyplot as plt\n",
    "import numpy as np\n",
    "# np.random.seed(42)\n",
    "import pandas as pd\n",
    "import shapely.geometry as sgeom\n",
    "import xarray as xr\n",
    "from scipy import stats\n",
    "from scipy.spatial.distance import cdist\n",
    "from shapely import geometry\n",
    "from sklearn import metrics\n",
    "from sklearn.cluster import KMeans\n",
    "from sklearn.decomposition import PCA\n"
   ]
  },
  {
   "cell_type": "code",
   "execution_count": 2,
   "id": "71f8f1cc-3e6b-427f-8d07-586eeec15d89",
   "metadata": {},
   "outputs": [],
   "source": [
    "# def create_tf_datasets(input_data, output_data):\n",
    "#     # Convert xarray dataset to numpy array for TensorFlow Dataset\n",
    "#     input_images = input_data.transpose('time', 'lat', 'lon','channel').values\n",
    "#     output_one_hot = output_data.values\n",
    "\n",
    "#     # Create TensorFlow Datasets\n",
    "#     input_dataset = tf.data.Dataset.from_tensor_slices(input_images)\n",
    "#     output_dataset = tf.data.Dataset.from_tensor_slices(output_one_hot)\n",
    "\n",
    "#     # Combine input and output datasets into a joint dataset\n",
    "#     joint_dataset = tf.data.Dataset.zip((input_dataset, output_dataset))\n",
    "\n",
    "#     return joint_dataset\n",
    "def create_tf_datasets(input_data, output_data):\n",
    "    # Convert xarray dataset to numpy array for TensorFlow Dataset\n",
    "    input_images = input_data.transpose('time', 'lat', 'lon','channel').values\n",
    "    output_one_hot = output_data.values\n",
    "\n",
    "    # Create TensorFlow Datasets\n",
    "    input_dataset = tf.data.Dataset.from_tensor_slices(input_images)\n",
    "    output_dataset = tf.data.Dataset.from_tensor_slices(output_one_hot)\n",
    "\n",
    "    # Combine input and output datasets into a joint dataset\n",
    "    joint_dataset = tf.data.Dataset.zip((input_dataset, output_dataset))\n",
    "\n",
    "    return (input_images,output_one_hot)\n",
    "\n",
    "def create_datasets(input_anoms, var_name, df_shifts, week_out):\n",
    "# Assuming you have the xarray.Dataset 'input_data' and the pandas.Series 'output_data'\n",
    "    input_data = copy.deepcopy(input_anoms[var_name])\n",
    "\n",
    "    array_temp = input_data.data\n",
    "    array_temp[np.isfinite(array_temp)==False]=0\n",
    "    input_data.data = array_temp\n",
    "\n",
    "#     input_data = (input_data - input_data.mean('time')) / (input_data.std('time'))\n",
    "    \n",
    "#     input_data[np.isfinite(array_temp)==False] = 0\n",
    "    \n",
    "    # Reshape the data to add a new dimension\n",
    "    values_reshaped = input_data.values.reshape(input_data.shape[0], input_data.shape[1], input_data.shape[2], 1)\n",
    "\n",
    "    # Create a new xarray.DataArray with the reshaped data and the original coordinates\n",
    "    input_data = xr.DataArray(values_reshaped, coords=input_data.coords, dims=('time', 'lat', 'lon', 'channel'))\n",
    "    output_data = copy.deepcopy(df_shifts[f'week{week_out}']).dropna()\n",
    "\n",
    "    # Step 1: Create a common date index that includes all dates in both the input and output data\n",
    "    common_dates = np.intersect1d(input_data['time'].values, output_data.index)\n",
    "\n",
    "    # Step 2: Reindex the input xarray dataset and the output DataFrame to the common date index\n",
    "    input_data = input_data.sel(time=common_dates)\n",
    "    output_data = output_data.loc[common_dates]\n",
    "\n",
    "    # Step 3: One-hot encode the output DataFrame using to_categorical\n",
    "    num_classes = len(output_data.unique())  # Number of classes (number of weeks in this case)\n",
    "    output_data_encoded = to_categorical(output_data, num_classes=num_classes)\n",
    "    output_data_encoded = pd.DataFrame(output_data_encoded,index=output_data.index)\n",
    "\n",
    "    # Step 4: Create masks for training, validation, and testing periods\n",
    "    train_mask = (output_data.index >= '1980-01-01') & (output_data.index <= '2010-12-31')\n",
    "    val_mask = (output_data.index >= '2011-01-01') & (output_data.index <= '2015-12-31')\n",
    "    test_mask = (output_data.index >= '2016-01-01') & (output_data.index <= '2020-12-31')\n",
    "\n",
    "    # Step 5: Split the input xarray dataset and the output DataFrame into subsets\n",
    "    input_train = input_data.sel(time=train_mask)\n",
    "    input_val = input_data.sel(time=val_mask)\n",
    "    input_test = input_data.sel(time=test_mask)\n",
    "\n",
    "    output_train = output_data_encoded.loc[train_mask]\n",
    "    output_val = output_data_encoded.loc[val_mask]\n",
    "    output_test = output_data_encoded.loc[test_mask]\n",
    "\n",
    "    train_joint_dataset = create_tf_datasets(input_train, output_train)\n",
    "    val_joint_dataset = create_tf_datasets(input_val, output_val)\n",
    "    test_joint_dataset = create_tf_datasets(input_test, output_test)\n",
    "\n",
    "    # buffer_size = train_joint_dataset.cardinality()\n",
    "    # train_joint_dataset = train_joint_dataset.shuffle(buffer_size)\n",
    "    return train_joint_dataset, val_joint_dataset, test_joint_dataset,input_train.time,\\\n",
    "        input_val.time,input_test.time\n",
    "\n",
    "def get_output_from_dataset(dataset):\n",
    "    output_array = []\n",
    "    for input_data, output_data in dataset.as_numpy_iterator():\n",
    "        output_array.append(output_data)\n",
    "\n",
    "    # Convert the list of NumPy arrays into a single NumPy array\n",
    "    output_array = np.array(output_array)\n",
    "    return output_array\n",
    "\n",
    "def balanced_accuracy(y_true, y_pred):\n",
    "    y_true = tf.argmax(y_true, axis=1)\n",
    "    y_pred = tf.argmax(y_pred, axis=1)\n",
    "    return tf.py_function(balanced_accuracy_score, (y_true, y_pred), tf.float32)\n",
    "\n",
    "def logging_callback(study, frozen_trial):\n",
    "    previous_best_value = study.user_attrs.get(\"previous_best_value\", None)\n",
    "    if previous_best_value != study.best_value:\n",
    "        study.set_user_attr(\"previous_best_value\", study.best_value)\n",
    "        print(\n",
    "            \"Trial {} finished with best value: {} and parameters: {}. \".format(\n",
    "            frozen_trial.number,\n",
    "            frozen_trial.value,\n",
    "            frozen_trial.params,\n",
    "            )\n",
    "        )"
   ]
  },
  {
   "cell_type": "code",
   "execution_count": 3,
   "id": "de95c973-94d4-435c-86f2-bec772d976c8",
   "metadata": {},
   "outputs": [],
   "source": [
    "sys.path.append(\"/glade/u/home/jhayron/WR_Predictability/3_MLModels/\")\n",
    "from model_builders import *"
   ]
  },
  {
   "cell_type": "code",
   "execution_count": 4,
   "id": "f8158960-f846-4cb0-83c1-ee620ac10d94",
   "metadata": {},
   "outputs": [
    {
     "name": "stdout",
     "output_type": "stream",
     "text": [
      "Num GPUs Available:  1\n"
     ]
    },
    {
     "name": "stderr",
     "output_type": "stream",
     "text": [
      "2023-08-22 07:40:03.438805: I tensorflow/compiler/jit/xla_cpu_device.cc:41] Not creating XLA devices, tf_xla_enable_xla_devices not set\n",
      "2023-08-22 07:40:03.440256: I tensorflow/stream_executor/platform/default/dso_loader.cc:49] Successfully opened dynamic library libcuda.so.1\n",
      "2023-08-22 07:40:03.487765: I tensorflow/core/common_runtime/gpu/gpu_device.cc:1720] Found device 0 with properties: \n",
      "pciBusID: 0000:89:00.0 name: Tesla V100-SXM2-32GB computeCapability: 7.0\n",
      "coreClock: 1.53GHz coreCount: 80 deviceMemorySize: 31.75GiB deviceMemoryBandwidth: 836.37GiB/s\n",
      "2023-08-22 07:40:03.487806: I tensorflow/stream_executor/platform/default/dso_loader.cc:49] Successfully opened dynamic library libcudart.so.10.1\n",
      "2023-08-22 07:40:03.593876: I tensorflow/stream_executor/platform/default/dso_loader.cc:49] Successfully opened dynamic library libcublas.so.10\n",
      "2023-08-22 07:40:03.593918: I tensorflow/stream_executor/platform/default/dso_loader.cc:49] Successfully opened dynamic library libcublasLt.so.10\n",
      "2023-08-22 07:40:03.648021: I tensorflow/stream_executor/platform/default/dso_loader.cc:49] Successfully opened dynamic library libcufft.so.10\n",
      "2023-08-22 07:40:03.695557: I tensorflow/stream_executor/platform/default/dso_loader.cc:49] Successfully opened dynamic library libcurand.so.10\n",
      "2023-08-22 07:40:03.763678: I tensorflow/stream_executor/platform/default/dso_loader.cc:49] Successfully opened dynamic library libcusolver.so.10\n",
      "2023-08-22 07:40:03.807640: I tensorflow/stream_executor/platform/default/dso_loader.cc:49] Successfully opened dynamic library libcusparse.so.10\n",
      "2023-08-22 07:40:03.853696: I tensorflow/stream_executor/platform/default/dso_loader.cc:49] Successfully opened dynamic library libcudnn.so.7\n",
      "2023-08-22 07:40:03.854492: I tensorflow/core/common_runtime/gpu/gpu_device.cc:1862] Adding visible gpu devices: 0\n"
     ]
    }
   ],
   "source": [
    "import warnings\n",
    "warnings.filterwarnings(\"ignore\", category=UserWarning)\n",
    "\n",
    "## GLOBAL SEED ##    \n",
    "np.random.seed(42)\n",
    "tf.random.set_seed(42)\n",
    "\n",
    "print(\"Num GPUs Available: \", len(tf.config.list_physical_devices('GPU')))"
   ]
  },
  {
   "cell_type": "code",
   "execution_count": 5,
   "id": "954e5924-8ce9-4870-b5e1-ab4069194827",
   "metadata": {},
   "outputs": [],
   "source": [
    "dict_params = {'model_base':'inception',\n",
    "               'type_pooling':'avg',\n",
    "               'do':0.7,\n",
    "               'md':8,\n",
    "               'activation':'LeakyReLU',\n",
    "               'weighted_loss':True,\n",
    "               'bs':32,\n",
    "               'lr':0.001} "
   ]
  },
  {
   "cell_type": "code",
   "execution_count": 6,
   "id": "84088725-f412-47a4-8548-931ce5c1e0c7",
   "metadata": {
    "collapsed": true,
    "jupyter": {
     "outputs_hidden": true
    },
    "tags": []
   },
   "outputs": [
    {
     "name": "stdout",
     "output_type": "stream",
     "text": [
      "IT_SODA 0\n"
     ]
    },
    {
     "name": "stderr",
     "output_type": "stream",
     "text": [
      "2023-08-22 07:48:40.682955: I tensorflow/core/platform/cpu_feature_guard.cc:142] This TensorFlow binary is optimized with oneAPI Deep Neural Network Library (oneDNN) to use the following CPU instructions in performance-critical operations:  SSE4.1 SSE4.2 AVX AVX2 AVX512F FMA\n",
      "To enable them in other operations, rebuild TensorFlow with the appropriate compiler flags.\n",
      "2023-08-22 07:48:40.683630: I tensorflow/compiler/jit/xla_gpu_device.cc:99] Not creating XLA devices, tf_xla_enable_xla_devices not set\n",
      "2023-08-22 07:48:40.684215: I tensorflow/core/common_runtime/gpu/gpu_device.cc:1720] Found device 0 with properties: \n",
      "pciBusID: 0000:89:00.0 name: Tesla V100-SXM2-32GB computeCapability: 7.0\n",
      "coreClock: 1.53GHz coreCount: 80 deviceMemorySize: 31.75GiB deviceMemoryBandwidth: 836.37GiB/s\n",
      "2023-08-22 07:48:40.684261: I tensorflow/stream_executor/platform/default/dso_loader.cc:49] Successfully opened dynamic library libcudart.so.10.1\n",
      "2023-08-22 07:48:40.684292: I tensorflow/stream_executor/platform/default/dso_loader.cc:49] Successfully opened dynamic library libcublas.so.10\n",
      "2023-08-22 07:48:40.684306: I tensorflow/stream_executor/platform/default/dso_loader.cc:49] Successfully opened dynamic library libcublasLt.so.10\n",
      "2023-08-22 07:48:40.684318: I tensorflow/stream_executor/platform/default/dso_loader.cc:49] Successfully opened dynamic library libcufft.so.10\n",
      "2023-08-22 07:48:40.684331: I tensorflow/stream_executor/platform/default/dso_loader.cc:49] Successfully opened dynamic library libcurand.so.10\n",
      "2023-08-22 07:48:40.684343: I tensorflow/stream_executor/platform/default/dso_loader.cc:49] Successfully opened dynamic library libcusolver.so.10\n",
      "2023-08-22 07:48:40.684356: I tensorflow/stream_executor/platform/default/dso_loader.cc:49] Successfully opened dynamic library libcusparse.so.10\n",
      "2023-08-22 07:48:40.684369: I tensorflow/stream_executor/platform/default/dso_loader.cc:49] Successfully opened dynamic library libcudnn.so.7\n",
      "2023-08-22 07:48:40.684977: I tensorflow/core/common_runtime/gpu/gpu_device.cc:1862] Adding visible gpu devices: 0\n",
      "2023-08-22 07:48:40.685010: I tensorflow/stream_executor/platform/default/dso_loader.cc:49] Successfully opened dynamic library libcudart.so.10.1\n",
      "2023-08-22 07:48:41.440986: I tensorflow/core/common_runtime/gpu/gpu_device.cc:1261] Device interconnect StreamExecutor with strength 1 edge matrix:\n",
      "2023-08-22 07:48:41.441019: I tensorflow/core/common_runtime/gpu/gpu_device.cc:1267]      0 \n",
      "2023-08-22 07:48:41.441030: I tensorflow/core/common_runtime/gpu/gpu_device.cc:1280] 0:   N \n",
      "2023-08-22 07:48:41.442218: I tensorflow/core/common_runtime/gpu/gpu_device.cc:1406] Created TensorFlow device (/job:localhost/replica:0/task:0/device:GPU:0 with 30132 MB memory) -> physical GPU (device: 0, name: Tesla V100-SXM2-32GB, pci bus id: 0000:89:00.0, compute capability: 7.0)\n",
      "2023-08-22 07:48:46.176151: I tensorflow/compiler/mlir/mlir_graph_optimization_pass.cc:116] None of the MLIR optimization passes are enabled (registered 2)\n",
      "2023-08-22 07:48:46.176663: I tensorflow/core/platform/profile_utils/cpu_utils.cc:112] CPU Frequency: 2300000000 Hz\n",
      "2023-08-22 07:48:47.045092: I tensorflow/stream_executor/platform/default/dso_loader.cc:49] Successfully opened dynamic library libcublas.so.10\n",
      "2023-08-22 07:48:47.265040: I tensorflow/stream_executor/platform/default/dso_loader.cc:49] Successfully opened dynamic library libcudnn.so.7\n"
     ]
    },
    {
     "name": "stdout",
     "output_type": "stream",
     "text": [
      "IT_SODA 1\n",
      "IT_SODA 2\n",
      "IT_SODA 3\n",
      "IT_SODA 4\n",
      "IT_SODA 5\n",
      "IT_SODA 6\n",
      "IT_SODA 7\n",
      "IT_SODA 8\n",
      "OHC100_SODA 0\n",
      "OHC100_SODA 1\n",
      "OHC100_SODA 2\n",
      "OHC100_SODA 3\n",
      "OHC100_SODA 4\n",
      "OHC100_SODA 5\n",
      "OHC100_SODA 6\n",
      "OHC100_SODA 7\n",
      "OHC100_SODA 8\n",
      "SD_ERA5 0\n",
      "SD_ERA5 1\n",
      "SD_ERA5 2\n",
      "SD_ERA5 3\n",
      "SD_ERA5 4\n",
      "SD_ERA5 5\n",
      "SD_ERA5 6\n",
      "SD_ERA5 7\n",
      "SD_ERA5 8\n",
      "STL_full_ERA5 0\n",
      "STL_full_ERA5 1\n",
      "STL_full_ERA5 2\n",
      "STL_full_ERA5 3\n",
      "STL_full_ERA5 4\n",
      "STL_full_ERA5 5\n",
      "STL_full_ERA5 6\n",
      "STL_full_ERA5 7\n",
      "STL_full_ERA5 8\n",
      "SWVL_full_ERA5 0\n",
      "SWVL_full_ERA5 1\n",
      "SWVL_full_ERA5 2\n",
      "SWVL_full_ERA5 3\n",
      "SWVL_full_ERA5 4\n",
      "SWVL_full_ERA5 5\n",
      "SWVL_full_ERA5 6\n",
      "SWVL_full_ERA5 7\n",
      "SWVL_full_ERA5 8\n",
      "Z500_ERA5 0\n",
      "Z500_ERA5 1\n",
      "Z500_ERA5 2\n",
      "Z500_ERA5 3\n",
      "Z500_ERA5 4\n",
      "Z500_ERA5 5\n",
      "Z500_ERA5 6\n",
      "Z500_ERA5 7\n",
      "Z500_ERA5 8\n",
      "MLD_SODA 0\n",
      "MLD_SODA 1\n",
      "MLD_SODA 2\n",
      "MLD_SODA 3\n",
      "MLD_SODA 4\n",
      "MLD_SODA 5\n",
      "MLD_SODA 6\n",
      "MLD_SODA 7\n",
      "MLD_SODA 8\n",
      "OLR_ERA5 0\n",
      "OLR_ERA5 1\n",
      "OLR_ERA5 2\n",
      "OLR_ERA5 3\n",
      "OLR_ERA5 4\n",
      "OLR_ERA5 5\n",
      "OLR_ERA5 6\n",
      "OLR_ERA5 7\n",
      "OLR_ERA5 8\n",
      "SST_SODA 0\n",
      "SST_SODA 1\n",
      "SST_SODA 2\n",
      "SST_SODA 3\n",
      "SST_SODA 4\n",
      "SST_SODA 5\n",
      "SST_SODA 6\n",
      "SST_SODA 7\n",
      "SST_SODA 8\n",
      "SWVL_28cm_ERA5 0\n",
      "SWVL_28cm_ERA5 1\n",
      "SWVL_28cm_ERA5 2\n",
      "SWVL_28cm_ERA5 3\n",
      "SWVL_28cm_ERA5 4\n",
      "SWVL_28cm_ERA5 5\n",
      "SWVL_28cm_ERA5 6\n",
      "SWVL_28cm_ERA5 7\n",
      "SWVL_28cm_ERA5 8\n",
      "U200_ERA5 0\n",
      "U200_ERA5 1\n",
      "U200_ERA5 2\n",
      "U200_ERA5 3\n",
      "U200_ERA5 4\n",
      "U200_ERA5 5\n",
      "U200_ERA5 6\n",
      "U200_ERA5 7\n",
      "U200_ERA5 8\n"
     ]
    },
    {
     "ename": "OSError",
     "evalue": "Unable to open file (unable to open file: name = '/glade/work/jhayron/Data4Predictability/models/CNN_Aug21_2023/v0/U200_ERA5/model_week8_v0.h5', errno = 2, error message = 'No such file or directory', flags = 0, o_flags = 0)",
     "output_type": "error",
     "traceback": [
      "\u001b[0;31m---------------------------------------------------------------------------\u001b[0m",
      "\u001b[0;31mOSError\u001b[0m                                   Traceback (most recent call last)",
      "Cell \u001b[0;32mIn[6], line 37\u001b[0m\n\u001b[1;32m     32\u001b[0m model\u001b[38;5;241m.\u001b[39mcompile(loss\u001b[38;5;241m=\u001b[39mkeras\u001b[38;5;241m.\u001b[39mlosses\u001b[38;5;241m.\u001b[39mcategorical_crossentropy, \n\u001b[1;32m     33\u001b[0m                       optimizer\u001b[38;5;241m=\u001b[39mkeras\u001b[38;5;241m.\u001b[39moptimizers\u001b[38;5;241m.\u001b[39mAdam(lr\u001b[38;5;241m=\u001b[39mdict_params[\u001b[38;5;124m'\u001b[39m\u001b[38;5;124mlr\u001b[39m\u001b[38;5;124m'\u001b[39m]),\n\u001b[1;32m     34\u001b[0m                       metrics\u001b[38;5;241m=\u001b[39m[balanced_accuracy,\u001b[38;5;124m'\u001b[39m\u001b[38;5;124maccuracy\u001b[39m\u001b[38;5;124m'\u001b[39m]) \n\u001b[1;32m     35\u001b[0m filepath \u001b[38;5;241m=\u001b[39m \u001b[38;5;124mf\u001b[39m\u001b[38;5;124m'\u001b[39m\u001b[38;5;132;01m{\u001b[39;00mpath_models\u001b[38;5;132;01m}\u001b[39;00m\u001b[38;5;132;01m{\u001b[39;00mname_var\u001b[38;5;132;01m}\u001b[39;00m\u001b[38;5;124m/model_\u001b[39m\u001b[38;5;132;01m{\u001b[39;00mweek_out_str\u001b[38;5;132;01m}\u001b[39;00m\u001b[38;5;124m_v0.h5\u001b[39m\u001b[38;5;124m'\u001b[39m\n\u001b[0;32m---> 37\u001b[0m \u001b[43mmodel\u001b[49m\u001b[38;5;241;43m.\u001b[39;49m\u001b[43mload_weights\u001b[49m\u001b[43m(\u001b[49m\u001b[43mfilepath\u001b[49m\u001b[43m)\u001b[49m\n\u001b[1;32m     39\u001b[0m predictions_prob \u001b[38;5;241m=\u001b[39m model\u001b[38;5;241m.\u001b[39mpredict(test_joint_dataset[\u001b[38;5;241m0\u001b[39m])\n\u001b[1;32m     40\u001b[0m predictions \u001b[38;5;241m=\u001b[39m predictions_prob\u001b[38;5;241m.\u001b[39margmax(axis\u001b[38;5;241m=\u001b[39m\u001b[38;5;241m1\u001b[39m)\n",
      "File \u001b[0;32m/glade/work/jhayron/conda-envs/cnn_wr/lib/python3.9/site-packages/tensorflow/python/keras/engine/training.py:2227\u001b[0m, in \u001b[0;36mModel.load_weights\u001b[0;34m(self, filepath, by_name, skip_mismatch, options)\u001b[0m\n\u001b[1;32m   2222\u001b[0m   \u001b[38;5;28;01mraise\u001b[39;00m \u001b[38;5;167;01mValueError\u001b[39;00m(\n\u001b[1;32m   2223\u001b[0m       \u001b[38;5;124m'\u001b[39m\u001b[38;5;124mUnable to load weights saved in HDF5 format into a subclassed \u001b[39m\u001b[38;5;124m'\u001b[39m\n\u001b[1;32m   2224\u001b[0m       \u001b[38;5;124m'\u001b[39m\u001b[38;5;124mModel which has not created its variables yet. Call the Model \u001b[39m\u001b[38;5;124m'\u001b[39m\n\u001b[1;32m   2225\u001b[0m       \u001b[38;5;124m'\u001b[39m\u001b[38;5;124mfirst, then load the weights.\u001b[39m\u001b[38;5;124m'\u001b[39m)\n\u001b[1;32m   2226\u001b[0m \u001b[38;5;28mself\u001b[39m\u001b[38;5;241m.\u001b[39m_assert_weights_created()\n\u001b[0;32m-> 2227\u001b[0m \u001b[38;5;28;01mwith\u001b[39;00m \u001b[43mh5py\u001b[49m\u001b[38;5;241;43m.\u001b[39;49m\u001b[43mFile\u001b[49m\u001b[43m(\u001b[49m\u001b[43mfilepath\u001b[49m\u001b[43m,\u001b[49m\u001b[43m \u001b[49m\u001b[38;5;124;43m'\u001b[39;49m\u001b[38;5;124;43mr\u001b[39;49m\u001b[38;5;124;43m'\u001b[39;49m\u001b[43m)\u001b[49m \u001b[38;5;28;01mas\u001b[39;00m f:\n\u001b[1;32m   2228\u001b[0m   \u001b[38;5;28;01mif\u001b[39;00m \u001b[38;5;124m'\u001b[39m\u001b[38;5;124mlayer_names\u001b[39m\u001b[38;5;124m'\u001b[39m \u001b[38;5;129;01mnot\u001b[39;00m \u001b[38;5;129;01min\u001b[39;00m f\u001b[38;5;241m.\u001b[39mattrs \u001b[38;5;129;01mand\u001b[39;00m \u001b[38;5;124m'\u001b[39m\u001b[38;5;124mmodel_weights\u001b[39m\u001b[38;5;124m'\u001b[39m \u001b[38;5;129;01min\u001b[39;00m f:\n\u001b[1;32m   2229\u001b[0m     f \u001b[38;5;241m=\u001b[39m f[\u001b[38;5;124m'\u001b[39m\u001b[38;5;124mmodel_weights\u001b[39m\u001b[38;5;124m'\u001b[39m]\n",
      "File \u001b[0;32m/glade/work/jhayron/conda-envs/cnn_wr/lib/python3.9/site-packages/h5py/_hl/files.py:406\u001b[0m, in \u001b[0;36mFile.__init__\u001b[0;34m(self, name, mode, driver, libver, userblock_size, swmr, rdcc_nslots, rdcc_nbytes, rdcc_w0, track_order, **kwds)\u001b[0m\n\u001b[1;32m    404\u001b[0m \u001b[38;5;28;01mwith\u001b[39;00m phil:\n\u001b[1;32m    405\u001b[0m     fapl \u001b[38;5;241m=\u001b[39m make_fapl(driver, libver, rdcc_nslots, rdcc_nbytes, rdcc_w0, \u001b[38;5;241m*\u001b[39m\u001b[38;5;241m*\u001b[39mkwds)\n\u001b[0;32m--> 406\u001b[0m     fid \u001b[38;5;241m=\u001b[39m \u001b[43mmake_fid\u001b[49m\u001b[43m(\u001b[49m\u001b[43mname\u001b[49m\u001b[43m,\u001b[49m\u001b[43m \u001b[49m\u001b[43mmode\u001b[49m\u001b[43m,\u001b[49m\u001b[43m \u001b[49m\u001b[43muserblock_size\u001b[49m\u001b[43m,\u001b[49m\n\u001b[1;32m    407\u001b[0m \u001b[43m                   \u001b[49m\u001b[43mfapl\u001b[49m\u001b[43m,\u001b[49m\u001b[43m \u001b[49m\u001b[43mfcpl\u001b[49m\u001b[38;5;241;43m=\u001b[39;49m\u001b[43mmake_fcpl\u001b[49m\u001b[43m(\u001b[49m\u001b[43mtrack_order\u001b[49m\u001b[38;5;241;43m=\u001b[39;49m\u001b[43mtrack_order\u001b[49m\u001b[43m)\u001b[49m\u001b[43m,\u001b[49m\n\u001b[1;32m    408\u001b[0m \u001b[43m                   \u001b[49m\u001b[43mswmr\u001b[49m\u001b[38;5;241;43m=\u001b[39;49m\u001b[43mswmr\u001b[49m\u001b[43m)\u001b[49m\n\u001b[1;32m    410\u001b[0m \u001b[38;5;28;01mif\u001b[39;00m \u001b[38;5;28misinstance\u001b[39m(libver, \u001b[38;5;28mtuple\u001b[39m):\n\u001b[1;32m    411\u001b[0m     \u001b[38;5;28mself\u001b[39m\u001b[38;5;241m.\u001b[39m_libver \u001b[38;5;241m=\u001b[39m libver\n",
      "File \u001b[0;32m/glade/work/jhayron/conda-envs/cnn_wr/lib/python3.9/site-packages/h5py/_hl/files.py:173\u001b[0m, in \u001b[0;36mmake_fid\u001b[0;34m(name, mode, userblock_size, fapl, fcpl, swmr)\u001b[0m\n\u001b[1;32m    171\u001b[0m     \u001b[38;5;28;01mif\u001b[39;00m swmr \u001b[38;5;129;01mand\u001b[39;00m swmr_support:\n\u001b[1;32m    172\u001b[0m         flags \u001b[38;5;241m|\u001b[39m\u001b[38;5;241m=\u001b[39m h5f\u001b[38;5;241m.\u001b[39mACC_SWMR_READ\n\u001b[0;32m--> 173\u001b[0m     fid \u001b[38;5;241m=\u001b[39m \u001b[43mh5f\u001b[49m\u001b[38;5;241;43m.\u001b[39;49m\u001b[43mopen\u001b[49m\u001b[43m(\u001b[49m\u001b[43mname\u001b[49m\u001b[43m,\u001b[49m\u001b[43m \u001b[49m\u001b[43mflags\u001b[49m\u001b[43m,\u001b[49m\u001b[43m \u001b[49m\u001b[43mfapl\u001b[49m\u001b[38;5;241;43m=\u001b[39;49m\u001b[43mfapl\u001b[49m\u001b[43m)\u001b[49m\n\u001b[1;32m    174\u001b[0m \u001b[38;5;28;01melif\u001b[39;00m mode \u001b[38;5;241m==\u001b[39m \u001b[38;5;124m'\u001b[39m\u001b[38;5;124mr+\u001b[39m\u001b[38;5;124m'\u001b[39m:\n\u001b[1;32m    175\u001b[0m     fid \u001b[38;5;241m=\u001b[39m h5f\u001b[38;5;241m.\u001b[39mopen(name, h5f\u001b[38;5;241m.\u001b[39mACC_RDWR, fapl\u001b[38;5;241m=\u001b[39mfapl)\n",
      "File \u001b[0;32mh5py/_objects.pyx:54\u001b[0m, in \u001b[0;36mh5py._objects.with_phil.wrapper\u001b[0;34m()\u001b[0m\n",
      "File \u001b[0;32mh5py/_objects.pyx:55\u001b[0m, in \u001b[0;36mh5py._objects.with_phil.wrapper\u001b[0;34m()\u001b[0m\n",
      "File \u001b[0;32mh5py/h5f.pyx:88\u001b[0m, in \u001b[0;36mh5py.h5f.open\u001b[0;34m()\u001b[0m\n",
      "\u001b[0;31mOSError\u001b[0m: Unable to open file (unable to open file: name = '/glade/work/jhayron/Data4Predictability/models/CNN_Aug21_2023/v0/U200_ERA5/model_week8_v0.h5', errno = 2, error message = 'No such file or directory', flags = 0, o_flags = 0)"
     ]
    }
   ],
   "source": [
    "for name_var in ['IT_SODA', 'OHC100_SODA', 'SD_ERA5', 'STL_full_ERA5', 'SWVL_full_ERA5', 'Z500_ERA5',\n",
    "                 'MLD_SODA', 'OLR_ERA5', 'SST_SODA', 'SWVL_28cm_ERA5', 'U200_ERA5']:\n",
    "    path_models = '/glade/work/jhayron/Data4Predictability/models/CNN_Aug21_2023/v0/'\n",
    "    path_weekly_anoms = '/glade/scratch/jhayron/Data4Predictability/WeeklyAnoms_DetrendedStd/'\n",
    "    # path_weekly_anoms = '/glade/scratch/jhayron/Data4Predictability/WeeklyAnoms_Std_withTrends/'\n",
    "    input_anoms = xr.open_dataset(f'{path_weekly_anoms}{name_var}.nc')\n",
    "\n",
    "    wr_series = pd.read_csv('/glade/work/jhayron/Data4Predictability/WR_Series_20230815_v2.csv',\\\n",
    "                    index_col=0,names=['week0'],skiprows=1,parse_dates=True)\n",
    "    for wk in range(2,10):\n",
    "        series_temp = copy.deepcopy(wr_series[\"week0\"])\n",
    "        series_temp.index = series_temp.index - timedelta(weeks = wk-1)\n",
    "        series_temp.name = f'week{wk-1}'\n",
    "        if wk==2:\n",
    "            df_shifts = pd.concat([pd.DataFrame(wr_series[\"week0\"]),pd.DataFrame(series_temp)],\n",
    "                                  axis=1)  \n",
    "        else:\n",
    "            df_shifts = pd.concat([df_shifts,pd.DataFrame(series_temp)],axis=1)\n",
    "            \n",
    "    for week_out in [0,1,2,3,4,5,6,7,8]:\n",
    "        print(name_var,week_out)\n",
    "        var_name = list(input_anoms.data_vars.keys())[0]\n",
    "        week_out_str = f'week{week_out}'\n",
    "\n",
    "        train_joint_dataset, val_joint_dataset, test_joint_dataset, _, _, test_index = \\\n",
    "            create_datasets(input_anoms, var_name, df_shifts, week_out)\n",
    "\n",
    "        model = build_inception_model(dict_params['type_pooling'],\n",
    "                                 dict_params['do'],\n",
    "                                 dict_params['md'],\n",
    "                                 dict_params['activation'])\n",
    "        model.compile(loss=keras.losses.categorical_crossentropy, \n",
    "                              optimizer=keras.optimizers.Adam(lr=dict_params['lr']),\n",
    "                              metrics=[balanced_accuracy,'accuracy']) \n",
    "        filepath = f'{path_models}{name_var}/model_{week_out_str}_v0.h5'\n",
    "\n",
    "        model.load_weights(filepath)\n",
    "\n",
    "        predictions_prob = model.predict(test_joint_dataset[0])\n",
    "        predictions = predictions_prob.argmax(axis=1)\n",
    "        wr_temp = test_joint_dataset[1].argmax(1)\n",
    "\n",
    "        df_results = pd.DataFrame(np.array([predictions,wr_temp]).T,\n",
    "                                  index=pd.to_datetime(test_index),\n",
    "                                  columns=['forecast','true'])\n",
    "        df_results['month'] = df_results.index.month\n",
    "        df_results['initial_wr'] = df_shifts.week0.loc[df_results.index].astype(int)\n",
    "\n",
    "        acc = accuracy_score(df_results['true'],df_results['forecast'])\n",
    "        acc_persistence = accuracy_score(df_results['true'],df_results['initial_wr'])\n",
    "        \n",
    "        acc_months = []\n",
    "        acc_months_persistence = []\n",
    "        # for month in [2,5,8,11]:\n",
    "        for month in range(1,13):\n",
    "            # df_temp = df_results[(df_results['month']<=month+1)&(df_results['month']>=month-1)]\n",
    "            df_temp = df_results[df_results['month']==month]\n",
    "            acc_months.append(accuracy_score(df_temp['true'],df_temp['forecast']))\n",
    "            acc_months_persistence.append(accuracy_score(df_temp['true'],df_temp['initial_wr']))\n",
    "\n",
    "        acc_init_wr = []\n",
    "        acc_init_wr_persistence = []\n",
    "        for wr in range(0,5):\n",
    "            df_temp = df_results[df_results['initial_wr']==wr]\n",
    "            acc_init_wr.append(accuracy_score(df_temp['true'],df_temp['forecast']))\n",
    "            acc_init_wr_persistence.append(accuracy_score(df_temp['true'],df_temp['initial_wr']))\n",
    "\n",
    "        acc_final_wr = []\n",
    "        acc_final_wr_persistence = []\n",
    "        for wr in range(0,5):\n",
    "            df_temp = df_results[df_results['true']==wr]\n",
    "            acc_final_wr.append(accuracy_score(df_temp['true'],df_temp['forecast']))\n",
    "            acc_final_wr_persistence.append(accuracy_score(df_temp['true'],df_temp['initial_wr']))\n",
    "\n",
    "        dic_performance={}\n",
    "        dic_performance['acc'] = acc\n",
    "        dic_performance['acc_persistence'] = acc_persistence\n",
    "        dic_performance['acc_months'] = acc_months\n",
    "        dic_performance['acc_months_persistence'] = acc_months_persistence\n",
    "        \n",
    "        dic_performance['acc_init_wr'] = acc_init_wr\n",
    "        dic_performance['acc_init_wr_persistence'] = acc_init_wr_persistence\n",
    "        \n",
    "        dic_performance['acc_final_wr'] = acc_final_wr\n",
    "        dic_performance['acc_final_wr_persistence'] = acc_final_wr_persistence\n",
    "\n",
    "        np.save(f'dics_performance/dic_{name_var}_{week_out_str}.npy',dic_performance)"
   ]
  },
  {
   "cell_type": "code",
   "execution_count": 7,
   "id": "8ea5bf47-9346-4493-94ca-dcafe0ac8541",
   "metadata": {
    "tags": []
   },
   "outputs": [
    {
     "name": "stdout",
     "output_type": "stream",
     "text": [
      "IT_SODA 0\n",
      "IT_SODA 1\n",
      "IT_SODA 2\n",
      "IT_SODA 3\n",
      "IT_SODA 4\n",
      "IT_SODA 5\n",
      "IT_SODA 6\n",
      "IT_SODA 7\n",
      "IT_SODA 8\n",
      "OHC100_SODA 0\n",
      "OHC100_SODA 1\n",
      "OHC100_SODA 2\n",
      "OHC100_SODA 3\n",
      "OHC100_SODA 4\n",
      "OHC100_SODA 5\n",
      "OHC100_SODA 6\n",
      "OHC100_SODA 7\n",
      "OHC100_SODA 8\n",
      "SD_ERA5 0\n",
      "SD_ERA5 1\n",
      "SD_ERA5 2\n",
      "SD_ERA5 3\n",
      "SD_ERA5 4\n",
      "SD_ERA5 5\n",
      "SD_ERA5 6\n",
      "SD_ERA5 7\n",
      "SD_ERA5 8\n",
      "STL_full_ERA5 0\n",
      "STL_full_ERA5 1\n",
      "STL_full_ERA5 2\n",
      "STL_full_ERA5 3\n",
      "STL_full_ERA5 4\n",
      "STL_full_ERA5 5\n",
      "STL_full_ERA5 6\n",
      "STL_full_ERA5 7\n",
      "STL_full_ERA5 8\n",
      "SWVL_full_ERA5 0\n",
      "SWVL_full_ERA5 1\n",
      "SWVL_full_ERA5 2\n",
      "SWVL_full_ERA5 3\n",
      "SWVL_full_ERA5 4\n",
      "SWVL_full_ERA5 5\n",
      "SWVL_full_ERA5 6\n",
      "SWVL_full_ERA5 7\n",
      "SWVL_full_ERA5 8\n",
      "Z500_ERA5 0\n",
      "Z500_ERA5 1\n",
      "Z500_ERA5 2\n",
      "Z500_ERA5 3\n",
      "Z500_ERA5 4\n",
      "Z500_ERA5 5\n",
      "Z500_ERA5 6\n",
      "Z500_ERA5 7\n",
      "Z500_ERA5 8\n",
      "MLD_SODA 0\n",
      "MLD_SODA 1\n",
      "MLD_SODA 2\n",
      "MLD_SODA 3\n",
      "MLD_SODA 4\n",
      "MLD_SODA 5\n",
      "MLD_SODA 6\n",
      "MLD_SODA 7\n",
      "MLD_SODA 8\n",
      "OLR_ERA5 0\n",
      "OLR_ERA5 1\n",
      "OLR_ERA5 2\n",
      "OLR_ERA5 3\n",
      "OLR_ERA5 4\n",
      "OLR_ERA5 5\n",
      "OLR_ERA5 6\n",
      "OLR_ERA5 7\n",
      "OLR_ERA5 8\n",
      "SST_SODA 0\n",
      "SST_SODA 1\n",
      "SST_SODA 2\n",
      "SST_SODA 3\n",
      "SST_SODA 4\n",
      "SST_SODA 5\n",
      "SST_SODA 6\n",
      "SST_SODA 7\n",
      "SST_SODA 8\n",
      "SWVL_28cm_ERA5 0\n",
      "SWVL_28cm_ERA5 1\n",
      "SWVL_28cm_ERA5 2\n",
      "SWVL_28cm_ERA5 3\n",
      "SWVL_28cm_ERA5 4\n",
      "SWVL_28cm_ERA5 5\n",
      "SWVL_28cm_ERA5 6\n",
      "SWVL_28cm_ERA5 7\n",
      "SWVL_28cm_ERA5 8\n",
      "U200_ERA5 0\n",
      "U200_ERA5 1\n",
      "U200_ERA5 2\n",
      "U200_ERA5 3\n",
      "U200_ERA5 4\n",
      "U200_ERA5 5\n",
      "U200_ERA5 6\n",
      "U200_ERA5 7\n",
      "U200_ERA5 8\n"
     ]
    },
    {
     "ename": "OSError",
     "evalue": "Unable to open file (unable to open file: name = '/glade/work/jhayron/Data4Predictability/models/CNN_Aug21_2023/v0/U200_ERA5/model_week8_v0.h5', errno = 2, error message = 'No such file or directory', flags = 0, o_flags = 0)",
     "output_type": "error",
     "traceback": [
      "\u001b[0;31m---------------------------------------------------------------------------\u001b[0m",
      "\u001b[0;31mOSError\u001b[0m                                   Traceback (most recent call last)",
      "Cell \u001b[0;32mIn[7], line 37\u001b[0m\n\u001b[1;32m     32\u001b[0m model\u001b[38;5;241m.\u001b[39mcompile(loss\u001b[38;5;241m=\u001b[39mkeras\u001b[38;5;241m.\u001b[39mlosses\u001b[38;5;241m.\u001b[39mcategorical_crossentropy, \n\u001b[1;32m     33\u001b[0m                       optimizer\u001b[38;5;241m=\u001b[39mkeras\u001b[38;5;241m.\u001b[39moptimizers\u001b[38;5;241m.\u001b[39mAdam(lr\u001b[38;5;241m=\u001b[39mdict_params[\u001b[38;5;124m'\u001b[39m\u001b[38;5;124mlr\u001b[39m\u001b[38;5;124m'\u001b[39m]),\n\u001b[1;32m     34\u001b[0m                       metrics\u001b[38;5;241m=\u001b[39m[balanced_accuracy,\u001b[38;5;124m'\u001b[39m\u001b[38;5;124maccuracy\u001b[39m\u001b[38;5;124m'\u001b[39m]) \n\u001b[1;32m     35\u001b[0m filepath \u001b[38;5;241m=\u001b[39m \u001b[38;5;124mf\u001b[39m\u001b[38;5;124m'\u001b[39m\u001b[38;5;132;01m{\u001b[39;00mpath_models\u001b[38;5;132;01m}\u001b[39;00m\u001b[38;5;132;01m{\u001b[39;00mname_var\u001b[38;5;132;01m}\u001b[39;00m\u001b[38;5;124m/model_\u001b[39m\u001b[38;5;132;01m{\u001b[39;00mweek_out_str\u001b[38;5;132;01m}\u001b[39;00m\u001b[38;5;124m_v0.h5\u001b[39m\u001b[38;5;124m'\u001b[39m\n\u001b[0;32m---> 37\u001b[0m \u001b[43mmodel\u001b[49m\u001b[38;5;241;43m.\u001b[39;49m\u001b[43mload_weights\u001b[49m\u001b[43m(\u001b[49m\u001b[43mfilepath\u001b[49m\u001b[43m)\u001b[49m\n\u001b[1;32m     39\u001b[0m predictions_prob \u001b[38;5;241m=\u001b[39m model\u001b[38;5;241m.\u001b[39mpredict(test_joint_dataset[\u001b[38;5;241m0\u001b[39m])\n\u001b[1;32m     40\u001b[0m predictions \u001b[38;5;241m=\u001b[39m predictions_prob\u001b[38;5;241m.\u001b[39margmax(axis\u001b[38;5;241m=\u001b[39m\u001b[38;5;241m1\u001b[39m)\n",
      "File \u001b[0;32m/glade/work/jhayron/conda-envs/cnn_wr/lib/python3.9/site-packages/tensorflow/python/keras/engine/training.py:2227\u001b[0m, in \u001b[0;36mModel.load_weights\u001b[0;34m(self, filepath, by_name, skip_mismatch, options)\u001b[0m\n\u001b[1;32m   2222\u001b[0m   \u001b[38;5;28;01mraise\u001b[39;00m \u001b[38;5;167;01mValueError\u001b[39;00m(\n\u001b[1;32m   2223\u001b[0m       \u001b[38;5;124m'\u001b[39m\u001b[38;5;124mUnable to load weights saved in HDF5 format into a subclassed \u001b[39m\u001b[38;5;124m'\u001b[39m\n\u001b[1;32m   2224\u001b[0m       \u001b[38;5;124m'\u001b[39m\u001b[38;5;124mModel which has not created its variables yet. Call the Model \u001b[39m\u001b[38;5;124m'\u001b[39m\n\u001b[1;32m   2225\u001b[0m       \u001b[38;5;124m'\u001b[39m\u001b[38;5;124mfirst, then load the weights.\u001b[39m\u001b[38;5;124m'\u001b[39m)\n\u001b[1;32m   2226\u001b[0m \u001b[38;5;28mself\u001b[39m\u001b[38;5;241m.\u001b[39m_assert_weights_created()\n\u001b[0;32m-> 2227\u001b[0m \u001b[38;5;28;01mwith\u001b[39;00m \u001b[43mh5py\u001b[49m\u001b[38;5;241;43m.\u001b[39;49m\u001b[43mFile\u001b[49m\u001b[43m(\u001b[49m\u001b[43mfilepath\u001b[49m\u001b[43m,\u001b[49m\u001b[43m \u001b[49m\u001b[38;5;124;43m'\u001b[39;49m\u001b[38;5;124;43mr\u001b[39;49m\u001b[38;5;124;43m'\u001b[39;49m\u001b[43m)\u001b[49m \u001b[38;5;28;01mas\u001b[39;00m f:\n\u001b[1;32m   2228\u001b[0m   \u001b[38;5;28;01mif\u001b[39;00m \u001b[38;5;124m'\u001b[39m\u001b[38;5;124mlayer_names\u001b[39m\u001b[38;5;124m'\u001b[39m \u001b[38;5;129;01mnot\u001b[39;00m \u001b[38;5;129;01min\u001b[39;00m f\u001b[38;5;241m.\u001b[39mattrs \u001b[38;5;129;01mand\u001b[39;00m \u001b[38;5;124m'\u001b[39m\u001b[38;5;124mmodel_weights\u001b[39m\u001b[38;5;124m'\u001b[39m \u001b[38;5;129;01min\u001b[39;00m f:\n\u001b[1;32m   2229\u001b[0m     f \u001b[38;5;241m=\u001b[39m f[\u001b[38;5;124m'\u001b[39m\u001b[38;5;124mmodel_weights\u001b[39m\u001b[38;5;124m'\u001b[39m]\n",
      "File \u001b[0;32m/glade/work/jhayron/conda-envs/cnn_wr/lib/python3.9/site-packages/h5py/_hl/files.py:406\u001b[0m, in \u001b[0;36mFile.__init__\u001b[0;34m(self, name, mode, driver, libver, userblock_size, swmr, rdcc_nslots, rdcc_nbytes, rdcc_w0, track_order, **kwds)\u001b[0m\n\u001b[1;32m    404\u001b[0m \u001b[38;5;28;01mwith\u001b[39;00m phil:\n\u001b[1;32m    405\u001b[0m     fapl \u001b[38;5;241m=\u001b[39m make_fapl(driver, libver, rdcc_nslots, rdcc_nbytes, rdcc_w0, \u001b[38;5;241m*\u001b[39m\u001b[38;5;241m*\u001b[39mkwds)\n\u001b[0;32m--> 406\u001b[0m     fid \u001b[38;5;241m=\u001b[39m \u001b[43mmake_fid\u001b[49m\u001b[43m(\u001b[49m\u001b[43mname\u001b[49m\u001b[43m,\u001b[49m\u001b[43m \u001b[49m\u001b[43mmode\u001b[49m\u001b[43m,\u001b[49m\u001b[43m \u001b[49m\u001b[43muserblock_size\u001b[49m\u001b[43m,\u001b[49m\n\u001b[1;32m    407\u001b[0m \u001b[43m                   \u001b[49m\u001b[43mfapl\u001b[49m\u001b[43m,\u001b[49m\u001b[43m \u001b[49m\u001b[43mfcpl\u001b[49m\u001b[38;5;241;43m=\u001b[39;49m\u001b[43mmake_fcpl\u001b[49m\u001b[43m(\u001b[49m\u001b[43mtrack_order\u001b[49m\u001b[38;5;241;43m=\u001b[39;49m\u001b[43mtrack_order\u001b[49m\u001b[43m)\u001b[49m\u001b[43m,\u001b[49m\n\u001b[1;32m    408\u001b[0m \u001b[43m                   \u001b[49m\u001b[43mswmr\u001b[49m\u001b[38;5;241;43m=\u001b[39;49m\u001b[43mswmr\u001b[49m\u001b[43m)\u001b[49m\n\u001b[1;32m    410\u001b[0m \u001b[38;5;28;01mif\u001b[39;00m \u001b[38;5;28misinstance\u001b[39m(libver, \u001b[38;5;28mtuple\u001b[39m):\n\u001b[1;32m    411\u001b[0m     \u001b[38;5;28mself\u001b[39m\u001b[38;5;241m.\u001b[39m_libver \u001b[38;5;241m=\u001b[39m libver\n",
      "File \u001b[0;32m/glade/work/jhayron/conda-envs/cnn_wr/lib/python3.9/site-packages/h5py/_hl/files.py:173\u001b[0m, in \u001b[0;36mmake_fid\u001b[0;34m(name, mode, userblock_size, fapl, fcpl, swmr)\u001b[0m\n\u001b[1;32m    171\u001b[0m     \u001b[38;5;28;01mif\u001b[39;00m swmr \u001b[38;5;129;01mand\u001b[39;00m swmr_support:\n\u001b[1;32m    172\u001b[0m         flags \u001b[38;5;241m|\u001b[39m\u001b[38;5;241m=\u001b[39m h5f\u001b[38;5;241m.\u001b[39mACC_SWMR_READ\n\u001b[0;32m--> 173\u001b[0m     fid \u001b[38;5;241m=\u001b[39m \u001b[43mh5f\u001b[49m\u001b[38;5;241;43m.\u001b[39;49m\u001b[43mopen\u001b[49m\u001b[43m(\u001b[49m\u001b[43mname\u001b[49m\u001b[43m,\u001b[49m\u001b[43m \u001b[49m\u001b[43mflags\u001b[49m\u001b[43m,\u001b[49m\u001b[43m \u001b[49m\u001b[43mfapl\u001b[49m\u001b[38;5;241;43m=\u001b[39;49m\u001b[43mfapl\u001b[49m\u001b[43m)\u001b[49m\n\u001b[1;32m    174\u001b[0m \u001b[38;5;28;01melif\u001b[39;00m mode \u001b[38;5;241m==\u001b[39m \u001b[38;5;124m'\u001b[39m\u001b[38;5;124mr+\u001b[39m\u001b[38;5;124m'\u001b[39m:\n\u001b[1;32m    175\u001b[0m     fid \u001b[38;5;241m=\u001b[39m h5f\u001b[38;5;241m.\u001b[39mopen(name, h5f\u001b[38;5;241m.\u001b[39mACC_RDWR, fapl\u001b[38;5;241m=\u001b[39mfapl)\n",
      "File \u001b[0;32mh5py/_objects.pyx:54\u001b[0m, in \u001b[0;36mh5py._objects.with_phil.wrapper\u001b[0;34m()\u001b[0m\n",
      "File \u001b[0;32mh5py/_objects.pyx:55\u001b[0m, in \u001b[0;36mh5py._objects.with_phil.wrapper\u001b[0;34m()\u001b[0m\n",
      "File \u001b[0;32mh5py/h5f.pyx:88\u001b[0m, in \u001b[0;36mh5py.h5f.open\u001b[0;34m()\u001b[0m\n",
      "\u001b[0;31mOSError\u001b[0m: Unable to open file (unable to open file: name = '/glade/work/jhayron/Data4Predictability/models/CNN_Aug21_2023/v0/U200_ERA5/model_week8_v0.h5', errno = 2, error message = 'No such file or directory', flags = 0, o_flags = 0)"
     ]
    }
   ],
   "source": [
    "for name_var in ['IT_SODA', 'OHC100_SODA', 'SD_ERA5', 'STL_full_ERA5', 'SWVL_full_ERA5', 'Z500_ERA5',\n",
    "                 'MLD_SODA', 'OLR_ERA5', 'SST_SODA', 'SWVL_28cm_ERA5', 'U200_ERA5']:\n",
    "    path_models = '/glade/work/jhayron/Data4Predictability/models/CNN_Aug21_2023/v0/'\n",
    "    path_weekly_anoms = '/glade/scratch/jhayron/Data4Predictability/WeeklyAnoms_DetrendedStd/'\n",
    "    # path_weekly_anoms = '/glade/scratch/jhayron/Data4Predictability/WeeklyAnoms_Std_withTrends/'\n",
    "    input_anoms = xr.open_dataset(f'{path_weekly_anoms}{name_var}.nc')\n",
    "\n",
    "    wr_series = pd.read_csv('/glade/work/jhayron/Data4Predictability/WR_Series_20230815_v2.csv',\\\n",
    "                    index_col=0,names=['week0'],skiprows=1,parse_dates=True)\n",
    "    for wk in range(2,10):\n",
    "        series_temp = copy.deepcopy(wr_series[\"week0\"])\n",
    "        series_temp.index = series_temp.index - timedelta(weeks = wk-1)\n",
    "        series_temp.name = f'week{wk-1}'\n",
    "        if wk==2:\n",
    "            df_shifts = pd.concat([pd.DataFrame(wr_series[\"week0\"]),pd.DataFrame(series_temp)],\n",
    "                                  axis=1)  \n",
    "        else:\n",
    "            df_shifts = pd.concat([df_shifts,pd.DataFrame(series_temp)],axis=1)\n",
    "            \n",
    "    for week_out in [0,1,2,3,4,5,6,7,8]:\n",
    "        print(name_var,week_out)\n",
    "        var_name = list(input_anoms.data_vars.keys())[0]\n",
    "        week_out_str = f'week{week_out}'\n",
    "\n",
    "        train_joint_dataset, val_joint_dataset, test_joint_dataset, _, _, test_index = \\\n",
    "            create_datasets(input_anoms, var_name, df_shifts, week_out)\n",
    "\n",
    "        model = build_inception_model(dict_params['type_pooling'],\n",
    "                                 dict_params['do'],\n",
    "                                 dict_params['md'],\n",
    "                                 dict_params['activation'])\n",
    "        model.compile(loss=keras.losses.categorical_crossentropy, \n",
    "                              optimizer=keras.optimizers.Adam(lr=dict_params['lr']),\n",
    "                              metrics=[balanced_accuracy,'accuracy']) \n",
    "        filepath = f'{path_models}{name_var}/model_{week_out_str}_v0.h5'\n",
    "\n",
    "        model.load_weights(filepath)\n",
    "\n",
    "        predictions_prob = model.predict(test_joint_dataset[0])\n",
    "        predictions = predictions_prob.argmax(axis=1)\n",
    "        wr_temp = test_joint_dataset[1].argmax(1)\n",
    "\n",
    "        df_results = pd.DataFrame(np.array([predictions,wr_temp]).T,\n",
    "                                  index=pd.to_datetime(test_index),\n",
    "                                  columns=['forecast','true'])\n",
    "        df_results['month'] = df_results.index.month\n",
    "        df_results['initial_wr'] = df_shifts.week0.loc[df_results.index].astype(int)\n",
    "\n",
    "        acc = balanced_accuracy_score(df_results['true'],df_results['forecast'])\n",
    "        acc_persistence = balanced_accuracy_score(df_results['true'],df_results['initial_wr'])\n",
    "        \n",
    "        acc_months = []\n",
    "        acc_months_persistence = []\n",
    "        # for month in [2,5,8,11]:\n",
    "        for month in range(1,13):\n",
    "            # df_temp = df_results[(df_results['month']<=month+1)&(df_results['month']>=month-1)]\n",
    "            df_temp = df_results[df_results['month']==month]\n",
    "            acc_months.append(balanced_accuracy_score(df_temp['true'],df_temp['forecast']))\n",
    "            acc_months_persistence.append(balanced_accuracy_score(df_temp['true'],df_temp['initial_wr']))\n",
    "\n",
    "        acc_init_wr = []\n",
    "        acc_init_wr_persistence = []\n",
    "        for wr in range(0,5):\n",
    "            df_temp = df_results[df_results['initial_wr']==wr]\n",
    "            acc_init_wr.append(balanced_accuracy_score(df_temp['true'],df_temp['forecast']))\n",
    "            acc_init_wr_persistence.append(balanced_accuracy_score(df_temp['true'],df_temp['initial_wr']))\n",
    "\n",
    "        acc_final_wr = []\n",
    "        acc_final_wr_persistence = []\n",
    "        for wr in range(0,5):\n",
    "            df_temp = df_results[df_results['true']==wr]\n",
    "            acc_final_wr.append(balanced_accuracy_score(df_temp['true'],df_temp['forecast']))\n",
    "            acc_final_wr_persistence.append(balanced_accuracy_score(df_temp['true'],df_temp['initial_wr']))\n",
    "\n",
    "        dic_performance={}\n",
    "        dic_performance['acc'] = acc\n",
    "        dic_performance['acc_persistence'] = acc_persistence\n",
    "        dic_performance['acc_months'] = acc_months\n",
    "        dic_performance['acc_months_persistence'] = acc_months_persistence\n",
    "        \n",
    "        dic_performance['acc_init_wr'] = acc_init_wr\n",
    "        dic_performance['acc_init_wr_persistence'] = acc_init_wr_persistence\n",
    "        \n",
    "        dic_performance['acc_final_wr'] = acc_final_wr\n",
    "        dic_performance['acc_final_wr_persistence'] = acc_final_wr_persistence\n",
    "\n",
    "        np.save(f'dics_performance_v2/dic_{name_var}_{week_out_str}.npy',dic_performance)"
   ]
  },
  {
   "cell_type": "markdown",
   "id": "43ca0a0b-711d-497e-866a-3ef2f58d4134",
   "metadata": {},
   "source": []
  },
  {
   "cell_type": "code",
   "execution_count": null,
   "id": "20711f5b-a117-4b50-89df-533375320f8c",
   "metadata": {},
   "outputs": [],
   "source": []
  },
  {
   "cell_type": "code",
   "execution_count": null,
   "id": "0a5a3ac3-5a2e-4787-a26e-4122108abd53",
   "metadata": {},
   "outputs": [],
   "source": []
  },
  {
   "cell_type": "code",
   "execution_count": null,
   "id": "8cfda61f-48d7-4ef3-9307-7babb2e9585d",
   "metadata": {},
   "outputs": [],
   "source": []
  },
  {
   "cell_type": "code",
   "execution_count": null,
   "id": "16437c9b-8651-4372-84e1-8f0d200585d3",
   "metadata": {},
   "outputs": [],
   "source": []
  },
  {
   "cell_type": "code",
   "execution_count": 191,
   "id": "b39662e1-26ed-4fd0-a490-a5d670d1c8bd",
   "metadata": {},
   "outputs": [
    {
     "data": {
      "text/plain": [
       "{'acc': 0.2250996015936255,\n",
       " 'acc_months': [0.20454545454545456,\n",
       "  0.24390243902439024,\n",
       "  0.36363636363636365,\n",
       "  0.3488372093023256,\n",
       "  0.20454545454545456,\n",
       "  0.046511627906976744,\n",
       "  0.13636363636363635,\n",
       "  0.28888888888888886,\n",
       "  0.21428571428571427,\n",
       "  0.20930232558139536,\n",
       "  0.2647058823529412,\n",
       "  0.17142857142857143],\n",
       " 'acc_init_wr': [0.2980769230769231,\n",
       "  0.14893617021276595,\n",
       "  0.2356687898089172,\n",
       "  0.20430107526881722,\n",
       "  0.2222222222222222],\n",
       " 'acc_final_wr': [0.05714285714285714,\n",
       "  0.0,\n",
       "  0.21710526315789475,\n",
       "  0.7628865979381443,\n",
       "  0.0]}"
      ]
     },
     "execution_count": 191,
     "metadata": {},
     "output_type": "execute_result"
    }
   ],
   "source": [
    "np.load(f'dics_performance/dic_{name_var}_{week_out_str}.npy',allow_pickle=True)[()]"
   ]
  },
  {
   "cell_type": "code",
   "execution_count": 179,
   "id": "b59195aa-d9bd-45fd-9254-79771747e326",
   "metadata": {},
   "outputs": [],
   "source": [
    "acc = accuracy_score(df_results['true'],df_results['forecast'])\n",
    "\n",
    "acc_months = []\n",
    "# for month in [2,5,8,11]:\n",
    "for month in range(1,13):\n",
    "    # df_temp = df_results[(df_results['month']<=month+1)&(df_results['month']>=month-1)]\n",
    "    df_temp = df_results[df_results['month']==month]\n",
    "    acc_months.append(accuracy_score(df_temp['true'],df_temp['forecast']))\n",
    "\n",
    "acc_init_wr = []\n",
    "for wr in range(0,5):\n",
    "    df_temp = df_results[df_results['initial_wr']==wr]\n",
    "    acc_init_wr.append(accuracy_score(df_temp['true'],df_temp['forecast']))\n",
    "    \n",
    "acc_final_wr = []\n",
    "for wr in range(0,5):\n",
    "    df_temp = df_results[df_results['true']==wr]\n",
    "    acc_final_wr.append(accuracy_score(df_temp['true'],df_temp['forecast']))"
   ]
  },
  {
   "cell_type": "code",
   "execution_count": 165,
   "id": "0f5147de-fdf9-4492-87bf-68297a2cbcea",
   "metadata": {},
   "outputs": [
    {
     "data": {
      "text/plain": [
       "[<matplotlib.lines.Line2D at 0x2b8c4bb9adc0>]"
      ]
     },
     "execution_count": 165,
     "metadata": {},
     "output_type": "execute_result"
    },
    {
     "data": {
      "image/png": "[encoded data removed]",
      "text/plain": [
       "<Figure size 640x480 with 1 Axes>"
      ]
     },
     "metadata": {},
     "output_type": "display_data"
    }
   ],
   "source": [
    "plt.plot(range(1,13),acc_months)"
   ]
  },
  {
   "cell_type": "code",
   "execution_count": 170,
   "id": "657c1db5-2410-4c3c-8ec5-8429db812a1c",
   "metadata": {},
   "outputs": [
    {
     "data": {
      "text/plain": [
       "[<matplotlib.lines.Line2D at 0x2b8c4d175970>]"
      ]
     },
     "execution_count": 170,
     "metadata": {},
     "output_type": "execute_result"
    },
    {
     "data": {
      "image/png": "[encoded data removed]",
      "text/plain": [
       "<Figure size 640x480 with 1 Axes>"
      ]
     },
     "metadata": {},
     "output_type": "display_data"
    }
   ],
   "source": [
    "plt.plot(acc_init_wr)"
   ]
  },
  {
   "cell_type": "code",
   "execution_count": 180,
   "id": "72372596-7816-456a-98c2-b5ca7a9f926d",
   "metadata": {},
   "outputs": [
    {
     "data": {
      "text/plain": [
       "[<matplotlib.lines.Line2D at 0x2b8c73144c10>]"
      ]
     },
     "execution_count": 180,
     "metadata": {},
     "output_type": "execute_result"
    },
    {
     "data": {
      "image/png": "[encoded data removed]",
      "text/plain": [
       "<Figure size 640x480 with 1 Axes>"
      ]
     },
     "metadata": {},
     "output_type": "display_data"
    }
   ],
   "source": [
    "plt.plot(acc_final_wr)"
   ]
  },
  {
   "cell_type": "code",
   "execution_count": 159,
   "id": "3a59b517-50c0-4cad-9a0e-7086c223a357",
   "metadata": {},
   "outputs": [
    {
     "data": {
      "text/plain": [
       "[<matplotlib.lines.Line2D at 0x2b8c4f92e310>]"
      ]
     },
     "execution_count": 159,
     "metadata": {},
     "output_type": "execute_result"
    },
    {
     "data": {
      "image/png": "[encoded data removed]",
      "text/plain": [
       "<Figure size 640x480 with 1 Axes>"
      ]
     },
     "metadata": {},
     "output_type": "display_data"
    }
   ],
   "source": [
    "plt.plot(['Winter','Spring','Summer','Fall'],bal_acc_months)\n",
    "# plt.plot(['Winter','Spring','Summer','Fall'],acc_months)"
   ]
  },
  {
   "cell_type": "code",
   "execution_count": 118,
   "id": "6c6cc243-6d98-4826-8fc2-1acc116bfd85",
   "metadata": {},
   "outputs": [
    {
     "data": {
      "text/plain": [
       "[0.16]"
      ]
     },
     "execution_count": 118,
     "metadata": {},
     "output_type": "execute_result"
    }
   ],
   "source": [
    "bal_acc_months"
   ]
  },
  {
   "cell_type": "code",
   "execution_count": 102,
   "id": "5df2145e-83a7-4a60-9103-15235e8d44a2",
   "metadata": {},
   "outputs": [
    {
     "data": {
      "text/plain": [
       "[0.7954545454545454,\n",
       " 0.7073170731707317,\n",
       " 0.75,\n",
       " 0.7209302325581395,\n",
       " 0.8863636363636364,\n",
       " 0.7906976744186046,\n",
       " 0.75,\n",
       " 0.8222222222222222,\n",
       " 0.7619047619047619,\n",
       " 0.7555555555555555,\n",
       " 0.8809523809523809,\n",
       " 0.7428571428571429]"
      ]
     },
     "execution_count": 102,
     "metadata": {},
     "output_type": "execute_result"
    }
   ],
   "source": [
    "acc_months"
   ]
  },
  {
   "cell_type": "code",
   "execution_count": 60,
   "id": "5336e327-cdd8-48ba-bfbf-9a80c44e5e2e",
   "metadata": {},
   "outputs": [],
   "source": []
  },
  {
   "cell_type": "code",
   "execution_count": 61,
   "id": "8b311d5c-2eae-4488-910a-e3845998e27f",
   "metadata": {},
   "outputs": [
    {
     "data": {
      "text/html": [
       "<div>\n",
       "<style scoped>\n",
       "    .dataframe tbody tr th:only-of-type {\n",
       "        vertical-align: middle;\n",
       "    }\n",
       "\n",
       "    .dataframe tbody tr th {\n",
       "        vertical-align: top;\n",
       "    }\n",
       "\n",
       "    .dataframe thead th {\n",
       "        text-align: right;\n",
       "    }\n",
       "</style>\n",
       "<table border=\"1\" class=\"dataframe\">\n",
       "  <thead>\n",
       "    <tr style=\"text-align: right;\">\n",
       "      <th></th>\n",
       "      <th>0</th>\n",
       "      <th>1</th>\n",
       "      <th>month</th>\n",
       "      <th>initial_wr</th>\n",
       "    </tr>\n",
       "  </thead>\n",
       "  <tbody>\n",
       "    <tr>\n",
       "      <th>2016-01-04</th>\n",
       "      <td>2</td>\n",
       "      <td>2</td>\n",
       "      <td>1</td>\n",
       "      <td>2</td>\n",
       "    </tr>\n",
       "    <tr>\n",
       "      <th>2016-01-07</th>\n",
       "      <td>1</td>\n",
       "      <td>2</td>\n",
       "      <td>1</td>\n",
       "      <td>2</td>\n",
       "    </tr>\n",
       "    <tr>\n",
       "      <th>2016-01-11</th>\n",
       "      <td>1</td>\n",
       "      <td>1</td>\n",
       "      <td>1</td>\n",
       "      <td>1</td>\n",
       "    </tr>\n",
       "    <tr>\n",
       "      <th>2016-01-14</th>\n",
       "      <td>1</td>\n",
       "      <td>2</td>\n",
       "      <td>1</td>\n",
       "      <td>2</td>\n",
       "    </tr>\n",
       "    <tr>\n",
       "      <th>2016-01-18</th>\n",
       "      <td>2</td>\n",
       "      <td>2</td>\n",
       "      <td>1</td>\n",
       "      <td>2</td>\n",
       "    </tr>\n",
       "    <tr>\n",
       "      <th>...</th>\n",
       "      <td>...</td>\n",
       "      <td>...</td>\n",
       "      <td>...</td>\n",
       "      <td>...</td>\n",
       "    </tr>\n",
       "    <tr>\n",
       "      <th>2020-11-12</th>\n",
       "      <td>1</td>\n",
       "      <td>1</td>\n",
       "      <td>11</td>\n",
       "      <td>1</td>\n",
       "    </tr>\n",
       "    <tr>\n",
       "      <th>2020-11-16</th>\n",
       "      <td>2</td>\n",
       "      <td>2</td>\n",
       "      <td>11</td>\n",
       "      <td>2</td>\n",
       "    </tr>\n",
       "    <tr>\n",
       "      <th>2020-11-19</th>\n",
       "      <td>3</td>\n",
       "      <td>3</td>\n",
       "      <td>11</td>\n",
       "      <td>3</td>\n",
       "    </tr>\n",
       "    <tr>\n",
       "      <th>2020-11-23</th>\n",
       "      <td>3</td>\n",
       "      <td>3</td>\n",
       "      <td>11</td>\n",
       "      <td>3</td>\n",
       "    </tr>\n",
       "    <tr>\n",
       "      <th>2020-11-26</th>\n",
       "      <td>3</td>\n",
       "      <td>3</td>\n",
       "      <td>11</td>\n",
       "      <td>3</td>\n",
       "    </tr>\n",
       "  </tbody>\n",
       "</table>\n",
       "<p>512 rows × 4 columns</p>\n",
       "</div>"
      ],
      "text/plain": [
       "            0  1  month  initial_wr\n",
       "2016-01-04  2  2      1           2\n",
       "2016-01-07  1  2      1           2\n",
       "2016-01-11  1  1      1           1\n",
       "2016-01-14  1  2      1           2\n",
       "2016-01-18  2  2      1           2\n",
       "...        .. ..    ...         ...\n",
       "2020-11-12  1  1     11           1\n",
       "2020-11-16  2  2     11           2\n",
       "2020-11-19  3  3     11           3\n",
       "2020-11-23  3  3     11           3\n",
       "2020-11-26  3  3     11           3\n",
       "\n",
       "[512 rows x 4 columns]"
      ]
     },
     "execution_count": 61,
     "metadata": {},
     "output_type": "execute_result"
    }
   ],
   "source": [
    "df_results"
   ]
  },
  {
   "cell_type": "code",
   "execution_count": 56,
   "id": "523207f0-4c69-430a-82d1-e72fffe6524d",
   "metadata": {},
   "outputs": [
    {
     "data": {
      "text/plain": [
       "2016-01-04    2.0\n",
       "2016-01-07    2.0\n",
       "2016-01-11    1.0\n",
       "2016-01-14    2.0\n",
       "2016-01-18    2.0\n",
       "             ... \n",
       "2020-11-12    1.0\n",
       "2020-11-16    2.0\n",
       "2020-11-19    3.0\n",
       "2020-11-23    3.0\n",
       "2020-11-26    3.0\n",
       "Name: week0, Length: 512, dtype: float64"
      ]
     },
     "execution_count": 56,
     "metadata": {},
     "output_type": "execute_result"
    }
   ],
   "source": []
  },
  {
   "cell_type": "code",
   "execution_count": 41,
   "id": "db94f03b-2e71-49ee-8a85-ba734097d582",
   "metadata": {},
   "outputs": [
    {
     "data": {
      "text/plain": [
       "array([2, 1, 1, 1, 2, 2, 2, 1, 2, 2, 2, 2, 3, 2, 2, 2, 3, 3, 1, 1, 0, 2,\n",
       "       2, 2, 2, 2, 2, 2, 3, 3, 3, 3, 2, 2, 2, 3, 0, 0, 2, 3, 0, 0, 4, 0,\n",
       "       2, 0, 0, 0, 3, 0, 4, 1, 1, 0, 0, 0, 0, 2, 0, 0, 3, 3, 4, 1, 0, 0,\n",
       "       0, 0, 0, 0, 0, 2, 4, 1, 4, 0, 0, 2, 2, 2, 1, 1, 0, 4, 3, 3, 3, 3,\n",
       "       3, 3, 3, 3, 3, 1, 1, 0, 0, 0, 2, 1, 1, 1, 0, 0, 0, 0, 3, 3, 1, 1,\n",
       "       1, 2, 0, 0, 0, 3, 3, 3, 1, 0, 0, 0, 0, 0, 0, 0, 0, 0, 3, 3, 2, 3,\n",
       "       0, 0, 0, 3, 1, 2, 2, 4, 1, 1, 3, 2, 1, 1, 1, 2, 2, 2, 1, 1, 0, 1,\n",
       "       1, 3, 3, 3, 0, 2, 0, 0, 2, 2, 0, 0, 1, 1, 1, 1, 1, 3, 1, 1, 3, 3,\n",
       "       3, 1, 0, 2, 0, 3, 2, 2, 2, 2, 1, 2, 2, 0, 0, 0, 0, 0, 0, 0, 2, 3,\n",
       "       3, 3, 2, 2, 3, 2, 2, 2, 2, 2, 3, 2, 2, 3, 2, 0, 0, 0, 0, 0, 0, 2,\n",
       "       2, 2, 0, 0, 0, 0, 2, 2, 2, 0, 3, 0, 0, 0, 2, 2, 1, 1, 2, 2, 2, 3,\n",
       "       2, 2, 2, 2, 2, 2, 3, 3, 3, 3, 0, 0, 0, 3, 3, 1, 3, 3, 0, 3, 3, 3,\n",
       "       0, 0, 2, 2, 2, 2, 2, 3, 2, 2, 3, 1, 0, 0, 0, 0, 0, 0, 0, 0, 0, 3,\n",
       "       3, 2, 2, 2, 3, 3, 3, 0, 0, 0, 2, 2, 2, 2, 2, 1, 1, 4, 3, 1, 2, 2,\n",
       "       3, 3, 3, 3, 3, 3, 3, 3, 3, 3, 2, 2, 2, 2, 0, 0, 1, 2, 2, 2, 2, 2,\n",
       "       1, 1, 3, 3, 3, 3, 0, 0, 2, 2, 1, 1, 2, 2, 2, 2, 2, 2, 2, 2, 1, 2,\n",
       "       2, 2, 2, 4, 0, 0, 4, 4, 0, 0, 0, 0, 0, 0, 2, 2, 0, 2, 2, 2, 0, 0,\n",
       "       0, 0, 0, 0, 0, 0, 2, 2, 3, 3, 3, 3, 3, 2, 0, 2, 2, 2, 0, 1, 1, 1,\n",
       "       2, 0, 0, 0, 2, 2, 2, 3, 3, 3, 3, 3, 2, 2, 2, 2, 2, 2, 4, 1, 1, 1,\n",
       "       1, 0, 1, 3, 3, 1, 1, 1, 2, 2, 2, 2, 3, 3, 1, 1, 1, 4, 0, 0, 0, 0,\n",
       "       0, 0, 0, 0, 0, 0, 0, 0, 0, 2, 1, 1, 2, 2, 2, 2, 2, 1, 3, 3, 3, 3,\n",
       "       3, 3, 1, 1, 1, 3, 3, 3, 0, 1, 1, 3, 4, 1, 1, 1, 1, 1, 1, 2, 2, 2,\n",
       "       1, 1, 1, 3, 0, 0, 3, 3, 1, 1, 3, 2, 2, 0, 0, 0, 0, 0, 0, 0, 0, 4,\n",
       "       1, 1, 2, 3, 3, 3])"
      ]
     },
     "execution_count": 41,
     "metadata": {},
     "output_type": "execute_result"
    }
   ],
   "source": [
    "predictions"
   ]
  },
  {
   "cell_type": "code",
   "execution_count": 44,
   "id": "b790d7a8-7d0f-4d1e-943a-2e7691e3093d",
   "metadata": {},
   "outputs": [
    {
     "data": {
      "text/plain": [
       "array([2, 2, 1, 2, 2, 2, 1, 1, 2, 2, 2, 2, 2, 2, 2, 2, 4, 4, 1, 1, 2, 2,\n",
       "       2, 2, 2, 2, 2, 2, 3, 3, 3, 3, 2, 2, 2, 3, 2, 2, 2, 3, 0, 0, 4, 0,\n",
       "       4, 0, 0, 3, 3, 3, 4, 1, 1, 4, 0, 0, 2, 2, 0, 0, 4, 4, 1, 1, 0, 0,\n",
       "       0, 0, 0, 1, 0, 2, 4, 1, 4, 0, 2, 2, 2, 2, 4, 1, 0, 4, 3, 3, 3, 3,\n",
       "       3, 3, 3, 3, 3, 1, 1, 0, 0, 0, 1, 1, 1, 1, 3, 0, 0, 0, 3, 3, 1, 1,\n",
       "       1, 2, 0, 0, 0, 3, 3, 3, 0, 0, 0, 0, 0, 0, 0, 0, 0, 0, 4, 1, 4, 4,\n",
       "       3, 3, 3, 4, 1, 2, 2, 4, 1, 1, 4, 2, 2, 1, 1, 2, 2, 2, 1, 1, 4, 1,\n",
       "       1, 1, 4, 4, 4, 4, 0, 0, 2, 2, 4, 4, 1, 1, 1, 1, 1, 1, 1, 1, 3, 3,\n",
       "       4, 1, 0, 2, 0, 3, 3, 2, 2, 2, 1, 2, 3, 3, 0, 0, 0, 0, 0, 0, 2, 3,\n",
       "       3, 3, 2, 2, 3, 3, 2, 2, 2, 2, 3, 2, 2, 2, 4, 4, 0, 0, 0, 0, 3, 2,\n",
       "       2, 2, 2, 0, 0, 4, 2, 2, 3, 4, 4, 4, 0, 0, 2, 2, 2, 2, 2, 2, 3, 3,\n",
       "       2, 2, 2, 2, 2, 2, 3, 3, 3, 3, 0, 0, 0, 4, 3, 3, 3, 3, 0, 3, 3, 3,\n",
       "       0, 0, 2, 2, 2, 2, 2, 2, 2, 2, 3, 4, 0, 0, 0, 0, 0, 2, 0, 0, 3, 3,\n",
       "       3, 2, 2, 2, 3, 3, 3, 4, 1, 2, 2, 2, 2, 2, 2, 1, 1, 4, 2, 1, 1, 2,\n",
       "       4, 4, 3, 3, 3, 3, 3, 3, 3, 3, 2, 2, 2, 4, 4, 4, 1, 4, 2, 2, 2, 2,\n",
       "       1, 1, 1, 3, 3, 3, 0, 0, 2, 2, 2, 1, 1, 2, 2, 2, 2, 2, 2, 2, 1, 2,\n",
       "       2, 2, 2, 4, 0, 0, 2, 0, 0, 0, 0, 0, 0, 0, 2, 2, 0, 2, 2, 2, 2, 0,\n",
       "       0, 0, 0, 0, 1, 0, 2, 2, 3, 3, 3, 3, 3, 4, 2, 2, 2, 0, 0, 1, 1, 1,\n",
       "       2, 2, 0, 0, 2, 2, 2, 2, 4, 4, 3, 3, 2, 2, 2, 2, 2, 4, 1, 1, 1, 1,\n",
       "       1, 1, 1, 3, 4, 1, 1, 1, 1, 2, 1, 2, 1, 1, 1, 1, 1, 4, 0, 0, 0, 0,\n",
       "       0, 3, 0, 0, 0, 0, 0, 0, 2, 2, 1, 1, 4, 2, 2, 2, 2, 1, 3, 3, 3, 3,\n",
       "       3, 3, 1, 1, 1, 3, 3, 3, 4, 1, 4, 4, 4, 1, 1, 1, 1, 1, 1, 2, 2, 2,\n",
       "       1, 1, 1, 3, 0, 2, 3, 1, 1, 1, 2, 2, 2, 0, 0, 3, 0, 2, 2, 0, 3, 4,\n",
       "       1, 1, 2, 3, 3, 3])"
      ]
     },
     "execution_count": 44,
     "metadata": {},
     "output_type": "execute_result"
    }
   ],
   "source": []
  },
  {
   "cell_type": "code",
   "execution_count": 27,
   "id": "27dbb62e-4392-4847-b391-236810266c95",
   "metadata": {},
   "outputs": [
    {
     "data": {
      "text/plain": [
       "(512, 240, 720, 1)"
      ]
     },
     "execution_count": 27,
     "metadata": {},
     "output_type": "execute_result"
    }
   ],
   "source": [
    "test_joint_dataset[0].shape"
   ]
  },
  {
   "cell_type": "code",
   "execution_count": 26,
   "id": "afc8f4cc-864e-4834-8711-8dee0924d3c1",
   "metadata": {},
   "outputs": [
    {
     "data": {
      "text/plain": [
       "1981-01-05    3.0\n",
       "1981-01-08    3.0\n",
       "1981-01-12    3.0\n",
       "1981-01-15    3.0\n",
       "1981-01-19    3.0\n",
       "             ... \n",
       "2020-11-12    1.0\n",
       "2020-11-16    2.0\n",
       "2020-11-19    3.0\n",
       "2020-11-23    3.0\n",
       "2020-11-26    3.0\n",
       "Name: week0, Length: 4164, dtype: float64"
      ]
     },
     "execution_count": 26,
     "metadata": {},
     "output_type": "execute_result"
    }
   ],
   "source": [
    "df_shifts['week0'].dropna()"
   ]
  }
 ],
 "metadata": {
  "kernelspec": {
   "display_name": "Python [conda env:cnn_wr]",
   "language": "python",
   "name": "conda-env-cnn_wr-py"
  },
  "language_info": {
   "codemirror_mode": {
    "name": "ipython",
    "version": 3
   },
   "file_extension": ".py",
   "mimetype": "text/x-python",
   "name": "python",
   "nbconvert_exporter": "python",
   "pygments_lexer": "ipython3",
   "version": "3.9.15"
  }
 },
 "nbformat": 4,
 "nbformat_minor": 5
}
